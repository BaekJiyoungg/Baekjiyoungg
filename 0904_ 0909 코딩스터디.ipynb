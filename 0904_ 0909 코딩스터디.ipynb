{
 "cells": [
  {
   "cell_type": "markdown",
   "id": "b21b714f",
   "metadata": {},
   "source": [
    "# 0904 행열 삭제(drop)"
   ]
  },
  {
   "cell_type": "code",
   "execution_count": 2,
   "id": "a66e41d6",
   "metadata": {},
   "outputs": [],
   "source": [
    "import pandas as pd\n",
    "import numpy as np"
   ]
  },
  {
   "cell_type": "code",
   "execution_count": 3,
   "id": "8d321495",
   "metadata": {},
   "outputs": [
    {
     "name": "stdout",
     "output_type": "stream",
     "text": [
      "col1    1\n",
      "col2    2\n",
      "dtype: int64\n"
     ]
    }
   ],
   "source": [
    "sr = pd.Series([1,2], index=[\"col1\", \"col2\"])\n",
    "deep = sr.copy(deep=True)\n",
    "shallow = sr.copy(deep=False)\n",
    "print(sr)"
   ]
  },
  {
   "cell_type": "code",
   "execution_count": 4,
   "id": "6365f926",
   "metadata": {},
   "outputs": [
    {
     "name": "stdout",
     "output_type": "stream",
     "text": [
      "      col1  col2  col3\n",
      "row1     1     2     3\n",
      "row2     4     5     6\n",
      "row3     7     8     9\n"
     ]
    }
   ],
   "source": [
    "row = ['row1', 'row2', 'row3']\n",
    "col = ['col1', 'col2', 'col3']\n",
    "data= [[1,2,3], [4,5,6], [7,8,9]]\n",
    "df = pd.DataFrame(data=data, index=row, columns=col)\n",
    "print(df)"
   ]
  },
  {
   "cell_type": "code",
   "execution_count": 5,
   "id": "8f001c39",
   "metadata": {},
   "outputs": [
    {
     "name": "stdout",
     "output_type": "stream",
     "text": [
      "      col1  col2  col3\n",
      "row1     1     2     3\n",
      "row3     7     8     9\n"
     ]
    }
   ],
   "source": [
    "#label인수와 axis 인수로 삭제\n",
    "print(df.drop(labels='row2', axis=0))"
   ]
  },
  {
   "cell_type": "code",
   "execution_count": 6,
   "id": "50d86375",
   "metadata": {},
   "outputs": [
    {
     "name": "stdout",
     "output_type": "stream",
     "text": [
      "      col1  col3\n",
      "row1     1     3\n",
      "row2     4     6\n",
      "row3     7     9\n"
     ]
    }
   ],
   "source": [
    "print(df.drop(labels='col2', axis=1))"
   ]
  },
  {
   "cell_type": "code",
   "execution_count": 7,
   "id": "454f0f49",
   "metadata": {},
   "outputs": [
    {
     "name": "stdout",
     "output_type": "stream",
     "text": [
      "      col1  col2  col3\n",
      "row1     1     2     3\n",
      "row2     4     5     6\n"
     ]
    }
   ],
   "source": [
    "#index인수와 columns 인수로 삭제\n",
    "print(df.drop(index='row3'))"
   ]
  },
  {
   "cell_type": "code",
   "execution_count": 8,
   "id": "fc8ab11f",
   "metadata": {
    "scrolled": true
   },
   "outputs": [
    {
     "name": "stdout",
     "output_type": "stream",
     "text": [
      "      col1  col2\n",
      "row1     1     2\n",
      "row2     4     5\n",
      "row3     7     8\n"
     ]
    }
   ],
   "source": [
    "print(df.drop(columns='col3'))"
   ]
  },
  {
   "cell_type": "code",
   "execution_count": 10,
   "id": "541d54d6",
   "metadata": {},
   "outputs": [
    {
     "ename": "KeyError",
     "evalue": "\"['row4'] not found in axis\"",
     "output_type": "error",
     "traceback": [
      "\u001b[1;31m---------------------------------------------------------------------------\u001b[0m",
      "\u001b[1;31mKeyError\u001b[0m                                  Traceback (most recent call last)",
      "\u001b[1;32m~\\AppData\\Local\\Temp/ipykernel_19900/4253253413.py\u001b[0m in \u001b[0;36m<module>\u001b[1;34m\u001b[0m\n\u001b[0;32m      1\u001b[0m \u001b[1;31m#errors 인수 예시 삭제하고자하는 레이블이 존재하지 않으면 오류 발생함\u001b[0m\u001b[1;33m\u001b[0m\u001b[1;33m\u001b[0m\u001b[0m\n\u001b[1;32m----> 2\u001b[1;33m \u001b[0mprint\u001b[0m\u001b[1;33m(\u001b[0m\u001b[0mdf\u001b[0m\u001b[1;33m.\u001b[0m\u001b[0mdrop\u001b[0m\u001b[1;33m(\u001b[0m\u001b[0mlabels\u001b[0m\u001b[1;33m=\u001b[0m\u001b[1;33m[\u001b[0m\u001b[1;34m'row3'\u001b[0m\u001b[1;33m,\u001b[0m\u001b[1;34m'row4'\u001b[0m\u001b[1;33m]\u001b[0m\u001b[1;33m,\u001b[0m \u001b[0merrors\u001b[0m\u001b[1;33m=\u001b[0m\u001b[1;34m'raise'\u001b[0m\u001b[1;33m)\u001b[0m\u001b[1;33m)\u001b[0m \u001b[1;31m#오류 무시 하지 않음\u001b[0m\u001b[1;33m\u001b[0m\u001b[1;33m\u001b[0m\u001b[0m\n\u001b[0m",
      "\u001b[1;32m~\\anaconda3\\lib\\site-packages\\pandas\\util\\_decorators.py\u001b[0m in \u001b[0;36mwrapper\u001b[1;34m(*args, **kwargs)\u001b[0m\n\u001b[0;32m    309\u001b[0m                     \u001b[0mstacklevel\u001b[0m\u001b[1;33m=\u001b[0m\u001b[0mstacklevel\u001b[0m\u001b[1;33m,\u001b[0m\u001b[1;33m\u001b[0m\u001b[1;33m\u001b[0m\u001b[0m\n\u001b[0;32m    310\u001b[0m                 )\n\u001b[1;32m--> 311\u001b[1;33m             \u001b[1;32mreturn\u001b[0m \u001b[0mfunc\u001b[0m\u001b[1;33m(\u001b[0m\u001b[1;33m*\u001b[0m\u001b[0margs\u001b[0m\u001b[1;33m,\u001b[0m \u001b[1;33m**\u001b[0m\u001b[0mkwargs\u001b[0m\u001b[1;33m)\u001b[0m\u001b[1;33m\u001b[0m\u001b[1;33m\u001b[0m\u001b[0m\n\u001b[0m\u001b[0;32m    312\u001b[0m \u001b[1;33m\u001b[0m\u001b[0m\n\u001b[0;32m    313\u001b[0m         \u001b[1;32mreturn\u001b[0m \u001b[0mwrapper\u001b[0m\u001b[1;33m\u001b[0m\u001b[1;33m\u001b[0m\u001b[0m\n",
      "\u001b[1;32m~\\anaconda3\\lib\\site-packages\\pandas\\core\\frame.py\u001b[0m in \u001b[0;36mdrop\u001b[1;34m(self, labels, axis, index, columns, level, inplace, errors)\u001b[0m\n\u001b[0;32m   4904\u001b[0m                 \u001b[0mweight\u001b[0m  \u001b[1;36m1.0\u001b[0m     \u001b[1;36m0.8\u001b[0m\u001b[1;33m\u001b[0m\u001b[1;33m\u001b[0m\u001b[0m\n\u001b[0;32m   4905\u001b[0m         \"\"\"\n\u001b[1;32m-> 4906\u001b[1;33m         return super().drop(\n\u001b[0m\u001b[0;32m   4907\u001b[0m             \u001b[0mlabels\u001b[0m\u001b[1;33m=\u001b[0m\u001b[0mlabels\u001b[0m\u001b[1;33m,\u001b[0m\u001b[1;33m\u001b[0m\u001b[1;33m\u001b[0m\u001b[0m\n\u001b[0;32m   4908\u001b[0m             \u001b[0maxis\u001b[0m\u001b[1;33m=\u001b[0m\u001b[0maxis\u001b[0m\u001b[1;33m,\u001b[0m\u001b[1;33m\u001b[0m\u001b[1;33m\u001b[0m\u001b[0m\n",
      "\u001b[1;32m~\\anaconda3\\lib\\site-packages\\pandas\\core\\generic.py\u001b[0m in \u001b[0;36mdrop\u001b[1;34m(self, labels, axis, index, columns, level, inplace, errors)\u001b[0m\n\u001b[0;32m   4148\u001b[0m         \u001b[1;32mfor\u001b[0m \u001b[0maxis\u001b[0m\u001b[1;33m,\u001b[0m \u001b[0mlabels\u001b[0m \u001b[1;32min\u001b[0m \u001b[0maxes\u001b[0m\u001b[1;33m.\u001b[0m\u001b[0mitems\u001b[0m\u001b[1;33m(\u001b[0m\u001b[1;33m)\u001b[0m\u001b[1;33m:\u001b[0m\u001b[1;33m\u001b[0m\u001b[1;33m\u001b[0m\u001b[0m\n\u001b[0;32m   4149\u001b[0m             \u001b[1;32mif\u001b[0m \u001b[0mlabels\u001b[0m \u001b[1;32mis\u001b[0m \u001b[1;32mnot\u001b[0m \u001b[1;32mNone\u001b[0m\u001b[1;33m:\u001b[0m\u001b[1;33m\u001b[0m\u001b[1;33m\u001b[0m\u001b[0m\n\u001b[1;32m-> 4150\u001b[1;33m                 \u001b[0mobj\u001b[0m \u001b[1;33m=\u001b[0m \u001b[0mobj\u001b[0m\u001b[1;33m.\u001b[0m\u001b[0m_drop_axis\u001b[0m\u001b[1;33m(\u001b[0m\u001b[0mlabels\u001b[0m\u001b[1;33m,\u001b[0m \u001b[0maxis\u001b[0m\u001b[1;33m,\u001b[0m \u001b[0mlevel\u001b[0m\u001b[1;33m=\u001b[0m\u001b[0mlevel\u001b[0m\u001b[1;33m,\u001b[0m \u001b[0merrors\u001b[0m\u001b[1;33m=\u001b[0m\u001b[0merrors\u001b[0m\u001b[1;33m)\u001b[0m\u001b[1;33m\u001b[0m\u001b[1;33m\u001b[0m\u001b[0m\n\u001b[0m\u001b[0;32m   4151\u001b[0m \u001b[1;33m\u001b[0m\u001b[0m\n\u001b[0;32m   4152\u001b[0m         \u001b[1;32mif\u001b[0m \u001b[0minplace\u001b[0m\u001b[1;33m:\u001b[0m\u001b[1;33m\u001b[0m\u001b[1;33m\u001b[0m\u001b[0m\n",
      "\u001b[1;32m~\\anaconda3\\lib\\site-packages\\pandas\\core\\generic.py\u001b[0m in \u001b[0;36m_drop_axis\u001b[1;34m(self, labels, axis, level, errors)\u001b[0m\n\u001b[0;32m   4183\u001b[0m                 \u001b[0mnew_axis\u001b[0m \u001b[1;33m=\u001b[0m \u001b[0maxis\u001b[0m\u001b[1;33m.\u001b[0m\u001b[0mdrop\u001b[0m\u001b[1;33m(\u001b[0m\u001b[0mlabels\u001b[0m\u001b[1;33m,\u001b[0m \u001b[0mlevel\u001b[0m\u001b[1;33m=\u001b[0m\u001b[0mlevel\u001b[0m\u001b[1;33m,\u001b[0m \u001b[0merrors\u001b[0m\u001b[1;33m=\u001b[0m\u001b[0merrors\u001b[0m\u001b[1;33m)\u001b[0m\u001b[1;33m\u001b[0m\u001b[1;33m\u001b[0m\u001b[0m\n\u001b[0;32m   4184\u001b[0m             \u001b[1;32melse\u001b[0m\u001b[1;33m:\u001b[0m\u001b[1;33m\u001b[0m\u001b[1;33m\u001b[0m\u001b[0m\n\u001b[1;32m-> 4185\u001b[1;33m                 \u001b[0mnew_axis\u001b[0m \u001b[1;33m=\u001b[0m \u001b[0maxis\u001b[0m\u001b[1;33m.\u001b[0m\u001b[0mdrop\u001b[0m\u001b[1;33m(\u001b[0m\u001b[0mlabels\u001b[0m\u001b[1;33m,\u001b[0m \u001b[0merrors\u001b[0m\u001b[1;33m=\u001b[0m\u001b[0merrors\u001b[0m\u001b[1;33m)\u001b[0m\u001b[1;33m\u001b[0m\u001b[1;33m\u001b[0m\u001b[0m\n\u001b[0m\u001b[0;32m   4186\u001b[0m             \u001b[0mresult\u001b[0m \u001b[1;33m=\u001b[0m \u001b[0mself\u001b[0m\u001b[1;33m.\u001b[0m\u001b[0mreindex\u001b[0m\u001b[1;33m(\u001b[0m\u001b[1;33m**\u001b[0m\u001b[1;33m{\u001b[0m\u001b[0maxis_name\u001b[0m\u001b[1;33m:\u001b[0m \u001b[0mnew_axis\u001b[0m\u001b[1;33m}\u001b[0m\u001b[1;33m)\u001b[0m\u001b[1;33m\u001b[0m\u001b[1;33m\u001b[0m\u001b[0m\n\u001b[0;32m   4187\u001b[0m \u001b[1;33m\u001b[0m\u001b[0m\n",
      "\u001b[1;32m~\\anaconda3\\lib\\site-packages\\pandas\\core\\indexes\\base.py\u001b[0m in \u001b[0;36mdrop\u001b[1;34m(self, labels, errors)\u001b[0m\n\u001b[0;32m   6015\u001b[0m         \u001b[1;32mif\u001b[0m \u001b[0mmask\u001b[0m\u001b[1;33m.\u001b[0m\u001b[0many\u001b[0m\u001b[1;33m(\u001b[0m\u001b[1;33m)\u001b[0m\u001b[1;33m:\u001b[0m\u001b[1;33m\u001b[0m\u001b[1;33m\u001b[0m\u001b[0m\n\u001b[0;32m   6016\u001b[0m             \u001b[1;32mif\u001b[0m \u001b[0merrors\u001b[0m \u001b[1;33m!=\u001b[0m \u001b[1;34m\"ignore\"\u001b[0m\u001b[1;33m:\u001b[0m\u001b[1;33m\u001b[0m\u001b[1;33m\u001b[0m\u001b[0m\n\u001b[1;32m-> 6017\u001b[1;33m                 \u001b[1;32mraise\u001b[0m \u001b[0mKeyError\u001b[0m\u001b[1;33m(\u001b[0m\u001b[1;34mf\"{labels[mask]} not found in axis\"\u001b[0m\u001b[1;33m)\u001b[0m\u001b[1;33m\u001b[0m\u001b[1;33m\u001b[0m\u001b[0m\n\u001b[0m\u001b[0;32m   6018\u001b[0m             \u001b[0mindexer\u001b[0m \u001b[1;33m=\u001b[0m \u001b[0mindexer\u001b[0m\u001b[1;33m[\u001b[0m\u001b[1;33m~\u001b[0m\u001b[0mmask\u001b[0m\u001b[1;33m]\u001b[0m\u001b[1;33m\u001b[0m\u001b[1;33m\u001b[0m\u001b[0m\n\u001b[0;32m   6019\u001b[0m         \u001b[1;32mreturn\u001b[0m \u001b[0mself\u001b[0m\u001b[1;33m.\u001b[0m\u001b[0mdelete\u001b[0m\u001b[1;33m(\u001b[0m\u001b[0mindexer\u001b[0m\u001b[1;33m)\u001b[0m\u001b[1;33m\u001b[0m\u001b[1;33m\u001b[0m\u001b[0m\n",
      "\u001b[1;31mKeyError\u001b[0m: \"['row4'] not found in axis\""
     ]
    }
   ],
   "source": [
    "#errors 인수 예시 삭제하고자하는 레이블이 존재하지 않으면 오류 발생함\n",
    "print(df.drop(labels=['row3','row4'], errors='raise')) #오류 무시 하지 않음"
   ]
  },
  {
   "cell_type": "code",
   "execution_count": 11,
   "id": "33495e00",
   "metadata": {},
   "outputs": [
    {
     "name": "stdout",
     "output_type": "stream",
     "text": [
      "      col1  col2  col3\n",
      "row1     1     2     3\n",
      "row2     4     5     6\n"
     ]
    }
   ],
   "source": [
    "print(df.drop(labels=['row3', 'row4'], errors='ignore'))"
   ]
  },
  {
   "cell_type": "code",
   "execution_count": 12,
   "id": "281da775",
   "metadata": {},
   "outputs": [
    {
     "name": "stdout",
     "output_type": "stream",
     "text": [
      "      col3\n",
      "row1     3\n",
      "row2     6\n",
      "row3     9\n"
     ]
    }
   ],
   "source": [
    "#inplace인수로 원본 변경 / 원본의 변경여부 의미 원본변경한다=True\n",
    "df.drop(labels=['col1', 'col2'], axis=1, inplace=True)\n",
    "print(df)"
   ]
  },
  {
   "cell_type": "markdown",
   "id": "7530d7ba",
   "metadata": {},
   "source": [
    "# 0905 행 추가(append) \n",
    "- 데이터프레임에 행추가함"
   ]
  },
  {
   "cell_type": "code",
   "execution_count": 13,
   "id": "f190b102",
   "metadata": {},
   "outputs": [
    {
     "name": "stdout",
     "output_type": "stream",
     "text": [
      "      col1  col3\n",
      "row1     1     2\n",
      "row2     3     4\n"
     ]
    }
   ],
   "source": [
    "df = pd.DataFrame(data=[[1,2],[3,4]], index=['row1','row2'], columns=['col1','col3'])\n",
    "print(df)"
   ]
  },
  {
   "cell_type": "code",
   "execution_count": 14,
   "id": "1b8a856a",
   "metadata": {},
   "outputs": [
    {
     "name": "stdout",
     "output_type": "stream",
     "text": [
      "      col2  col4\n",
      "row3     5     6\n"
     ]
    }
   ],
   "source": [
    "df2 = pd.DataFrame(data=[[5,6]],index=['row3'],columns=['col2','col4'])\n",
    "print(df2)"
   ]
  },
  {
   "cell_type": "code",
   "execution_count": 15,
   "id": "e98b8af8",
   "metadata": {},
   "outputs": [
    {
     "name": "stdout",
     "output_type": "stream",
     "text": [
      "      col1  col3  col2  col4\n",
      "row1   1.0   2.0   NaN   NaN\n",
      "row2   3.0   4.0   NaN   NaN\n",
      "row3   NaN   NaN   5.0   6.0\n"
     ]
    }
   ],
   "source": [
    "print(df.append(df2))"
   ]
  },
  {
   "cell_type": "code",
   "execution_count": 16,
   "id": "f192abc1",
   "metadata": {},
   "outputs": [
    {
     "name": "stdout",
     "output_type": "stream",
     "text": [
      "      col1  col2  col3  col4\n",
      "row1   1.0   NaN   2.0   NaN\n",
      "row2   3.0   NaN   4.0   NaN\n",
      "row3   NaN   5.0   NaN   6.0\n"
     ]
    }
   ],
   "source": [
    "print(df.append(df2, sort=True))"
   ]
  },
  {
   "cell_type": "code",
   "execution_count": 17,
   "id": "0d06c6b1",
   "metadata": {},
   "outputs": [
    {
     "name": "stdout",
     "output_type": "stream",
     "text": [
      "   col1  col2  col3  col4\n",
      "0   1.0   NaN   2.0   NaN\n",
      "1   3.0   NaN   4.0   NaN\n",
      "2   NaN   5.0   NaN   6.0\n"
     ]
    }
   ],
   "source": [
    "#ignore_index=True 기본 인덱스 무시함.\n",
    "print(df.append(df2, sort=True, ignore_index=True))"
   ]
  },
  {
   "cell_type": "code",
   "execution_count": 18,
   "id": "f175d365",
   "metadata": {},
   "outputs": [
    {
     "name": "stdout",
     "output_type": "stream",
     "text": [
      "      col1  col3\n",
      "row2     7     8\n",
      "row3     9     0\n"
     ]
    }
   ],
   "source": [
    "#verify_Integrity 인수 사용 -> 이름이 중복되는 인덱스 파악하기\n",
    "df3 = pd.DataFrame(data=[[7,8],[9,0]], index=['row2','row3'], columns=['col1','col3'])\n",
    "print(df3)"
   ]
  },
  {
   "cell_type": "code",
   "execution_count": 19,
   "id": "2cfebf33",
   "metadata": {},
   "outputs": [
    {
     "name": "stdout",
     "output_type": "stream",
     "text": [
      "      col1  col3\n",
      "row1     1     2\n",
      "row2     3     4\n",
      "row2     7     8\n",
      "row3     9     0\n"
     ]
    }
   ],
   "source": [
    "#verify_integrity가 False일 경우\n",
    "print(df.append(df3, verify_integrity =False)) #인덱스 중복되도 가능"
   ]
  },
  {
   "cell_type": "code",
   "execution_count": null,
   "id": "30c58384",
   "metadata": {},
   "outputs": [],
   "source": [
    "#verify_integrity가 True일 경우\n",
    "print(df.append(df3, verify_integrity=True)) #오류발생 인덱스 중복되면 "
   ]
  },
  {
   "cell_type": "markdown",
   "id": "0f857c2d",
   "metadata": {},
   "source": [
    "# 0906 자르기(truncate)"
   ]
  },
  {
   "cell_type": "code",
   "execution_count": 20,
   "id": "fd14de69",
   "metadata": {},
   "outputs": [
    {
     "name": "stdout",
     "output_type": "stream",
     "text": [
      "      col1  col2  col3  col4\n",
      "row1     1     2     3     4\n",
      "row2     5     6     7     8\n",
      "row3     9    10    11    12\n",
      "row4    13    14    15    16\n"
     ]
    }
   ],
   "source": [
    "row = ['row1','row2','row3','row4']\n",
    "col = ['col1','col2','col3','col4']\n",
    "data = [[1,2,3,4],[5,6,7,8],[9,10,11,12],[13,14,15,16]]\n",
    "df = pd.DataFrame(data=data, index=row, columns=col)\n",
    "print(df)"
   ]
  },
  {
   "cell_type": "code",
   "execution_count": 21,
   "id": "a2be9be3",
   "metadata": {},
   "outputs": [
    {
     "name": "stdout",
     "output_type": "stream",
     "text": [
      "      col1  col2  col3  col4\n",
      "row2     5     6     7     8\n",
      "row3     9    10    11    12\n"
     ]
    }
   ],
   "source": [
    "print(df.truncate(before='row2', after='row3', axis=0)) #row2이전, row3 이후를 삭제하라"
   ]
  },
  {
   "cell_type": "code",
   "execution_count": null,
   "id": "5ce9b751",
   "metadata": {},
   "outputs": [],
   "source": [
    "print(df.truncate(before='col2', after='col3', axis=1)) #col2이전, col3이후를 삭제하라"
   ]
  },
  {
   "cell_type": "markdown",
   "id": "f2718f7b",
   "metadata": {},
   "source": [
    "# 0907 중복행 제거(drop_duplicates)\n",
    "- 내용이 중복되는 행을 제거하는 메서드"
   ]
  },
  {
   "cell_type": "code",
   "execution_count": 22,
   "id": "437a4164",
   "metadata": {},
   "outputs": [
    {
     "name": "stdout",
     "output_type": "stream",
     "text": [
      "  col1 col2 col3\n",
      "0    A    x    -\n",
      "1    A    x    -\n",
      "2    B    x    앞\n",
      "3    B    y    -\n",
      "4    B    y    뒤\n"
     ]
    }
   ],
   "source": [
    "col = ['col1','col2','col3']\n",
    "data = [['A','x','-'],['A','x','-'],['B','x','앞'],['B','y','-'],['B','y','뒤']]\n",
    "df = pd.DataFrame(data=data, columns=col)\n",
    "print(df)"
   ]
  },
  {
   "cell_type": "code",
   "execution_count": 23,
   "id": "40540cfc",
   "metadata": {},
   "outputs": [
    {
     "name": "stdout",
     "output_type": "stream",
     "text": [
      "  col1 col2 col3\n",
      "0    A    x    -\n",
      "2    B    x    앞\n",
      "3    B    y    -\n",
      "4    B    y    뒤\n"
     ]
    }
   ],
   "source": [
    "print(df.drop_duplicates())"
   ]
  },
  {
   "cell_type": "code",
   "execution_count": 24,
   "id": "4837164a",
   "metadata": {},
   "outputs": [
    {
     "name": "stdout",
     "output_type": "stream",
     "text": [
      "  col1 col2 col3\n",
      "0    A    x    -\n",
      "3    B    y    -\n"
     ]
    }
   ],
   "source": [
    "#subset에 특정 컬럼명만 입력할 경우\n",
    "print(df.drop_duplicates(subset='col2'))"
   ]
  },
  {
   "cell_type": "code",
   "execution_count": 25,
   "id": "002c46ee",
   "metadata": {},
   "outputs": [
    {
     "name": "stdout",
     "output_type": "stream",
     "text": [
      "  col1 col2 col3\n",
      "0    A    x    -\n",
      "2    B    x    앞\n",
      "3    B    y    -\n"
     ]
    }
   ],
   "source": [
    "#subset에 열들을 입력할 경우\n",
    "print(df.drop_duplicates(subset=['col1','col2']))"
   ]
  },
  {
   "cell_type": "code",
   "execution_count": 26,
   "id": "9c4095af",
   "metadata": {},
   "outputs": [
    {
     "name": "stdout",
     "output_type": "stream",
     "text": [
      "  col1 col2 col3\n",
      "0    A    x    -\n",
      "2    B    x    앞\n"
     ]
    }
   ],
   "source": [
    "#keep 인수를 통해 남길 행 선택\n",
    "#keep 인수를 통해 중복값 제거, 남길 행 선택\n",
    "print(df.drop_duplicates(subset='col1', keep='first'))"
   ]
  },
  {
   "cell_type": "code",
   "execution_count": 27,
   "id": "276e815e",
   "metadata": {},
   "outputs": [
    {
     "name": "stdout",
     "output_type": "stream",
     "text": [
      "  col1 col2 col3\n",
      "1    A    x    -\n",
      "4    B    y    뒤\n"
     ]
    }
   ],
   "source": [
    "print(df.drop_duplicates(subset='col1', keep='last'))"
   ]
  },
  {
   "cell_type": "code",
   "execution_count": 28,
   "id": "67528341",
   "metadata": {},
   "outputs": [
    {
     "name": "stdout",
     "output_type": "stream",
     "text": [
      "  col1 col2 col3\n",
      "0    A    x    -\n",
      "1    B    y    뒤\n"
     ]
    }
   ],
   "source": [
    "print(df.drop_duplicates(subset='col1', keep='last', ignore_index=True))"
   ]
  },
  {
   "cell_type": "code",
   "execution_count": 29,
   "id": "3ee108ef",
   "metadata": {},
   "outputs": [
    {
     "name": "stdout",
     "output_type": "stream",
     "text": [
      "  col1 col2 col3\n",
      "0    A    x    -\n",
      "2    B    x    앞\n",
      "4    B    y    뒤\n"
     ]
    }
   ],
   "source": [
    "#inplace 인수의 사용\n",
    "df.drop_duplicates(subset='col3', inplace=True)\n",
    "print(df)"
   ]
  },
  {
   "cell_type": "markdown",
   "id": "e555f36e",
   "metadata": {},
   "source": [
    "# 0908 차원축소, 스칼라 변환\n",
    "- squeeze 메서드 : 차원 축소하는 메서드"
   ]
  },
  {
   "cell_type": "code",
   "execution_count": 30,
   "id": "cea6b4b3",
   "metadata": {},
   "outputs": [
    {
     "name": "stdout",
     "output_type": "stream",
     "text": [
      "      col1  col2\n",
      "row1     1     2\n",
      "row2     3     4\n"
     ]
    }
   ],
   "source": [
    "df=pd.DataFrame(data=[[1,2],[3,4]],index=['row1','row2'],columns=['col1','col2'])\n",
    "print(df)"
   ]
  },
  {
   "cell_type": "code",
   "execution_count": 31,
   "id": "fb759619",
   "metadata": {},
   "outputs": [
    {
     "name": "stdout",
     "output_type": "stream",
     "text": [
      "      col1  col2\n",
      "row2     3     4\n"
     ]
    }
   ],
   "source": [
    "#row1 삭제\n",
    "df_row = df.drop(index='row1')\n",
    "print(df_row)"
   ]
  },
  {
   "cell_type": "code",
   "execution_count": 32,
   "id": "8a95c7a6",
   "metadata": {},
   "outputs": [
    {
     "name": "stdout",
     "output_type": "stream",
     "text": [
      "col1    3\n",
      "col2    4\n",
      "Name: row2, dtype: int64\n"
     ]
    }
   ],
   "source": [
    "#압축실행\n",
    "print(df_row.squeeze()) #결과값이 series객체로 변환"
   ]
  },
  {
   "cell_type": "code",
   "execution_count": 33,
   "id": "f5a7251a",
   "metadata": {},
   "outputs": [
    {
     "name": "stdout",
     "output_type": "stream",
     "text": [
      "      col2\n",
      "row1     2\n",
      "row2     4\n"
     ]
    }
   ],
   "source": [
    "#col1 삭제\n",
    "df_col=df.drop(columns='col1')\n",
    "print(df_col)"
   ]
  },
  {
   "cell_type": "code",
   "execution_count": 34,
   "id": "0e96db61",
   "metadata": {},
   "outputs": [
    {
     "name": "stdout",
     "output_type": "stream",
     "text": [
      "col1    3\n",
      "col2    4\n",
      "Name: row2, dtype: int64\n"
     ]
    }
   ],
   "source": [
    "print(df_row.squeeze()) #결과값이 series 객체로 변환"
   ]
  },
  {
   "cell_type": "code",
   "execution_count": 35,
   "id": "6cfe7976",
   "metadata": {},
   "outputs": [
    {
     "name": "stdout",
     "output_type": "stream",
     "text": [
      "      col2\n",
      "row2     4\n"
     ]
    }
   ],
   "source": [
    "#dataframe을 스칼라 값으로 압축\n",
    "df_col_row = df.drop(index='row1', columns='col1')\n",
    "print(df_col_row)"
   ]
  },
  {
   "cell_type": "code",
   "execution_count": 36,
   "id": "83613afd",
   "metadata": {},
   "outputs": [
    {
     "name": "stdout",
     "output_type": "stream",
     "text": [
      "4\n"
     ]
    }
   ],
   "source": [
    "print(df_col_row.squeeze())"
   ]
  },
  {
   "cell_type": "code",
   "execution_count": 37,
   "id": "f5e683df",
   "metadata": {},
   "outputs": [
    {
     "name": "stdout",
     "output_type": "stream",
     "text": [
      "      col1  col2\n",
      "row1     1     2\n",
      "row2     3     4\n"
     ]
    }
   ],
   "source": [
    "#압축할 수 없는 경우\n",
    "print(df.squeeze())"
   ]
  },
  {
   "cell_type": "markdown",
   "id": "930d7d4b",
   "metadata": {},
   "source": [
    "# 0909 피벗변환(pivot)\n",
    "- 데이터의 열을 기다란 걸 평평하게 만들어 준다."
   ]
  },
  {
   "cell_type": "code",
   "execution_count": 38,
   "id": "20ca2a73",
   "metadata": {},
   "outputs": [
    {
     "name": "stdout",
     "output_type": "stream",
     "text": [
      "  Machine Country  Price Brand\n",
      "0      TV   Korea   1000     A\n",
      "1      TV   Japan   1300     B\n",
      "2      TV   China    300     C\n",
      "3      PC   Korea   2000     A\n",
      "4      PC   Japan   3000     E\n",
      "5      PC   China    450     F\n"
     ]
    }
   ],
   "source": [
    "col = ['Machine','Country','Price','Brand']\n",
    "data = [['TV','Korea',1000,'A'],\n",
    "        ['TV','Japan',1300,'B'],\n",
    "        ['TV','China',300,'C'],\n",
    "        ['PC','Korea',2000,'A'],\n",
    "        ['PC','Japan',3000,'E'],\n",
    "        ['PC','China',450,'F']]\n",
    "df = pd.DataFrame(data=data, columns=col)\n",
    "print(df)"
   ]
  },
  {
   "cell_type": "code",
   "execution_count": 40,
   "id": "76bf8ba0",
   "metadata": {},
   "outputs": [
    {
     "name": "stdout",
     "output_type": "stream",
     "text": [
      "Country  China  Japan  Korea\n",
      "Machine                     \n",
      "PC         450   3000   2000\n",
      "TV         300   1300   1000\n"
     ]
    }
   ],
   "source": [
    "print(df.pivot(index = 'Machine', columns='Country', values='Price'))"
   ]
  },
  {
   "cell_type": "code",
   "execution_count": 41,
   "id": "90a93283",
   "metadata": {},
   "outputs": [
    {
     "name": "stdout",
     "output_type": "stream",
     "text": [
      "        Price             Brand            \n",
      "Country China Japan Korea China Japan Korea\n",
      "Machine                                    \n",
      "PC        450  3000  2000     F     E     A\n",
      "TV        300  1300  1000     C     B     A\n"
     ]
    }
   ],
   "source": [
    "#values 값이 list 형태일 경우 피벗테이블이 옆쪽으로 연속으로 생성됨\n",
    "print(df.pivot(index='Machine', columns='Country', values=['Price', 'Brand']))"
   ]
  },
  {
   "cell_type": "code",
   "execution_count": 42,
   "id": "4e7fa2b4",
   "metadata": {},
   "outputs": [
    {
     "name": "stdout",
     "output_type": "stream",
     "text": [
      "        Price             Brand            \n",
      "Country China Japan Korea China Japan Korea\n",
      "Machine                                    \n",
      "PC        450  3000  2000     F     E     A\n",
      "TV        300  1300  1000     C     B     A\n"
     ]
    }
   ],
   "source": [
    "#values를 따로 입력하지 않으면 남은 모든 열이 values에 입력됨\n",
    "print(df.pivot(index='Machine', columns='Country'))"
   ]
  },
  {
   "cell_type": "code",
   "execution_count": 43,
   "id": "66587c28",
   "metadata": {},
   "outputs": [
    {
     "name": "stdout",
     "output_type": "stream",
     "text": [
      "Country China Japan Korea\n",
      "Machine                  \n",
      "PC          F     E     A\n",
      "TV          C     B     A\n"
     ]
    }
   ],
   "source": [
    "#위에 values를 따로 입력하지 않았을 때 []이용해서 value값으로 Brand 값을 출력할 수 있음\n",
    "print(df.pivot(index='Machine', columns='Country')['Brand'])"
   ]
  },
  {
   "cell_type": "code",
   "execution_count": 44,
   "id": "97bc5c59",
   "metadata": {},
   "outputs": [
    {
     "name": "stdout",
     "output_type": "stream",
     "text": [
      "Brand                 A       B      C       E      F\n",
      "Country Machine                                      \n",
      "China   PC          NaN     NaN    NaN     NaN  450.0\n",
      "        TV          NaN     NaN  300.0     NaN    NaN\n",
      "Japan   PC          NaN     NaN    NaN  3000.0    NaN\n",
      "        TV          NaN  1300.0    NaN     NaN    NaN\n",
      "Korea   PC       2000.0     NaN    NaN     NaN    NaN\n",
      "        TV       1000.0     NaN    NaN     NaN    NaN\n"
     ]
    }
   ],
   "source": [
    "#multi index 로 피벗 변환\n",
    "print(df.pivot(index=['Country', 'Machine'], columns='Brand', values='Price'))"
   ]
  },
  {
   "cell_type": "code",
   "execution_count": 45,
   "id": "078a3227",
   "metadata": {},
   "outputs": [
    {
     "name": "stdout",
     "output_type": "stream",
     "text": [
      "Machine      TV                     PC               \n",
      "Brand         A       B      C       A       E      F\n",
      "Country                                              \n",
      "China       NaN     NaN  300.0     NaN     NaN  450.0\n",
      "Japan       NaN  1300.0    NaN     NaN  3000.0    NaN\n",
      "Korea    1000.0     NaN    NaN  2000.0     NaN    NaN\n"
     ]
    }
   ],
   "source": [
    "#columns 가 list 형태일 경우\n",
    "print(df.pivot(index='Country', columns=['Machine', 'Brand'], values='Price'))"
   ]
  },
  {
   "cell_type": "code",
   "execution_count": 46,
   "id": "f6fb5524",
   "metadata": {},
   "outputs": [
    {
     "name": "stdout",
     "output_type": "stream",
     "text": [
      "  col1 col2  col3\n",
      "0    A    x     1\n",
      "1    A    x     2\n",
      "2    B    y     3\n",
      "3    B    z     4\n"
     ]
    }
   ],
   "source": [
    "#피벗변환이 불가능한 경우 -> 중복값으로 인해 피벗 테이블 생성 불가능할 때\n",
    "df2 = pd.DataFrame(data=[['A','x',1],['A','x',2],['B','y',3],['B','z',4]],columns=['col1','col2','col3'])\n",
    "print(df2)"
   ]
  },
  {
   "cell_type": "code",
   "execution_count": 47,
   "id": "7a458849",
   "metadata": {},
   "outputs": [
    {
     "ename": "KeyError",
     "evalue": "\"None of ['col1', 'col3'] are in the columns\"",
     "output_type": "error",
     "traceback": [
      "\u001b[1;31m---------------------------------------------------------------------------\u001b[0m",
      "\u001b[1;31mKeyError\u001b[0m                                  Traceback (most recent call last)",
      "\u001b[1;32m~\\AppData\\Local\\Temp/ipykernel_19900/216567336.py\u001b[0m in \u001b[0;36m<module>\u001b[1;34m\u001b[0m\n\u001b[0;32m      1\u001b[0m \u001b[1;31m#피벗 생성하면 오류 생김\u001b[0m\u001b[1;33m\u001b[0m\u001b[1;33m\u001b[0m\u001b[0m\n\u001b[1;32m----> 2\u001b[1;33m \u001b[0mprint\u001b[0m\u001b[1;33m(\u001b[0m\u001b[0mdf\u001b[0m\u001b[1;33m.\u001b[0m\u001b[0mpivot\u001b[0m\u001b[1;33m(\u001b[0m\u001b[0mindex\u001b[0m\u001b[1;33m=\u001b[0m\u001b[1;34m'col1'\u001b[0m\u001b[1;33m,\u001b[0m \u001b[0mcolumns\u001b[0m\u001b[1;33m=\u001b[0m\u001b[1;34m'col3'\u001b[0m\u001b[1;33m)\u001b[0m\u001b[1;33m)\u001b[0m\u001b[1;33m\u001b[0m\u001b[1;33m\u001b[0m\u001b[0m\n\u001b[0m",
      "\u001b[1;32m~\\anaconda3\\lib\\site-packages\\pandas\\core\\frame.py\u001b[0m in \u001b[0;36mpivot\u001b[1;34m(self, index, columns, values)\u001b[0m\n\u001b[0;32m   7791\u001b[0m         \u001b[1;32mfrom\u001b[0m \u001b[0mpandas\u001b[0m\u001b[1;33m.\u001b[0m\u001b[0mcore\u001b[0m\u001b[1;33m.\u001b[0m\u001b[0mreshape\u001b[0m\u001b[1;33m.\u001b[0m\u001b[0mpivot\u001b[0m \u001b[1;32mimport\u001b[0m \u001b[0mpivot\u001b[0m\u001b[1;33m\u001b[0m\u001b[1;33m\u001b[0m\u001b[0m\n\u001b[0;32m   7792\u001b[0m \u001b[1;33m\u001b[0m\u001b[0m\n\u001b[1;32m-> 7793\u001b[1;33m         \u001b[1;32mreturn\u001b[0m \u001b[0mpivot\u001b[0m\u001b[1;33m(\u001b[0m\u001b[0mself\u001b[0m\u001b[1;33m,\u001b[0m \u001b[0mindex\u001b[0m\u001b[1;33m=\u001b[0m\u001b[0mindex\u001b[0m\u001b[1;33m,\u001b[0m \u001b[0mcolumns\u001b[0m\u001b[1;33m=\u001b[0m\u001b[0mcolumns\u001b[0m\u001b[1;33m,\u001b[0m \u001b[0mvalues\u001b[0m\u001b[1;33m=\u001b[0m\u001b[0mvalues\u001b[0m\u001b[1;33m)\u001b[0m\u001b[1;33m\u001b[0m\u001b[1;33m\u001b[0m\u001b[0m\n\u001b[0m\u001b[0;32m   7794\u001b[0m \u001b[1;33m\u001b[0m\u001b[0m\n\u001b[0;32m   7795\u001b[0m     _shared_docs[\n",
      "\u001b[1;32m~\\anaconda3\\lib\\site-packages\\pandas\\core\\reshape\\pivot.py\u001b[0m in \u001b[0;36mpivot\u001b[1;34m(data, index, columns, values)\u001b[0m\n\u001b[0;32m    494\u001b[0m         \u001b[1;31m# error: Unsupported operand types for + (\"List[Any]\" and \"ExtensionArray\")\u001b[0m\u001b[1;33m\u001b[0m\u001b[1;33m\u001b[0m\u001b[0m\n\u001b[0;32m    495\u001b[0m         \u001b[1;31m# error: Unsupported left operand type for + (\"ExtensionArray\")\u001b[0m\u001b[1;33m\u001b[0m\u001b[1;33m\u001b[0m\u001b[0m\n\u001b[1;32m--> 496\u001b[1;33m         indexed = data.set_index(\n\u001b[0m\u001b[0;32m    497\u001b[0m             \u001b[0mcols\u001b[0m \u001b[1;33m+\u001b[0m \u001b[0mcolumns_listlike\u001b[0m\u001b[1;33m,\u001b[0m \u001b[0mappend\u001b[0m\u001b[1;33m=\u001b[0m\u001b[0mappend\u001b[0m  \u001b[1;31m# type: ignore[operator]\u001b[0m\u001b[1;33m\u001b[0m\u001b[1;33m\u001b[0m\u001b[0m\n\u001b[0;32m    498\u001b[0m         )\n",
      "\u001b[1;32m~\\anaconda3\\lib\\site-packages\\pandas\\util\\_decorators.py\u001b[0m in \u001b[0;36mwrapper\u001b[1;34m(*args, **kwargs)\u001b[0m\n\u001b[0;32m    309\u001b[0m                     \u001b[0mstacklevel\u001b[0m\u001b[1;33m=\u001b[0m\u001b[0mstacklevel\u001b[0m\u001b[1;33m,\u001b[0m\u001b[1;33m\u001b[0m\u001b[1;33m\u001b[0m\u001b[0m\n\u001b[0;32m    310\u001b[0m                 )\n\u001b[1;32m--> 311\u001b[1;33m             \u001b[1;32mreturn\u001b[0m \u001b[0mfunc\u001b[0m\u001b[1;33m(\u001b[0m\u001b[1;33m*\u001b[0m\u001b[0margs\u001b[0m\u001b[1;33m,\u001b[0m \u001b[1;33m**\u001b[0m\u001b[0mkwargs\u001b[0m\u001b[1;33m)\u001b[0m\u001b[1;33m\u001b[0m\u001b[1;33m\u001b[0m\u001b[0m\n\u001b[0m\u001b[0;32m    312\u001b[0m \u001b[1;33m\u001b[0m\u001b[0m\n\u001b[0;32m    313\u001b[0m         \u001b[1;32mreturn\u001b[0m \u001b[0mwrapper\u001b[0m\u001b[1;33m\u001b[0m\u001b[1;33m\u001b[0m\u001b[0m\n",
      "\u001b[1;32m~\\anaconda3\\lib\\site-packages\\pandas\\core\\frame.py\u001b[0m in \u001b[0;36mset_index\u001b[1;34m(self, keys, drop, append, inplace, verify_integrity)\u001b[0m\n\u001b[0;32m   5449\u001b[0m \u001b[1;33m\u001b[0m\u001b[0m\n\u001b[0;32m   5450\u001b[0m         \u001b[1;32mif\u001b[0m \u001b[0mmissing\u001b[0m\u001b[1;33m:\u001b[0m\u001b[1;33m\u001b[0m\u001b[1;33m\u001b[0m\u001b[0m\n\u001b[1;32m-> 5451\u001b[1;33m             \u001b[1;32mraise\u001b[0m \u001b[0mKeyError\u001b[0m\u001b[1;33m(\u001b[0m\u001b[1;34mf\"None of {missing} are in the columns\"\u001b[0m\u001b[1;33m)\u001b[0m\u001b[1;33m\u001b[0m\u001b[1;33m\u001b[0m\u001b[0m\n\u001b[0m\u001b[0;32m   5452\u001b[0m \u001b[1;33m\u001b[0m\u001b[0m\n\u001b[0;32m   5453\u001b[0m         \u001b[1;32mif\u001b[0m \u001b[0minplace\u001b[0m\u001b[1;33m:\u001b[0m\u001b[1;33m\u001b[0m\u001b[1;33m\u001b[0m\u001b[0m\n",
      "\u001b[1;31mKeyError\u001b[0m: \"None of ['col1', 'col3'] are in the columns\""
     ]
    }
   ],
   "source": [
    "#피벗 생성하면 오류 생김\n",
    "print(df.pivot(index='col1', columns='col3'))"
   ]
  },
  {
   "cell_type": "code",
   "execution_count": null,
   "id": "1192f139",
   "metadata": {},
   "outputs": [],
   "source": []
  }
 ],
 "metadata": {
  "kernelspec": {
   "display_name": "Python 3 (ipykernel)",
   "language": "python",
   "name": "python3"
  },
  "language_info": {
   "codemirror_mode": {
    "name": "ipython",
    "version": 3
   },
   "file_extension": ".py",
   "mimetype": "text/x-python",
   "name": "python",
   "nbconvert_exporter": "python",
   "pygments_lexer": "ipython3",
   "version": "3.9.7"
  }
 },
 "nbformat": 4,
 "nbformat_minor": 5
}
