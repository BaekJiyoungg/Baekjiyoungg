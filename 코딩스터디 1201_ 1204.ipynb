{
 "cells": [
  {
   "cell_type": "markdown",
   "id": "0885b3ba",
   "metadata": {},
   "source": [
    "# 12-01\n",
    "- idxmax : 최대 값 인덱스를 반환하는 메서드\n",
    "- idxmin : 최소 값 인덱스를 반환하는 메서드"
   ]
  },
  {
   "cell_type": "code",
   "execution_count": 1,
   "id": "8ca59b29",
   "metadata": {},
   "outputs": [],
   "source": [
    "import pandas as pd\n",
    "import numpy as np"
   ]
  },
  {
   "cell_type": "code",
   "execution_count": 2,
   "id": "4ba704d3",
   "metadata": {},
   "outputs": [
    {
     "name": "stdout",
     "output_type": "stream",
     "text": [
      "      col1  col2   col3\n",
      "row1     1     2  200.0\n",
      "row2   100     5    6.0\n",
      "row3     7   300    NaN\n"
     ]
    }
   ],
   "source": [
    "n=np.NaN\n",
    "idx =  ['row1','row2','row3']\n",
    "col =  ['col1','col2','col3']\n",
    "data = [[1,2,200],[100,5,6],[7,300,n]]\n",
    "df = pd.DataFrame(data, idx, col)\n",
    "print(df)"
   ]
  },
  {
   "cell_type": "code",
   "execution_count": 3,
   "id": "7caa589b",
   "metadata": {},
   "outputs": [
    {
     "name": "stdout",
     "output_type": "stream",
     "text": [
      "col1    row2\n",
      "col2    row3\n",
      "col3    row1\n",
      "dtype: object\n"
     ]
    }
   ],
   "source": [
    "#axis=0 인 경우 열에서 최대/최소가 되는 행 출력\n",
    "print(df.idxmax(axis=0)) "
   ]
  },
  {
   "cell_type": "code",
   "execution_count": 4,
   "id": "9d233dd2",
   "metadata": {},
   "outputs": [
    {
     "name": "stdout",
     "output_type": "stream",
     "text": [
      "row1    col3\n",
      "row2    col1\n",
      "row3    col2\n",
      "dtype: object\n"
     ]
    }
   ],
   "source": [
    "#axis-1 인 경우 행에서 최대.최소가 되는 열 출력\n",
    "print(df.idxmax(axis=1))"
   ]
  },
  {
   "cell_type": "code",
   "execution_count": 5,
   "id": "d252cc83",
   "metadata": {
    "scrolled": true
   },
   "outputs": [
    {
     "name": "stdout",
     "output_type": "stream",
     "text": [
      "row1    col1\n",
      "row2    col2\n",
      "row3    col1\n",
      "dtype: object\n"
     ]
    }
   ],
   "source": [
    "print(df.idxmin(axis=1))"
   ]
  },
  {
   "cell_type": "code",
   "execution_count": 6,
   "id": "215c77b5",
   "metadata": {},
   "outputs": [
    {
     "name": "stdout",
     "output_type": "stream",
     "text": [
      "row1    col3\n",
      "row2    col1\n",
      "row3    col2\n",
      "dtype: object\n"
     ]
    }
   ],
   "source": [
    "#skipna인수의 사용, 기본값 = True 로 결측값이 포함된 행/열을 연산에서 무시\n",
    "print(df.idxmax(axis=1, skipna=True))"
   ]
  },
  {
   "cell_type": "code",
   "execution_count": 7,
   "id": "6ca1829d",
   "metadata": {},
   "outputs": [
    {
     "name": "stdout",
     "output_type": "stream",
     "text": [
      "row1    col3\n",
      "row2    col1\n",
      "row3     NaN\n",
      "dtype: object\n"
     ]
    }
   ],
   "source": [
    "print(df.idxmax(axis=1, skipna=False)) #결측값 무시 안함."
   ]
  },
  {
   "cell_type": "markdown",
   "id": "dfb6d14e",
   "metadata": {},
   "source": [
    "# 12-02\n",
    "- empty : dataframe이 비어있는지 여부를 bool형식으로 반환"
   ]
  },
  {
   "cell_type": "code",
   "execution_count": 8,
   "id": "55c230c3",
   "metadata": {},
   "outputs": [
    {
     "name": "stdout",
     "output_type": "stream",
     "text": [
      "     col1 col2 col3\n",
      "row1               \n",
      "row2               \n",
      "row3               \n"
     ]
    }
   ],
   "source": [
    "data_empty=[['','',''],['','',''],['','','']]\n",
    "df = pd.DataFrame(data = data_empty, index = ['row1', 'row2', 'row3'], columns=['col1','col2','col3'])\n",
    "print(df)"
   ]
  },
  {
   "cell_type": "code",
   "execution_count": 9,
   "id": "444263fb",
   "metadata": {},
   "outputs": [
    {
     "name": "stdout",
     "output_type": "stream",
     "text": [
      "False\n"
     ]
    }
   ],
   "source": [
    "print(df.empty) #공백으로 이루어져있지만 이를 비어있다고 생각하지 않는다. \" \"으로 차있음."
   ]
  },
  {
   "cell_type": "code",
   "execution_count": 10,
   "id": "610014c8",
   "metadata": {},
   "outputs": [
    {
     "name": "stdout",
     "output_type": "stream",
     "text": [
      "      col1  col2  col3\n",
      "row1   NaN   NaN   NaN\n",
      "row2   NaN   NaN   NaN\n",
      "row3   NaN   NaN   NaN\n"
     ]
    }
   ],
   "source": [
    "df = pd.DataFrame(data = np.nan, index = ['row1', 'row2', 'row3'], columns=['col1','col2','col3'])\n",
    "print(df)"
   ]
  },
  {
   "cell_type": "code",
   "execution_count": 12,
   "id": "480cf202",
   "metadata": {
    "scrolled": true
   },
   "outputs": [
    {
     "name": "stdout",
     "output_type": "stream",
     "text": [
      "False\n"
     ]
    }
   ],
   "source": [
    "print(df.empty) # NaN으로 이루어진 객체도 어쨌든 NaN으로 채워져있기 때문에 df.empty값을 false로 반환"
   ]
  },
  {
   "cell_type": "code",
   "execution_count": 13,
   "id": "bdde601c",
   "metadata": {},
   "outputs": [
    {
     "name": "stdout",
     "output_type": "stream",
     "text": [
      "Empty DataFrame\n",
      "Columns: []\n",
      "Index: [row1, row2, row3]\n"
     ]
    }
   ],
   "source": [
    "# 행이나 열이 없는 개체\n",
    "df1 = pd.DataFrame(index= ['row1', 'row2', 'row3']) #열이 없는 객체\n",
    "print(df1)"
   ]
  },
  {
   "cell_type": "code",
   "execution_count": 14,
   "id": "613dfbc8",
   "metadata": {},
   "outputs": [
    {
     "name": "stdout",
     "output_type": "stream",
     "text": [
      "True\n"
     ]
    }
   ],
   "source": [
    "print(df1.empty)"
   ]
  },
  {
   "cell_type": "code",
   "execution_count": 15,
   "id": "25d2853b",
   "metadata": {},
   "outputs": [
    {
     "name": "stdout",
     "output_type": "stream",
     "text": [
      "Empty DataFrame\n",
      "Columns: [col1, col2, col3]\n",
      "Index: []\n"
     ]
    }
   ],
   "source": [
    "#행이 없는 경우\n",
    "df2 = pd.DataFrame(columns =['col1', 'col2', 'col3'])\n",
    "print(df2)"
   ]
  },
  {
   "cell_type": "code",
   "execution_count": 16,
   "id": "ba8254f4",
   "metadata": {},
   "outputs": [
    {
     "name": "stdout",
     "output_type": "stream",
     "text": [
      "True\n"
     ]
    }
   ],
   "source": [
    "print(df2.empty)"
   ]
  },
  {
   "cell_type": "markdown",
   "id": "c8554971",
   "metadata": {},
   "source": [
    "# 12-03 isin - dataframe객체의 각 요소가 values값과 일치하는지 여부를 bool형식으로 반환"
   ]
  },
  {
   "cell_type": "code",
   "execution_count": 17,
   "id": "183f9011",
   "metadata": {},
   "outputs": [
    {
     "name": "stdout",
     "output_type": "stream",
     "text": [
      "      col1  col2  col3\n",
      "row1     1     1     1\n",
      "row2     2     3     4\n",
      "row3     5     3     6\n"
     ]
    }
   ],
   "source": [
    "data = [[1,1,1],[2,3,4],[5,3,6]]\n",
    "col = ['col1','col2','col3']\n",
    "row = ['row1','row2','row3']\n",
    "df = pd.DataFrame(data=data,index=row,columns=col)\n",
    "print(df)"
   ]
  },
  {
   "cell_type": "code",
   "execution_count": 18,
   "id": "c403e4b5",
   "metadata": {},
   "outputs": [
    {
     "name": "stdout",
     "output_type": "stream",
     "text": [
      "       col1  col2   col3\n",
      "row1   True  True   True\n",
      "row2  False  True  False\n",
      "row3  False  True  False\n"
     ]
    }
   ],
   "source": [
    "result = df.isin([1,3])\n",
    "print(result)"
   ]
  },
  {
   "cell_type": "code",
   "execution_count": 19,
   "id": "8b29dfc9",
   "metadata": {},
   "outputs": [
    {
     "name": "stdout",
     "output_type": "stream",
     "text": [
      "       col1   col2   col3\n",
      "row1  False  False   True\n",
      "row2   True  False  False\n",
      "row3  False  False   True\n"
     ]
    }
   ],
   "source": [
    "result = df.isin({'col1' : [2,3], 'col3':[1,6]}) #col2에 2 나 3이 있는지, #col3에 1이나 6이 있는지\n",
    "print(result)"
   ]
  },
  {
   "cell_type": "code",
   "execution_count": 21,
   "id": "042167f6",
   "metadata": {},
   "outputs": [
    {
     "name": "stdout",
     "output_type": "stream",
     "text": [
      "      col1  col3\n",
      "row1     2     3\n",
      "row3     1     6\n"
     ]
    }
   ],
   "source": [
    "#series와 dataframe의 사용\n",
    "match_col = ['col1', 'col3']\n",
    "match_row = ['row1', 'row3']\n",
    "match_data = [[2,3], [1, 6]]\n",
    "match_df = pd.DataFrame(data=match_data, index=match_row, columns= match_col)\n",
    "print(match_df)"
   ]
  },
  {
   "cell_type": "code",
   "execution_count": 22,
   "id": "c7873338",
   "metadata": {},
   "outputs": [
    {
     "name": "stdout",
     "output_type": "stream",
     "text": [
      "       col1   col2   col3\n",
      "row1  False  False  False\n",
      "row2  False  False  False\n",
      "row3  False  False   True\n"
     ]
    }
   ],
   "source": [
    "result = df.isin(match_df) #df에 match_df가 있는지 비교\n",
    "print(result)"
   ]
  },
  {
   "cell_type": "markdown",
   "id": "f5ff3dda",
   "metadata": {},
   "source": [
    "# 12-04 요소의 True/False 확인\n",
    "- all/any : 축의 값들의 True/False 여부를 판단하는 메서드\n",
    "- all : 축의 값이 전부 True-> True, 하나라도 False있으면 False를 반환\n",
    "- any : 축의 값이 하나라도 True가 있으면 True반환, 전부 False이면 False 반환"
   ]
  },
  {
   "cell_type": "code",
   "execution_count": 23,
   "id": "825fbca8",
   "metadata": {},
   "outputs": [
    {
     "name": "stdout",
     "output_type": "stream",
     "text": [
      "      col1   col2   col3  col4  col5  col6\n",
      "row1  True  False  False  True  True  True\n",
      "row2  True  False   True  <NA>  True  True\n",
      "row3  True  False   True  True        True\n",
      "row4  True  False   True  True  True     0\n"
     ]
    }
   ],
   "source": [
    "[N,T,F]=[pd.NA,True,False]\n",
    "idx = ['row1','row2','row3','row4']\n",
    "data = {'col1':[T,T,T,T], 'col2':[F,F,F,F],'col3':[F,T,T,T],'col4':[T,N,T,T],'col5':[T,T,'',T],'col6':[T,T,T,0]}\n",
    "df = pd.DataFrame(data=data, index=idx)\n",
    "print(df)"
   ]
  },
  {
   "cell_type": "code",
   "execution_count": 24,
   "id": "36215919",
   "metadata": {},
   "outputs": [
    {
     "name": "stdout",
     "output_type": "stream",
     "text": [
      "col1     True\n",
      "col2    False\n",
      "col3    False\n",
      "col4     True\n",
      "col5    False\n",
      "col6    False\n",
      "dtype: bool\n"
     ]
    }
   ],
   "source": [
    "#기본적인 사용법(all과 any 비교)\n",
    "print(df.all()) #all은 축의 값은 전부 True면 True, 하나라도 False이면 False"
   ]
  },
  {
   "cell_type": "code",
   "execution_count": 25,
   "id": "5d5c50ab",
   "metadata": {},
   "outputs": [
    {
     "name": "stdout",
     "output_type": "stream",
     "text": [
      "col1     True\n",
      "col2    False\n",
      "col3     True\n",
      "col4     True\n",
      "col5     True\n",
      "col6     True\n",
      "dtype: bool\n"
     ]
    }
   ],
   "source": [
    "print(df.any())"
   ]
  },
  {
   "cell_type": "code",
   "execution_count": 26,
   "id": "2bfe8693",
   "metadata": {},
   "outputs": [
    {
     "name": "stdout",
     "output_type": "stream",
     "text": [
      "row1    True\n",
      "row2    True\n",
      "row3    True\n",
      "row4    True\n",
      "dtype: bool\n"
     ]
    }
   ],
   "source": [
    "print(df.any(axis=1)) # axis=1 행을 기준으로 실행 하나라도 True가 있으니까"
   ]
  },
  {
   "cell_type": "code",
   "execution_count": 27,
   "id": "59597e1f",
   "metadata": {},
   "outputs": [
    {
     "name": "stdout",
     "output_type": "stream",
     "text": [
      "col1     True\n",
      "col2    False\n",
      "col3    False\n",
      "dtype: bool\n"
     ]
    }
   ],
   "source": [
    "#bool_only =True일 경우 bool형식인 경우만 계산됨\n",
    "print(df.all(bool_only=True))"
   ]
  },
  {
   "cell_type": "code",
   "execution_count": 28,
   "id": "9a40704f",
   "metadata": {},
   "outputs": [
    {
     "name": "stdout",
     "output_type": "stream",
     "text": [
      "col1     True\n",
      "col2    False\n",
      "col3    False\n",
      "col4     True\n",
      "col5    False\n",
      "col6    False\n",
      "dtype: bool\n"
     ]
    }
   ],
   "source": [
    "#skipna인수의 사용\n",
    "#skipna=True이면 True로 반환되어 계산됨, skipna=False이면 결측치가 포함된 축이 계싼에서 제외됨\n",
    "print(df.all(skipna=True))"
   ]
  },
  {
   "cell_type": "code",
   "execution_count": 29,
   "id": "b41dd27d",
   "metadata": {},
   "outputs": [
    {
     "name": "stdout",
     "output_type": "stream",
     "text": [
      "col1     True\n",
      "col2    False\n",
      "col3    False\n",
      "col5    False\n",
      "col6    False\n",
      "dtype: bool\n"
     ]
    },
    {
     "name": "stderr",
     "output_type": "stream",
     "text": [
      "C:\\Users\\jiyou\\AppData\\Local\\Temp/ipykernel_14052/9720359.py:1: FutureWarning: Dropping of nuisance columns in DataFrame reductions (with 'bool_only=None') is deprecated; in a future version this will raise TypeError.  Select only valid columns before calling the reduction.\n",
      "  print(df.all(skipna=False))\n"
     ]
    }
   ],
   "source": [
    "print(df.all(skipna=False))"
   ]
  },
  {
   "cell_type": "code",
   "execution_count": null,
   "id": "9139998c",
   "metadata": {},
   "outputs": [],
   "source": []
  }
 ],
 "metadata": {
  "kernelspec": {
   "display_name": "Python 3 (ipykernel)",
   "language": "python",
   "name": "python3"
  },
  "language_info": {
   "codemirror_mode": {
    "name": "ipython",
    "version": 3
   },
   "file_extension": ".py",
   "mimetype": "text/x-python",
   "name": "python",
   "nbconvert_exporter": "python",
   "pygments_lexer": "ipython3",
   "version": "3.9.7"
  }
 },
 "nbformat": 4,
 "nbformat_minor": 5
}
