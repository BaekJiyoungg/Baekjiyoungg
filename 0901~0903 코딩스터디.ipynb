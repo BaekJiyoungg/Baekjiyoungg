{
 "cells": [
  {
   "cell_type": "markdown",
   "id": "bfc40906",
   "metadata": {},
   "source": [
    "# 0901 열 삽입(INSERT)"
   ]
  },
  {
   "cell_type": "code",
   "execution_count": 1,
   "id": "16ecb28b",
   "metadata": {},
   "outputs": [],
   "source": [
    "import numpy as np\n",
    "import pandas as pd"
   ]
  },
  {
   "cell_type": "code",
   "execution_count": 2,
   "id": "6efff4df",
   "metadata": {},
   "outputs": [
    {
     "name": "stdout",
     "output_type": "stream",
     "text": [
      "      col1  col2  col3\n",
      "row1     1     2     3\n",
      "row2     4     5     6\n",
      "row3     7     8     9\n"
     ]
    }
   ],
   "source": [
    "data = [[1,2,3],[4,5,6],[7,8,9]]\n",
    "col = ['col1','col2','col3']\n",
    "row = ['row1','row2','row3']\n",
    "df = pd.DataFrame(data=data,index=row,columns=col)\n",
    "print(df)"
   ]
  },
  {
   "cell_type": "code",
   "execution_count": 3,
   "id": "56a4e35b",
   "metadata": {},
   "outputs": [
    {
     "name": "stdout",
     "output_type": "stream",
     "text": [
      "      col1  col2  col3  col4\n",
      "row1     1     2     3    10\n",
      "row2     4     5     6    11\n",
      "row3     7     8     9    12\n"
     ]
    }
   ],
   "source": [
    "df.insert(3, 'col4', [10,11,12])\n",
    "print(df)"
   ]
  },
  {
   "cell_type": "code",
   "execution_count": 5,
   "id": "d298d85e",
   "metadata": {},
   "outputs": [
    {
     "ename": "ValueError",
     "evalue": "cannot insert col3, already exists",
     "output_type": "error",
     "traceback": [
      "\u001b[1;31m---------------------------------------------------------------------------\u001b[0m",
      "\u001b[1;31mValueError\u001b[0m                                Traceback (most recent call last)",
      "\u001b[1;32m~\\AppData\\Local\\Temp/ipykernel_15776/600333521.py\u001b[0m in \u001b[0;36m<module>\u001b[1;34m\u001b[0m\n\u001b[1;32m----> 1\u001b[1;33m \u001b[0mdf\u001b[0m\u001b[1;33m.\u001b[0m\u001b[0minsert\u001b[0m\u001b[1;33m(\u001b[0m\u001b[1;36m3\u001b[0m\u001b[1;33m,\u001b[0m \u001b[1;34m'col3'\u001b[0m\u001b[1;33m,\u001b[0m \u001b[1;33m[\u001b[0m\u001b[1;36m10\u001b[0m\u001b[1;33m,\u001b[0m\u001b[1;36m11\u001b[0m\u001b[1;33m,\u001b[0m\u001b[1;36m12\u001b[0m\u001b[1;33m]\u001b[0m\u001b[1;33m,\u001b[0m \u001b[0mallow_duplicates\u001b[0m\u001b[1;33m=\u001b[0m\u001b[1;32mFalse\u001b[0m\u001b[1;33m)\u001b[0m\u001b[1;33m\u001b[0m\u001b[1;33m\u001b[0m\u001b[0m\n\u001b[0m\u001b[0;32m      2\u001b[0m \u001b[0mprint\u001b[0m\u001b[1;33m(\u001b[0m\u001b[0mdf\u001b[0m\u001b[1;33m)\u001b[0m\u001b[1;33m\u001b[0m\u001b[1;33m\u001b[0m\u001b[0m\n",
      "\u001b[1;32m~\\anaconda3\\lib\\site-packages\\pandas\\core\\frame.py\u001b[0m in \u001b[0;36minsert\u001b[1;34m(self, loc, column, value, allow_duplicates)\u001b[0m\n\u001b[0;32m   4412\u001b[0m         \u001b[1;32mif\u001b[0m \u001b[1;32mnot\u001b[0m \u001b[0mallow_duplicates\u001b[0m \u001b[1;32mand\u001b[0m \u001b[0mcolumn\u001b[0m \u001b[1;32min\u001b[0m \u001b[0mself\u001b[0m\u001b[1;33m.\u001b[0m\u001b[0mcolumns\u001b[0m\u001b[1;33m:\u001b[0m\u001b[1;33m\u001b[0m\u001b[1;33m\u001b[0m\u001b[0m\n\u001b[0;32m   4413\u001b[0m             \u001b[1;31m# Should this be a different kind of error??\u001b[0m\u001b[1;33m\u001b[0m\u001b[1;33m\u001b[0m\u001b[0m\n\u001b[1;32m-> 4414\u001b[1;33m             \u001b[1;32mraise\u001b[0m \u001b[0mValueError\u001b[0m\u001b[1;33m(\u001b[0m\u001b[1;34mf\"cannot insert {column}, already exists\"\u001b[0m\u001b[1;33m)\u001b[0m\u001b[1;33m\u001b[0m\u001b[1;33m\u001b[0m\u001b[0m\n\u001b[0m\u001b[0;32m   4415\u001b[0m         \u001b[1;32mif\u001b[0m \u001b[1;32mnot\u001b[0m \u001b[0misinstance\u001b[0m\u001b[1;33m(\u001b[0m\u001b[0mloc\u001b[0m\u001b[1;33m,\u001b[0m \u001b[0mint\u001b[0m\u001b[1;33m)\u001b[0m\u001b[1;33m:\u001b[0m\u001b[1;33m\u001b[0m\u001b[1;33m\u001b[0m\u001b[0m\n\u001b[0;32m   4416\u001b[0m             \u001b[1;32mraise\u001b[0m \u001b[0mTypeError\u001b[0m\u001b[1;33m(\u001b[0m\u001b[1;34m\"loc must be int\"\u001b[0m\u001b[1;33m)\u001b[0m\u001b[1;33m\u001b[0m\u001b[1;33m\u001b[0m\u001b[0m\n",
      "\u001b[1;31mValueError\u001b[0m: cannot insert col3, already exists"
     ]
    }
   ],
   "source": [
    "df.insert(3, 'col3', [10,11,12], allow_duplicates=False)\n",
    "print(df) #오류 발생"
   ]
  },
  {
   "cell_type": "code",
   "execution_count": 6,
   "id": "09d353ac",
   "metadata": {},
   "outputs": [
    {
     "name": "stdout",
     "output_type": "stream",
     "text": [
      "      col1  col2  col3  col3  col4\n",
      "row1     1     2     3    10    10\n",
      "row2     4     5     6    11    11\n",
      "row3     7     8     9    12    12\n"
     ]
    }
   ],
   "source": [
    "df.insert(3,'col3',[10,11,12],allow_duplicates=True)\n",
    "print(df)"
   ]
  },
  {
   "cell_type": "markdown",
   "id": "1d8b0b94",
   "metadata": {},
   "source": [
    "# 0902 열 꺼내기(pop)"
   ]
  },
  {
   "cell_type": "code",
   "execution_count": 7,
   "id": "1dd22798",
   "metadata": {},
   "outputs": [
    {
     "name": "stdout",
     "output_type": "stream",
     "text": [
      "      col1  col2  col3  col4\n",
      "row1     1     2     3     4\n",
      "row2     5     6     7     8\n",
      "row3     9    10    11    12\n",
      "row4    13    14    15    16\n"
     ]
    }
   ],
   "source": [
    "data = [[1,2,3,4],[5,6,7,8],[9,10,11,12],[13,14,15,16]]\n",
    "col = ['col1','col2','col3','col4']\n",
    "row = ['row1','row2','row3','row4']\n",
    "df = pd.DataFrame(data=data,index=row,columns=col)\n",
    "print(df)"
   ]
  },
  {
   "cell_type": "code",
   "execution_count": 8,
   "id": "f1c57093",
   "metadata": {},
   "outputs": [
    {
     "name": "stdout",
     "output_type": "stream",
     "text": [
      "row1     3\n",
      "row2     7\n",
      "row3    11\n",
      "row4    15\n",
      "Name: col3, dtype: int64\n"
     ]
    }
   ],
   "source": [
    "#item에 col3을 입력하여 열을 꺼내보기 pop한 것을 변수에 넣어 출력해 보면 열이 출력 됨\n",
    "item = df.pop('col3')\n",
    "print(item)"
   ]
  },
  {
   "cell_type": "code",
   "execution_count": 9,
   "id": "632d89ee",
   "metadata": {},
   "outputs": [
    {
     "name": "stdout",
     "output_type": "stream",
     "text": [
      "      col1  col2  col4\n",
      "row1     1     2     4\n",
      "row2     5     6     8\n",
      "row3     9    10    12\n",
      "row4    13    14    16\n"
     ]
    }
   ],
   "source": [
    "print(df)"
   ]
  },
  {
   "cell_type": "markdown",
   "id": "adc3f804",
   "metadata": {},
   "source": [
    "# 0903 복사(copy)\n",
    "- deep = True인 경우 = deep copy, 원본과 완전하게 별개인 복사본 생성함\n",
    "- deep = True 사본과 원본의 수정은 서로에게 영향 끼치지 않음\n",
    "- deep = False인 경우 = shallow copy, 원본의 데이터 및 인덱스 복사하지않고 새 객체를 호출함.\n",
    "- 원본의 데이터가 수정되면 사본의 데이터도 수정됨."
   ]
  },
  {
   "cell_type": "code",
   "execution_count": 12,
   "id": "d64827f8",
   "metadata": {},
   "outputs": [
    {
     "name": "stdout",
     "output_type": "stream",
     "text": [
      "col1    1\n",
      "col2    2\n",
      "dtype: int64\n"
     ]
    }
   ],
   "source": [
    "sr = pd.Series([1, 2], index=[\"col1\", \"col2\"])\n",
    "deep = sr.copy(deep=True)\n",
    "shallow = sr.copy(deep=False)\n",
    "print(sr)"
   ]
  },
  {
   "cell_type": "code",
   "execution_count": 13,
   "id": "ba255011",
   "metadata": {},
   "outputs": [],
   "source": [
    "sr[0] = 9\n",
    "shallow[1] = 8\n",
    "deep[1] = 7"
   ]
  },
  {
   "cell_type": "code",
   "execution_count": 14,
   "id": "0a972dc9",
   "metadata": {},
   "outputs": [
    {
     "name": "stdout",
     "output_type": "stream",
     "text": [
      "col1    9\n",
      "col2    8\n",
      "dtype: int64\n"
     ]
    }
   ],
   "source": [
    "print(sr)"
   ]
  },
  {
   "cell_type": "code",
   "execution_count": 17,
   "id": "5a066973",
   "metadata": {},
   "outputs": [
    {
     "name": "stdout",
     "output_type": "stream",
     "text": [
      "col1    9\n",
      "col2    8\n",
      "dtype: int64\n"
     ]
    }
   ],
   "source": [
    "print(shallow) #sr에서 변경된 내용이 shallow에도 적용됨"
   ]
  },
  {
   "cell_type": "code",
   "execution_count": 16,
   "id": "bc63ec28",
   "metadata": {},
   "outputs": [
    {
     "name": "stdout",
     "output_type": "stream",
     "text": [
      "col1    1\n",
      "col2    7\n",
      "dtype: int64\n"
     ]
    }
   ],
   "source": [
    "print(deep)"
   ]
  },
  {
   "cell_type": "code",
   "execution_count": 18,
   "id": "7ec3dd5c",
   "metadata": {},
   "outputs": [],
   "source": [
    "col = ['col1','col2','col3']\n",
    "row = ['row1','row2','row3']\n",
    "df = pd.DataFrame(data=[[1,2,3],[4,5,6],[7,8,9]],index=row,columns=col)\n",
    "deep = df.copy(deep=True)\n",
    "shallow = df.copy(deep=False)"
   ]
  },
  {
   "cell_type": "code",
   "execution_count": 19,
   "id": "f25b29b8",
   "metadata": {},
   "outputs": [
    {
     "name": "stdout",
     "output_type": "stream",
     "text": [
      "      col1  col2  col3\n",
      "row1     1     2     3\n",
      "row2     4     5     6\n",
      "row3     7     8     9\n"
     ]
    }
   ],
   "source": [
    "print(df)"
   ]
  },
  {
   "cell_type": "code",
   "execution_count": 20,
   "id": "64f8778e",
   "metadata": {},
   "outputs": [],
   "source": [
    "df['col1']['row1'] = 99\n",
    "shallow['col2']['row2'] = 88\n",
    "deep['col2']['row2'] = 77"
   ]
  },
  {
   "cell_type": "code",
   "execution_count": 21,
   "id": "3083b36a",
   "metadata": {},
   "outputs": [
    {
     "name": "stdout",
     "output_type": "stream",
     "text": [
      "      col1  col2  col3\n",
      "row1    99     2     3\n",
      "row2     4    88     6\n",
      "row3     7     8     9\n"
     ]
    }
   ],
   "source": [
    "print(df) #shallow에서 변경된 내용이 df에 반영됨"
   ]
  },
  {
   "cell_type": "code",
   "execution_count": 22,
   "id": "c259c8da",
   "metadata": {},
   "outputs": [
    {
     "name": "stdout",
     "output_type": "stream",
     "text": [
      "      col1  col2  col3\n",
      "row1    99     2     3\n",
      "row2     4    88     6\n",
      "row3     7     8     9\n"
     ]
    }
   ],
   "source": [
    "print(shallow)"
   ]
  },
  {
   "cell_type": "code",
   "execution_count": 23,
   "id": "d6d774d6",
   "metadata": {},
   "outputs": [
    {
     "name": "stdout",
     "output_type": "stream",
     "text": [
      "      col1  col2  col3\n",
      "row1     1     2     3\n",
      "row2     4    77     6\n",
      "row3     7     8     9\n"
     ]
    }
   ],
   "source": [
    "print(deep) #원본이나 다른 사본의 변경내용과 무관하게 자기 자신의 변경내용만이 적용됨"
   ]
  },
  {
   "cell_type": "code",
   "execution_count": null,
   "id": "58978dde",
   "metadata": {},
   "outputs": [],
   "source": []
  }
 ],
 "metadata": {
  "kernelspec": {
   "display_name": "Python 3 (ipykernel)",
   "language": "python",
   "name": "python3"
  },
  "language_info": {
   "codemirror_mode": {
    "name": "ipython",
    "version": 3
   },
   "file_extension": ".py",
   "mimetype": "text/x-python",
   "name": "python",
   "nbconvert_exporter": "python",
   "pygments_lexer": "ipython3",
   "version": "3.9.7"
  }
 },
 "nbformat": 4,
 "nbformat_minor": 5
}
