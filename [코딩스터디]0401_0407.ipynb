{
 "cells": [
  {
   "cell_type": "markdown",
   "id": "4257bd83",
   "metadata": {},
   "source": [
    "# 0401 레이블 기반_스칼라(at)\n",
    "- at 함수 : loc함수와 같이 레이블 기반으로 인덱싱"
   ]
  },
  {
   "cell_type": "code",
   "execution_count": 7,
   "id": "902913e4",
   "metadata": {},
   "outputs": [],
   "source": [
    "import pandas as pd\n",
    "import numpy as np"
   ]
  },
  {
   "cell_type": "code",
   "execution_count": 8,
   "id": "1219a1c4",
   "metadata": {},
   "outputs": [
    {
     "name": "stdout",
     "output_type": "stream",
     "text": [
      "      col1  col2\n",
      "row1     1     2\n",
      "row2     3     4\n"
     ]
    }
   ],
   "source": [
    "df = pd.DataFrame([[1,2], [3,4]], index=['row1', 'row2'], columns=['col1', 'col2'])\n",
    "print(df)"
   ]
  },
  {
   "cell_type": "code",
   "execution_count": 12,
   "id": "91363e91",
   "metadata": {},
   "outputs": [],
   "source": [
    "result = df.at['row1', 'col2']"
   ]
  },
  {
   "cell_type": "code",
   "execution_count": 13,
   "id": "09931f25",
   "metadata": {},
   "outputs": [
    {
     "name": "stdout",
     "output_type": "stream",
     "text": [
      "2\n"
     ]
    }
   ],
   "source": [
    "print(result)"
   ]
  },
  {
   "cell_type": "code",
   "execution_count": 19,
   "id": "5ceb7ac7",
   "metadata": {
    "scrolled": true
   },
   "outputs": [],
   "source": [
    "df.loc['row2', 'col1'] = '변경'"
   ]
  },
  {
   "cell_type": "code",
   "execution_count": 20,
   "id": "796ed181",
   "metadata": {},
   "outputs": [
    {
     "name": "stdout",
     "output_type": "stream",
     "text": [
      "     col1  col2\n",
      "row1    1     2\n",
      "row2   변경     4\n"
     ]
    }
   ],
   "source": [
    "print(df)"
   ]
  },
  {
   "cell_type": "code",
   "execution_count": 18,
   "id": "efef10f2",
   "metadata": {},
   "outputs": [
    {
     "data": {
      "text/plain": [
       "4"
      ]
     },
     "execution_count": 18,
     "metadata": {},
     "output_type": "execute_result"
    }
   ],
   "source": [
    "#loc 메서드를 이용해 series 추출한 뒤 at 메서드를 이용해 스칼라 값을 얻는 방식으로 활용 가능\n",
    "df.loc['row2'].at['col2']"
   ]
  },
  {
   "cell_type": "markdown",
   "id": "292663af",
   "metadata": {},
   "source": [
    "# 0402 레이블 기반_데이터(loc)\n",
    "- loc함수 = at함수와 같이 레이블 기반으로 인덱싱 함"
   ]
  },
  {
   "cell_type": "code",
   "execution_count": 21,
   "id": "f431876f",
   "metadata": {},
   "outputs": [
    {
     "name": "stdout",
     "output_type": "stream",
     "text": [
      "      col1  col2  col3\n",
      "row1     1     2     3\n",
      "row2     4     5     6\n",
      "row3     7     8     9\n"
     ]
    }
   ],
   "source": [
    "df = pd.DataFrame([[1,2,3], [4,5,6], [7,8,9]], index=['row1', 'row2', 'row3'],\n",
    "                  columns=['col1', 'col2', 'col3'])\n",
    "print(df)"
   ]
  },
  {
   "cell_type": "code",
   "execution_count": 22,
   "id": "8662ad28",
   "metadata": {},
   "outputs": [
    {
     "name": "stdout",
     "output_type": "stream",
     "text": [
      "col1    1\n",
      "col2    2\n",
      "col3    3\n",
      "Name: row1, dtype: int64\n"
     ]
    }
   ],
   "source": [
    "result = df.loc['row1']\n",
    "print(result)"
   ]
  },
  {
   "cell_type": "code",
   "execution_count": 23,
   "id": "cc33d30d",
   "metadata": {},
   "outputs": [
    {
     "name": "stdout",
     "output_type": "stream",
     "text": [
      "      col1  col2  col3\n",
      "row1     1     2     3\n",
      "row3     7     8     9\n"
     ]
    }
   ],
   "source": [
    "result = df.loc[['row1', 'row3']]\n",
    "print(result)"
   ]
  },
  {
   "cell_type": "code",
   "execution_count": 24,
   "id": "425073e1",
   "metadata": {},
   "outputs": [
    {
     "name": "stdout",
     "output_type": "stream",
     "text": [
      "5\n"
     ]
    }
   ],
   "source": [
    "result = df.loc['row2', 'col2']\n",
    "print(result)"
   ]
  },
  {
   "cell_type": "code",
   "execution_count": 25,
   "id": "6dd3173d",
   "metadata": {},
   "outputs": [
    {
     "name": "stdout",
     "output_type": "stream",
     "text": [
      "row1    2\n",
      "row2    5\n",
      "row3    8\n",
      "Name: col2, dtype: int64\n"
     ]
    }
   ],
   "source": [
    "result = df.loc['row1' : 'row3', 'col2']\n",
    "print(result)"
   ]
  },
  {
   "cell_type": "code",
   "execution_count": 26,
   "id": "978f736c",
   "metadata": {},
   "outputs": [],
   "source": [
    "bool =[False, True, False]\n",
    "result = df.loc[bool]"
   ]
  },
  {
   "cell_type": "code",
   "execution_count": 27,
   "id": "62d2343e",
   "metadata": {},
   "outputs": [
    {
     "name": "stdout",
     "output_type": "stream",
     "text": [
      "      col1  col2  col3\n",
      "row2     4     5     6\n"
     ]
    }
   ],
   "source": [
    "print(result)"
   ]
  },
  {
   "cell_type": "code",
   "execution_count": 28,
   "id": "c52eef0b",
   "metadata": {},
   "outputs": [
    {
     "name": "stdout",
     "output_type": "stream",
     "text": [
      "      col1  col2  col3\n",
      "row2     4     5     6\n",
      "row3     7     8     9\n"
     ]
    }
   ],
   "source": [
    "# bool로 구성된 series를 반환하는 조건문의 사용 가능\n",
    "result = df.loc[df['col3']>5]\n",
    "print(result)"
   ]
  },
  {
   "cell_type": "code",
   "execution_count": 29,
   "id": "21b84837",
   "metadata": {},
   "outputs": [
    {
     "name": "stdout",
     "output_type": "stream",
     "text": [
      "      col2\n",
      "row2     5\n",
      "row3     8\n"
     ]
    }
   ],
   "source": [
    "result = df.loc[ df['col3'] > 5, ['col2'] ] \n",
    "print(result)"
   ]
  },
  {
   "cell_type": "code",
   "execution_count": 30,
   "id": "f14d3f61",
   "metadata": {},
   "outputs": [
    {
     "name": "stdout",
     "output_type": "stream",
     "text": [
      "      col1  col2  col3\n",
      "row2     4     5     6\n"
     ]
    }
   ],
   "source": [
    "#람다함수 이용해 인덱싱\n",
    "result = df.loc[lambda df : df['col2']==5]\n",
    "print(result)"
   ]
  },
  {
   "cell_type": "code",
   "execution_count": 31,
   "id": "f346b0d1",
   "metadata": {},
   "outputs": [
    {
     "name": "stdout",
     "output_type": "stream",
     "text": [
      "      col1  col2 col3\n",
      "row1     1     2    A\n",
      "row2     4     5    6\n",
      "row3     7     8    A\n"
     ]
    }
   ],
   "source": [
    "# 값 설정하기\n",
    "df.loc[['row1', 'row3'], ['col3']] = 'A'\n",
    "print(df)"
   ]
  },
  {
   "cell_type": "code",
   "execution_count": 32,
   "id": "e87123c5",
   "metadata": {},
   "outputs": [
    {
     "name": "stdout",
     "output_type": "stream",
     "text": [
      "     col1 col2 col3\n",
      "row1    A    A    A\n",
      "row2    4    5    6\n",
      "row3    7    8    A\n"
     ]
    }
   ],
   "source": [
    "df.loc[['row1']] = 'A'\n",
    "print(df)"
   ]
  },
  {
   "cell_type": "code",
   "execution_count": 33,
   "id": "b0b01782",
   "metadata": {},
   "outputs": [
    {
     "name": "stdout",
     "output_type": "stream",
     "text": [
      "     col1 col2 col3\n",
      "row1    A    A    B\n",
      "row2    4    5    B\n",
      "row3    7    8    B\n"
     ]
    }
   ],
   "source": [
    "df.loc[:, ['col3']] = 'B'\n",
    "print(df)"
   ]
  },
  {
   "cell_type": "code",
   "execution_count": 40,
   "id": "3b2a5d16",
   "metadata": {},
   "outputs": [
    {
     "name": "stdout",
     "output_type": "stream",
     "text": [
      "      col1  col2  col3\n",
      "row1     1     2     3\n",
      "row2     4     5     6\n",
      "row3     7     8     9\n"
     ]
    }
   ],
   "source": [
    "df1 =  pd.DataFrame([[1,2,3], [4,5,6], [7,8,9]], index=['row1', 'row2', 'row3'],\n",
    "                  columns=['col1', 'col2', 'col3'])\n",
    "print(df1)"
   ]
  },
  {
   "cell_type": "code",
   "execution_count": 41,
   "id": "6fda20f9",
   "metadata": {},
   "outputs": [
    {
     "name": "stdout",
     "output_type": "stream",
     "text": [
      "      col1  col2 col3\n",
      "row1     1     2    B\n",
      "row2     4     5    B\n",
      "row3     7     8    B\n"
     ]
    }
   ],
   "source": [
    "df1.loc[ : , ['col3'] ] = 'B' \n",
    "print(df1)"
   ]
  },
  {
   "cell_type": "code",
   "execution_count": 43,
   "id": "026057a3",
   "metadata": {},
   "outputs": [
    {
     "name": "stdout",
     "output_type": "stream",
     "text": [
      "     col1 col2 col3\n",
      "row1    1    2    3\n",
      "row2    A    A    A\n",
      "row3    A    A    A\n"
     ]
    }
   ],
   "source": [
    "df2 = pd.DataFrame([[1,2,3], [4,5,6], [7,8,9]], index=['row1', 'row2', 'row3'],\n",
    "                  columns=['col1', 'col2', 'col3'])\n",
    "df2.loc[df2['col2']>3] = 'A'\n",
    "print(df2)"
   ]
  },
  {
   "cell_type": "markdown",
   "id": "2506a40a",
   "metadata": {},
   "source": [
    "# 0403 정수기반_스칼라(iat)\n",
    "- iloc함수와 같이 정수기반으로 인덱싱함"
   ]
  },
  {
   "cell_type": "code",
   "execution_count": 46,
   "id": "7e22e3e2",
   "metadata": {},
   "outputs": [
    {
     "name": "stdout",
     "output_type": "stream",
     "text": [
      "      col1  col2  col3\n",
      "row1     1     2     3\n",
      "row2     4     5     6\n",
      "row3     7     8     9\n"
     ]
    }
   ],
   "source": [
    "df = pd.DataFrame([[1,2,3], [4,5,6], [7,8,9]], index= ['row1','row2', 'row3'], columns=\n",
    "                 ['col1', 'col2', 'col3'])\n",
    "print(df)"
   ]
  },
  {
   "cell_type": "code",
   "execution_count": 47,
   "id": "f651ef25",
   "metadata": {},
   "outputs": [
    {
     "name": "stdout",
     "output_type": "stream",
     "text": [
      "6\n"
     ]
    }
   ],
   "source": [
    "# 값 가져오기\n",
    "# 정수기반 조회 메서드\n",
    "# 행/열 쌍을 정수로 입력\n",
    "result = df.iat[1,2]\n",
    "print(result)"
   ]
  },
  {
   "cell_type": "code",
   "execution_count": 48,
   "id": "954a3b0f",
   "metadata": {},
   "outputs": [
    {
     "name": "stdout",
     "output_type": "stream",
     "text": [
      "      col1  col2 col3\n",
      "row1     1     2    3\n",
      "row2     4     5    A\n",
      "row3     7     8    9\n"
     ]
    }
   ],
   "source": [
    "# 값 설정하기\n",
    "df.iat[1,2]='A'\n",
    "print(df)"
   ]
  },
  {
   "cell_type": "markdown",
   "id": "0ecd1a59",
   "metadata": {},
   "source": [
    "# 0404 정수기반_데이터(iloc)"
   ]
  },
  {
   "cell_type": "code",
   "execution_count": 49,
   "id": "37ab90ed",
   "metadata": {},
   "outputs": [
    {
     "name": "stdout",
     "output_type": "stream",
     "text": [
      "      col1  col2  col3\n",
      "row1     1     2     3\n",
      "row2     4     5     6\n",
      "row3     7     8     9\n"
     ]
    }
   ],
   "source": [
    "df = pd.DataFrame([[1,2,3], [4,5,6], [7,8,9]], index=['row1', 'row2', 'row3'], columns=['col1', 'col2', 'col3'])\n",
    "print(df)"
   ]
  },
  {
   "cell_type": "code",
   "execution_count": 50,
   "id": "e36de29a",
   "metadata": {},
   "outputs": [
    {
     "name": "stdout",
     "output_type": "stream",
     "text": [
      "col1    1\n",
      "col2    2\n",
      "col3    3\n",
      "Name: row1, dtype: int64\n"
     ]
    }
   ],
   "source": [
    "result = df.iloc[0]\n",
    "print(result)"
   ]
  },
  {
   "cell_type": "code",
   "execution_count": 51,
   "id": "4e834b80",
   "metadata": {},
   "outputs": [
    {
     "name": "stdout",
     "output_type": "stream",
     "text": [
      "      col1  col2  col3\n",
      "row1     1     2     3\n",
      "row3     7     8     9\n"
     ]
    }
   ],
   "source": [
    "#리스트로 특정 행, 열 지정하기\n",
    "result = df.iloc[[0,2]]\n",
    "print(result)"
   ]
  },
  {
   "cell_type": "code",
   "execution_count": 52,
   "id": "3361cd01",
   "metadata": {},
   "outputs": [
    {
     "name": "stdout",
     "output_type": "stream",
     "text": [
      "      col1  col2  col3\n",
      "row2     4     5     6\n"
     ]
    }
   ],
   "source": [
    "result = df.iloc[1:2]\n",
    "print(result)"
   ]
  },
  {
   "cell_type": "code",
   "execution_count": 53,
   "id": "b8687356",
   "metadata": {
    "scrolled": true
   },
   "outputs": [
    {
     "name": "stdout",
     "output_type": "stream",
     "text": [
      "      col1  col2  col3\n",
      "row1     1     2     3\n",
      "row3     7     8     9\n"
     ]
    }
   ],
   "source": [
    "bool_list = [True, False, True]\n",
    "result = df.iloc[bool_list]\n",
    "print(result)"
   ]
  },
  {
   "cell_type": "code",
   "execution_count": 54,
   "id": "ae00ce05",
   "metadata": {},
   "outputs": [
    {
     "name": "stdout",
     "output_type": "stream",
     "text": [
      "      col1  col2  col3\n",
      "row3     7     8     9\n"
     ]
    }
   ],
   "source": [
    "result = df.iloc[lambda x : x.index == 'row3']\n",
    "print(result)"
   ]
  },
  {
   "cell_type": "markdown",
   "id": "e0f87169",
   "metadata": {},
   "source": [
    "# 0405 앞에서 n행 인덱싱(head)"
   ]
  },
  {
   "cell_type": "code",
   "execution_count": 55,
   "id": "41bd2f93",
   "metadata": {},
   "outputs": [
    {
     "name": "stdout",
     "output_type": "stream",
     "text": [
      "   0  1  2  3  4  5  6  7  8  9\n",
      "0  4  4  9  5  7  6  1  1  1  1\n",
      "1  0  8  1  7  1  6  6  0  8  5\n",
      "2  9  9  1  6  2  3  7  5  4  1\n",
      "3  6  4  1  0  5  9  8  6  5  3\n",
      "4  3  8  8  1  7  2  8  8  7  9\n",
      "5  8  0  7  2  1  6  0  6  2  8\n",
      "6  5  2  6  4  1  9  5  0  2  9\n",
      "7  1  2  7  6  8  5  9  5  0  9\n",
      "8  6  3  1  6  5  1  5  3  3  4\n",
      "9  2  4  0  4  5  2  6  2  3  3\n"
     ]
    }
   ],
   "source": [
    "data = np.random.randint(10, size=(10,10))\n",
    "df= pd.DataFrame(data=data)\n",
    "print(df)"
   ]
  },
  {
   "cell_type": "code",
   "execution_count": 56,
   "id": "e24827ff",
   "metadata": {},
   "outputs": [
    {
     "name": "stdout",
     "output_type": "stream",
     "text": [
      "   0  1  2  3  4  5  6  7  8  9\n",
      "0  4  4  9  5  7  6  1  1  1  1\n",
      "1  0  8  1  7  1  6  6  0  8  5\n",
      "2  9  9  1  6  2  3  7  5  4  1\n",
      "3  6  4  1  0  5  9  8  6  5  3\n",
      "4  3  8  8  1  7  2  8  8  7  9\n",
      "5  8  0  7  2  1  6  0  6  2  8\n",
      "6  5  2  6  4  1  9  5  0  2  9\n"
     ]
    }
   ],
   "source": [
    "#만약에 음수이면 끝에서 n개열 제외하고 반환함.\n",
    "print(df.head(-3))"
   ]
  },
  {
   "cell_type": "code",
   "execution_count": 57,
   "id": "be893805",
   "metadata": {},
   "outputs": [
    {
     "name": "stdout",
     "output_type": "stream",
     "text": [
      "RangeIndex(start=0, stop=3, step=1)\n"
     ]
    }
   ],
   "source": [
    "check = df.head(3)\n",
    "print(check.index)"
   ]
  },
  {
   "cell_type": "markdown",
   "id": "db6edefe",
   "metadata": {},
   "source": [
    "# 0406 뒤에서 n행 인덱싱(tail)"
   ]
  },
  {
   "cell_type": "code",
   "execution_count": 58,
   "id": "5d428d4e",
   "metadata": {},
   "outputs": [
    {
     "name": "stdout",
     "output_type": "stream",
     "text": [
      "   0  1  2  3  4  5  6  7  8  9\n",
      "0  9  8  4  5  4  3  8  5  1  9\n",
      "1  3  9  4  8  7  9  6  4  7  1\n",
      "2  4  9  1  7  6  0  1  4  7  8\n",
      "3  7  2  2  1  4  3  7  9  4  0\n",
      "4  4  7  7  4  5  3  4  2  9  2\n",
      "5  3  1  1  4  1  5  6  9  7  5\n",
      "6  5  4  6  7  8  1  4  7  2  9\n",
      "7  8  4  4  0  5  8  0  2  3  7\n",
      "8  3  4  2  6  5  5  4  2  2  5\n",
      "9  6  2  1  5  7  9  9  7  3  5\n"
     ]
    }
   ],
   "source": [
    "data = np.random.randint(10,size=(10,10))\n",
    "df = pd.DataFrame(data=data)\n",
    "print(df)"
   ]
  },
  {
   "cell_type": "code",
   "execution_count": 59,
   "id": "61a69c73",
   "metadata": {},
   "outputs": [
    {
     "name": "stdout",
     "output_type": "stream",
     "text": [
      "   0  1  2  3  4  5  6  7  8  9\n",
      "7  8  4  4  0  5  8  0  2  3  7\n",
      "8  3  4  2  6  5  5  4  2  2  5\n",
      "9  6  2  1  5  7  9  9  7  3  5\n"
     ]
    }
   ],
   "source": [
    "print(df.tail(3))"
   ]
  },
  {
   "cell_type": "code",
   "execution_count": 60,
   "id": "ad5f8769",
   "metadata": {},
   "outputs": [
    {
     "name": "stdout",
     "output_type": "stream",
     "text": [
      "   0  1  2  3  4  5  6  7  8  9\n",
      "3  7  2  2  1  4  3  7  9  4  0\n",
      "4  4  7  7  4  5  3  4  2  9  2\n",
      "5  3  1  1  4  1  5  6  9  7  5\n",
      "6  5  4  6  7  8  1  4  7  2  9\n",
      "7  8  4  4  0  5  8  0  2  3  7\n",
      "8  3  4  2  6  5  5  4  2  2  5\n",
      "9  6  2  1  5  7  9  9  7  3  5\n"
     ]
    }
   ],
   "source": [
    "print(df.tail(-3))"
   ]
  },
  {
   "cell_type": "code",
   "execution_count": 61,
   "id": "8ff53e3c",
   "metadata": {},
   "outputs": [
    {
     "name": "stdout",
     "output_type": "stream",
     "text": [
      "RangeIndex(start=7, stop=10, step=1)\n"
     ]
    }
   ],
   "source": [
    "#출력시에 보이는 출력물만 n열까지만 보여주는 것이 아니라 실제 값이 바뀜\n",
    "check=df.tail(3)\n",
    "print(check.index)"
   ]
  },
  {
   "cell_type": "markdown",
   "id": "476c012a",
   "metadata": {},
   "source": [
    "# 0407 multi index의 경우"
   ]
  },
  {
   "cell_type": "code",
   "execution_count": 62,
   "id": "f290cc21",
   "metadata": {},
   "outputs": [
    {
     "name": "stdout",
     "output_type": "stream",
     "text": [
      "           col1  col2  col3\n",
      "row1 val1     1     2     3\n",
      "     val2     4     5     6\n",
      "row2 val1     7     8     9\n",
      "     val2    10    11    12\n",
      "     val3    13    14    15\n",
      "row3 val2    16    17    18\n",
      "     val3    19    20    21\n"
     ]
    }
   ],
   "source": [
    "index_tuples = [('row1', 'val1'), ('row1', 'val2'), \n",
    "                ('row2', 'val1'), ('row2', 'val2'), ('row2', 'val3'), \n",
    "                ('row3', 'val2'),('row3', 'val3')]\n",
    "values = [ [1,2,3], [4,5,6], [7,8,9], [10,11,12], [13,14,15], [16,17,18], \n",
    "          [19,20,21]]\n",
    "index = pd.MultiIndex.from_tuples(index_tuples) # 인덱스 설정\n",
    "df = pd.DataFrame(values, columns=['col1', 'col2', 'col3'], index = index)\n",
    "print(df)"
   ]
  },
  {
   "cell_type": "code",
   "execution_count": 63,
   "id": "b39c2f74",
   "metadata": {},
   "outputs": [
    {
     "name": "stdout",
     "output_type": "stream",
     "text": [
      "      col1  col2  col3\n",
      "val1     7     8     9\n",
      "val2    10    11    12\n",
      "val3    13    14    15\n"
     ]
    }
   ],
   "source": [
    "result = df.loc['row2']\n",
    "print(result)"
   ]
  },
  {
   "cell_type": "code",
   "execution_count": 64,
   "id": "8952b8a9",
   "metadata": {},
   "outputs": [
    {
     "name": "stdout",
     "output_type": "stream",
     "text": [
      "col1    10\n",
      "col2    11\n",
      "col3    12\n",
      "Name: (row2, val2), dtype: int64\n"
     ]
    }
   ],
   "source": [
    "result = df.loc[('row2', 'val2')]\n",
    "print(result)"
   ]
  },
  {
   "cell_type": "code",
   "execution_count": 65,
   "id": "b352d959",
   "metadata": {},
   "outputs": [
    {
     "name": "stdout",
     "output_type": "stream",
     "text": [
      "           col1  col2  col3\n",
      "row2 val2    10    11    12\n"
     ]
    }
   ],
   "source": [
    "result = df.loc[[('row2','val2')]]\n",
    "print(result)"
   ]
  },
  {
   "cell_type": "code",
   "execution_count": 66,
   "id": "be0d34ae",
   "metadata": {},
   "outputs": [
    {
     "name": "stdout",
     "output_type": "stream",
     "text": [
      "12\n"
     ]
    }
   ],
   "source": [
    "result = df.loc[('row2', 'val2'), 'col3']\n",
    "print(result)"
   ]
  },
  {
   "cell_type": "code",
   "execution_count": 67,
   "id": "8e87b630",
   "metadata": {},
   "outputs": [
    {
     "name": "stdout",
     "output_type": "stream",
     "text": [
      "           col1  col2  col3\n",
      "row1 val2     4     5     6\n",
      "row2 val1     7     8     9\n",
      "     val2    10    11    12\n",
      "     val3    13    14    15\n",
      "row3 val2    16    17    18\n"
     ]
    }
   ],
   "source": [
    "#row1의 val2부터 row3의 val2까지\n",
    "result = df.loc[('row1', 'val2'): ('row3', 'val2')]\n",
    "print(result)"
   ]
  },
  {
   "cell_type": "code",
   "execution_count": null,
   "id": "8d809dfc",
   "metadata": {},
   "outputs": [],
   "source": []
  }
 ],
 "metadata": {
  "kernelspec": {
   "display_name": "Python 3 (ipykernel)",
   "language": "python",
   "name": "python3"
  },
  "language_info": {
   "codemirror_mode": {
    "name": "ipython",
    "version": 3
   },
   "file_extension": ".py",
   "mimetype": "text/x-python",
   "name": "python",
   "nbconvert_exporter": "python",
   "pygments_lexer": "ipython3",
   "version": "3.9.7"
  }
 },
 "nbformat": 4,
 "nbformat_minor": 5
}
