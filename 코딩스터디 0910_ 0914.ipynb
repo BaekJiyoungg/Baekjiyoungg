{
 "cells": [
  {
   "cell_type": "markdown",
   "id": "ded02738",
   "metadata": {},
   "source": [
    "# 0910 피벗생성_스프레드시트 기반\n",
    "- pivot_table = 데이터를 스프레드시트 기반 피벗 테이블로 변환함. "
   ]
  },
  {
   "cell_type": "code",
   "execution_count": 1,
   "id": "b390d09c",
   "metadata": {},
   "outputs": [],
   "source": [
    "import pandas as pd\n",
    "import numpy as np"
   ]
  },
  {
   "cell_type": "code",
   "execution_count": 2,
   "id": "23ba31e7",
   "metadata": {},
   "outputs": [
    {
     "name": "stdout",
     "output_type": "stream",
     "text": [
      "  Machine Country Grade  Price  Count\n",
      "0      TV   Korea     A   1000      3\n",
      "1      TV   Korea     B    800      8\n",
      "2      TV   Korea     B    800      2\n",
      "3      TV   Japan     A   1300      5\n",
      "4      TV   Japan     A   1300      1\n",
      "5      PC   Korea     B   1500      6\n",
      "6      PC   Korea     A   2000      9\n",
      "7      PC   Japan     A   3000      3\n",
      "8      PC   Japan     B   2500      3\n"
     ]
    }
   ],
   "source": [
    "col = ['Machine','Country','Grade','Price','Count']\n",
    "data = [['TV','Korea','A',1000,3],\n",
    "        ['TV','Korea','B', 800,8],\n",
    "        ['TV','Korea','B', 800,2],\n",
    "        ['TV','Japan','A',1300,5],\n",
    "        ['TV','Japan','A',1300,1],\n",
    "        ['PC','Korea','B',1500,6],\n",
    "        ['PC','Korea','A',2000,9],\n",
    "        ['PC','Japan','A',3000,3],\n",
    "        ['PC','Japan','B',2500,3]]\n",
    "df = pd.DataFrame(data=data, columns=col)\n",
    "print(df)"
   ]
  },
  {
   "cell_type": "code",
   "execution_count": 3,
   "id": "5e2c1118",
   "metadata": {},
   "outputs": [
    {
     "name": "stdout",
     "output_type": "stream",
     "text": [
      "Grade              A     B\n",
      "Machine Country           \n",
      "PC      Japan    3.0   3.0\n",
      "        Korea    9.0   6.0\n",
      "TV      Japan    6.0   NaN\n",
      "        Korea    3.0  10.0\n"
     ]
    }
   ],
   "source": [
    "print(df.pivot_table(values = 'Count', index= ['Machine', 'Country'], columns ='Grade', aggfunc = np.sum))"
   ]
  },
  {
   "cell_type": "code",
   "execution_count": 4,
   "id": "98713f18",
   "metadata": {},
   "outputs": [
    {
     "name": "stdout",
     "output_type": "stream",
     "text": [
      "Grade              A     B\n",
      "Machine Country           \n",
      "TV      Korea    3.0  10.0\n",
      "        Japan    6.0   NaN\n",
      "PC      Korea    9.0   6.0\n",
      "        Japan    3.0   3.0\n"
     ]
    }
   ],
   "source": [
    "#sort=False 기존 입력 순서대로\n",
    "print(df.pivot_table(values='Count',index=['Machine','Country'],columns='Grade',aggfunc=np.sum,sort=False))"
   ]
  },
  {
   "cell_type": "code",
   "execution_count": 5,
   "id": "e211f754",
   "metadata": {},
   "outputs": [
    {
     "name": "stdout",
     "output_type": "stream",
     "text": [
      "                  sum                        mean                     \n",
      "                Count         Price         Count        Price        \n",
      "Grade               A     B       A       B     A    B       A       B\n",
      "Machine Country                                                       \n",
      "PC      Japan     3.0   3.0  3000.0  2500.0   3.0  3.0  3000.0  2500.0\n",
      "        Korea     9.0   6.0  2000.0  1500.0   9.0  6.0  2000.0  1500.0\n",
      "TV      Japan     6.0   NaN  2600.0     NaN   3.0  NaN  1300.0     NaN\n",
      "        Korea     3.0  10.0  1000.0  1600.0   3.0  5.0  1000.0   800.0\n"
     ]
    }
   ],
   "source": [
    "#여러 값에 대해 여러 함수 적용\n",
    "#list를 이용해 다중 함수 적용 가능\n",
    "print(df.pivot_table(values=['Count','Price'],index=['Machine','Country']\n",
    "                     ,columns='Grade',aggfunc=[np.sum,np.mean]))"
   ]
  },
  {
   "cell_type": "code",
   "execution_count": 6,
   "id": "f71de998",
   "metadata": {},
   "outputs": [
    {
     "name": "stdout",
     "output_type": "stream",
     "text": [
      "                Count         Price        \n",
      "Grade               A     B       A       B\n",
      "Machine Country                            \n",
      "PC      Japan     3.0   3.0  3000.0  2500.0\n",
      "        Korea     9.0   6.0  2000.0  1500.0\n",
      "TV      Japan     6.0   NaN  1300.0     NaN\n",
      "        Korea     3.0  10.0  1000.0   800.0\n"
     ]
    }
   ],
   "source": [
    "print(df.pivot_table(values=['Count','Price'],index=['Machine','Country'],columns='Grade'\n",
    "                     ,aggfunc={'Count':np.sum,'Price':np.mean}))"
   ]
  },
  {
   "cell_type": "code",
   "execution_count": 7,
   "id": "2d9cdf89",
   "metadata": {},
   "outputs": [
    {
     "name": "stdout",
     "output_type": "stream",
     "text": [
      "Grade              A     B\n",
      "Machine Country           \n",
      "PC      Japan    3.0   3.0\n",
      "        Korea    9.0   6.0\n",
      "TV      Japan    6.0    누락\n",
      "        Korea    3.0  10.0\n"
     ]
    }
   ],
   "source": [
    "#fill_value를 이용한 결측치 제거\n",
    "print(df.pivot_table(values='Count',index=['Machine','Country'],\n",
    "                     columns='Grade',aggfunc=np.sum,fill_value='누락'))"
   ]
  },
  {
   "cell_type": "code",
   "execution_count": 8,
   "id": "e693bb9f",
   "metadata": {},
   "outputs": [
    {
     "name": "stdout",
     "output_type": "stream",
     "text": [
      "Grade               A     B  All\n",
      "Machine Country                 \n",
      "PC      Japan     3.0   3.0    6\n",
      "        Korea     9.0   6.0   15\n",
      "TV      Japan     6.0   NaN    6\n",
      "        Korea     3.0  10.0   13\n",
      "All              21.0  19.0   40\n"
     ]
    }
   ],
   "source": [
    "#margines / margines_name 인수 사용\n",
    "#margines = 총계 출력함 , margines_name= 해당 레이블의 이름 지정\n",
    "print(df.pivot_table(values='Count',index=['Machine','Country'],columns='Grade',\n",
    "                     aggfunc=np.sum,margins=True))"
   ]
  },
  {
   "cell_type": "code",
   "execution_count": 9,
   "id": "c4b19bbe",
   "metadata": {},
   "outputs": [
    {
     "name": "stdout",
     "output_type": "stream",
     "text": [
      "Grade               A     B  총계\n",
      "Machine Country                \n",
      "PC      Japan     3.0   3.0   6\n",
      "        Korea     9.0   6.0  15\n",
      "TV      Japan     6.0   NaN   6\n",
      "        Korea     3.0  10.0  13\n",
      "총계               21.0  19.0  40\n"
     ]
    }
   ],
   "source": [
    "print(df.pivot_table(values='Count',index=['Machine','Country'],\n",
    "                     columns='Grade',aggfunc=np.sum,margins=True,margins_name='총계'))"
   ]
  },
  {
   "cell_type": "markdown",
   "id": "94c23598",
   "metadata": {},
   "source": [
    " # 0911 피벗해제\n",
    " - melt 메서드 : 피벗 형태의 dataframe을 기존 형태로 해체함.\n",
    " - id_vars : 기준이 될 열\n",
    " - value_vars : 기준 열에 대한 하위 카테고리를 나열할 열 선택\n",
    " - var_name : 카테고리들이 나열된 열의 이름 설정\n",
    " - value_name : 카테고리들의 값이 나열될 열의 이름 설정 \n",
    " - col_leve : multi index의 경우 melt를 수행할 레벨 설정"
   ]
  },
  {
   "cell_type": "code",
   "execution_count": 10,
   "id": "cd26715f",
   "metadata": {},
   "outputs": [
    {
     "name": "stdout",
     "output_type": "stream",
     "text": [
      "  Country Machine  Price Brand\n",
      "0   Korea      TV   1000     A\n",
      "1   Japan      TV   1300     B\n",
      "2   Korea      PC   2000     A\n",
      "3   Japan      PC   3000     E\n"
     ]
    }
   ],
   "source": [
    "col = ['Country','Machine','Price','Brand']\n",
    "data = [['Korea','TV',1000,'A'],\n",
    "        ['Japan','TV',1300,'B'],\n",
    "        ['Korea','PC',2000,'A'],\n",
    "        ['Japan','PC',3000,'E']]\n",
    "df = pd.DataFrame(data=data, columns=col)\n",
    "print(df)"
   ]
  },
  {
   "cell_type": "code",
   "execution_count": 12,
   "id": "15c4b063",
   "metadata": {},
   "outputs": [
    {
     "name": "stdout",
     "output_type": "stream",
     "text": [
      "  Country variable value\n",
      "0   Korea  Machine    TV\n",
      "1   Japan  Machine    TV\n",
      "2   Korea  Machine    PC\n",
      "3   Japan  Machine    PC\n",
      "4   Korea    Price  1000\n",
      "5   Japan    Price  1300\n",
      "6   Korea    Price  2000\n",
      "7   Japan    Price  3000\n"
     ]
    }
   ],
   "source": [
    "print(df.melt(id_vars = 'Country', value_vars = ['Machine', 'Price']))"
   ]
  },
  {
   "cell_type": "code",
   "execution_count": 14,
   "id": "6d7746f9",
   "metadata": {},
   "outputs": [
    {
     "name": "stdout",
     "output_type": "stream",
     "text": [
      "  Country variable value\n",
      "0   Korea  Machine    TV\n",
      "1   Japan  Machine    TV\n",
      "2   Korea  Machine    PC\n",
      "3   Japan  Machine    PC\n",
      "0   Korea    Price  1000\n",
      "1   Japan    Price  1300\n",
      "2   Korea    Price  2000\n",
      "3   Japan    Price  3000\n"
     ]
    }
   ],
   "source": [
    "#ignore_index = False로 할 경우 기존 인덱스 사용\n",
    "print(df.melt(id_vars = 'Country', value_vars = ['Machine', 'Price'], ignore_index=False))"
   ]
  },
  {
   "cell_type": "code",
   "execution_count": 16,
   "id": "05f56f2a",
   "metadata": {},
   "outputs": [
    {
     "name": "stdout",
     "output_type": "stream",
     "text": [
      "  Country Category   val\n",
      "0   Korea  Machine    TV\n",
      "1   Japan  Machine    TV\n",
      "2   Korea  Machine    PC\n",
      "3   Japan  Machine    PC\n",
      "4   Korea    Price  1000\n",
      "5   Japan    Price  1300\n",
      "6   Korea    Price  2000\n",
      "7   Japan    Price  3000\n"
     ]
    }
   ],
   "source": [
    "print(df.melt(id_vars='Country', value_vars=['Machine', 'Price'], var_name ='Category',\n",
    "             value_name='val'))"
   ]
  },
  {
   "cell_type": "code",
   "execution_count": 17,
   "id": "d29d22a1",
   "metadata": {},
   "outputs": [
    {
     "name": "stdout",
     "output_type": "stream",
     "text": [
      "     Area          Value            \n",
      "  Country   City Machine Price Brand\n",
      "0   Korea  Seoul      TV  1000     A\n",
      "1   Japan  Tokyo      TV  1300     B\n",
      "2   Korea   Jeju      PC  2000     A\n",
      "3   Japan  Kyoto      PC  3000     E\n"
     ]
    }
   ],
   "source": [
    "#multi-index의 경우\n",
    "col2 = [['Area','Area','Value','Value','Value'],['Country','City','Machine','Price','Brand']]\n",
    "data2 =[['Korea','Seoul','TV',1000,'A'],\n",
    "        ['Japan','Tokyo','TV',1300,'B'],\n",
    "        ['Korea','Jeju','PC',2000,'A'],\n",
    "        ['Japan','Kyoto','PC',3000,'E']]\n",
    "df2=pd.DataFrame(data=data2, columns=col2)\n",
    "print(df2)"
   ]
  },
  {
   "cell_type": "code",
   "execution_count": 18,
   "id": "f3cee6fc",
   "metadata": {},
   "outputs": [
    {
     "name": "stdout",
     "output_type": "stream",
     "text": [
      "  (Area, City) variable_0 variable_1  value\n",
      "0        Seoul      Value      Price   1000\n",
      "1        Tokyo      Value      Price   1300\n",
      "2         Jeju      Value      Price   2000\n",
      "3        Kyoto      Value      Price   3000\n"
     ]
    }
   ],
   "source": [
    "print(df2.melt(id_vars = [('Area', 'City')], value_vars = [('Value', 'Price')]))"
   ]
  },
  {
   "cell_type": "code",
   "execution_count": 20,
   "id": "c45937a6",
   "metadata": {},
   "outputs": [
    {
     "name": "stdout",
     "output_type": "stream",
     "text": [
      "    City variable  value\n",
      "0  Seoul    Price   1000\n",
      "1  Tokyo    Price   1300\n",
      "2   Jeju    Price   2000\n",
      "3  Kyoto    Price   3000\n"
     ]
    }
   ],
   "source": [
    "print(df2.melt(id_vars = 'City', value_vars = 'Price', col_level=1))"
   ]
  },
  {
   "cell_type": "markdown",
   "id": "8794505b",
   "metadata": {},
   "source": [
    "# 0912"
   ]
  },
  {
   "cell_type": "code",
   "execution_count": 21,
   "id": "c5c1d11a",
   "metadata": {},
   "outputs": [
    {
     "name": "stdout",
     "output_type": "stream",
     "text": [
      "      col1\n",
      "row1     1\n",
      "row2     2\n",
      "row3     3\n"
     ]
    }
   ],
   "source": [
    "df = pd.DataFrame(index=['row1','row2','row3'],data={'col1':[1,2,3]})\n",
    "print(df)"
   ]
  },
  {
   "cell_type": "code",
   "execution_count": 22,
   "id": "d0b9a2bd",
   "metadata": {},
   "outputs": [
    {
     "name": "stdout",
     "output_type": "stream",
     "text": [
      "      col1  col2\n",
      "row1     1     3\n",
      "row2     2     4\n",
      "row3     3     5\n"
     ]
    }
   ],
   "source": [
    "print(df.assign(col2 = lambda x : x.col1+2))"
   ]
  },
  {
   "cell_type": "code",
   "execution_count": 23,
   "id": "3313d53a",
   "metadata": {},
   "outputs": [
    {
     "name": "stdout",
     "output_type": "stream",
     "text": [
      "      col1  col3\n",
      "row1     1    -2\n",
      "row2     2    -4\n",
      "row3     3    -6\n"
     ]
    }
   ],
   "source": [
    "#lambda 사용하지 않고 새 열 추가\n",
    "print(df.assign(col3 = df['col1']*(-2)))"
   ]
  },
  {
   "cell_type": "code",
   "execution_count": 24,
   "id": "08519b1e",
   "metadata": {},
   "outputs": [
    {
     "name": "stdout",
     "output_type": "stream",
     "text": [
      "      col1  col2  col3\n",
      "row1     1     3    -2\n",
      "row2     2     4    -4\n",
      "row3     3     5    -6\n"
     ]
    }
   ],
   "source": [
    "#동시에 여러 열 할당\n",
    "print(df.assign(col2 = lambda x : x.col1+2, col3= df['col1']*(-2)))"
   ]
  },
  {
   "cell_type": "code",
   "execution_count": 25,
   "id": "7b600394",
   "metadata": {},
   "outputs": [
    {
     "name": "stdout",
     "output_type": "stream",
     "text": [
      "      col1\n",
      "row1     0\n",
      "row2     0\n",
      "row3     0\n"
     ]
    }
   ],
   "source": [
    "#열이 중복될 경우, 새 열의 이름이 기존열과 중복되다면, 새 값으로 덮어씌워주기\n",
    "print(df.assign(col1= [0,0,0]))"
   ]
  },
  {
   "cell_type": "markdown",
   "id": "14f2642f",
   "metadata": {},
   "source": [
    " # 0913 값 변경(replace)\n",
    " - 객체 내 값을 다른 값으로 변경하는 메서드\n",
    " - to_replace = 변경 전 기존 값\n",
    " - value : 변경될 값\n",
    " - inplace : 원본 변경할지 여부\n",
    " - limit : method 사용시 변경될 갯수\n",
    " - regex : regex 문법 이용하여 변경값 정함."
   ]
  },
  {
   "cell_type": "code",
   "execution_count": 26,
   "id": "4fc6ebc1",
   "metadata": {},
   "outputs": [
    {
     "name": "stdout",
     "output_type": "stream",
     "text": [
      "     col1 col2  col3   col4\n",
      "row1    A    w     1  alpha\n",
      "row2    B    x     2   beta\n",
      "row3    C    y     3  gamma\n",
      "row4    D    z     4  delta\n"
     ]
    }
   ],
   "source": [
    "col = ['col1','col2','col3','col4']\n",
    "row = ['row1','row2','row3','row4']\n",
    "data = [['A','w',1,'alpha'],['B','x',2,'beta'],['C','y',3,'gamma'],['D','z',4,'delta']]\n",
    "df = pd.DataFrame(data=data, index=row, columns=col)\n",
    "print(df)"
   ]
  },
  {
   "cell_type": "code",
   "execution_count": 27,
   "id": "85c7a034",
   "metadata": {},
   "outputs": [
    {
     "name": "stdout",
     "output_type": "stream",
     "text": [
      "     col1 col2  col3   col4\n",
      "row1    A    w    99  alpha\n",
      "row2    B    x     2   beta\n",
      "row3    C    y     3  gamma\n",
      "row4    D    z     4  delta\n"
     ]
    }
   ],
   "source": [
    "#1을 99로\n",
    "print(df.replace(to_replace = 1, value= 99))"
   ]
  },
  {
   "cell_type": "code",
   "execution_count": 29,
   "id": "cffb20f8",
   "metadata": {},
   "outputs": [
    {
     "name": "stdout",
     "output_type": "stream",
     "text": [
      "     col1 col2  col3   col4\n",
      "row1    -    w     1  alpha\n",
      "row2    -    x     2   beta\n",
      "row3    C    -     3  gamma\n",
      "row4    D    -     4  delta\n"
     ]
    }
   ],
   "source": [
    "print(df.replace(to_replace=['A', 'B', 'y', 'z'], value='-'))"
   ]
  },
  {
   "cell_type": "code",
   "execution_count": 30,
   "id": "7f63d440",
   "metadata": {},
   "outputs": [
    {
     "name": "stdout",
     "output_type": "stream",
     "text": [
      "     col1 col2  col3   col4\n",
      "row1    a    w     1  alpha\n",
      "row2    b    x     2   beta\n",
      "row3    C    Y     3  gamma\n",
      "row4    D    Z     4  delta\n"
     ]
    }
   ],
   "source": [
    "print(df.replace(to_replace=['A','B','y','z'],value=['a','b','Y','Z']))"
   ]
  },
  {
   "cell_type": "code",
   "execution_count": 32,
   "id": "ff0f3d59",
   "metadata": {},
   "outputs": [
    {
     "name": "stdout",
     "output_type": "stream",
     "text": [
      "     col1 col2  col3   col4\n",
      "row1    A    w     1  alpha\n",
      "row2    B    w     2   beta\n",
      "row3    C    w     3  gamma\n",
      "row4    D    z     4  delta\n"
     ]
    }
   ],
   "source": [
    "#method와 limit인수의 사용\n",
    "#mehod =ffill인 경우 to_replace값이 바로 위 값으로 변경\n",
    "#bfill인 경우 to_replace값이 바로 아래 값으로 변경\n",
    "print(df.replace(to_replace=['x','y'],method='ffill'))"
   ]
  },
  {
   "cell_type": "code",
   "execution_count": 33,
   "id": "cab730c5",
   "metadata": {},
   "outputs": [
    {
     "name": "stdout",
     "output_type": "stream",
     "text": [
      "     col1 col2  col3   col4\n",
      "row1    A    w     1  alpha\n",
      "row2    B    z     2   beta\n",
      "row3    C    z     3  gamma\n",
      "row4    D    z     4  delta\n"
     ]
    }
   ],
   "source": [
    "print(df.replace(to_replace=['x','y'],method='bfill'))"
   ]
  },
  {
   "cell_type": "code",
   "execution_count": 34,
   "id": "fd4bd9c6",
   "metadata": {},
   "outputs": [
    {
     "name": "stdout",
     "output_type": "stream",
     "text": [
      "     col1 col2  col3   col4\n",
      "row1    A    w     1  alpha\n",
      "row2    B    x     2   beta\n",
      "row3    C    z     3  gamma\n",
      "row4    D    z     4  delta\n"
     ]
    }
   ],
   "source": [
    "#limit=1이면 1개만 변경됨, 변경될 개수 지정가능\n",
    "print(df.replace(to_replace=['x', 'y'], method = 'bfill', limit=1))"
   ]
  },
  {
   "cell_type": "code",
   "execution_count": 35,
   "id": "f1315185",
   "metadata": {},
   "outputs": [
    {
     "name": "stdout",
     "output_type": "stream",
     "text": [
      "     col1 col2  col3   col4\n",
      "row1    a    w     1  alpha\n",
      "row2    B    x     2   beta\n",
      "row3    C    y     3  gamma\n",
      "row4    D    Z     4  delta\n"
     ]
    }
   ],
   "source": [
    "#dict형식의 사용\n",
    "print(df.replace(to_replace = {'A':'a', 'z':'Z'}))"
   ]
  },
  {
   "cell_type": "code",
   "execution_count": 36,
   "id": "2c992f4b",
   "metadata": {},
   "outputs": [
    {
     "name": "stdout",
     "output_type": "stream",
     "text": [
      "     col1 col2 col3   col4\n",
      "row1    A    w    -  alpha\n",
      "row2    B    x    2   beta\n",
      "row3    C    y    3  gamma\n",
      "row4    D    z    +  delta\n"
     ]
    }
   ],
   "source": [
    "print(df.replace(to_replace={'col3':{1:'-',4:'+'}}))"
   ]
  },
  {
   "cell_type": "code",
   "execution_count": 37,
   "id": "e4eba3d0",
   "metadata": {},
   "outputs": [
    {
     "name": "stdout",
     "output_type": "stream",
     "text": [
      "     col1 col2  col3   col4\n",
      "row1    A  100     1  alpha\n",
      "row2  100    x     2   beta\n",
      "row3    C    y     3  gamma\n",
      "row4    D    z     4  delta\n"
     ]
    }
   ],
   "source": [
    "print(df.replace(to_replace = {'col1':'B', 'col2': 'w'}, value=100))"
   ]
  },
  {
   "cell_type": "code",
   "execution_count": 38,
   "id": "4081a141",
   "metadata": {},
   "outputs": [
    {
     "name": "stdout",
     "output_type": "stream",
     "text": [
      "     col1 col2  col3   col4\n",
      "row1    A    w     1  alpha\n",
      "row2    B    x     2   b-ta\n",
      "row3    C    y     3  gamma\n",
      "row4    D    z     4  d-lta\n"
     ]
    }
   ],
   "source": [
    "#regex의 사용 : 정규표현식으로 원하는 값 지정해서 변경 가능\n",
    "print(df.replace(to_replace=r'[e]', value='-', regex=True))"
   ]
  },
  {
   "cell_type": "code",
   "execution_count": 39,
   "id": "43b3a9f8",
   "metadata": {},
   "outputs": [
    {
     "name": "stdout",
     "output_type": "stream",
     "text": [
      "     col1 col2  col3   col4\n",
      "row1    A    w     1  alpha\n",
      "row2    B    x     2   b-ta\n",
      "row3    C    y     3  gamma\n",
      "row4    D    z     4  d-lta\n"
     ]
    }
   ],
   "source": [
    "print(df.replace(regex=r'[e]', value='-'))"
   ]
  },
  {
   "cell_type": "code",
   "execution_count": 40,
   "id": "7de30558",
   "metadata": {},
   "outputs": [
    {
     "name": "stdout",
     "output_type": "stream",
     "text": [
      "     col1 col2  col3   col4\n",
      "row1    A    w     1  alpha\n",
      "row2    B    x     2   b-ta\n",
      "row3    C    y     3  gamma\n",
      "row4    D    z     4  d-lta\n"
     ]
    }
   ],
   "source": [
    "#inplace=True로 하면 원본도 변경됨\n",
    "df.replace(regex=r'[e]', value='-', inplace=True)\n",
    "print(df)"
   ]
  },
  {
   "cell_type": "markdown",
   "id": "e80f9ce8",
   "metadata": {},
   "source": [
    "# 0914 리스트 형태의 값 전개(explode)\n",
    "- 리스트 형태의 값을 여러 행으로 전개하는 메서드"
   ]
  },
  {
   "cell_type": "code",
   "execution_count": 41,
   "id": "4f5812eb",
   "metadata": {},
   "outputs": [
    {
     "name": "stdout",
     "output_type": "stream",
     "text": [
      "           col1 col2       col3\n",
      "row1  [1, 2, 3]    0  [a, b, c]\n",
      "row2          4   []          3\n",
      "row3          5    2  [x, y, z]\n"
     ]
    }
   ],
   "source": [
    "data= [[[1,2,3],0,['a','b','c']],[4,[],3],[5,2,['x','y','z']]]\n",
    "idx = ['row1','row2','row3']\n",
    "col = ['col1','col2','col3']\n",
    "df = pd.DataFrame(data = data, index = idx, columns = col)\n",
    "print(df)"
   ]
  },
  {
   "cell_type": "code",
   "execution_count": 42,
   "id": "b497451e",
   "metadata": {},
   "outputs": [
    {
     "name": "stdout",
     "output_type": "stream",
     "text": [
      "     col1 col2       col3\n",
      "row1    1    0  [a, b, c]\n",
      "row1    2    0  [a, b, c]\n",
      "row1    3    0  [a, b, c]\n",
      "row2    4   []          3\n",
      "row3    5    2  [x, y, z]\n"
     ]
    }
   ],
   "source": [
    "#리스트 형태의 데이터가 있는 열을 지정-> 리스트를 여러 행으로 전개가능\n",
    "print(df.explode('col1'))"
   ]
  },
  {
   "cell_type": "code",
   "execution_count": 43,
   "id": "f66b2bed",
   "metadata": {},
   "outputs": [
    {
     "name": "stdout",
     "output_type": "stream",
     "text": [
      "           col1 col2       col3\n",
      "row1  [1, 2, 3]    0  [a, b, c]\n",
      "row2          4  NaN          3\n",
      "row3          5    2  [x, y, z]\n"
     ]
    }
   ],
   "source": [
    "#빈 리스트의 경우 NaN으로 반환\n",
    "print(df.explode('col2'))"
   ]
  },
  {
   "cell_type": "code",
   "execution_count": 44,
   "id": "7639f0a5",
   "metadata": {},
   "outputs": [
    {
     "name": "stdout",
     "output_type": "stream",
     "text": [
      "           col1 col2 col3\n",
      "row1  [1, 2, 3]    0    a\n",
      "row1  [1, 2, 3]    0    b\n",
      "row1  [1, 2, 3]    0    c\n",
      "row2          4   []    3\n",
      "row3          5    2    x\n",
      "row3          5    2    y\n",
      "row3          5    2    z\n"
     ]
    }
   ],
   "source": [
    "print(df.explode('col3'))"
   ]
  },
  {
   "cell_type": "code",
   "execution_count": 46,
   "id": "6a45a55e",
   "metadata": {},
   "outputs": [
    {
     "name": "stdout",
     "output_type": "stream",
     "text": [
      "        col1    col2\n",
      "row1  [1, 2]  [a, b]\n",
      "row2       3       c\n"
     ]
    }
   ],
   "source": [
    "#여러 열을 동시에 전개할 경우\n",
    "data = [[[1,2], ['a','b']], [3, 'c']]\n",
    "idx = ['row1', 'row2']\n",
    "col = ['col1', 'col2']\n",
    "df = pd.DataFrame(data=data, index=idx, columns=col)\n",
    "print(df)"
   ]
  },
  {
   "cell_type": "code",
   "execution_count": 47,
   "id": "f5d36628",
   "metadata": {},
   "outputs": [
    {
     "name": "stdout",
     "output_type": "stream",
     "text": [
      "     col1 col2\n",
      "row1    1    a\n",
      "row1    2    b\n",
      "row2    3    c\n"
     ]
    }
   ],
   "source": [
    "print(df.explode(column=['col1', 'col2']))"
   ]
  },
  {
   "cell_type": "code",
   "execution_count": 48,
   "id": "d563fadb",
   "metadata": {},
   "outputs": [
    {
     "name": "stdout",
     "output_type": "stream",
     "text": [
      "  col1 col2\n",
      "0    1    a\n",
      "1    2    b\n",
      "2    3    c\n"
     ]
    }
   ],
   "source": [
    "print(df.explode(column=['col1', 'col2'], ignore_index=True))"
   ]
  },
  {
   "cell_type": "code",
   "execution_count": null,
   "id": "adde4da6",
   "metadata": {},
   "outputs": [],
   "source": []
  }
 ],
 "metadata": {
  "kernelspec": {
   "display_name": "Python 3 (ipykernel)",
   "language": "python",
   "name": "python3"
  },
  "language_info": {
   "codemirror_mode": {
    "name": "ipython",
    "version": 3
   },
   "file_extension": ".py",
   "mimetype": "text/x-python",
   "name": "python",
   "nbconvert_exporter": "python",
   "pygments_lexer": "ipython3",
   "version": "3.9.7"
  }
 },
 "nbformat": 4,
 "nbformat_minor": 5
}
