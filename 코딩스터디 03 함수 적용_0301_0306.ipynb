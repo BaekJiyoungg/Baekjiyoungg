{
 "cells": [
  {
   "cell_type": "markdown",
   "id": "822a76a9",
   "metadata": {},
   "source": [
    "# 0301 축 기준\n",
    "- apply : function = 각 행이나 열에 적용할 함수\n",
    "- axis : 1=열, 0=행\n",
    "- row : True : ndarray, False\" Series\n",
    "- result_type = {expand/reduce/broadcast}\n",
    "- expand는 배열형태를 기준으로 열을 확장\n",
    "- reduce는 그대로 series\n",
    "- broadcast는 기존 열 형식대로 확장하여 반환함"
   ]
  },
  {
   "cell_type": "code",
   "execution_count": 2,
   "id": "6d00d612",
   "metadata": {},
   "outputs": [],
   "source": [
    "import pandas as pd\n",
    "import numpy as np"
   ]
  },
  {
   "cell_type": "code",
   "execution_count": 3,
   "id": "ba69422e",
   "metadata": {},
   "outputs": [
    {
     "name": "stdout",
     "output_type": "stream",
     "text": [
      "      col1  col2  col3\n",
      "row1     1     2     3\n",
      "row2     4     5     6\n",
      "row3     7     8     9\n"
     ]
    }
   ],
   "source": [
    "col= ['col1', 'col2', 'col3']\n",
    "row = ['row1', 'row2', 'row3']\n",
    "data = [[1,2,3], [4,5,6], [7,8,9]]\n",
    "df = pd.DataFrame(data=data, index=row, columns=col)\n",
    "print(df)"
   ]
  },
  {
   "cell_type": "code",
   "execution_count": 4,
   "id": "d2f7e860",
   "metadata": {},
   "outputs": [
    {
     "name": "stdout",
     "output_type": "stream",
     "text": [
      "          col1      col2      col3\n",
      "row1  1.000000  1.414214  1.732051\n",
      "row2  2.000000  2.236068  2.449490\n",
      "row3  2.645751  2.828427  3.000000\n"
     ]
    }
   ],
   "source": [
    "#func의 성질에 따른 차이 func이 sqrt처럼 축에 대해 계산할 수 없는 형식이라면 각 요소에 적용됨\n",
    "print(df.apply(np.sqrt))"
   ]
  },
  {
   "cell_type": "code",
   "execution_count": 5,
   "id": "8c7f1f99",
   "metadata": {},
   "outputs": [
    {
     "name": "stdout",
     "output_type": "stream",
     "text": [
      "col1    12\n",
      "col2    15\n",
      "col3    18\n",
      "dtype: int64\n"
     ]
    }
   ],
   "source": [
    "print(df.apply(np.sum)) #축 기준으로 연산 수행"
   ]
  },
  {
   "cell_type": "code",
   "execution_count": 6,
   "id": "c23df8c1",
   "metadata": {},
   "outputs": [
    {
     "name": "stdout",
     "output_type": "stream",
     "text": [
      "col1     28\n",
      "col2     80\n",
      "col3    162\n",
      "dtype: int64\n"
     ]
    }
   ],
   "source": [
    "# axis에 따른 차이\n",
    "print(df.apply(np.prod, axis=0)) #행에 대해 연산하는데 1열을 다 곱함."
   ]
  },
  {
   "cell_type": "code",
   "execution_count": 8,
   "id": "c89cabb5",
   "metadata": {},
   "outputs": [
    {
     "name": "stdout",
     "output_type": "stream",
     "text": [
      "row1      6\n",
      "row2    120\n",
      "row3    504\n",
      "dtype: int64\n"
     ]
    }
   ],
   "source": [
    "# axis에 따른 차이 axis=1일 때 열에 대해 연산\n",
    "print(df.apply(np.prod, axis=1))"
   ]
  },
  {
   "cell_type": "code",
   "execution_count": 10,
   "id": "09e7fe69",
   "metadata": {},
   "outputs": [
    {
     "name": "stdout",
     "output_type": "stream",
     "text": [
      "      col1  col2  col3\n",
      "row1     1     1     1\n",
      "row2     2     2     2\n",
      "row3     3     3     3\n"
     ]
    }
   ],
   "source": [
    "#result_type에 따른 차이\n",
    "#lambda를 사용하여 기존 datagrame에 [1,2,3]객체를 apply\n",
    "print(df.apply(lambda x :[1,2,3]))"
   ]
  },
  {
   "cell_type": "code",
   "execution_count": 11,
   "id": "ae696a3b",
   "metadata": {},
   "outputs": [
    {
     "name": "stdout",
     "output_type": "stream",
     "text": [
      "      0  1  2\n",
      "row1  1  2  3\n",
      "row2  1  2  3\n",
      "row3  1  2  3\n"
     ]
    }
   ],
   "source": [
    "#result_type='expand' func기준으로 배열 형태를 기준으로 확장하여 columns를 지정하게 된다\n",
    "print(df.apply(lambda x: [1,2,3], axis=1, result_type='expand'))"
   ]
  },
  {
   "cell_type": "code",
   "execution_count": 12,
   "id": "d5915932",
   "metadata": {},
   "outputs": [
    {
     "name": "stdout",
     "output_type": "stream",
     "text": [
      "row1    [1, 2, 3]\n",
      "row2    [1, 2, 3]\n",
      "row3    [1, 2, 3]\n",
      "dtype: object\n"
     ]
    }
   ],
   "source": [
    "#result_type ='reduce' func기준으로 축소하여 columns없이 그대로 series 객체로 반환함.\n",
    "print(df.apply(lambda x :[1,2,3], axis=1, result_type='reduce'))"
   ]
  },
  {
   "cell_type": "code",
   "execution_count": 13,
   "id": "8fab2d6d",
   "metadata": {},
   "outputs": [
    {
     "name": "stdout",
     "output_type": "stream",
     "text": [
      "      col1  col2  col3\n",
      "row1     1     2     3\n",
      "row2     1     2     3\n",
      "row3     1     2     3\n"
     ]
    }
   ],
   "source": [
    "#result_type = 'broadcast' func 기준으로 확장하되, columns는 기존 dataframe의 것을 사용함.\n",
    "print(df.apply(lambda x : [1,2,3], axis=1, result_type='broadcast'))"
   ]
  },
  {
   "cell_type": "markdown",
   "id": "a6489783",
   "metadata": {},
   "source": [
    "# 0302 요소별(applymap)\n",
    "- 각 개체의 각 요소에 함수 적용하는 메서드"
   ]
  },
  {
   "cell_type": "code",
   "execution_count": 14,
   "id": "e57cc369",
   "metadata": {},
   "outputs": [
    {
     "name": "stdout",
     "output_type": "stream",
     "text": [
      "      col1  col2  col3\n",
      "row1     1     2     3\n",
      "row2     4     5     6\n",
      "row3     7  <NA>     9\n"
     ]
    }
   ],
   "source": [
    "col = ['col1', 'col2', 'col3']\n",
    "row = ['row1', 'row2', 'row3']\n",
    "data =[[1,2,3],[4,5,6],[7,pd.NA,9]]\n",
    "df =pd.DataFrame(data=data, index=row, columns=col)\n",
    "print(df)"
   ]
  },
  {
   "cell_type": "code",
   "execution_count": 15,
   "id": "a6a68680",
   "metadata": {},
   "outputs": [
    {
     "name": "stdout",
     "output_type": "stream",
     "text": [
      "      col1  col2  col3\n",
      "row1     1     4     9\n",
      "row2    16    25    36\n",
      "row3    49  <NA>    81\n"
     ]
    }
   ],
   "source": [
    "#함수 정용시 각 요소에 대해 함수의 연ㅇ산이 됨\n",
    "print(df.applymap(lambda x : x**2, na_action='ignore'))"
   ]
  },
  {
   "cell_type": "markdown",
   "id": "16e6b2fb",
   "metadata": {},
   "source": [
    "# 0303 함수 내 함수 연속적용(pipe)\n",
    "- pipe 메서드는 함수를 연속적으로 사용할 때 유용한 메서드\n",
    "- 함수가 인수를 사용할 때 pipe메서드를 사용하면 보다 직관적으로 적용할 수 있음\n",
    "- func함수\n",
    "- arg : 함수의 인수\n",
    "- kwargs : dict 형태의 함수의 인수"
   ]
  },
  {
   "cell_type": "code",
   "execution_count": 16,
   "id": "41f53a5c",
   "metadata": {},
   "outputs": [
    {
     "name": "stdout",
     "output_type": "stream",
     "text": [
      "              info\n",
      "0     삼성전자/3/70000\n",
      "1  SK하이닉스/2/100000\n"
     ]
    }
   ],
   "source": [
    "org_data = pd.DataFrame({'info':['삼성전자/3/70000','SK하이닉스/2/100000']})\n",
    "print(org_data)"
   ]
  },
  {
   "cell_type": "code",
   "execution_count": 19,
   "id": "0b637abe",
   "metadata": {},
   "outputs": [
    {
     "name": "stdout",
     "output_type": "stream",
     "text": [
      "     name  count   price\n",
      "0    삼성전자      3   70000\n",
      "1  SK하이닉스      2  100000\n"
     ]
    }
   ],
   "source": [
    "def code_name(data):\n",
    "    result = pd.DataFrame(columns=['name', 'count', 'price'])\n",
    "    df=pd.DataFrame(list(data['info'].str.split('/'))) #/ 로 구분하여 문자열 나누러 리스트에 넣음\n",
    "    result['name']=df[0]\n",
    "    result['count']=df[1]\n",
    "    result['price']=df[2]\n",
    "    result = result.astype({'count':int, 'price':int})\n",
    "    return result\n",
    "\n",
    "print(code_name(org_data))"
   ]
  },
  {
   "cell_type": "code",
   "execution_count": 20,
   "id": "1103bef5",
   "metadata": {},
   "outputs": [
    {
     "name": "stdout",
     "output_type": "stream",
     "text": [
      "     name    value\n",
      "0    삼성전자  210000원\n",
      "1  SK하이닉스  200000원\n"
     ]
    }
   ],
   "source": [
    "def value_cal(data, unit=''):\n",
    "    result = pd.DataFrame(columns=['name', 'value'])\n",
    "    result['name'] = data['name']\n",
    "    result['value'] = data['count']*data['price']\n",
    "    result = result.astype({'value':str})\n",
    "    result['value']=result['value']+unit\n",
    "    return result\n",
    "input = code_name(org_data)\n",
    "print(value_cal(input, '원'))"
   ]
  },
  {
   "cell_type": "code",
   "execution_count": 21,
   "id": "3ab3b0fd",
   "metadata": {},
   "outputs": [
    {
     "name": "stdout",
     "output_type": "stream",
     "text": [
      "     name    value\n",
      "0    삼성전자  210000원\n",
      "1  SK하이닉스  200000원\n"
     ]
    }
   ],
   "source": [
    "#pipe 함수를 사용하지 않으면\n",
    "print(value_cal(code_name(org_data), '원'))"
   ]
  },
  {
   "cell_type": "code",
   "execution_count": 22,
   "id": "d4530161",
   "metadata": {},
   "outputs": [
    {
     "name": "stdout",
     "output_type": "stream",
     "text": [
      "     name    value\n",
      "0    삼성전자  210000원\n",
      "1  SK하이닉스  200000원\n"
     ]
    }
   ],
   "source": [
    "print(org_data.pipe(code_name).pipe(value_cal, '원'))"
   ]
  },
  {
   "cell_type": "markdown",
   "id": "3b834860",
   "metadata": {},
   "source": [
    "# 0304 함수연속적용_축별\n",
    "- 여러개의 함수를 동시에 적용할 수 있다.\n"
   ]
  },
  {
   "cell_type": "code",
   "execution_count": 2,
   "id": "9e384c39",
   "metadata": {},
   "outputs": [],
   "source": [
    "import pandas as pd\n",
    "import numpy as np"
   ]
  },
  {
   "cell_type": "code",
   "execution_count": 3,
   "id": "b5fd63d3",
   "metadata": {},
   "outputs": [
    {
     "name": "stdout",
     "output_type": "stream",
     "text": [
      "   0  1  2\n",
      "0  1  4  7\n",
      "1  2  5  8\n",
      "2  3  6  9\n"
     ]
    }
   ],
   "source": [
    "df= pd.DataFrame([[1,4,7], [2,5,8], [3,6,9]])\n",
    "print(df)"
   ]
  },
  {
   "cell_type": "code",
   "execution_count": 4,
   "id": "9154c445",
   "metadata": {},
   "outputs": [
    {
     "name": "stdout",
     "output_type": "stream",
     "text": [
      "0      6\n",
      "1    120\n",
      "2    504\n",
      "dtype: int64\n"
     ]
    }
   ],
   "source": [
    "#np함수인 경우\n",
    "ex1 = df.agg(np.prod)\n",
    "print(ex1)"
   ]
  },
  {
   "cell_type": "code",
   "execution_count": 5,
   "id": "07987165",
   "metadata": {},
   "outputs": [
    {
     "name": "stdout",
     "output_type": "stream",
     "text": [
      "0      6\n",
      "1    120\n",
      "2    504\n",
      "dtype: int64\n"
     ]
    }
   ],
   "source": [
    "#문자열인 경우\n",
    "ex2 = df.agg('prod')\n",
    "print(ex2)"
   ]
  },
  {
   "cell_type": "code",
   "execution_count": 6,
   "id": "f9d72130",
   "metadata": {},
   "outputs": [
    {
     "name": "stdout",
     "output_type": "stream",
     "text": [
      "          0   1   2\n",
      "<lambda>  3  24  63\n"
     ]
    }
   ],
   "source": [
    "#lambda함수나 사용자 정의 함수를 사용할 수 있음\n",
    "ex3 = df.agg([lambda x : min(x) * max(x)])\n",
    "print(ex3)"
   ]
  },
  {
   "cell_type": "code",
   "execution_count": 7,
   "id": "9eb62c30",
   "metadata": {},
   "outputs": [
    {
     "name": "stdout",
     "output_type": "stream",
     "text": [
      "          0   1   2\n",
      "func_sub  2   2   2\n",
      "sum       6  15  24\n"
     ]
    }
   ],
   "source": [
    "def func_sub(input):\n",
    "    return max(input) - min(input)\n",
    "\n",
    "ex4 = df.agg([func_sub, 'sum'])\n",
    "print(ex4)"
   ]
  },
  {
   "cell_type": "code",
   "execution_count": 8,
   "id": "195f2113",
   "metadata": {},
   "outputs": [
    {
     "name": "stdout",
     "output_type": "stream",
     "text": [
      "          0   1   2\n",
      "func_sub  2   2   2\n",
      "sum       6  15  24\n"
     ]
    }
   ],
   "source": [
    "# __name__메서드를 통해 따로 설정해주면 그 이름이 쓰임\n",
    "def func_sub(input):\n",
    "    return max(input)-min(input)\n",
    "func_sub.__nam__ = '내함수'\n",
    "ex5 = df.agg([func_sub, 'sum'])\n",
    "print(ex5)"
   ]
  },
  {
   "cell_type": "code",
   "execution_count": 10,
   "id": "3fe64f60",
   "metadata": {},
   "outputs": [
    {
     "name": "stdout",
     "output_type": "stream",
     "text": [
      "      0    1    2\n",
      "min   1    4    7\n",
      "max   3    6    9\n",
      "sum   6   15   24\n",
      "prod  6  120  504\n"
     ]
    }
   ],
   "source": [
    "#여러 개의 함수를 적용한다.\n",
    "ex6 = df.agg(['min', 'max', 'sum', 'prod'])\n",
    "print(ex6)"
   ]
  },
  {
   "cell_type": "code",
   "execution_count": 11,
   "id": "400b1a88",
   "metadata": {},
   "outputs": [
    {
     "name": "stdout",
     "output_type": "stream",
     "text": [
      "2    24\n",
      "0     3\n",
      "1     4\n",
      "dtype: int64\n"
     ]
    }
   ],
   "source": [
    "#dict를 이용하는 경우 순서를 변경하는 것도 가능함\n",
    "ex7 = df.agg({2:'sum', 0:'max', 1:'min'})\n",
    "print(ex7)"
   ]
  },
  {
   "cell_type": "code",
   "execution_count": 12,
   "id": "10755290",
   "metadata": {},
   "outputs": [
    {
     "name": "stdout",
     "output_type": "stream",
     "text": [
      "        0    1    2\n",
      "sum   6.0  NaN  NaN\n",
      "prod  6.0  NaN  NaN\n",
      "max   NaN  6.0  NaN\n",
      "min   NaN  4.0  NaN\n",
      "mean  NaN  NaN  8.0\n"
     ]
    }
   ],
   "source": [
    "#dict함수 내에 다중함수를 적용할 수 있음. 이 경우 해당되지 않는 index는 NaN을 출력\n",
    "ex8 = df.agg({0:['sum', 'prod'], 1: ['max', 'min'], 2:'mean'})\n",
    "print(ex8)"
   ]
  },
  {
   "cell_type": "code",
   "execution_count": 13,
   "id": "fe5c4961",
   "metadata": {},
   "outputs": [
    {
     "name": "stdout",
     "output_type": "stream",
     "text": [
      "0      6\n",
      "1    120\n",
      "2    504\n",
      "dtype: int64\n"
     ]
    }
   ],
   "source": [
    "#axis인수를 변경할 경우\n",
    "ex2 = df.agg('prod', axis=0)\n",
    "print(ex2)"
   ]
  },
  {
   "cell_type": "code",
   "execution_count": 15,
   "id": "457d300f",
   "metadata": {},
   "outputs": [
    {
     "name": "stdout",
     "output_type": "stream",
     "text": [
      "0     28\n",
      "1     80\n",
      "2    162\n",
      "dtype: int64\n"
     ]
    }
   ],
   "source": [
    "ex3 = df.agg('prod', axis=1)\n",
    "print(ex3)"
   ]
  },
  {
   "cell_type": "markdown",
   "id": "9d751741",
   "metadata": {},
   "source": [
    "# 0305 함수연속적용_요소별(transfor)\n",
    "- agg와 비슷하게 함수를 적용하는 메서드"
   ]
  },
  {
   "cell_type": "code",
   "execution_count": 16,
   "id": "f5f24d96",
   "metadata": {},
   "outputs": [
    {
     "name": "stdout",
     "output_type": "stream",
     "text": [
      "      col1  col2  col3\n",
      "row1    10    40    70\n",
      "row2    20    50    80\n",
      "row3    30    60    90\n"
     ]
    }
   ],
   "source": [
    "col = ['col1','col2','col3']\n",
    "row = ['row1','row2','row3']\n",
    "df = pd.DataFrame(data=[[10,40,70],[20,50,80],[30,60,90]],index=row,columns=col)\n",
    "print(df)"
   ]
  },
  {
   "cell_type": "code",
   "execution_count": 17,
   "id": "e75384d1",
   "metadata": {},
   "outputs": [
    {
     "name": "stdout",
     "output_type": "stream",
     "text": [
      "          col1      col2      col3\n",
      "row1  3.162278  6.324555  8.366600\n",
      "row2  4.472136  7.071068  8.944272\n",
      "row3  5.477226  7.745967  9.486833\n"
     ]
    }
   ],
   "source": [
    "ex1 = df.transform(np.sqrt)\n",
    "print(ex1)"
   ]
  },
  {
   "cell_type": "code",
   "execution_count": 18,
   "id": "395d5e6a",
   "metadata": {},
   "outputs": [
    {
     "name": "stdout",
     "output_type": "stream",
     "text": [
      "          col1      col2      col3\n",
      "row1  3.162278  6.324555  8.366600\n",
      "row2  4.472136  7.071068  8.944272\n",
      "row3  5.477226  7.745967  9.486833\n"
     ]
    }
   ],
   "source": [
    "ex2 = df.transform('sqrt')\n",
    "print(ex2)"
   ]
  },
  {
   "cell_type": "code",
   "execution_count": 19,
   "id": "9d0f28f4",
   "metadata": {},
   "outputs": [
    {
     "name": "stdout",
     "output_type": "stream",
     "text": [
      "          col1      col2      col3\n",
      "row1  3.162278  6.324555  8.366600\n",
      "row2  4.472136  7.071068  8.944272\n",
      "row3  5.477226  7.745967  9.486833\n"
     ]
    }
   ],
   "source": [
    "ex3 = df.transform(lambda x : np.sqrt(x))\n",
    "print(ex3)"
   ]
  },
  {
   "cell_type": "code",
   "execution_count": 20,
   "id": "d15ce034",
   "metadata": {},
   "outputs": [
    {
     "name": "stdout",
     "output_type": "stream",
     "text": [
      "              col1                    col2                    col3          \n",
      "               exp      sqrt           exp      sqrt           exp      sqrt\n",
      "row1  2.202647e+04  3.162278  2.353853e+17  6.324555  2.515439e+30  8.366600\n",
      "row2  4.851652e+08  4.472136  5.184706e+21  7.071068  5.540622e+34  8.944272\n",
      "row3  1.068647e+13  5.477226  1.142007e+26  7.745967  1.220403e+39  9.486833\n"
     ]
    }
   ],
   "source": [
    "ex4 = df.transform(['exp', 'sqrt'])\n",
    "print(ex4)"
   ]
  },
  {
   "cell_type": "code",
   "execution_count": 21,
   "id": "bd565e90",
   "metadata": {},
   "outputs": [
    {
     "name": "stdout",
     "output_type": "stream",
     "text": [
      "              col2      col1\n",
      "row1  2.353853e+17  3.162278\n",
      "row2  5.184706e+21  4.472136\n",
      "row3  1.142007e+26  5.477226\n"
     ]
    }
   ],
   "source": [
    "ex5 = df.transform({'col2':'exp', 'col1':'sqrt'})\n",
    "print(ex5)"
   ]
  },
  {
   "cell_type": "markdown",
   "id": "d351b206",
   "metadata": {},
   "source": [
    "# 0306 문자열 형식의 계산식 적용(eval메서드)\n",
    "- expr : 문자열 형태의 게산임\n",
    "- inplace : {True/False} 계산된 값이 원본을 변경할지의 여부"
   ]
  },
  {
   "cell_type": "code",
   "execution_count": 22,
   "id": "a1b57be2",
   "metadata": {},
   "outputs": [
    {
     "name": "stdout",
     "output_type": "stream",
     "text": [
      "      col1  col2  col3\n",
      "row1     1     2     3\n",
      "row2     4     5     6\n",
      "row3     7     8     9\n"
     ]
    }
   ],
   "source": [
    "data = [[1,2,3],[4,5,6],[7,8,9]]\n",
    "col = ['col1','col2','col3']\n",
    "row = ['row1','row2','row3']\n",
    "df = pd.DataFrame(data = data, index = row, columns= col)\n",
    "print(df)"
   ]
  },
  {
   "cell_type": "code",
   "execution_count": 23,
   "id": "d3df847c",
   "metadata": {},
   "outputs": [
    {
     "name": "stdout",
     "output_type": "stream",
     "text": [
      "      col1  col2  col3  col4\n",
      "row1     1     2     3    -1\n",
      "row2     4     5     6    14\n",
      "row3     7     8     9    47\n"
     ]
    }
   ],
   "source": [
    "print(df.eval('col4=col1*col2-col3'))"
   ]
  },
  {
   "cell_type": "code",
   "execution_count": 24,
   "id": "d135e853",
   "metadata": {},
   "outputs": [
    {
     "name": "stdout",
     "output_type": "stream",
     "text": [
      "      col1  col2  col3\n",
      "row1     1     2     3\n",
      "row2     4     5     6\n",
      "row3     7     8     9\n"
     ]
    }
   ],
   "source": [
    "print(df) #원본은 변경되지 않음. "
   ]
  },
  {
   "cell_type": "code",
   "execution_count": 25,
   "id": "7c4b369a",
   "metadata": {},
   "outputs": [
    {
     "name": "stdout",
     "output_type": "stream",
     "text": [
      "None\n"
     ]
    }
   ],
   "source": [
    "#inplace=True인 경우, 원본이 변경됨.\n",
    "print(df.eval('col4=col1*col2-col3', inplace=True))"
   ]
  },
  {
   "cell_type": "code",
   "execution_count": 26,
   "id": "84da31b6",
   "metadata": {},
   "outputs": [
    {
     "name": "stdout",
     "output_type": "stream",
     "text": [
      "      col1  col2  col3  col4\n",
      "row1     1     2     3    -1\n",
      "row2     4     5     6    14\n",
      "row3     7     8     9    47\n"
     ]
    }
   ],
   "source": [
    "print(df) #원본은 변경됨."
   ]
  },
  {
   "cell_type": "code",
   "execution_count": null,
   "id": "1d57c0df",
   "metadata": {},
   "outputs": [],
   "source": []
  }
 ],
 "metadata": {
  "kernelspec": {
   "display_name": "Python 3 (ipykernel)",
   "language": "python",
   "name": "python3"
  },
  "language_info": {
   "codemirror_mode": {
    "name": "ipython",
    "version": 3
   },
   "file_extension": ".py",
   "mimetype": "text/x-python",
   "name": "python",
   "nbconvert_exporter": "python",
   "pygments_lexer": "ipython3",
   "version": "3.9.7"
  }
 },
 "nbformat": 4,
 "nbformat_minor": 5
}
