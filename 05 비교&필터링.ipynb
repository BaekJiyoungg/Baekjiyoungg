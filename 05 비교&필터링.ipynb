{
 "cells": [
  {
   "cell_type": "markdown",
   "id": "d73f77f9",
   "metadata": {},
   "source": [
    "# 0501 초과, 미만, 이상, 이하, 같은 다름\n",
    "- lt, gt, le, ge, eq, ne 메서드는 dataframe의 크기 비교를 수행하는 메서드\n",
    "- less than, grater than, less equal, grater equal, equal, not equal"
   ]
  },
  {
   "cell_type": "code",
   "execution_count": 2,
   "id": "7971ac9d",
   "metadata": {},
   "outputs": [],
   "source": [
    "import pandas as pd\n",
    "import numpy as np"
   ]
  },
  {
   "cell_type": "code",
   "execution_count": 3,
   "id": "f3258a9e",
   "metadata": {},
   "outputs": [
    {
     "name": "stdout",
     "output_type": "stream",
     "text": [
      "   col1  col2  col3\n",
      "A    10    20    10\n",
      "B    80    30    60\n",
      "C    20    10    70\n"
     ]
    }
   ],
   "source": [
    "col = ['col1', 'col2', 'col3']\n",
    "row = ['A', 'B','C']\n",
    "df =  pd.DataFrame(data=[[10,20,10],\n",
    "                        [80,30,60],\n",
    "                        [20,10,70]],index=row,columns=col)\n",
    "print(df)"
   ]
  },
  {
   "cell_type": "code",
   "execution_count": 4,
   "id": "94c49d28",
   "metadata": {},
   "outputs": [
    {
     "name": "stdout",
     "output_type": "stream",
     "text": [
      "    col1   col2   col3\n",
      "A   True  False   True\n",
      "B  False  False  False\n",
      "C  False   True  False\n"
     ]
    }
   ],
   "source": [
    "#스칼라값과의 비교\n",
    "print(df.eq(10))"
   ]
  },
  {
   "cell_type": "code",
   "execution_count": 5,
   "id": "a335810d",
   "metadata": {},
   "outputs": [
    {
     "name": "stdout",
     "output_type": "stream",
     "text": [
      "    col1   col2  col3\n",
      "A   True  False  True\n",
      "B   True   True  True\n",
      "C  False   True  True\n"
     ]
    }
   ],
   "source": [
    "print(df.ne(20)) #20과 같지 않는 경우 true 표시"
   ]
  },
  {
   "cell_type": "code",
   "execution_count": 8,
   "id": "9aa02eb4",
   "metadata": {},
   "outputs": [
    {
     "name": "stdout",
     "output_type": "stream",
     "text": [
      "col1    10\n",
      "col3    30\n",
      "dtype: int64\n",
      "    col1   col2   col3\n",
      "A  False  False  False\n",
      "B   True  False   True\n",
      "C   True  False   True\n"
     ]
    }
   ],
   "source": [
    "#series 와의 비교\n",
    "s1 = pd.Series([10,30], index=[\"col1\", \"col3\"])\n",
    "print(s1)\n",
    "print(df.gt(s1)) #col1에서 10이상, col3에서 30이상이면 true"
   ]
  },
  {
   "cell_type": "code",
   "execution_count": 7,
   "id": "23070a7b",
   "metadata": {},
   "outputs": [
    {
     "name": "stdout",
     "output_type": "stream",
     "text": [
      "    col1   col2   col3   col4\n",
      "A  False  False  False  False\n",
      "B  False  False  False  False\n",
      "C  False  False  False  False\n"
     ]
    }
   ],
   "source": [
    "#만약 존재하지 않는 테이블 비교한다면, 레이블이 생성(broadcast)됨\n",
    "s2 = pd.Series([10], index=[\"col4\"])\n",
    "print(df.lt(s2)) #df에는 col4가 없어 col4가 생성됨"
   ]
  },
  {
   "cell_type": "code",
   "execution_count": 9,
   "id": "e318a70c",
   "metadata": {},
   "outputs": [
    {
     "name": "stdout",
     "output_type": "stream",
     "text": [
      "    col1   col2   col3\n",
      "A   True   True   True\n",
      "B  False  False  False\n",
      "C  False   True  False\n"
     ]
    }
   ],
   "source": [
    "#axis에 따른 비교의 차이\n",
    "print(df.le([10,20,30], axis=\"columns\")) #열 기준으로 비교했을 때 각각 10,20,30 이하면 true"
   ]
  },
  {
   "cell_type": "code",
   "execution_count": 10,
   "id": "34b1bc59",
   "metadata": {},
   "outputs": [
    {
     "name": "stdout",
     "output_type": "stream",
     "text": [
      "    col1   col2   col3\n",
      "A   True  False   True\n",
      "B  False  False  False\n",
      "C   True   True  False\n"
     ]
    }
   ],
   "source": [
    "print(df.le([10,20,30], axis=\"index\")) #행 기준으로 비교했을 때 각각 10,20,30이하면 true"
   ]
  },
  {
   "cell_type": "code",
   "execution_count": 11,
   "id": "f7dc09bc",
   "metadata": {},
   "outputs": [
    {
     "name": "stdout",
     "output_type": "stream",
     "text": [
      "   col1\n",
      "A    50\n",
      "B    50\n",
      "C    50\n"
     ]
    }
   ],
   "source": [
    "#dataframe과의 비교\n",
    "df2= pd.DataFrame([[50], [50], [50]], index=row, columns=['col1'])\n",
    "print(df2)"
   ]
  },
  {
   "cell_type": "code",
   "execution_count": 12,
   "id": "21ed9d3f",
   "metadata": {
    "scrolled": true
   },
   "outputs": [
    {
     "name": "stdout",
     "output_type": "stream",
     "text": [
      "    col1   col2   col3\n",
      "A  False  False  False\n",
      "B   True  False  False\n",
      "C  False  False  False\n"
     ]
    }
   ],
   "source": [
    "print(df.ge(df2))"
   ]
  },
  {
   "cell_type": "code",
   "execution_count": 13,
   "id": "1fe9f200",
   "metadata": {},
   "outputs": [
    {
     "name": "stdout",
     "output_type": "stream",
     "text": [
      "     col1  col2  col3\n",
      "U A    10    20    10\n",
      "  B    80    30    60\n",
      "  C    20    10    70\n",
      "D A    30    70    60\n",
      "  B    10    90    40\n",
      "  C    50    30    80\n"
     ]
    }
   ],
   "source": [
    "#멀티 인덱스의 사용(level인수)\n",
    "row_mul = [['U','U','U','D','D','D'],['A','B','C','A','B','C']]\n",
    "df_mul = pd.DataFrame(data=[[10,20,10],\n",
    "                           [80,30,60],\n",
    "                           [20,10,70],\n",
    "                           [30,70,60],\n",
    "                           [10,90,40],\n",
    "                           [50,30,80]], index=row_mul, columns=col)\n",
    "print(df_mul)"
   ]
  },
  {
   "cell_type": "code",
   "execution_count": 14,
   "id": "b589233a",
   "metadata": {},
   "outputs": [
    {
     "name": "stdout",
     "output_type": "stream",
     "text": [
      "      col1   col2   col3\n",
      "U A   True   True   True\n",
      "  B   True   True   True\n",
      "  C   True   True   True\n",
      "D A  False  False  False\n",
      "  B   True  False   True\n",
      "  C  False  False  False\n"
     ]
    }
   ],
   "source": [
    "print(df.ge(df_mul, level=1))\n",
    "#level=1이기 때문에, A,B,C를 index로 하는 두 dataframe과의 비교처럼 진행됨"
   ]
  },
  {
   "cell_type": "markdown",
   "id": "2ac1d9e4",
   "metadata": {},
   "source": [
    "# 0502 dtype 기반 열 선택"
   ]
  },
  {
   "cell_type": "code",
   "execution_count": 15,
   "id": "b130baaf",
   "metadata": {},
   "outputs": [
    {
     "name": "stdout",
     "output_type": "stream",
     "text": [
      "   col1   col2  col3   col4\n",
      "0     1    one   1.5   True\n",
      "1     2    two   2.5  False\n",
      "2     3  three   3.5  False\n",
      "3     4   four   4.5   True\n",
      "4     5   five   5.5   True\n"
     ]
    }
   ],
   "source": [
    "col1 = [1, 2, 3, 4, 5]\n",
    "col2 = ['one', 'two', 'three', 'four', 'five']\n",
    "col3 = [1.5, 2.5, 3.5, 4.5, 5.5]\n",
    "col4 = [True, False, False, True, True]\n",
    "df = pd.DataFrame({\"col1\": col1, \"col2\": col2, \"col3\": col3, \"col4\": col4})\n",
    "print(df)"
   ]
  },
  {
   "cell_type": "code",
   "execution_count": 16,
   "id": "4bf0f764",
   "metadata": {},
   "outputs": [
    {
     "name": "stdout",
     "output_type": "stream",
     "text": [
      "col1      int64\n",
      "col2     object\n",
      "col3    float64\n",
      "col4       bool\n",
      "dtype: object\n"
     ]
    }
   ],
   "source": [
    "print(df.dtypes)"
   ]
  },
  {
   "cell_type": "code",
   "execution_count": 17,
   "id": "311f5c49",
   "metadata": {},
   "outputs": [
    {
     "name": "stdout",
     "output_type": "stream",
     "text": [
      "   col3   col4\n",
      "0   1.5   True\n",
      "1   2.5  False\n",
      "2   3.5  False\n",
      "3   4.5   True\n",
      "4   5.5   True\n"
     ]
    }
   ],
   "source": [
    "#include 사용\n",
    "# include에 포함될 type을 입력 -> 해당 type인 열만 반환 가능\n",
    "result = df.select_dtypes(include=[float, bool])\n",
    "print(result)"
   ]
  },
  {
   "cell_type": "code",
   "execution_count": 19,
   "id": "3da67a81",
   "metadata": {},
   "outputs": [
    {
     "name": "stdout",
     "output_type": "stream",
     "text": [
      "    col2  col3   col4\n",
      "0    one   1.5   True\n",
      "1    two   2.5  False\n",
      "2  three   3.5  False\n",
      "3   four   4.5   True\n",
      "4   five   5.5   True\n"
     ]
    }
   ],
   "source": [
    "#exclude 사용 exclude에 제외할 type을 입력함으로써, 해당 type인 열만 제외하여 반환 가능\n",
    "result = df.select_dtypes(exclude = ['int64'])\n",
    "print(result)"
   ]
  },
  {
   "cell_type": "code",
   "execution_count": 20,
   "id": "cb5f8fd6",
   "metadata": {},
   "outputs": [
    {
     "name": "stdout",
     "output_type": "stream",
     "text": [
      "    col2  col3\n",
      "0    one   1.5\n",
      "1    two   2.5\n",
      "2  three   3.5\n",
      "3   four   4.5\n",
      "4   five   5.5\n"
     ]
    }
   ],
   "source": [
    "#include &exclude 혼합 사용\n",
    "result =df.select_dtypes(include=[float, object], exclude = ['int64'])\n",
    "print(result)"
   ]
  },
  {
   "cell_type": "markdown",
   "id": "fb671566",
   "metadata": {},
   "source": [
    "# 0503 임계값 적용"
   ]
  },
  {
   "cell_type": "markdown",
   "id": "6ba6a219",
   "metadata": {},
   "source": [
    "- clip 메서드는 series나 dataframe에 대해 요소범위를 제한함\n",
    "- 상한선과 하한선은 임계값으로 정해서 임계값 밖의 값을 임계값으로 변경\n",
    "- lower = 하한선\n",
    "- upper = 상한선\n",
    "- axis = 계산한 기준이 되는 레이블\n",
    "- inplace = 제자리에서 계산할지 여부"
   ]
  },
  {
   "cell_type": "code",
   "execution_count": 21,
   "id": "39ebec0a",
   "metadata": {},
   "outputs": [
    {
     "name": "stdout",
     "output_type": "stream",
     "text": [
      "      col1  col2  col3\n",
      "row1    -7     3     9\n",
      "row2     6    -8     1\n",
      "row3    -3     0    -7\n"
     ]
    }
   ],
   "source": [
    "col  = ['col1','col2','col3']\n",
    "row  = ['row1','row2','row3']\n",
    "data = [[-7,3,9],\n",
    "        [6,-8,1],\n",
    "        [-3,0,-7]]\n",
    "df = pd.DataFrame(data,row,col)\n",
    "print(df)"
   ]
  },
  {
   "cell_type": "code",
   "execution_count": 22,
   "id": "b59ff8e7",
   "metadata": {},
   "outputs": [
    {
     "name": "stdout",
     "output_type": "stream",
     "text": [
      "      col1  col2  col3\n",
      "row1    -4     3     5\n",
      "row2     5    -4     1\n",
      "row3    -3     0    -4\n"
     ]
    }
   ],
   "source": [
    "#하한선 = -4, 상한선= 5\n",
    "print(df.clip(-4,5))"
   ]
  },
  {
   "cell_type": "code",
   "execution_count": 23,
   "id": "87237e1a",
   "metadata": {},
   "outputs": [
    {
     "name": "stdout",
     "output_type": "stream",
     "text": [
      "row1    1\n",
      "row2    2\n",
      "row3    3\n",
      "dtype: int64\n"
     ]
    }
   ],
   "source": [
    "#임계값을 series로 설정\n",
    "s = pd.Series(data=[1,2,3], index=row)\n",
    "print(s)"
   ]
  },
  {
   "cell_type": "code",
   "execution_count": 24,
   "id": "d23361a0",
   "metadata": {},
   "outputs": [
    {
     "name": "stdout",
     "output_type": "stream",
     "text": [
      "      col1  col2  col3\n",
      "row1    -1     1     1\n",
      "row2     2    -2     1\n",
      "row3    -3     0    -3\n"
     ]
    }
   ],
   "source": [
    "print(df.clip(-s, s, axis=0))"
   ]
  },
  {
   "cell_type": "markdown",
   "id": "bb1815ac",
   "metadata": {},
   "source": [
    "# 0504 레이블 필터링\n",
    "- 레이블에 대해서 조건에 맞는 레이블만 필터링하는 메서드\n",
    "- items : 이름으로 필터링\n",
    "- like : str로 필터링함\n",
    "- regex : 정규표현식으로 이용해 필터링"
   ]
  },
  {
   "cell_type": "code",
   "execution_count": 25,
   "id": "03db96fb",
   "metadata": {},
   "outputs": [
    {
     "name": "stdout",
     "output_type": "stream",
     "text": [
      "        alpha  beta  gamma  delta  epsilon\n",
      "sigma       1     2      3      4        5\n",
      "omega       6     7      8      9       10\n",
      "lambda     11    12     13     14       15\n"
     ]
    }
   ],
   "source": [
    "col  = ['alpha','beta','gamma','delta','epsilon']\n",
    "row  = ['sigma','omega','lambda']\n",
    "data = [[1,2,3,4,5],[6,7,8,9,10],[11,12,13,14,15]]\n",
    "df = pd.DataFrame(data,row,col)\n",
    "print(df)"
   ]
  },
  {
   "cell_type": "code",
   "execution_count": 26,
   "id": "1a9935f1",
   "metadata": {},
   "outputs": [
    {
     "name": "stdout",
     "output_type": "stream",
     "text": [
      "        alpha  delta\n",
      "sigma       1      4\n",
      "omega       6      9\n",
      "lambda     11     14\n"
     ]
    }
   ],
   "source": [
    "#items인수를 사용하는 경우\n",
    "print(df.filter(items = ['alpha', 'delta']))"
   ]
  },
  {
   "cell_type": "code",
   "execution_count": 27,
   "id": "03925335",
   "metadata": {},
   "outputs": [
    {
     "name": "stdout",
     "output_type": "stream",
     "text": [
      "       alpha  beta  gamma  delta  epsilon\n",
      "omega      6     7      8      9       10\n"
     ]
    }
   ],
   "source": [
    "print(df.filter(items = ['omega'], axis=0)) #행 말하는 거"
   ]
  },
  {
   "cell_type": "code",
   "execution_count": 28,
   "id": "fcb58b2c",
   "metadata": {},
   "outputs": [
    {
     "name": "stdout",
     "output_type": "stream",
     "text": [
      "        beta  delta\n",
      "sigma      2      4\n",
      "omega      7      9\n",
      "lambda    12     14\n"
     ]
    }
   ],
   "source": [
    "#like인수 사용하는 경우\n",
    "print(df.filter(like='ta'))"
   ]
  },
  {
   "cell_type": "code",
   "execution_count": 29,
   "id": "ae4f4aa1",
   "metadata": {},
   "outputs": [
    {
     "name": "stdout",
     "output_type": "stream",
     "text": [
      "        gamma  epsilon\n",
      "sigma       3        5\n",
      "omega       8       10\n",
      "lambda     13       15\n"
     ]
    }
   ],
   "source": [
    "print(df.filter(regex='[mn]')) #m과 n이 포함된 것"
   ]
  },
  {
   "cell_type": "code",
   "execution_count": 30,
   "id": "9e35f65b",
   "metadata": {},
   "outputs": [
    {
     "name": "stdout",
     "output_type": "stream",
     "text": [
      "        gamma\n",
      "sigma       3\n",
      "omega       8\n",
      "lambda     13\n"
     ]
    }
   ],
   "source": [
    "print(df.filter(regex = '^g')) #^ = ^뒤에 있는 문자로 시작하는 문자열"
   ]
  },
  {
   "cell_type": "code",
   "execution_count": 31,
   "id": "02b5e040",
   "metadata": {},
   "outputs": [
    {
     "name": "stdout",
     "output_type": "stream",
     "text": [
      "        alpha  beta  gamma  delta\n",
      "sigma       1     2      3      4\n",
      "omega       6     7      8      9\n",
      "lambda     11    12     13     14\n"
     ]
    }
   ],
   "source": [
    "print(df.filter(regex ='a$')) #$ = $앞에 있는 문자로 끝내는 문자열"
   ]
  },
  {
   "cell_type": "markdown",
   "id": "07e80f42",
   "metadata": {},
   "source": [
    "# 0505 샘플 추출"
   ]
  },
  {
   "cell_type": "code",
   "execution_count": 32,
   "id": "1f82cbd3",
   "metadata": {},
   "outputs": [
    {
     "name": "stdout",
     "output_type": "stream",
     "text": [
      "      col1  col2  col3\n",
      "row1     1     2     3\n",
      "row2     4     5     6\n",
      "row3     7     8     9\n",
      "row4    10    11    12\n",
      "row5    13    14    15\n"
     ]
    }
   ],
   "source": [
    "col  = ['col1','col2','col3']\n",
    "row  = ['row1','row2','row3','row4','row5']\n",
    "data = [[1,2,3],[4,5,6],[7,8,9],[10,11,12],[13,14,15]]\n",
    "df = pd.DataFrame(data,row,col)\n",
    "print(df)"
   ]
  },
  {
   "cell_type": "code",
   "execution_count": 33,
   "id": "2ee9536d",
   "metadata": {},
   "outputs": [
    {
     "name": "stdout",
     "output_type": "stream",
     "text": [
      "      col1  col2  col3\n",
      "row4    10    11    12\n",
      "row3     7     8     9\n"
     ]
    }
   ],
   "source": [
    "#n을 설정해서 원하는 갯수의 랜덤 추출 가능\n",
    "print(df.sample(2))"
   ]
  },
  {
   "cell_type": "code",
   "execution_count": 34,
   "id": "cfb56ed9",
   "metadata": {},
   "outputs": [
    {
     "name": "stdout",
     "output_type": "stream",
     "text": [
      "      col1  col2  col3\n",
      "row3     7     8     9\n",
      "row4    10    11    12\n",
      "row3     7     8     9\n",
      "row3     7     8     9\n",
      "row3     7     8     9\n",
      "row2     4     5     6\n",
      "row5    13    14    15\n",
      "row2     4     5     6\n",
      "row1     1     2     3\n",
      "row1     1     2     3\n"
     ]
    }
   ],
   "source": [
    "print(df.sample(10, replace=True)) #중복추출 사용 replace=True"
   ]
  },
  {
   "cell_type": "code",
   "execution_count": 35,
   "id": "cf67fdf7",
   "metadata": {},
   "outputs": [
    {
     "name": "stdout",
     "output_type": "stream",
     "text": [
      "      col1  col2  col3\n",
      "row2     4     5     6\n",
      "row3     7     8     9\n"
     ]
    }
   ],
   "source": [
    "#frac을 사용하는 경우, 전체에 대한 추출 비용 정함\n",
    "print(df.sample(frac=0.4))"
   ]
  },
  {
   "cell_type": "code",
   "execution_count": 36,
   "id": "08d7ef73",
   "metadata": {},
   "outputs": [
    {
     "name": "stdout",
     "output_type": "stream",
     "text": [
      "row1    10\n",
      "row2    10\n",
      "row3     3\n",
      "row4     3\n",
      "row5     1\n",
      "dtype: int64\n"
     ]
    }
   ],
   "source": [
    "#weights를 통한 가중치의 사용\n",
    "s=pd.Series(data=[10,10,3,3,1], index=row)\n",
    "print(s)"
   ]
  },
  {
   "cell_type": "code",
   "execution_count": 37,
   "id": "33231fd4",
   "metadata": {},
   "outputs": [
    {
     "name": "stdout",
     "output_type": "stream",
     "text": [
      "      col1  col2  col3\n",
      "row1     1     2     3\n",
      "row3     7     8     9\n"
     ]
    }
   ],
   "source": [
    "print(df.sample(2, weights=s))"
   ]
  },
  {
   "cell_type": "code",
   "execution_count": 38,
   "id": "8e1bc139",
   "metadata": {},
   "outputs": [
    {
     "name": "stdout",
     "output_type": "stream",
     "text": [
      "      col1  col2  col3\n",
      "row1     1     2     3\n",
      "row4    10    11    12\n",
      "row3     7     8     9\n",
      "row2     4     5     6\n",
      "row5    13    14    15\n"
     ]
    }
   ],
   "source": [
    "#random_state를 통한 동일값 재출력 허용\n",
    "#random_state에 원하는 값을 설정하므로 출력 결과 동일하게 출력하는 것\n",
    "print(df.sample(5, random_state=7))"
   ]
  },
  {
   "cell_type": "code",
   "execution_count": 39,
   "id": "ee7367d5",
   "metadata": {},
   "outputs": [
    {
     "name": "stdout",
     "output_type": "stream",
     "text": [
      "      col1  col2  col3\n",
      "row1     1     2     3\n",
      "row4    10    11    12\n",
      "row3     7     8     9\n",
      "row2     4     5     6\n",
      "row5    13    14    15\n"
     ]
    }
   ],
   "source": [
    "print(df.sample(5, random_state=7))"
   ]
  },
  {
   "cell_type": "code",
   "execution_count": 40,
   "id": "af537456",
   "metadata": {},
   "outputs": [
    {
     "name": "stdout",
     "output_type": "stream",
     "text": [
      "   col1  col2  col3\n",
      "0     7     8     9\n",
      "1     4     5     6\n",
      "2    10    11    12\n"
     ]
    }
   ],
   "source": [
    "#ignore_index의 사용\n",
    "print(df.sample(3, ignore_index=True))"
   ]
  },
  {
   "cell_type": "code",
   "execution_count": null,
   "id": "df3b51b1",
   "metadata": {},
   "outputs": [],
   "source": []
  }
 ],
 "metadata": {
  "kernelspec": {
   "display_name": "Python 3 (ipykernel)",
   "language": "python",
   "name": "python3"
  },
  "language_info": {
   "codemirror_mode": {
    "name": "ipython",
    "version": 3
   },
   "file_extension": ".py",
   "mimetype": "text/x-python",
   "name": "python",
   "nbconvert_exporter": "python",
   "pygments_lexer": "ipython3",
   "version": "3.9.7"
  }
 },
 "nbformat": 4,
 "nbformat_minor": 5
}
