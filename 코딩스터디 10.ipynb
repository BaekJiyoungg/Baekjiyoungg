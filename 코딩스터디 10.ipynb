{
 "cells": [
  {
   "cell_type": "markdown",
   "id": "0de48118",
   "metadata": {},
   "source": [
    "# 10-1 인덱스(index)"
   ]
  },
  {
   "cell_type": "code",
   "execution_count": 4,
   "id": "f7004424",
   "metadata": {},
   "outputs": [],
   "source": [
    "import pandas as pd\n",
    "import numpy as np"
   ]
  },
  {
   "cell_type": "code",
   "execution_count": 5,
   "id": "a2e8d994",
   "metadata": {},
   "outputs": [
    {
     "name": "stdout",
     "output_type": "stream",
     "text": [
      "      col1  col2  col3\n",
      "row1     1     2     3\n",
      "row2     4     5     6\n",
      "row3     7     8     9\n"
     ]
    }
   ],
   "source": [
    "#인덱스 pandas객체의 index(행)을 출력\n",
    "df = pd.DataFrame([[1,2,3], [4,5,6], [7,8,9]], index=['row1', 'row2', 'row3'], columns=['col1', 'col2', 'col3'])\n",
    "print(df)"
   ]
  },
  {
   "cell_type": "code",
   "execution_count": 6,
   "id": "ffdb839c",
   "metadata": {},
   "outputs": [
    {
     "name": "stdout",
     "output_type": "stream",
     "text": [
      "Index(['row1', 'row2', 'row3'], dtype='object')\n"
     ]
    }
   ],
   "source": [
    "#index명과 type이 차례로 출력되는 것을 index를 통해\n",
    "result = df.index\n",
    "print(result)"
   ]
  },
  {
   "cell_type": "code",
   "execution_count": 7,
   "id": "b8b632df",
   "metadata": {},
   "outputs": [
    {
     "name": "stdout",
     "output_type": "stream",
     "text": [
      "<class 'pandas.core.indexes.base.Index'>\n"
     ]
    }
   ],
   "source": [
    "print(type(result))"
   ]
  },
  {
   "cell_type": "markdown",
   "id": "cad40601",
   "metadata": {},
   "source": [
    "# 10-02 열(columns)\n",
    "- columns 판다스 객체의 columns열 출력함."
   ]
  },
  {
   "cell_type": "code",
   "execution_count": 8,
   "id": "9fc25c59",
   "metadata": {},
   "outputs": [
    {
     "name": "stdout",
     "output_type": "stream",
     "text": [
      "      col1  col2  col3\n",
      "row1     1     2     3\n",
      "row2     4     5     6\n",
      "row3     7     8     9\n"
     ]
    }
   ],
   "source": [
    "df = pd.DataFrame([[1,2,3], [4,5,6], [7,8,9]], index=['row1', 'row2', 'row3'], columns=['col1', 'col2', 'col3'])\n",
    "print(df)"
   ]
  },
  {
   "cell_type": "code",
   "execution_count": 9,
   "id": "9b6f38ed",
   "metadata": {},
   "outputs": [
    {
     "name": "stdout",
     "output_type": "stream",
     "text": [
      "Index(['col1', 'col2', 'col3'], dtype='object')\n"
     ]
    }
   ],
   "source": [
    "result = df.columns\n",
    "print(result)"
   ]
  },
  {
   "cell_type": "code",
   "execution_count": 10,
   "id": "e0e076d4",
   "metadata": {},
   "outputs": [
    {
     "name": "stdout",
     "output_type": "stream",
     "text": [
      "<class 'pandas.core.indexes.base.Index'>\n"
     ]
    }
   ],
   "source": [
    "print(type(result)) #pandas의 index 타입임"
   ]
  },
  {
   "cell_type": "markdown",
   "id": "51bffb41",
   "metadata": {},
   "source": [
    "# 10-03 데이터 타입(type)\n",
    "- dtypes : 열에 포함된 데이터들의 type을 series 형태로 반환"
   ]
  },
  {
   "cell_type": "code",
   "execution_count": 11,
   "id": "4b963a55",
   "metadata": {},
   "outputs": [
    {
     "name": "stdout",
     "output_type": "stream",
     "text": [
      "      col1 col2  col3\n",
      "row1     1    A   3.1\n",
      "row2     4    B   6.2\n",
      "row3     7    C   9.3\n"
     ]
    }
   ],
   "source": [
    "df = pd.DataFrame([[1,'A',3.1], [4,'B',6.2], [7,'C',9.3]], index=['row1', 'row2', 'row3'], columns=['col1', 'col2', 'col3'])\n",
    "print(df)"
   ]
  },
  {
   "cell_type": "code",
   "execution_count": 12,
   "id": "3b01eabb",
   "metadata": {},
   "outputs": [
    {
     "data": {
      "text/plain": [
       "col1      int64\n",
       "col2     object\n",
       "col3    float64\n",
       "dtype: object"
      ]
     },
     "execution_count": 12,
     "metadata": {},
     "output_type": "execute_result"
    }
   ],
   "source": [
    "df.dtypes"
   ]
  },
  {
   "cell_type": "code",
   "execution_count": 13,
   "id": "14ece951",
   "metadata": {},
   "outputs": [
    {
     "name": "stdout",
     "output_type": "stream",
     "text": [
      "col1      int64\n",
      "col2     object\n",
      "col3    float64\n",
      "dtype: object\n"
     ]
    }
   ],
   "source": [
    "result = df.dtypes\n",
    "print(result)"
   ]
  },
  {
   "cell_type": "code",
   "execution_count": 14,
   "id": "147c35c9",
   "metadata": {},
   "outputs": [
    {
     "name": "stdout",
     "output_type": "stream",
     "text": [
      "<class 'pandas.core.series.Series'>\n"
     ]
    }
   ],
   "source": [
    "print(type(result))"
   ]
  },
  {
   "cell_type": "markdown",
   "id": "1d992ec0",
   "metadata": {},
   "source": [
    "# 10-04 축 (axes)\n",
    "- 객체의 축 레이블 정도를 list형태로 반환함"
   ]
  },
  {
   "cell_type": "code",
   "execution_count": 15,
   "id": "f2c578ef",
   "metadata": {},
   "outputs": [
    {
     "name": "stdout",
     "output_type": "stream",
     "text": [
      "      col1  col2\n",
      "row1     1     2\n",
      "row2     3     4\n",
      "row3     5     6\n",
      "row4     7     8\n"
     ]
    }
   ],
   "source": [
    "df = pd.DataFrame(data=[[1,2],[3,4],[5,6],[7,8]],index=['row1','row2','row3','row4'],columns=['col1','col2'])\n",
    "print(df)"
   ]
  },
  {
   "cell_type": "code",
   "execution_count": 16,
   "id": "f25463c4",
   "metadata": {},
   "outputs": [
    {
     "name": "stdout",
     "output_type": "stream",
     "text": [
      "[Index(['row1', 'row2', 'row3', 'row4'], dtype='object'), Index(['col1', 'col2'], dtype='object')]\n"
     ]
    }
   ],
   "source": [
    "result = df.axes \n",
    "print(result)"
   ]
  },
  {
   "cell_type": "code",
   "execution_count": 17,
   "id": "60180a33",
   "metadata": {},
   "outputs": [
    {
     "name": "stdout",
     "output_type": "stream",
     "text": [
      "Index(['row1', 'row2', 'row3', 'row4'], dtype='object')\n"
     ]
    }
   ],
   "source": [
    "print(result[0])# 행 정보"
   ]
  },
  {
   "cell_type": "code",
   "execution_count": 18,
   "id": "9a97ff4f",
   "metadata": {},
   "outputs": [
    {
     "name": "stdout",
     "output_type": "stream",
     "text": [
      "Index(['col1', 'col2'], dtype='object')\n"
     ]
    }
   ],
   "source": [
    "print(result[1]) #열정보"
   ]
  },
  {
   "cell_type": "markdown",
   "id": "e73501ba",
   "metadata": {},
   "source": [
    "# 10-05 차원(ndim)\n",
    "- 데이터의 차원(축의 수) 반환\n",
    "- series는 1\n",
    "- dataframe은 2를 출력함."
   ]
  },
  {
   "cell_type": "code",
   "execution_count": 19,
   "id": "e78a81da",
   "metadata": {},
   "outputs": [
    {
     "name": "stdout",
     "output_type": "stream",
     "text": [
      "idx1    1\n",
      "idx2    2\n",
      "dtype: int64\n"
     ]
    }
   ],
   "source": [
    "df1 = pd.Series({'idx1':1,'idx2':2,'idx2':2})\n",
    "print(df1)"
   ]
  },
  {
   "cell_type": "code",
   "execution_count": 20,
   "id": "74f1c2b6",
   "metadata": {},
   "outputs": [
    {
     "name": "stdout",
     "output_type": "stream",
     "text": [
      "      col1  col2\n",
      "row1     1     2\n",
      "row2     3     4\n"
     ]
    }
   ],
   "source": [
    "df2 = pd.DataFrame(data=[[1,2], [3,4]], index=['row1', 'row2'], columns=['col1','col2'])\n",
    "print(df2)"
   ]
  },
  {
   "cell_type": "code",
   "execution_count": 22,
   "id": "9628adfc",
   "metadata": {},
   "outputs": [
    {
     "name": "stdout",
     "output_type": "stream",
     "text": [
      "1\n"
     ]
    }
   ],
   "source": [
    "print(df1.ndim) #series이면 1을 반환"
   ]
  },
  {
   "cell_type": "code",
   "execution_count": 23,
   "id": "fb7cb04b",
   "metadata": {},
   "outputs": [
    {
     "name": "stdout",
     "output_type": "stream",
     "text": [
      "2\n"
     ]
    }
   ],
   "source": [
    "print(df2.ndim) #판다스의 경우 2"
   ]
  },
  {
   "cell_type": "markdown",
   "id": "a468c19e",
   "metadata": {},
   "source": [
    "# 10-06 요소의 개수\n",
    "- 데이터의 총 수의 갯수 \n",
    "- series : 행의 갯수를 반환함.\n",
    "- dataframe : 요소의 갯수 "
   ]
  },
  {
   "cell_type": "code",
   "execution_count": 24,
   "id": "4a870cd5",
   "metadata": {},
   "outputs": [
    {
     "name": "stdout",
     "output_type": "stream",
     "text": [
      "idx1    1\n",
      "idx2    2\n",
      "dtype: int64\n"
     ]
    }
   ],
   "source": [
    "df1 = pd.Series({'idx1':1,'idx2':2,'idx2':2})\n",
    "print(df1)"
   ]
  },
  {
   "cell_type": "code",
   "execution_count": 25,
   "id": "1f2eb3af",
   "metadata": {},
   "outputs": [
    {
     "name": "stdout",
     "output_type": "stream",
     "text": [
      "      col1  col2\n",
      "row1     1     2\n",
      "row2     3     4\n"
     ]
    }
   ],
   "source": [
    "df2 = pd.DataFrame(data=[[1,2],[3,4]],index=['row1','row2'],columns=['col1','col2'])\n",
    "print(df2)"
   ]
  },
  {
   "cell_type": "code",
   "execution_count": 26,
   "id": "78f04033",
   "metadata": {},
   "outputs": [
    {
     "name": "stdout",
     "output_type": "stream",
     "text": [
      "2\n"
     ]
    }
   ],
   "source": [
    "print(df1.size)"
   ]
  },
  {
   "cell_type": "code",
   "execution_count": 27,
   "id": "824b13d6",
   "metadata": {},
   "outputs": [
    {
     "name": "stdout",
     "output_type": "stream",
     "text": [
      "4\n"
     ]
    }
   ],
   "source": [
    "print(df2.size) #요소의 수"
   ]
  },
  {
   "cell_type": "markdown",
   "id": "b6ff9d94",
   "metadata": {},
   "source": [
    "# 10-07 차원의 형태(shape)\n",
    "- 난 처음에 shape가 size랑 같은 거 인줄\n",
    "- but 이것은 튜플의 형식으로 반환함"
   ]
  },
  {
   "cell_type": "code",
   "execution_count": 28,
   "id": "f37c4663",
   "metadata": {},
   "outputs": [
    {
     "name": "stdout",
     "output_type": "stream",
     "text": [
      "      col1  col2  col3\n",
      "row1     1     2     3\n",
      "row2     4     5     6\n",
      "row3     7     8     9\n"
     ]
    }
   ],
   "source": [
    "data1 = [[1,2,3], [4,5,6], [7,8,9]]\n",
    "df1 = pd.DataFrame(data = data1, index = ['row1', 'row2', 'row3'], columns=['col1','col2','col3'])\n",
    "print(df1)"
   ]
  },
  {
   "cell_type": "code",
   "execution_count": 29,
   "id": "6e4724bc",
   "metadata": {},
   "outputs": [
    {
     "name": "stdout",
     "output_type": "stream",
     "text": [
      "      col1  col2  col3  col4\n",
      "row1     1     2     3     4\n"
     ]
    }
   ],
   "source": [
    "data2 = [[1,2,3,4]]\n",
    "df2 = pd.DataFrame(data =data2, index = ['row1'], columns=['col1','col2','col3','col4'])\n",
    "print(df2)"
   ]
  },
  {
   "cell_type": "code",
   "execution_count": 30,
   "id": "8cb103cb",
   "metadata": {},
   "outputs": [
    {
     "name": "stdout",
     "output_type": "stream",
     "text": [
      "(3, 3)\n",
      "(1, 4)\n"
     ]
    }
   ],
   "source": [
    "print(df1.shape) #(3,3)\n",
    "print(df2.shape) #(1,4)"
   ]
  },
  {
   "cell_type": "markdown",
   "id": "9a359e54",
   "metadata": {},
   "source": [
    "# 10-08 정보축(keyps)\n",
    "- info axis값을 가져옴"
   ]
  },
  {
   "cell_type": "code",
   "execution_count": 31,
   "id": "b19b5e23",
   "metadata": {},
   "outputs": [
    {
     "name": "stdout",
     "output_type": "stream",
     "text": [
      "      col1  col2  col3\n",
      "row1     1     2     3\n",
      "row2     4     5     6\n",
      "row3     7     8     9\n"
     ]
    }
   ],
   "source": [
    "data = [[1,2,3],[4,5,6],[7,8,9]]\n",
    "col = ['col1','col2','col3']\n",
    "row = ['row1','row2','row3']\n",
    "df = pd.DataFrame(data=data,index=row,columns=col)\n",
    "print(df)"
   ]
  },
  {
   "cell_type": "code",
   "execution_count": 32,
   "id": "4b863d11",
   "metadata": {},
   "outputs": [
    {
     "name": "stdout",
     "output_type": "stream",
     "text": [
      "<bound method NDFrame.keys of       col1  col2  col3\n",
      "row1     1     2     3\n",
      "row2     4     5     6\n",
      "row3     7     8     9>\n"
     ]
    }
   ],
   "source": [
    "print(df.keys) #열의 값을 가져옴"
   ]
  },
  {
   "cell_type": "markdown",
   "id": "68bf076f",
   "metadata": {},
   "source": [
    "# 10-09 키값(열의 요소)반환(get)\n",
    "- pandas 객체에서 key값을 검색해서 요소를 가져옴\n",
    "- 찾는 게 없을 경우 default값 반환 default값을 내가 설정할 수 있음."
   ]
  },
  {
   "cell_type": "code",
   "execution_count": 33,
   "id": "3d9715ab",
   "metadata": {},
   "outputs": [
    {
     "name": "stdout",
     "output_type": "stream",
     "text": [
      "      col1  col2  col3\n",
      "row1     1     2     3\n",
      "row2     4     5     6\n",
      "row3     7     8     9\n"
     ]
    }
   ],
   "source": [
    "data = [[1,2,3],[4,5,6],[7,8,9]]\n",
    "col = ['col1','col2','col3']\n",
    "row = ['row1','row2','row3']\n",
    "df = pd.DataFrame(data=data,index=row,columns=col)\n",
    "print(df)"
   ]
  },
  {
   "cell_type": "code",
   "execution_count": 34,
   "id": "6c0ef449",
   "metadata": {},
   "outputs": [
    {
     "name": "stdout",
     "output_type": "stream",
     "text": [
      "row1    1\n",
      "row2    4\n",
      "row3    7\n",
      "Name: col1, dtype: int64\n"
     ]
    }
   ],
   "source": [
    "result = df.get('col1') #col1의 요소 반환\n",
    "print(result)"
   ]
  },
  {
   "cell_type": "code",
   "execution_count": 35,
   "id": "8c29f504",
   "metadata": {},
   "outputs": [
    {
     "name": "stdout",
     "output_type": "stream",
     "text": [
      "값이 없습니다.\n"
     ]
    }
   ],
   "source": [
    "result = df.get('col4', default = '값이 없습니다.')\n",
    "print(result)"
   ]
  },
  {
   "cell_type": "markdown",
   "id": "a7ea674a",
   "metadata": {},
   "source": [
    "# 10-10 비교\n",
    "- compare : 두 객체의 요소차이를 반환함\n",
    "- other : 원본과 비교할 데이터\n",
    "- keep_shape : 원본 모양 유지할지 여부\n",
    "- keep_equal : 값이 같은 경우 값을 출력할지 여부"
   ]
  },
  {
   "cell_type": "code",
   "execution_count": 36,
   "id": "b847df57",
   "metadata": {},
   "outputs": [],
   "source": [
    "idx = ['row1','row2','row3','row4']\n",
    "col = ['col1','col2','col3']\n",
    "data1 = [['A',1,11],['B',2,12],['C',3,13],['D',4,14]]\n",
    "data2 = [['X',1,11],['B','Y',12],['C',3,13],['D',4,'Z']]"
   ]
  },
  {
   "cell_type": "code",
   "execution_count": 37,
   "id": "a5cfc189",
   "metadata": {},
   "outputs": [
    {
     "name": "stdout",
     "output_type": "stream",
     "text": [
      "     col1  col2  col3\n",
      "row1    A     1    11\n",
      "row2    B     2    12\n",
      "row3    C     3    13\n",
      "row4    D     4    14\n"
     ]
    }
   ],
   "source": [
    "df1 = pd.DataFrame(data1, idx, col)\n",
    "print(df1)"
   ]
  },
  {
   "cell_type": "code",
   "execution_count": 38,
   "id": "4803e3f6",
   "metadata": {},
   "outputs": [
    {
     "name": "stdout",
     "output_type": "stream",
     "text": [
      "     col1 col2 col3\n",
      "row1    X    1   11\n",
      "row2    B    Y   12\n",
      "row3    C    3   13\n",
      "row4    D    4    Z\n"
     ]
    }
   ],
   "source": [
    "df2 = pd.DataFrame(data2, idx, col)\n",
    "print(df2)"
   ]
  },
  {
   "cell_type": "code",
   "execution_count": 39,
   "id": "227c8abe",
   "metadata": {},
   "outputs": [
    {
     "name": "stdout",
     "output_type": "stream",
     "text": [
      "     col1       col2        col3      \n",
      "     self other self other  self other\n",
      "row1    A     X  NaN   NaN   NaN   NaN\n",
      "row2  NaN   NaN  2.0     Y   NaN   NaN\n",
      "row4  NaN   NaN  NaN   NaN  14.0     Z\n"
     ]
    }
   ],
   "source": [
    "print(df1.compare(df2)) #self와 other이 multi columns로 추가됨\n",
    "#NaN은 서로 같다는 말 , 이때 align_axis=1과 같은 말"
   ]
  },
  {
   "cell_type": "code",
   "execution_count": 41,
   "id": "0c7e0c8c",
   "metadata": {},
   "outputs": [
    {
     "name": "stdout",
     "output_type": "stream",
     "text": [
      "           col1 col2  col3\n",
      "row1 self     A  NaN   NaN\n",
      "     other    X  NaN   NaN\n",
      "row2 self   NaN  2.0   NaN\n",
      "     other  NaN    Y   NaN\n",
      "row4 self   NaN  NaN  14.0\n",
      "     other  NaN  NaN     Z\n"
     ]
    }
   ],
   "source": [
    "#align_axis인수 : self와 other 카테고리가 multi idnex로 반환될지 multi columns반환될지 지정 가능\n",
    "print(df1.compare(other=df2, align_axis=0))\n",
    "#align_axis=0이므로 multi index로 추라됨."
   ]
  },
  {
   "cell_type": "code",
   "execution_count": 42,
   "id": "ebc474cf",
   "metadata": {
    "scrolled": true
   },
   "outputs": [
    {
     "name": "stdout",
     "output_type": "stream",
     "text": [
      "     col1       col2        col3      \n",
      "     self other self other  self other\n",
      "row1    A     X  NaN   NaN   NaN   NaN\n",
      "row2  NaN   NaN  2.0     Y   NaN   NaN\n",
      "row4  NaN   NaN  NaN   NaN  14.0     Z\n"
     ]
    }
   ],
   "source": [
    "print(df1.compare(other=df2, align_axis=1))"
   ]
  },
  {
   "cell_type": "code",
   "execution_count": 43,
   "id": "5f4da912",
   "metadata": {},
   "outputs": [
    {
     "name": "stdout",
     "output_type": "stream",
     "text": [
      "     col1       col2        col3      \n",
      "     self other self other  self other\n",
      "row1    A     X  NaN   NaN   NaN   NaN\n",
      "row2  NaN   NaN  2.0     Y   NaN   NaN\n",
      "row3  NaN   NaN  NaN   NaN   NaN   NaN\n",
      "row4  NaN   NaN  NaN   NaN  14.0     Z\n"
     ]
    }
   ],
   "source": [
    "#keep_shape인수의 사용\n",
    "#keep_shape = True로 사용할 경우 기존 열 모두 출력\n",
    "#keep_shape = False일 경우 기본값 차이가 있는 열만 출력함\n",
    "print(df1.compare(other=df2, keep_shape=True)) #모두 출력"
   ]
  },
  {
   "cell_type": "code",
   "execution_count": 44,
   "id": "635c54d7",
   "metadata": {},
   "outputs": [
    {
     "name": "stdout",
     "output_type": "stream",
     "text": [
      "     col1       col2        col3      \n",
      "     self other self other  self other\n",
      "row1    A     X  NaN   NaN   NaN   NaN\n",
      "row2  NaN   NaN  2.0     Y   NaN   NaN\n",
      "row4  NaN   NaN  NaN   NaN  14.0     Z\n"
     ]
    }
   ],
   "source": [
    "print(df1.compare(other=df2, keep_shape=False)) #기본값 차이가 있는 값만 "
   ]
  },
  {
   "cell_type": "code",
   "execution_count": 45,
   "id": "2d52a06a",
   "metadata": {},
   "outputs": [
    {
     "name": "stdout",
     "output_type": "stream",
     "text": [
      "     col1       col2       col3      \n",
      "     self other self other self other\n",
      "row1    A     X    1     1   11    11\n",
      "row2    B     B    2     Y   12    12\n",
      "row4    D     D    4     4   14     Z\n"
     ]
    }
   ],
   "source": [
    "#keep_equal 같은 값을 출력할지 NaN으로 출력할지\n",
    "print(df1.compare(other=df2, keep_equal=True)) #같은 값 출력"
   ]
  },
  {
   "cell_type": "code",
   "execution_count": 46,
   "id": "02a5310e",
   "metadata": {},
   "outputs": [
    {
     "name": "stdout",
     "output_type": "stream",
     "text": [
      "     col1       col2        col3      \n",
      "     self other self other  self other\n",
      "row1    A     X  NaN   NaN   NaN   NaN\n",
      "row2  NaN   NaN  2.0     Y   NaN   NaN\n",
      "row4  NaN   NaN  NaN   NaN  14.0     Z\n"
     ]
    }
   ],
   "source": [
    "#False이면 NaN으로 출력\n",
    "print(df1.compare(other=df2, keep_equal=False))"
   ]
  },
  {
   "cell_type": "markdown",
   "id": "130e6b62",
   "metadata": {},
   "source": [
    "# 10-11 고유한 행의 수(value_counts)\n",
    "- 구성요소의 값이 완전히 동일한 경우"
   ]
  },
  {
   "cell_type": "code",
   "execution_count": 47,
   "id": "73bb5c95",
   "metadata": {},
   "outputs": [
    {
     "name": "stdout",
     "output_type": "stream",
     "text": [
      "     col1 col2  col3\n",
      "row1    A    Z   3.0\n",
      "row2    D    Y   NaN\n",
      "row3    B    Z   3.0\n",
      "row4    C    Y   8.0\n",
      "row5    A    Z   3.0\n"
     ]
    }
   ],
   "source": [
    "n=np.NaN\n",
    "idx = ['row1','row2','row3','row4','row5']\n",
    "col = ['col1','col2','col3']\n",
    "data = [['A','Z',3,],['D','Y',n],['B','Z',3],['C','Y',8],['A','Z',3]]\n",
    "df = pd.DataFrame(data, idx, col)\n",
    "print(df)"
   ]
  },
  {
   "cell_type": "code",
   "execution_count": 48,
   "id": "cb5e9148",
   "metadata": {},
   "outputs": [
    {
     "name": "stdout",
     "output_type": "stream",
     "text": [
      "col1  col2  col3\n",
      "A     Z     3.0     2\n",
      "B     Z     3.0     1\n",
      "C     Y     8.0     1\n",
      "dtype: int64\n"
     ]
    }
   ],
   "source": [
    "print(df.value_counts()) #요소로 아무값도 입력하지 않는 경우 행의 모든 값으로 대상으로\n",
    "#완전히 같은 행의 갯수를 우측에 출력\n",
    "#row2는 결측치가 있어 제외됨."
   ]
  },
  {
   "cell_type": "code",
   "execution_count": 49,
   "id": "b7da79ff",
   "metadata": {},
   "outputs": [
    {
     "name": "stdout",
     "output_type": "stream",
     "text": [
      "col2  col3\n",
      "Z     3.0     3\n",
      "Y     8.0     1\n",
      "dtype: int64\n"
     ]
    }
   ],
   "source": [
    "print(df.value_counts(subset=['col2', 'col3']))"
   ]
  },
  {
   "cell_type": "code",
   "execution_count": 51,
   "id": "89bd60be",
   "metadata": {},
   "outputs": [
    {
     "name": "stdout",
     "output_type": "stream",
     "text": [
      "col2\n",
      "Z    0.6\n",
      "Y    0.4\n",
      "dtype: float64\n"
     ]
    }
   ],
   "source": [
    "#normalize인수의 사용, 동일한 행의 갯수가 아닌 전체에서 차지하는 비율로 출력됨\n",
    "print(df.value_counts(subset='col2', normalize=True)) #비율로 출력"
   ]
  },
  {
   "cell_type": "code",
   "execution_count": 52,
   "id": "f8ea38a6",
   "metadata": {},
   "outputs": [
    {
     "name": "stdout",
     "output_type": "stream",
     "text": [
      "col2\n",
      "Z    3\n",
      "Y    2\n",
      "dtype: int64\n"
     ]
    }
   ],
   "source": [
    "print(df.value_counts(subset='col2', normalize=False)) #기본값"
   ]
  },
  {
   "cell_type": "code",
   "execution_count": 53,
   "id": "11bb35c7",
   "metadata": {},
   "outputs": [
    {
     "name": "stdout",
     "output_type": "stream",
     "text": [
      "col2  col3\n",
      "Y     8.0     1\n",
      "Z     3.0     3\n",
      "dtype: int64\n"
     ]
    }
   ],
   "source": [
    "#sort = 최빈값부터 정렬\n",
    "#ascending = 오름차순으로 정렬\n",
    "print(df.value_counts(subset = ['col2', 'col3'], sort=False, ascending=False))"
   ]
  },
  {
   "cell_type": "code",
   "execution_count": 54,
   "id": "407eb522",
   "metadata": {},
   "outputs": [
    {
     "name": "stdout",
     "output_type": "stream",
     "text": [
      "col2  col3\n",
      "Z     3.0     3\n",
      "Y     8.0     1\n",
      "dtype: int64\n"
     ]
    }
   ],
   "source": [
    "#sort=True인 경우 제일 고유값의 갯수가 많은 행부터 정렬됨\n",
    "print(df.value_counts(subset=['col2', 'col3'], sort=True, ascending=False))"
   ]
  },
  {
   "cell_type": "code",
   "execution_count": 55,
   "id": "40b4d4e9",
   "metadata": {},
   "outputs": [
    {
     "name": "stdout",
     "output_type": "stream",
     "text": [
      "col2  col3\n",
      "Y     8.0     1\n",
      "Z     3.0     3\n",
      "dtype: int64\n"
     ]
    }
   ],
   "source": [
    "#ascending = True -> 오름 차순\n",
    "print(df.value_counts(subset=['col2', 'col3'], sort=True, ascending=True))"
   ]
  },
  {
   "cell_type": "code",
   "execution_count": 56,
   "id": "1cc803cb",
   "metadata": {},
   "outputs": [
    {
     "name": "stdout",
     "output_type": "stream",
     "text": [
      "col2  col3\n",
      "Z     3.0     3\n",
      "Y     8.0     1\n",
      "      NaN     1\n",
      "dtype: int64\n"
     ]
    }
   ],
   "source": [
    "#dropna의 사용  #결측치가 포함된 행 계산 x\n",
    "print(df.value_counts(subset = ['col2', 'col3'], dropna=False)) "
   ]
  },
  {
   "cell_type": "markdown",
   "id": "bbea31a2",
   "metadata": {},
   "source": [
    "# 10-12 고유한 열의 수(nunique)"
   ]
  },
  {
   "cell_type": "code",
   "execution_count": 57,
   "id": "5fa72e18",
   "metadata": {},
   "outputs": [
    {
     "name": "stdout",
     "output_type": "stream",
     "text": [
      "      col1  col2  col3\n",
      "row1     1     1   NaN\n",
      "row2     1     2   6.0\n",
      "row3     1     3   NaN\n"
     ]
    }
   ],
   "source": [
    "idx =  ['row1','row2','row3']\n",
    "col =  ['col1','col2','col3']\n",
    "data = [[1,1,n],[1,2,6],[1,3,n]]\n",
    "df = pd.DataFrame(data, idx, col)\n",
    "print(df)"
   ]
  },
  {
   "cell_type": "code",
   "execution_count": 58,
   "id": "960b4a11",
   "metadata": {},
   "outputs": [
    {
     "name": "stdout",
     "output_type": "stream",
     "text": [
      "col1    1\n",
      "col2    3\n",
      "col3    1\n",
      "dtype: int64\n"
     ]
    }
   ],
   "source": [
    "print(df.nunique(axis=0)) #고윳값의 개수 #열 기주"
   ]
  },
  {
   "cell_type": "code",
   "execution_count": 59,
   "id": "7f9d9316",
   "metadata": {},
   "outputs": [
    {
     "name": "stdout",
     "output_type": "stream",
     "text": [
      "col1    1\n",
      "col2    3\n",
      "col3    2\n",
      "dtype: int64\n"
     ]
    }
   ],
   "source": [
    "print(df.nunique(axis=0, dropna=False)) #결측치도 하나의 요소로 취급함. "
   ]
  },
  {
   "cell_type": "code",
   "execution_count": 60,
   "id": "88cc1646",
   "metadata": {},
   "outputs": [
    {
     "name": "stdout",
     "output_type": "stream",
     "text": [
      "row1    1\n",
      "row2    3\n",
      "row3    2\n",
      "dtype: int64\n"
     ]
    }
   ],
   "source": [
    "print(df.nunique(axis=1)) #행 기준"
   ]
  },
  {
   "cell_type": "code",
   "execution_count": null,
   "id": "fbb5cc1b",
   "metadata": {},
   "outputs": [],
   "source": []
  }
 ],
 "metadata": {
  "kernelspec": {
   "display_name": "Python 3 (ipykernel)",
   "language": "python",
   "name": "python3"
  },
  "language_info": {
   "codemirror_mode": {
    "name": "ipython",
    "version": 3
   },
   "file_extension": ".py",
   "mimetype": "text/x-python",
   "name": "python",
   "nbconvert_exporter": "python",
   "pygments_lexer": "ipython3",
   "version": "3.9.7"
  }
 },
 "nbformat": 4,
 "nbformat_minor": 5
}
