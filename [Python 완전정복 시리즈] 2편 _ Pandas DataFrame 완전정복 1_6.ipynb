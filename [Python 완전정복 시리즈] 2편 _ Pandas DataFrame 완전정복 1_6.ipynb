{
 "cells": [
  {
   "cell_type": "code",
   "execution_count": 1,
   "id": "a3574858",
   "metadata": {},
   "outputs": [],
   "source": [
    "import pandas as pd\n",
    "import numpy as np"
   ]
  },
  {
   "cell_type": "markdown",
   "id": "87630f36",
   "metadata": {},
   "source": [
    "# 0. Intro"
   ]
  },
  {
   "cell_type": "markdown",
   "id": "f480fc98",
   "metadata": {},
   "source": [
    "1. pands.dataframe 클래스 구조\n",
    "    * class pandas.DataFrame(data=None, index=None, columns=None, copy=None)\n",
    "    * 생성된 인스턴스 = 크기의 변경이 가능한 2차원 배열 (Series = 1차원)\n",
    "    * data : ndarray, lterable, dict, DataFrame\n",
    "        - dict : series, 배열(array) list와 유사한 오브젝트\n",
    "        - 데이터가 dict인 경우 열(columns)의 순서는 삽입 순서를 따릅니다.\n",
    "    * index : 인덱스 or 배열형태의 객체\n",
    "        - 인스턴스에 설정되는 행 레이블\n",
    "        - 입력하지 않으면 기본 인덱스 설정됨.\n",
    "    * columns : 인덱스 또는 배열형태의 객체\n",
    "        - 인스턴스에 설정되는 열 레이블\n",
    "        - 입력하지 않으면 기본 인덱스 설정됨.\n",
    "    * dtype : dtype 데이터 유형을 강제하고자 할 때 값\n",
    "        - 기본값은 None\n",
    "        - None일 경우 type이 자동으로 추론된다.\n",
    "    * copy : bool\n",
    "        - True일 경우 DataFrame의 원본 데이터를 수정하더라고 인스턴스가 변경되지 않지만 \n",
    "        - False일 경우 원본 데이터를 수정할 시 인스턴스의 값도 바뀌게 된다. "
   ]
  },
  {
   "cell_type": "code",
   "execution_count": 2,
   "id": "59c55a7f",
   "metadata": {},
   "outputs": [
    {
     "name": "stdout",
     "output_type": "stream",
     "text": [
      "[[5 0]\n",
      " [3 3]]\n"
     ]
    }
   ],
   "source": [
    "np.random.seed(0) # 난수를 예측가능하도록 만든다. 0부터 시작한다\n",
    "# seed : 어떤 특정한 시작 숫자를 정해주면 컴퓨터가 정해진 알고리즘에 의해 마치 \n",
    "# 난수처럼 보이는 수열 생성하는데 이때 시작 숫하는 시드(seed)\n",
    "arr = np.random.randint(10, size=(2,2)) #2x2 짜리 random array 생성 \n",
    "print(arr)"
   ]
  },
  {
   "cell_type": "code",
   "execution_count": 3,
   "id": "f3a1c937",
   "metadata": {},
   "outputs": [],
   "source": [
    "df1 = pd.DataFrame(arr, copy=False) #False니까 원본데이터 수정하면 인스턴스 값 바뀜\n",
    "df2 = pd.DataFrame(arr, copy=True) # True니까 DataFrame의 원본 데이터 수정해도 인스턴스 변경이 안된다."
   ]
  },
  {
   "cell_type": "code",
   "execution_count": 4,
   "id": "7ac326fc",
   "metadata": {},
   "outputs": [
    {
     "name": "stdout",
     "output_type": "stream",
     "text": [
      "    0  1\n",
      "0  99  0\n",
      "1   3  3\n"
     ]
    }
   ],
   "source": [
    "arr[0,0]=99\n",
    "print(df1) # 변경됨."
   ]
  },
  {
   "cell_type": "code",
   "execution_count": 5,
   "id": "fc1c0bb9",
   "metadata": {},
   "outputs": [
    {
     "name": "stdout",
     "output_type": "stream",
     "text": [
      "   0  1\n",
      "0  5  0\n",
      "1  3  3\n"
     ]
    }
   ],
   "source": [
    "print(df2) #변경되지 않음."
   ]
  },
  {
   "cell_type": "code",
   "execution_count": 6,
   "id": "c416cbb5",
   "metadata": {},
   "outputs": [
    {
     "name": "stdout",
     "output_type": "stream",
     "text": [
      "   A  B\n",
      "0  1  3\n",
      "1  2  4\n"
     ]
    }
   ],
   "source": [
    "# dictionary로 만들기\n",
    "data = {'A' : [1,2], 'B':[3,4]} # 각각 'A','B'는 열이 된다.\n",
    "df = pd.DataFrame(data = data)\n",
    "print(df)"
   ]
  },
  {
   "cell_type": "code",
   "execution_count": 7,
   "id": "ed53617c",
   "metadata": {},
   "outputs": [
    {
     "name": "stdout",
     "output_type": "stream",
     "text": [
      "      col1  col2\n",
      "row1     1     2\n",
      "row2     3     4\n"
     ]
    }
   ],
   "source": [
    "# index, columns 설정\n",
    "data=np.array([[1,2], [3,4]])\n",
    "df = pd.DataFrame(data=data, index=['row1', 'row2'], columns=['col1','col2'])\n",
    "print(df)"
   ]
  },
  {
   "cell_type": "markdown",
   "id": "c5f5d41d",
   "metadata": {},
   "source": [
    "# 1.객체 간 연산"
   ]
  },
  {
   "cell_type": "markdown",
   "id": "6ebe32b3",
   "metadata": {},
   "source": [
    "1-1. 덧셈(add, radd)\n",
    "- DataFrame.add(other, axis='columns', level=None, fill_value=None)\n",
    "- DataFrame.radd(other, axis='columns', level=None, fill_value=None)\n",
    "* add함수는 dataframe에 다른 데이터프레임이나, series, 스칼라 등 데이터를 더하는 메서드\n",
    "* df + 다른df 과 차별되는 것은 fill_value인수를 통해 계산 불가한 값을 채워 넣는다.\n",
    "* radd : add의 경우에서 순서만 바꾼 것 add : df1 + df2, radd : df2+df1\n",
    "* other : 데이터프레임이나, series, 스칼라 등의 데이터가 온다. 더할 값\n",
    "* axis : 더할 레이블 0=행, 1=열\n",
    "* level : multiIndex 에서 계산할 Index의 레벨\n",
    "* fill_value : NaN값 등의 누락요소를 계산 전에 이 값으로 대체한다."
   ]
  },
  {
   "cell_type": "code",
   "execution_count": 8,
   "id": "b0c26610",
   "metadata": {},
   "outputs": [
    {
     "name": "stdout",
     "output_type": "stream",
     "text": [
      "      col1  col2  col3\n",
      "row1     1    10   100\n",
      "row2     2    20   200\n",
      "row3     3    30   300\n"
     ]
    }
   ],
   "source": [
    "data = [[1,10,100], [2, 20, 200], [3,30,300]]\n",
    "col = ['col1', 'col2', 'col3']\n",
    "row = ['row1', 'row2', 'row3']\n",
    "df=pd.DataFrame(data=data, index=row, columns=col)\n",
    "print(df)"
   ]
  },
  {
   "cell_type": "code",
   "execution_count": 9,
   "id": "43c4e138",
   "metadata": {},
   "outputs": [
    {
     "name": "stdout",
     "output_type": "stream",
     "text": [
      "      col1  col2  col3\n",
      "row1     2    11   101\n",
      "row2     3    21   201\n",
      "row3     4    31   301\n"
     ]
    }
   ],
   "source": [
    "# 스칼라 값 더하기\n",
    "result=df.add(1)\n",
    "print(result)"
   ]
  },
  {
   "cell_type": "code",
   "execution_count": 10,
   "id": "5e45ed16",
   "metadata": {},
   "outputs": [
    {
     "name": "stdout",
     "output_type": "stream",
     "text": [
      "      col1  col2  col3\n",
      "row1     2    11   101\n",
      "row2     3    21   201\n",
      "row3     4    31   301\n"
     ]
    }
   ],
   "source": [
    "result = df+1\n",
    "print(result)"
   ]
  },
  {
   "cell_type": "code",
   "execution_count": 11,
   "id": "569813ed",
   "metadata": {},
   "outputs": [
    {
     "name": "stdout",
     "output_type": "stream",
     "text": [
      "      col1\n",
      "row1     3\n",
      "row2     4\n",
      "row3     5\n"
     ]
    }
   ],
   "source": [
    "# 다른 dataframe 객체를 더하기\n",
    "data2 = [[3], [4], [5]]\n",
    "df2 = pd.DataFrame(data=data2, index=['row1', 'row2', 'row3'], columns=['col1'])\n",
    "print(df2)"
   ]
  },
  {
   "cell_type": "code",
   "execution_count": 12,
   "id": "8f1d849f",
   "metadata": {},
   "outputs": [
    {
     "name": "stdout",
     "output_type": "stream",
     "text": [
      "      col1  col2  col3\n",
      "row1     4   NaN   NaN\n",
      "row2     6   NaN   NaN\n",
      "row3     8   NaN   NaN\n"
     ]
    }
   ],
   "source": [
    "result = df.add(df2)\n",
    "print(result)"
   ]
  },
  {
   "cell_type": "code",
   "execution_count": 13,
   "id": "5080707e",
   "metadata": {},
   "outputs": [
    {
     "name": "stdout",
     "output_type": "stream",
     "text": [
      "      col1  col2   col3\n",
      "row1     4  10.0  100.0\n",
      "row2     6  20.0  200.0\n",
      "row3     8  30.0  300.0\n"
     ]
    }
   ],
   "source": [
    "result = df.add(df2, fill_value = 0) #NaN를 출력가능하도록\n",
    "# df2에는 존재하지 않던 col2, col3의 요소들에 대해 fill_value값인 0으로 채워 넣은 뒤 계산 진행하여 계산한 것을 확인할 수 있다.\n",
    "print(result)"
   ]
  },
  {
   "cell_type": "markdown",
   "id": "2d556238",
   "metadata": {},
   "source": [
    "1-2. 뺄셈(sub,rsub)\n",
    "* 1-1이랑 비슷\n",
    "* sub = df1-df2\n",
    "* rsub= df2-df1"
   ]
  },
  {
   "cell_type": "code",
   "execution_count": 14,
   "id": "58265c74",
   "metadata": {},
   "outputs": [
    {
     "name": "stdout",
     "output_type": "stream",
     "text": [
      "      col1  col2  col3\n",
      "row1     1    10   100\n",
      "row2     2    20   200\n",
      "row3     3    30   300\n"
     ]
    }
   ],
   "source": [
    "# dataframe 만들기\n",
    "data= [[1,10,100], [2, 20, 200], [3, 30, 300]]\n",
    "col1=['col1','col2', 'col3']\n",
    "row = ['row1', 'row2','row3']\n",
    "df = pd.DataFrame(data=data, index=row, columns=col)\n",
    "print(df)"
   ]
  },
  {
   "cell_type": "code",
   "execution_count": 15,
   "id": "7fee3bd4",
   "metadata": {},
   "outputs": [
    {
     "name": "stdout",
     "output_type": "stream",
     "text": [
      "      col1  col2  col3\n",
      "row1     0     9    99\n",
      "row2     1    19   199\n",
      "row3     2    29   299\n"
     ]
    }
   ],
   "source": [
    "# 스칼라 값 빼기\n",
    "result=df.sub(1)\n",
    "print(result)"
   ]
  },
  {
   "cell_type": "code",
   "execution_count": 16,
   "id": "50d533cb",
   "metadata": {
    "scrolled": true
   },
   "outputs": [
    {
     "name": "stdout",
     "output_type": "stream",
     "text": [
      "      col1  col2  col3\n",
      "row1     0     9    99\n",
      "row2     1    19   199\n",
      "row3     2    29   299\n"
     ]
    }
   ],
   "source": [
    "result = df - 1\n",
    "print(result)"
   ]
  },
  {
   "cell_type": "code",
   "execution_count": 17,
   "id": "73b0fd3c",
   "metadata": {},
   "outputs": [
    {
     "name": "stdout",
     "output_type": "stream",
     "text": [
      "      col1\n",
      "row1     3\n",
      "row2     4\n",
      "row3     5\n"
     ]
    }
   ],
   "source": [
    "# 다른 dataframe객체 빼기\n",
    "data2 = [[3], [4], [5]]\n",
    "df2 = pd.DataFrame(data=data2, index=['row1', 'row2', 'row3'], columns=['col1'])\n",
    "print(df2)"
   ]
  },
  {
   "cell_type": "code",
   "execution_count": 18,
   "id": "b6a48ee7",
   "metadata": {},
   "outputs": [
    {
     "name": "stdout",
     "output_type": "stream",
     "text": [
      "      col1  col2  col3\n",
      "row1    -2   NaN   NaN\n",
      "row2    -2   NaN   NaN\n",
      "row3    -2   NaN   NaN\n"
     ]
    }
   ],
   "source": [
    "result = df.sub(df2)\n",
    "print(result)"
   ]
  },
  {
   "cell_type": "code",
   "execution_count": 19,
   "id": "7afb129d",
   "metadata": {},
   "outputs": [
    {
     "name": "stdout",
     "output_type": "stream",
     "text": [
      "      col1  col2   col3\n",
      "row1    -2  10.0  100.0\n",
      "row2    -2  20.0  200.0\n",
      "row3    -2  30.0  300.0\n"
     ]
    }
   ],
   "source": [
    "result = df.sub(df2, fill_value=0)\n",
    "print(result)"
   ]
  },
  {
   "cell_type": "markdown",
   "id": "d800158a",
   "metadata": {},
   "source": [
    "1-3. 곱셈(mul, rmul)"
   ]
  },
  {
   "cell_type": "code",
   "execution_count": 20,
   "id": "23551c5e",
   "metadata": {},
   "outputs": [
    {
     "name": "stdout",
     "output_type": "stream",
     "text": [
      "      col1  col2  col3\n",
      "row1     1    10   100\n",
      "row2     2    20   200\n",
      "row3     3    30   300\n"
     ]
    }
   ],
   "source": [
    "data = [[1,10,100], [2, 20, 200], [3, 30, 300]]\n",
    "col = ['col1', 'col2', 'col3']\n",
    "row = ['row1', 'row2', 'row3']\n",
    "df=pd.DataFrame(data=data, index=row, columns=col)\n",
    "print(df)"
   ]
  },
  {
   "cell_type": "code",
   "execution_count": 21,
   "id": "741259fb",
   "metadata": {},
   "outputs": [
    {
     "name": "stdout",
     "output_type": "stream",
     "text": [
      "      col1  col2  col3\n",
      "row1     2    20   200\n",
      "row2     4    40   400\n",
      "row3     6    60   600\n"
     ]
    }
   ],
   "source": [
    "#스칼라 값 곱하기\n",
    "result = df.mul(2)\n",
    "print(result)"
   ]
  },
  {
   "cell_type": "code",
   "execution_count": 22,
   "id": "f9d2f65d",
   "metadata": {},
   "outputs": [
    {
     "name": "stdout",
     "output_type": "stream",
     "text": [
      "      col1  col2  col3\n",
      "row1     2    20   200\n",
      "row2     4    40   400\n",
      "row3     6    60   600\n"
     ]
    }
   ],
   "source": [
    "result = df *2\n",
    "print(result)"
   ]
  },
  {
   "cell_type": "code",
   "execution_count": 23,
   "id": "e8bb8533",
   "metadata": {},
   "outputs": [
    {
     "name": "stdout",
     "output_type": "stream",
     "text": [
      "      col1\n",
      "row1     3\n",
      "row2     4\n",
      "row3     5\n"
     ]
    }
   ],
   "source": [
    "# 다른 dataframe 객체를 곱ㅎ가ㅣ\n",
    "data2 = [[3], [4], [5]]\n",
    "df2=pd.DataFrame(data=data2, index=['row1', 'row2', 'row3'], columns=['col1'])\n",
    "print(df2)"
   ]
  },
  {
   "cell_type": "code",
   "execution_count": 24,
   "id": "256ca7c4",
   "metadata": {},
   "outputs": [
    {
     "name": "stdout",
     "output_type": "stream",
     "text": [
      "      col1  col2  col3\n",
      "row1     3   NaN   NaN\n",
      "row2     8   NaN   NaN\n",
      "row3    15   NaN   NaN\n"
     ]
    }
   ],
   "source": [
    "result= df.mul(df2)\n",
    "print(result)"
   ]
  },
  {
   "cell_type": "code",
   "execution_count": 25,
   "id": "b2e4766c",
   "metadata": {},
   "outputs": [
    {
     "name": "stdout",
     "output_type": "stream",
     "text": [
      "      col1  col2  col3\n",
      "row1     3   0.0   0.0\n",
      "row2     8   0.0   0.0\n",
      "row3    15   0.0   0.0\n"
     ]
    }
   ],
   "source": [
    "result = df.mul(df2, fill_value=0)\n",
    "print(result)"
   ]
  },
  {
   "cell_type": "markdown",
   "id": "618a4f25",
   "metadata": {},
   "source": [
    "1-4.나눗셈(div, rdiv)"
   ]
  },
  {
   "cell_type": "code",
   "execution_count": 26,
   "id": "dd3005ce",
   "metadata": {},
   "outputs": [
    {
     "name": "stdout",
     "output_type": "stream",
     "text": [
      "      col1  col2  col3\n",
      "row1     1    10   100\n",
      "row2     2    20   200\n",
      "row3     3    30   300\n"
     ]
    }
   ],
   "source": [
    "# 데이터 만들기\n",
    "data = [[1, 10, 100], [2, 20, 200], [3, 30, 300]]\n",
    "col = ['col1', 'col2', 'col3']\n",
    "row = ['row1', 'row2', 'row3']\n",
    "df= pd.DataFrame(data=data, index=row, columns=col)\n",
    "print(df)"
   ]
  },
  {
   "cell_type": "code",
   "execution_count": 27,
   "id": "1a858f5d",
   "metadata": {},
   "outputs": [
    {
     "name": "stdout",
     "output_type": "stream",
     "text": [
      "      col1  col2   col3\n",
      "row1   0.5   5.0   50.0\n",
      "row2   1.0  10.0  100.0\n",
      "row3   1.5  15.0  150.0\n"
     ]
    }
   ],
   "source": [
    "#스칼라 값 나누리\n",
    "result = df.div(2)\n",
    "print(result)"
   ]
  },
  {
   "cell_type": "code",
   "execution_count": 28,
   "id": "84213396",
   "metadata": {},
   "outputs": [
    {
     "name": "stdout",
     "output_type": "stream",
     "text": [
      "      col1  col2   col3\n",
      "row1   0.5   5.0   50.0\n",
      "row2   1.0  10.0  100.0\n",
      "row3   1.5  15.0  150.0\n"
     ]
    }
   ],
   "source": [
    "result = df/2\n",
    "print(result)"
   ]
  },
  {
   "cell_type": "code",
   "execution_count": 29,
   "id": "757c8259",
   "metadata": {},
   "outputs": [
    {
     "name": "stdout",
     "output_type": "stream",
     "text": [
      "      col1\n",
      "row1     0\n",
      "row2     2\n",
      "row3     3\n"
     ]
    }
   ],
   "source": [
    "# 다른 dataframe으로 나누기\n",
    "data2 = [[0],[2],[3]]\n",
    "df2 = pd.DataFrame(data=data2, index=['row1', 'row2', 'row3'], columns=['col1'])\n",
    "print(df2)"
   ]
  },
  {
   "cell_type": "code",
   "execution_count": 30,
   "id": "831929eb",
   "metadata": {},
   "outputs": [
    {
     "name": "stdout",
     "output_type": "stream",
     "text": [
      "      col1  col2  col3\n",
      "row1   inf   NaN   NaN\n",
      "row2   1.0   NaN   NaN\n",
      "row3   1.0   NaN   NaN\n"
     ]
    }
   ],
   "source": [
    "result=df.div(df2)\n",
    "print(result)"
   ]
  },
  {
   "cell_type": "code",
   "execution_count": 31,
   "id": "9fd65135",
   "metadata": {},
   "outputs": [
    {
     "name": "stdout",
     "output_type": "stream",
     "text": [
      "      col1  col2   col3\n",
      "row1   inf  10.0  100.0\n",
      "row2   1.0  20.0  200.0\n",
      "row3   1.0  30.0  300.0\n"
     ]
    }
   ],
   "source": [
    "result = df.div(df2, fill_value=1)\n",
    "print(result)"
   ]
  },
  {
   "cell_type": "markdown",
   "id": "44a5531b",
   "metadata": {},
   "source": [
    "1-5. 나머지(mod, rmod)"
   ]
  },
  {
   "cell_type": "code",
   "execution_count": 32,
   "id": "6236a8f7",
   "metadata": {},
   "outputs": [
    {
     "name": "stdout",
     "output_type": "stream",
     "text": [
      "      col1  col2  col3\n",
      "row1     1     2     3\n",
      "row2     4     5     6\n",
      "row3     7     8     9\n"
     ]
    }
   ],
   "source": [
    "#데이터 만들기\n",
    "data = [[1,2,3], [4,5,6], [7,8,9]]\n",
    "col = ['col1', 'col2', 'col3']\n",
    "row = ['row1', 'row2', 'row3']\n",
    "df = pd.DataFrame(data=data, index=row, columns=col)\n",
    "print(df)"
   ]
  },
  {
   "cell_type": "code",
   "execution_count": 33,
   "id": "d1713302",
   "metadata": {},
   "outputs": [
    {
     "name": "stdout",
     "output_type": "stream",
     "text": [
      "      col1  col2  col3\n",
      "row1     1     2     3\n",
      "row2     4     5     6\n",
      "row3     0     1     2\n"
     ]
    }
   ],
   "source": [
    "# 스칼라 값 나누기\n",
    "result = df.mod(7)\n",
    "print(result)"
   ]
  },
  {
   "cell_type": "code",
   "execution_count": 34,
   "id": "159ad176",
   "metadata": {},
   "outputs": [
    {
     "name": "stdout",
     "output_type": "stream",
     "text": [
      "      col1  col2  col3\n",
      "row1     1     2     3\n",
      "row2     4     5     6\n",
      "row3     0     1     2\n"
     ]
    }
   ],
   "source": [
    "result = df%7\n",
    "print(result)"
   ]
  },
  {
   "cell_type": "code",
   "execution_count": 35,
   "id": "d51929f3",
   "metadata": {},
   "outputs": [
    {
     "name": "stdout",
     "output_type": "stream",
     "text": [
      "      col1\n",
      "row1     2\n",
      "row2     3\n",
      "row3     5\n"
     ]
    }
   ],
   "source": [
    "# 다른 dataframe객체를 나누기\n",
    "data2= [[2], [3], [5]]\n",
    "df2 = pd.DataFrame(data=data2, index=['row1', 'row2', 'row3'], columns=['col1'])\n",
    "print(df2)"
   ]
  },
  {
   "cell_type": "code",
   "execution_count": 36,
   "id": "741e0e90",
   "metadata": {},
   "outputs": [
    {
     "name": "stdout",
     "output_type": "stream",
     "text": [
      "      col1  col2  col3\n",
      "row1     1   NaN   NaN\n",
      "row2     1   NaN   NaN\n",
      "row3     2   NaN   NaN\n"
     ]
    }
   ],
   "source": [
    "result = df.mod(df2)\n",
    "print(result)"
   ]
  },
  {
   "cell_type": "code",
   "execution_count": 37,
   "id": "c6e8705a",
   "metadata": {},
   "outputs": [
    {
     "name": "stdout",
     "output_type": "stream",
     "text": [
      "      col1  col2  col3\n",
      "row1     1   0.0   0.0\n",
      "row2     1   0.0   0.0\n",
      "row3     2   0.0   0.0\n"
     ]
    }
   ],
   "source": [
    "result = df.mod(df2, fill_value=1)\n",
    "print(result)"
   ]
  },
  {
   "cell_type": "markdown",
   "id": "c0717af2",
   "metadata": {},
   "source": [
    "1-6. 거듭제곱(pow, rpow)"
   ]
  },
  {
   "cell_type": "code",
   "execution_count": 38,
   "id": "2324b691",
   "metadata": {},
   "outputs": [
    {
     "name": "stdout",
     "output_type": "stream",
     "text": [
      "      col1  col2  col3\n",
      "row1     1     2     3\n",
      "row2     4     5     6\n",
      "row3     7     8     9\n"
     ]
    }
   ],
   "source": [
    "data = [[1,2,3], [4,5,6], [7,8,9]]\n",
    "col = ['col1', 'col2', 'col3']\n",
    "row = ['row1', 'row2', 'row3']\n",
    "df=pd.DataFrame(data=data, index=row, columns=col)\n",
    "print(df)"
   ]
  },
  {
   "cell_type": "code",
   "execution_count": 39,
   "id": "29971a41",
   "metadata": {},
   "outputs": [
    {
     "name": "stdout",
     "output_type": "stream",
     "text": [
      "      col1  col2  col3\n",
      "row1     1     8    27\n",
      "row2    64   125   216\n",
      "row3   343   512   729\n"
     ]
    }
   ],
   "source": [
    "#스칼라 값 제곱하기\n",
    "result = df.pow(3)\n",
    "print(result)"
   ]
  },
  {
   "cell_type": "code",
   "execution_count": 40,
   "id": "dbc95048",
   "metadata": {},
   "outputs": [
    {
     "name": "stdout",
     "output_type": "stream",
     "text": [
      "      col1  col2  col3\n",
      "row1     1     8    27\n",
      "row2    64   125   216\n",
      "row3   343   512   729\n"
     ]
    }
   ],
   "source": [
    "result = df**3\n",
    "print(result)"
   ]
  },
  {
   "cell_type": "code",
   "execution_count": 41,
   "id": "f4c9097c",
   "metadata": {},
   "outputs": [
    {
     "name": "stdout",
     "output_type": "stream",
     "text": [
      "      col1\n",
      "row1     0\n",
      "row2     3\n",
      "row3     5\n"
     ]
    }
   ],
   "source": [
    "# 다른 dataframe 객체를 제곱하기\n",
    "data2 = [[0], [3], [5]]\n",
    "df2 = pd.DataFrame(data=data2, index=['row1', 'row2', 'row3'], columns=['col1'])\n",
    "print(df2)"
   ]
  },
  {
   "cell_type": "code",
   "execution_count": 42,
   "id": "e8fe4741",
   "metadata": {},
   "outputs": [
    {
     "name": "stdout",
     "output_type": "stream",
     "text": [
      "       col1  col2  col3\n",
      "row1      1   NaN   NaN\n",
      "row2     64   NaN   NaN\n",
      "row3  16807   NaN   NaN\n"
     ]
    }
   ],
   "source": [
    "result=df.pow(df2)\n",
    "print(result)"
   ]
  },
  {
   "cell_type": "code",
   "execution_count": 43,
   "id": "6195111e",
   "metadata": {},
   "outputs": [
    {
     "name": "stdout",
     "output_type": "stream",
     "text": [
      "       col1  col2  col3\n",
      "row1      1   1.0   1.0\n",
      "row2     64   1.0   1.0\n",
      "row3  16807   1.0   1.0\n"
     ]
    }
   ],
   "source": [
    "result = df.pow(df2, fill_value=0)\n",
    "print(result)"
   ]
  },
  {
   "cell_type": "markdown",
   "id": "53493465",
   "metadata": {},
   "source": [
    "1-7. 행렬곱(dot)\n",
    "* DataFrame.dot(other)"
   ]
  },
  {
   "cell_type": "code",
   "execution_count": 44,
   "id": "d2480732",
   "metadata": {},
   "outputs": [
    {
     "name": "stdout",
     "output_type": "stream",
     "text": [
      "   0  1\n",
      "0  1  2\n",
      "1  3  4\n",
      "   0  1\n",
      "0  5  6\n",
      "1  7  8\n"
     ]
    }
   ],
   "source": [
    "col = ['col1', 'col2']\n",
    "row = ['row1', 'row2']\n",
    "data1 = [[1,2], [3,4]]\n",
    "data2 = [[5,6], [7,8]]\n",
    "df1 = pd.DataFrame(data=data1)\n",
    "print(df1)\n",
    "df2 = pd.DataFrame(data=data2)\n",
    "print(df2)"
   ]
  },
  {
   "cell_type": "code",
   "execution_count": 45,
   "id": "a033cefb",
   "metadata": {},
   "outputs": [
    {
     "name": "stdout",
     "output_type": "stream",
     "text": [
      "    0   1\n",
      "0  19  22\n",
      "1  43  50\n"
     ]
    }
   ],
   "source": [
    "# dataframe간 행렬곲\n",
    "df3= df1.dot(df2)\n",
    "print(df3)"
   ]
  },
  {
   "cell_type": "markdown",
   "id": "8fe79f8b",
   "metadata": {},
   "source": [
    "# 2. 객체 내 연산"
   ]
  },
  {
   "cell_type": "markdown",
   "id": "b4bf0d25",
   "metadata": {},
   "source": [
    "2-1. 반올림(round)\n",
    "* df.round(decimals=0, args, kwargs)"
   ]
  },
  {
   "cell_type": "code",
   "execution_count": 46,
   "id": "907e23a0",
   "metadata": {},
   "outputs": [
    {
     "name": "stdout",
     "output_type": "stream",
     "text": [
      "           col1       col2       col3\n",
      "row1  84.725174  62.356370  38.438171\n",
      "row2  29.753461   5.671298  27.265629\n",
      "row3  47.766512  81.216873  47.997717\n"
     ]
    }
   ],
   "source": [
    "col = ['col1', 'col2', 'col3']\n",
    "row = ['row1', 'row2', 'row3']\n",
    "data=np.random.rand(3,3)*100\n",
    "df=pd.DataFrame(data=data, index=row, columns=col)\n",
    "print(df)"
   ]
  },
  {
   "cell_type": "code",
   "execution_count": 47,
   "id": "2ef5c69a",
   "metadata": {},
   "outputs": [
    {
     "name": "stdout",
     "output_type": "stream",
     "text": [
      "      col1  col2  col3\n",
      "row1  85.0  62.0  38.0\n",
      "row2  30.0   6.0  27.0\n",
      "row3  48.0  81.0  48.0\n"
     ]
    }
   ],
   "source": [
    "# decimals = 0인 경우\n",
    "print(df.round(0))"
   ]
  },
  {
   "cell_type": "code",
   "execution_count": 48,
   "id": "cfa8d5fc",
   "metadata": {},
   "outputs": [
    {
     "name": "stdout",
     "output_type": "stream",
     "text": [
      "      col1  col2  col3\n",
      "row1  84.7  62.4  38.4\n",
      "row2  29.8   5.7  27.3\n",
      "row3  47.8  81.2  48.0\n"
     ]
    }
   ],
   "source": [
    "# decimals > 0인 경우\n",
    "print(df.round(1))"
   ]
  },
  {
   "cell_type": "code",
   "execution_count": 49,
   "id": "09cc34f2",
   "metadata": {},
   "outputs": [
    {
     "name": "stdout",
     "output_type": "stream",
     "text": [
      "       col1   col2   col3\n",
      "row1  84.73  62.36  38.44\n",
      "row2  29.75   5.67  27.27\n",
      "row3  47.77  81.22  48.00\n"
     ]
    }
   ],
   "source": [
    "print(df.round(2))"
   ]
  },
  {
   "cell_type": "code",
   "execution_count": 50,
   "id": "3d09895e",
   "metadata": {},
   "outputs": [
    {
     "name": "stdout",
     "output_type": "stream",
     "text": [
      "      col1  col2  col3\n",
      "row1  80.0  60.0  40.0\n",
      "row2  30.0  10.0  30.0\n",
      "row3  50.0  80.0  50.0\n"
     ]
    }
   ],
   "source": [
    "# decimals < 0인 경우 : 양수인 경우 10의 n승짜리까지 반올림한다.\n",
    "print(df.round(-1))"
   ]
  },
  {
   "cell_type": "markdown",
   "id": "44dbd803",
   "metadata": {},
   "source": [
    "2-2. 합계(sum)"
   ]
  },
  {
   "cell_type": "code",
   "execution_count": 51,
   "id": "aae72280",
   "metadata": {},
   "outputs": [
    {
     "name": "stdout",
     "output_type": "stream",
     "text": [
      "      col1  col2  col3\n",
      "row1     1   2.0     3\n",
      "row2     4   5.0     6\n",
      "row3     7   NaN     9\n"
     ]
    }
   ],
   "source": [
    "col = ['col1','col2','col3']\n",
    "row = ['row1','row2','row3']\n",
    "data = [[1,2,3], [4,5,6], [7,np.NaN,9]]\n",
    "df = pd.DataFrame(data=data, index=row, columns=col)\n",
    "print(df)"
   ]
  },
  {
   "cell_type": "code",
   "execution_count": 52,
   "id": "5c9446e1",
   "metadata": {},
   "outputs": [
    {
     "name": "stdout",
     "output_type": "stream",
     "text": [
      "col1    12.0\n",
      "col2     7.0\n",
      "col3    18.0\n",
      "dtype: float64\n"
     ]
    }
   ],
   "source": [
    "#axis를 설정하여 더하기 수행\n",
    "print(df.sum(axis=0)) # 0= 열의 요소들의 합, 1= 행의 요소들의 합"
   ]
  },
  {
   "cell_type": "code",
   "execution_count": 53,
   "id": "838dde4a",
   "metadata": {},
   "outputs": [
    {
     "name": "stdout",
     "output_type": "stream",
     "text": [
      "row1     6.0\n",
      "row2    15.0\n",
      "row3    16.0\n",
      "dtype: float64\n"
     ]
    }
   ],
   "source": [
    "print(df.sum(axis=1))"
   ]
  },
  {
   "cell_type": "code",
   "execution_count": 54,
   "id": "e4494e35",
   "metadata": {},
   "outputs": [
    {
     "name": "stdout",
     "output_type": "stream",
     "text": [
      "col1    12.0\n",
      "col2     NaN\n",
      "col3    18.0\n",
      "dtype: float64\n"
     ]
    }
   ],
   "source": [
    "#skipna를 변경하여 계산하기\n",
    "print(df.sum(axis=0, skipna = False))"
   ]
  },
  {
   "cell_type": "code",
   "execution_count": 55,
   "id": "801d1e50",
   "metadata": {},
   "outputs": [
    {
     "name": "stdout",
     "output_type": "stream",
     "text": [
      "row1     6.0\n",
      "row2    15.0\n",
      "row3     NaN\n",
      "dtype: float64\n"
     ]
    }
   ],
   "source": [
    "print(df.sum(axis=1, min_count=3)) #min_count = 계산에 필요한 숫자의 최소 갯수"
   ]
  },
  {
   "cell_type": "code",
   "execution_count": null,
   "id": "97c6e74a",
   "metadata": {},
   "outputs": [],
   "source": []
  },
  {
   "cell_type": "markdown",
   "id": "c5b4a629",
   "metadata": {},
   "source": [
    "2-3. 곱(prod, product)"
   ]
  },
  {
   "cell_type": "code",
   "execution_count": 56,
   "id": "4e3d9bbc",
   "metadata": {},
   "outputs": [
    {
     "name": "stdout",
     "output_type": "stream",
     "text": [
      "      col1  col2  col3\n",
      "row1     1   2.0     3\n",
      "row2     4   5.0     6\n",
      "row3     7   NaN     9\n"
     ]
    }
   ],
   "source": [
    "col = ['col1','col2','col3']\n",
    "row = ['row1','row2','row3']\n",
    "data = [[1,2,3],[4,5,6],[7,np.NaN,9]]\n",
    "df = pd.DataFrame(data=data, index=row, columns=col)\n",
    "print(df)"
   ]
  },
  {
   "cell_type": "code",
   "execution_count": 57,
   "id": "4e4146d6",
   "metadata": {},
   "outputs": [
    {
     "name": "stdout",
     "output_type": "stream",
     "text": [
      "col1     28.0\n",
      "col2     10.0\n",
      "col3    162.0\n",
      "dtype: float64\n"
     ]
    }
   ],
   "source": [
    "# axis를 설정하여 곱하기 수행 0 =열의 요소들의 곱, 1 = 행의 요소들의 곱\n",
    "print(df.prod(axis=0))"
   ]
  },
  {
   "cell_type": "code",
   "execution_count": 58,
   "id": "3b19a3b6",
   "metadata": {},
   "outputs": [
    {
     "name": "stdout",
     "output_type": "stream",
     "text": [
      "row1      6.0\n",
      "row2    120.0\n",
      "row3     63.0\n",
      "dtype: float64\n"
     ]
    }
   ],
   "source": [
    "print(df.prod(axis=1))"
   ]
  },
  {
   "cell_type": "code",
   "execution_count": 59,
   "id": "c91c072e",
   "metadata": {},
   "outputs": [
    {
     "name": "stdout",
     "output_type": "stream",
     "text": [
      "col1     28.0\n",
      "col2      NaN\n",
      "col3    162.0\n",
      "dtype: float64\n"
     ]
    }
   ],
   "source": [
    "#skipna를 변경하여 계산하기\n",
    "print(df.prod(axis=0, skipna=False))"
   ]
  },
  {
   "cell_type": "code",
   "execution_count": 60,
   "id": "aea2cda5",
   "metadata": {},
   "outputs": [
    {
     "name": "stdout",
     "output_type": "stream",
     "text": [
      "row1      6.0\n",
      "row2    120.0\n",
      "row3      NaN\n",
      "dtype: float64\n"
     ]
    }
   ],
   "source": [
    "#min_count변경하여 계산하기 : 계산에 필요한 숫자의 최소 갯수\n",
    "print(df.prod(axis=1, min_count=3))"
   ]
  },
  {
   "cell_type": "markdown",
   "id": "192a0768",
   "metadata": {},
   "source": [
    "2-4. 절대값(abs)\n",
    "* DataFrame.abs()"
   ]
  },
  {
   "cell_type": "code",
   "execution_count": 61,
   "id": "3c34da9a",
   "metadata": {},
   "outputs": [
    {
     "name": "stdout",
     "output_type": "stream",
     "text": [
      "      col1  col2      col3\n",
      "row1    -1   2.0 -3.5+0.0j\n",
      "row2     4  -5.5  3.0+4.0j\n",
      "row3     7   NaN  0.0+0.0j\n"
     ]
    }
   ],
   "source": [
    "col = ['col1','col2','col3']\n",
    "row = ['row1','row2','row3']\n",
    "data = [[-1,2,-3.5],[4,-5.5, 3+4j],[7,np.NaN,0]]\n",
    "df = pd.DataFrame(data=data,index=row,columns=col)\n",
    "print(df)"
   ]
  },
  {
   "cell_type": "code",
   "execution_count": 62,
   "id": "eb7dbf24",
   "metadata": {},
   "outputs": [
    {
     "name": "stdout",
     "output_type": "stream",
     "text": [
      "      col1  col2  col3\n",
      "row1     1   2.0   3.5\n",
      "row2     4   5.5   5.0\n",
      "row3     7   NaN   0.0\n"
     ]
    }
   ],
   "source": [
    "print(df.abs())"
   ]
  },
  {
   "cell_type": "markdown",
   "id": "9b411ced",
   "metadata": {},
   "source": [
    "2-5. 전치(transpose, T)\n",
    "* DataFrame.transpose(args, copy=False)\n",
    "* DataFrame.T(args, copy=False)"
   ]
  },
  {
   "cell_type": "code",
   "execution_count": 63,
   "id": "1a45aaff",
   "metadata": {},
   "outputs": [
    {
     "name": "stdout",
     "output_type": "stream",
     "text": [
      "     col1  col2  col3\n",
      "row1    A     1     2\n",
      "row2    B     3     4\n",
      "row3    C     5     6\n",
      "row4    D     7     8\n"
     ]
    }
   ],
   "source": [
    "# 데이터 만들기\n",
    "col = ['col1', 'col2', 'col3']\n",
    "row = ['row1', 'row2', 'row3','row4']\n",
    "data = [['A',1,2], ['B',3,4], ['C',5,6], ['D', 7,8]]\n",
    "df= pd.DataFrame(data=data, index=row, columns=col)\n",
    "print(df)"
   ]
  },
  {
   "cell_type": "code",
   "execution_count": 64,
   "id": "ec3451a3",
   "metadata": {
    "scrolled": true
   },
   "outputs": [
    {
     "name": "stdout",
     "output_type": "stream",
     "text": [
      "     row1 row2 row3 row4\n",
      "col1    A    B    C    D\n",
      "col2    1    3    5    7\n",
      "col3    2    4    6    8\n"
     ]
    }
   ],
   "source": [
    "# transpose 메서드 실행 : 행과 열이 전치됨\n",
    "print(df.transpose())"
   ]
  },
  {
   "cell_type": "markdown",
   "id": "4571486e",
   "metadata": {},
   "source": [
    "2-6. 순위(rank)\n",
    "* DataFrame.rank(axis=0, method='average', numeric_only=None, na_option='keep', ascending = True, pct=False)\n",
    "* axis = 0 : 행, 1 : 열\n",
    "* method =  {'average'/ 'min' / 'max'/ 'first' / 'dense'} 동순위 일 때 처리 방법\n",
    "* numeric_only = {False / True}숫자만 순위를 매길지 여부\n",
    "* na_option = {'keep' / 'top' / 'bottom'}NaN값의 처리 방법, keep의 경우 NaN순위 할당, top의 경우 낮은 순위 할당, bottom의 경우 높은 순위 할당\n",
    "* ascending - 오름차순의 여부\n",
    "* pct : 백분위수형식으로 할지 여부"
   ]
  },
  {
   "cell_type": "code",
   "execution_count": 65,
   "id": "a9fac41a",
   "metadata": {},
   "outputs": [
    {
     "name": "stdout",
     "output_type": "stream",
     "text": [
      "   Value\n",
      "A★     5\n",
      "B★     5\n",
      "C   <NA>\n",
      "D☆     3\n",
      "E   -3.1\n",
      "F★     5\n",
      "G    0.4\n",
      "H    6.7\n",
      "I☆     3\n"
     ]
    }
   ],
   "source": [
    "data = [[5],[5],[pd.NA],[3],[-3.1],[5],[0.4],[6.7],[3]]\n",
    "row = ['A★','B★','C','D☆','E','F★','G','H','I☆']\n",
    "df = pd.DataFrame(data=data, index=row, columns=['Value'])\n",
    "print(df)"
   ]
  },
  {
   "cell_type": "code",
   "execution_count": 66,
   "id": "5c5e0f57",
   "metadata": {},
   "outputs": [
    {
     "name": "stdout",
     "output_type": "stream",
     "text": [
      "   Value  average  min  max  first  dense\n",
      "A★     5      6.0  5.0  7.0    5.0    4.0\n",
      "B★     5      6.0  5.0  7.0    6.0    4.0\n",
      "C   <NA>      NaN  NaN  NaN    NaN    NaN\n",
      "D☆     3      3.5  3.0  4.0    3.0    3.0\n",
      "E   -3.1      1.0  1.0  1.0    1.0    1.0\n",
      "F★     5      6.0  5.0  7.0    7.0    4.0\n",
      "G    0.4      2.0  2.0  2.0    2.0    2.0\n",
      "H    6.7      8.0  8.0  8.0    8.0    5.0\n",
      "I☆     3      3.5  3.0  4.0    4.0    3.0\n"
     ]
    }
   ],
   "source": [
    "#method : 순위가 매겨지는 방법을 말함. \n",
    "df['average'] = df['Value'].rank(method='average') # 평균 순위가 같으면 평균 \n",
    "df['min'] = df['Value'].rank(method='min') #낮은 순위 서로 같으면 낮은 순위로 \n",
    "df['max'] = df['Value'].rank(method='max') #높은 순위 서로 같으면 높은 순위로\n",
    "df['first'] = df['Value'].rank(method='first') #나타내는 순서대로\n",
    "df['dense'] = df['Value'].rank(method='dense') #min과 같지만 그룹간 순위는 1씩 증가\n",
    "print(df)"
   ]
  },
  {
   "cell_type": "code",
   "execution_count": 67,
   "id": "92ffb17d",
   "metadata": {},
   "outputs": [
    {
     "name": "stdout",
     "output_type": "stream",
     "text": [
      "   Value  average  min  max  first  dense  keep  top  bottom     pct\n",
      "A★     5      6.0  5.0  7.0    5.0    4.0   6.0  7.0     6.0  0.7500\n",
      "B★     5      6.0  5.0  7.0    6.0    4.0   6.0  7.0     6.0  0.7500\n",
      "C   <NA>      NaN  NaN  NaN    NaN    NaN   NaN  1.0     9.0     NaN\n",
      "D☆     3      3.5  3.0  4.0    3.0    3.0   3.5  4.5     3.5  0.4375\n",
      "E   -3.1      1.0  1.0  1.0    1.0    1.0   1.0  2.0     1.0  0.1250\n",
      "F★     5      6.0  5.0  7.0    7.0    4.0   6.0  7.0     6.0  0.7500\n",
      "G    0.4      2.0  2.0  2.0    2.0    2.0   2.0  3.0     2.0  0.2500\n",
      "H    6.7      8.0  8.0  8.0    8.0    5.0   8.0  9.0     8.0  1.0000\n",
      "I☆     3      3.5  3.0  4.0    4.0    3.0   3.5  4.5     3.5  0.4375\n"
     ]
    }
   ],
   "source": [
    "#na_option에 따른 차이 : NaN이 포함된 경우 순위가 매겨지는 방법\n",
    "df['keep'] = df['Value'].rank(na_option='keep') #NaN 을 부여해서 그대로\n",
    "df['top'] = df['Value'].rank(na_option = 'top') #Na에게 가장 높은 순위 부여\n",
    "df['bottom'] = df['Value'].rank(na_option = 'bottom') #Na에게 가장 낮은 순위\n",
    "df['pct'] = df['Value'].rank(pct=True)\n",
    "print(df)"
   ]
  },
  {
   "cell_type": "markdown",
   "id": "86c58560",
   "metadata": {},
   "source": [
    "2-7. 차이[이산] (diff)\n",
    "* diff : 한 객체 내에서 열과 열 / 행과 행의 차이를 출력\n",
    "* axis : 비교할 축을 지정, axis=0 인 경우 행끼리 비교, axis=1인 경우 열끼리 비교\n",
    "* periods : 비교할 간격 지정"
   ]
  },
  {
   "cell_type": "code",
   "execution_count": 68,
   "id": "eb2aa239",
   "metadata": {},
   "outputs": [
    {
     "name": "stdout",
     "output_type": "stream",
     "text": [
      "   col1  col2  col3\n",
      "0     1     1     8\n",
      "1     2     2     7\n",
      "2     3     4     6\n",
      "3     4     8     5\n",
      "4     5    16     4\n",
      "5     6    32     3\n",
      "6     7    64     2\n",
      "7     8   128     1\n"
     ]
    }
   ],
   "source": [
    "a= [1,2,3,4,5,6,7,8]\n",
    "b= [1,2,4,8,16,32,64,128]\n",
    "c= [8,7,6,5,4,3,2,1]\n",
    "data = {'col1':a, 'col2':b, 'col3':c}\n",
    "df=pd.DataFrame(data)\n",
    "print(df)"
   ]
  },
  {
   "cell_type": "code",
   "execution_count": 69,
   "id": "567832ee",
   "metadata": {},
   "outputs": [
    {
     "name": "stdout",
     "output_type": "stream",
     "text": [
      "   col1  col2  col3\n",
      "0   NaN   NaN   NaN\n",
      "1   1.0   1.0  -1.0\n",
      "2   1.0   2.0  -1.0\n",
      "3   1.0   4.0  -1.0\n",
      "4   1.0   8.0  -1.0\n",
      "5   1.0  16.0  -1.0\n",
      "6   1.0  32.0  -1.0\n",
      "7   1.0  64.0  -1.0\n"
     ]
    }
   ],
   "source": [
    "#axis = 0인 경우 - 행 - 바로 전 행의 값을 출력, 비교할 값이 없으면 NaN\n",
    "print(df.diff(axis=0))"
   ]
  },
  {
   "cell_type": "code",
   "execution_count": 70,
   "id": "1e90c658",
   "metadata": {},
   "outputs": [
    {
     "name": "stdout",
     "output_type": "stream",
     "text": [
      "   col1  col2  col3\n",
      "0   NaN     0     7\n",
      "1   NaN     0     5\n",
      "2   NaN     1     2\n",
      "3   NaN     4    -3\n",
      "4   NaN    11   -12\n",
      "5   NaN    26   -29\n",
      "6   NaN    57   -62\n",
      "7   NaN   120  -127\n"
     ]
    }
   ],
   "source": [
    "#axis=1인 경우 열-바로 전 행의 값을 출력, 비교할 값이 없으면 NaN\n",
    "print(df.diff(axis=1)) "
   ]
  },
  {
   "cell_type": "code",
   "execution_count": 71,
   "id": "d27d0504",
   "metadata": {},
   "outputs": [
    {
     "name": "stdout",
     "output_type": "stream",
     "text": [
      "   col1   col2  col3\n",
      "0   NaN    NaN   NaN\n",
      "1   NaN    NaN   NaN\n",
      "2   NaN    NaN   NaN\n",
      "3   3.0    7.0  -3.0\n",
      "4   3.0   14.0  -3.0\n",
      "5   3.0   28.0  -3.0\n",
      "6   3.0   56.0  -3.0\n",
      "7   3.0  112.0  -3.0\n"
     ]
    }
   ],
   "source": [
    "#periods 의 사용 바로 이전 값과의 차\n",
    "# +3이면 3칸 이전 값과 비교, -2이면 2칸 아후 값과 비교\n",
    "print(df.diff(periods=3))"
   ]
  },
  {
   "cell_type": "code",
   "execution_count": 72,
   "id": "fc59b729",
   "metadata": {},
   "outputs": [
    {
     "name": "stdout",
     "output_type": "stream",
     "text": [
      "   col1  col2  col3\n",
      "0  -2.0  -3.0   2.0\n",
      "1  -2.0  -6.0   2.0\n",
      "2  -2.0 -12.0   2.0\n",
      "3  -2.0 -24.0   2.0\n",
      "4  -2.0 -48.0   2.0\n",
      "5  -2.0 -96.0   2.0\n",
      "6   NaN   NaN   NaN\n",
      "7   NaN   NaN   NaN\n"
     ]
    }
   ],
   "source": [
    "print(df.diff(periods = -2))"
   ]
  },
  {
   "cell_type": "markdown",
   "id": "262c5b28",
   "metadata": {},
   "source": [
    "2-8. 차이[백분율] (pct_change)"
   ]
  },
  {
   "cell_type": "code",
   "execution_count": 73,
   "id": "18c7409b",
   "metadata": {},
   "outputs": [
    {
     "name": "stdout",
     "output_type": "stream",
     "text": [
      "   col1  col2  col3\n",
      "0     1     1   1.0\n",
      "1     1     2   NaN\n",
      "2     4     4   NaN\n",
      "3     4     8   NaN\n",
      "4     1    16  16.0\n",
      "5     1    32  64.0\n"
     ]
    }
   ],
   "source": [
    "a= [1,1,4,4,1,1]\n",
    "b= [1,2,4,8,16,32]\n",
    "c= [1,np.NaN, np.NaN,np.NaN,16,64]\n",
    "data = {'col1': a, 'col2':b, 'col3':c}\n",
    "df=pd.DataFrame(data)\n",
    "print(df)"
   ]
  },
  {
   "cell_type": "code",
   "execution_count": 74,
   "id": "1960bc13",
   "metadata": {},
   "outputs": [
    {
     "name": "stdout",
     "output_type": "stream",
     "text": [
      "   col1  col2  col3\n",
      "0   NaN   NaN   NaN\n",
      "1  0.00   1.0   0.0\n",
      "2  3.00   1.0   0.0\n",
      "3  0.00   1.0   0.0\n",
      "4 -0.75   1.0  15.0\n",
      "5  0.00   1.0   3.0\n"
     ]
    }
   ],
   "source": [
    "print(df.pct_change()) #(다음행 - 현재행)/현재행"
   ]
  },
  {
   "cell_type": "code",
   "execution_count": 75,
   "id": "3bfc75df",
   "metadata": {},
   "outputs": [
    {
     "name": "stdout",
     "output_type": "stream",
     "text": [
      "   col1  col2  col3\n",
      "0   NaN   NaN   NaN\n",
      "1   NaN   NaN   NaN\n",
      "2  3.00   3.0   0.0\n",
      "3  3.00   3.0   0.0\n",
      "4 -0.75   3.0  15.0\n",
      "5 -0.75   3.0  63.0\n"
     ]
    }
   ],
   "source": [
    "#periods 인수 사용\n",
    "print(df.pct_change(periods=2))"
   ]
  },
  {
   "cell_type": "code",
   "execution_count": 76,
   "id": "5c3466b9",
   "metadata": {},
   "outputs": [
    {
     "name": "stdout",
     "output_type": "stream",
     "text": [
      "   col1  col2    col3\n",
      "0  0.00  -0.5  0.0000\n",
      "1 -0.75  -0.5  0.0000\n",
      "2  0.00  -0.5  0.0000\n",
      "3  3.00  -0.5 -0.9375\n",
      "4  0.00  -0.5 -0.7500\n",
      "5   NaN   NaN     NaN\n"
     ]
    }
   ],
   "source": [
    "print(df.pct_change(periods=-1))"
   ]
  },
  {
   "cell_type": "code",
   "execution_count": 77,
   "id": "f4200407",
   "metadata": {},
   "outputs": [
    {
     "name": "stdout",
     "output_type": "stream",
     "text": [
      "   col1  col2  col3\n",
      "0   NaN   NaN   NaN\n",
      "1  0.00   1.0  15.0\n",
      "2  3.00   1.0   0.0\n",
      "3  0.00   1.0   0.0\n",
      "4 -0.75   1.0   0.0\n",
      "5  0.00   1.0   3.0\n"
     ]
    }
   ],
   "source": [
    "#fill_method/limit 인수 사용\n",
    "# fill_method : 결측치를 대체할 값을 지정할 수 있다.\n",
    "# fill_method = 'ffill' 인 경우는 기본값으로 바로 윗값으로 결측치 대체\n",
    "# fill_method = 'bfill'인 경우는 바로 아랫값으로 결측치 대체\n",
    "print(df.pct_change(fill_method='bfill'))"
   ]
  },
  {
   "cell_type": "code",
   "execution_count": 78,
   "id": "53333e2c",
   "metadata": {},
   "outputs": [
    {
     "name": "stdout",
     "output_type": "stream",
     "text": [
      "   col1  col2  col3\n",
      "0   NaN   NaN   NaN\n",
      "1  0.00   1.0   0.0\n",
      "2  3.00   1.0   0.0\n",
      "3  0.00   1.0   NaN\n",
      "4 -0.75   1.0   NaN\n",
      "5  0.00   1.0   3.0\n"
     ]
    }
   ],
   "source": [
    "#limit = 결측치를 몇개까지 대체할지 지정\n",
    "print(df.pct_change(limit=2))"
   ]
  },
  {
   "cell_type": "markdown",
   "id": "eed8e4d6",
   "metadata": {},
   "source": [
    "2-9. 누적 계산(expending)\n",
    "* expending : 행이나 열의 값에 대해 누적으로 연산을 수행하는 메서드\n",
    "* df.expanding().sum() 추가 메서드를 이용하여 연산 수행\n",
    "* min_periods : 연산을 수행할 요소의 최소 갯수\n",
    "* center : 미사용\n",
    "* axis : 누적 연산을 수행할 축을 지정\n",
    "* method : {single/table}연산을 한 줄씩 수행할지 아니면 전체 테이블에 대해서 롤링을 수행할지 여부"
   ]
  },
  {
   "cell_type": "code",
   "execution_count": 79,
   "id": "86b3f74e",
   "metadata": {},
   "outputs": [
    {
     "name": "stdout",
     "output_type": "stream",
     "text": [
      "      col1  col2\n",
      "row1     1     3\n",
      "row2     2     7\n",
      "row3     3     5\n",
      "row4     4     6\n"
     ]
    }
   ],
   "source": [
    "import numba\n",
    "data = {'col1':[1,2,3,4], 'col2':[3,7,5,6]}\n",
    "idx =['row1','row2','row3','row4']\n",
    "df=pd.DataFrame(data=data, index=idx)\n",
    "print(df)"
   ]
  },
  {
   "cell_type": "code",
   "execution_count": 80,
   "id": "1109f6dd",
   "metadata": {},
   "outputs": [
    {
     "name": "stdout",
     "output_type": "stream",
     "text": [
      "      col1  col2\n",
      "row1   1.0   3.0\n",
      "row2   3.0  10.0\n",
      "row3   6.0  15.0\n",
      "row4  10.0  21.0\n"
     ]
    }
   ],
   "source": [
    "print(df.expanding().sum())"
   ]
  },
  {
   "cell_type": "code",
   "execution_count": 81,
   "id": "002d2f3e",
   "metadata": {},
   "outputs": [
    {
     "name": "stdout",
     "output_type": "stream",
     "text": [
      "      col1  col2\n",
      "row1   NaN   NaN\n",
      "row2   NaN   NaN\n",
      "row3   NaN   NaN\n",
      "row4  10.0  21.0\n"
     ]
    }
   ],
   "source": [
    "print(df.expanding(min_periods=4).sum()) #min_period를 지정하게 되면, 입력값 만큼의 갯수가 충족되지 않으면 연산을 하지 않고 NaN반환"
   ]
  },
  {
   "cell_type": "code",
   "execution_count": 82,
   "id": "13dbb1ef",
   "metadata": {},
   "outputs": [
    {
     "name": "stdout",
     "output_type": "stream",
     "text": [
      "      col1  col2\n",
      "row1   1.0   4.0\n",
      "row2   2.0   9.0\n",
      "row3   3.0   8.0\n",
      "row4   4.0  10.0\n"
     ]
    }
   ],
   "source": [
    "print(df.expanding(axis=1).sum()) #열끼리 합하기"
   ]
  },
  {
   "cell_type": "code",
   "execution_count": 83,
   "id": "e1c1c488",
   "metadata": {},
   "outputs": [
    {
     "name": "stdout",
     "output_type": "stream",
     "text": [
      "      col1  col2\n",
      "row1   1.0   3.0\n",
      "row2   3.0  10.0\n",
      "row3   6.0  15.0\n",
      "row4  10.0  21.0\n"
     ]
    }
   ],
   "source": [
    "print(df.expanding(method='table').sum(engine='numba')) #수열의 합처럼, 테이블\n",
    "#numba : 파이썬 코드를 LLVM컴파일러를 이용해 머신코드로 바꾸어 수치연산을 가속해주는 라이브러리"
   ]
  },
  {
   "cell_type": "markdown",
   "id": "bda0d9b6",
   "metadata": {},
   "source": [
    "- method='table'로 입력할 경우 numba 라이브러리를 이용해 연산을 테이블단위로 롤링할 수 있다.\n",
    "- 추가 연산 메서드에 인수로 engine='numba'지정해준다 "
   ]
  },
  {
   "cell_type": "markdown",
   "id": "e3101444",
   "metadata": {},
   "source": [
    "2-10. 기간이동 계산(rolling)\n",
    "* rolling : 현재 열에 대하여 일정 크기의 창(window)를 이용하여 window 안의 값을 추가 메서드를 통해 계산하는 메서드\n",
    "* df.rolling(window, min_periods=None, center=False, win_type=None, axis=0, closed=None, method='single')\n",
    "* window : 계산할 창의 크기, 열 기준으로 계산할 경우 행의 수\n",
    "* min_periods : 계산할 최소 크기(기간) / window 안의 값의 수가 min_periods의 값보다 작을 경우 NaN을 출력함.\n",
    "* center : windows의 중간에 둘지 여부 기본값 : 창 우측에 위치\n",
    "* win_type : 가중치를 넣어 계산할 경우 계산방식, 연산 메서드에 추가 인수를 지정해야할 수 있다.\n",
    "* on : 시계열 인덱스나, 시계열과 유사한 열이 있을 경우 이 열을 기준으로 rolling을 수행할 수 있다.\n",
    "* axis : 계산의 기준이 될 축\n",
    "* closed : left, right, both, neither -> window가 닫히는 방향\n",
    "* method : single, table numba를 이용하여 테이블 계산을 진행하여 속도를 높힐지 여부"
   ]
  },
  {
   "cell_type": "code",
   "execution_count": 84,
   "id": "b4753697",
   "metadata": {},
   "outputs": [
    {
     "name": "stdout",
     "output_type": "stream",
     "text": [
      "      col1              col2\n",
      "row1     1  2022-01-13 00:00\n",
      "row2     2  2022-01-13 00:30\n",
      "row3     3  2022-01-13 01:00\n",
      "row4     4  2022-01-13 01:30\n",
      "row5     5  2022-01-13 02:00\n",
      "row6     6  2022-01-13 02:30\n"
     ]
    }
   ],
   "source": [
    "period = pd.period_range(start ='2022-01-13 00:00:00', end='2022-01-13 02:30:00', freq='30T')\n",
    "data = {'col1':[1,2,3,4,5,6], 'col2':period}\n",
    "idx = ['row1', 'row2', 'row3','row4','row5', 'row6']\n",
    "df = pd.DataFrame(data=data, index=idx)\n",
    "print(df)"
   ]
  },
  {
   "cell_type": "code",
   "execution_count": 85,
   "id": "3b6dbc32",
   "metadata": {},
   "outputs": [
    {
     "name": "stdout",
     "output_type": "stream",
     "text": [
      "      col1\n",
      "row1   NaN\n",
      "row2   NaN\n",
      "row3   6.0\n",
      "row4   9.0\n",
      "row5  12.0\n",
      "row6  15.0\n"
     ]
    }
   ],
   "source": [
    "print(df.rolling(window=3).sum()) #뒤에 추가 메서드를 이용하여 연산을 지정해주기"
   ]
  },
  {
   "cell_type": "code",
   "execution_count": 86,
   "id": "3a3c06a5",
   "metadata": {},
   "outputs": [
    {
     "name": "stdout",
     "output_type": "stream",
     "text": [
      "      col1\n",
      "row1   NaN\n",
      "row2   NaN\n",
      "row3   NaN\n",
      "row4   6.0\n",
      "row5   9.0\n",
      "row6  12.0\n"
     ]
    }
   ],
   "source": [
    "#closed 인수의 사용 closed는 계산의 닫는 위치 지정하기\n",
    "print(df.rolling(window=3, closed='left').sum()) # 3<= x < 6"
   ]
  },
  {
   "cell_type": "code",
   "execution_count": 87,
   "id": "68db2cd2",
   "metadata": {},
   "outputs": [
    {
     "name": "stdout",
     "output_type": "stream",
     "text": [
      "      col1\n",
      "row1   NaN\n",
      "row2   NaN\n",
      "row3   6.0\n",
      "row4   9.0\n",
      "row5  12.0\n",
      "row6  15.0\n"
     ]
    }
   ],
   "source": [
    "print(df.rolling(window=3, closed='right').sum()) # 3 < x <= 6"
   ]
  },
  {
   "cell_type": "code",
   "execution_count": 88,
   "id": "6f97e9b1",
   "metadata": {},
   "outputs": [
    {
     "name": "stdout",
     "output_type": "stream",
     "text": [
      "      col1\n",
      "row1   NaN\n",
      "row2   NaN\n",
      "row3   6.0\n",
      "row4  10.0\n",
      "row5  14.0\n",
      "row6  18.0\n"
     ]
    }
   ],
   "source": [
    "print(df.rolling(window=3, closed='both').sum()) # 3<=x <= 6"
   ]
  },
  {
   "cell_type": "code",
   "execution_count": 89,
   "id": "493a5a63",
   "metadata": {},
   "outputs": [
    {
     "name": "stdout",
     "output_type": "stream",
     "text": [
      "      col1\n",
      "row1   NaN\n",
      "row2   NaN\n",
      "row3   NaN\n",
      "row4   NaN\n",
      "row5   NaN\n",
      "row6   NaN\n"
     ]
    }
   ],
   "source": [
    "print(df.rolling(window=3, closed='neither').sum()) #3<x<6"
   ]
  },
  {
   "cell_type": "code",
   "execution_count": 90,
   "id": "09d6deaf",
   "metadata": {},
   "outputs": [
    {
     "name": "stdout",
     "output_type": "stream",
     "text": [
      "      col1\n",
      "row1   NaN\n",
      "row2   NaN\n",
      "row3   3.0\n",
      "row4   5.0\n",
      "row5   7.0\n",
      "row6   9.0\n"
     ]
    }
   ],
   "source": [
    "print(df.rolling(window=3, closed='neither', min_periods=2).sum())"
   ]
  },
  {
   "cell_type": "code",
   "execution_count": 91,
   "id": "6ffdc4cf",
   "metadata": {},
   "outputs": [
    {
     "name": "stdout",
     "output_type": "stream",
     "text": [
      "      col1\n",
      "row1   NaN\n",
      "row2   6.0\n",
      "row3   9.0\n",
      "row4  12.0\n",
      "row5  15.0\n",
      "row6   NaN\n"
     ]
    }
   ],
   "source": [
    "print(df.rolling(window=3, center=True).sum())"
   ]
  },
  {
   "cell_type": "code",
   "execution_count": 92,
   "id": "84549e7a",
   "metadata": {},
   "outputs": [
    {
     "name": "stdout",
     "output_type": "stream",
     "text": [
      "      col1\n",
      "row1   NaN\n",
      "row2   NaN\n",
      "row3   4.0\n",
      "row4   6.0\n",
      "row5   8.0\n",
      "row6  10.0\n"
     ]
    }
   ],
   "source": [
    "print(df.rolling(window=3, win_type='triang').sum()) #가중치"
   ]
  },
  {
   "cell_type": "code",
   "execution_count": 93,
   "id": "d4afab94",
   "metadata": {},
   "outputs": [
    {
     "name": "stdout",
     "output_type": "stream",
     "text": [
      "           col1\n",
      "row1        NaN\n",
      "row2        NaN\n",
      "row3   5.783838\n",
      "row4   8.675757\n",
      "row5  11.567676\n",
      "row6  14.459595\n"
     ]
    }
   ],
   "source": [
    "print(df.rolling(window=3, win_type = 'gaussian').sum(std=3)) #가중치"
   ]
  },
  {
   "cell_type": "code",
   "execution_count": 94,
   "id": "7de0edf5",
   "metadata": {
    "scrolled": true
   },
   "outputs": [
    {
     "name": "stdout",
     "output_type": "stream",
     "text": [
      "      col1              col2\n",
      "row1   1.0  2022-01-13 00:00\n",
      "row2   3.0  2022-01-13 00:30\n",
      "row3   5.0  2022-01-13 01:00\n",
      "row4   7.0  2022-01-13 01:30\n",
      "row5   9.0  2022-01-13 02:00\n",
      "row6  11.0  2022-01-13 02:30\n"
     ]
    }
   ],
   "source": [
    "print(df.rolling(window='60T', on='col2').sum())"
   ]
  },
  {
   "cell_type": "markdown",
   "id": "95f5f40b",
   "metadata": {},
   "source": [
    "2-11. 그룹화 계산(groupby)\n",
    "* df.groupby(by=None, axis=0, level=None, as_index=True, sort=True, group_keys=True, squeeze=NoDefault.no_default, observed=False, dropna=True)\n",
    "* by : 그룹화할 내용입니다. 함수, 축, 리스트 등등이 올 수 있습니다.\n",
    "* axis : 그룹화를 적용할 축입니다.\n",
    "* level : 멀티 인덱스의 경우 레벨을 지정할 수 있습니다.\n",
    "* as_index : 그룹화할 내용을 인덱스로 할지 여부입니다. False이면 기존 인덱스가 유지됩니다.\n",
    "* sort : 그룹키를 정렬할지 여부입니다.\n",
    "* group_keys : apply메서드 사용시 결과에따라 그룹화 대상인 열이 인덱스와 중복(group key)이 될 수 있습니다. 이 때, group_keys=False로 인덱스를 기본값으로 지정할 수 있습니다.\n",
    "* squeeze : 결과가 1행 or 1열짜리 데이터일 경우 Series로, 1행&1열 짜리 데이터일 경우 스칼라로 출력합니다.\n",
    "* observed : Categorical로 그룹화 할 경우 Categorical 그룹퍼에 의해 관찰된 값만 표시할 지 여부입니다.\n",
    "* dropna : 결측값을 계산에서 제외할지 여부입니다."
   ]
  },
  {
   "cell_type": "code",
   "execution_count": 95,
   "id": "6ea8309f",
   "metadata": {},
   "outputs": [
    {
     "name": "stdout",
     "output_type": "stream",
     "text": [
      "   index  col1  col2  col3\n",
      "0      A     1     5     8\n",
      "1      A     4     3     0\n",
      "2      B     3     5     0\n",
      "3      B     2     3     8\n",
      "4      B     1     3     3\n",
      "5      C     3     7     0\n",
      "6      C     1     0     4\n",
      "7      C     7     3     2\n",
      "8      D     7     2     0\n",
      "9      D     0     4     5\n",
      "10     D     5     6     8\n",
      "11     D     4     1     4\n",
      "12     E     8     1     1\n",
      "13     E     7     3     6\n",
      "14     E     7     2     0\n"
     ]
    }
   ],
   "source": [
    "idx = ['A', 'A', 'B','B','B','C','C','C','D','D','D','D','E','E','E']\n",
    "col = ['col1', 'col2', 'col3']\n",
    "data = np.random.randint(0,9,(15,3))\n",
    "df= pd.DataFrame(data=data, index=idx, columns=col).reset_index()\n",
    "print(df)"
   ]
  },
  {
   "cell_type": "code",
   "execution_count": 96,
   "id": "c9db2fc8",
   "metadata": {},
   "outputs": [
    {
     "name": "stdout",
     "output_type": "stream",
     "text": [
      "<pandas.core.groupby.generic.DataFrameGroupBy object at 0x0000020BA5547E50>\n"
     ]
    }
   ],
   "source": [
    "print(df.groupby('index'))"
   ]
  },
  {
   "cell_type": "code",
   "execution_count": 97,
   "id": "57ee5921",
   "metadata": {},
   "outputs": [
    {
     "name": "stdout",
     "output_type": "stream",
     "text": [
      "           col1      col2      col3\n",
      "index                              \n",
      "A      2.500000  4.000000  4.000000\n",
      "B      2.000000  3.666667  3.666667\n",
      "C      3.666667  3.333333  2.000000\n",
      "D      4.000000  3.250000  4.250000\n",
      "E      7.333333  2.000000  2.333333\n"
     ]
    }
   ],
   "source": [
    "print(df.groupby('index').mean())"
   ]
  },
  {
   "cell_type": "code",
   "execution_count": 98,
   "id": "6ed1ba37",
   "metadata": {},
   "outputs": [
    {
     "name": "stdout",
     "output_type": "stream",
     "text": [
      "       col1  col2  col3\n",
      "index                  \n",
      "A         2     2     2\n",
      "B         3     3     3\n",
      "C         3     3     3\n",
      "D         4     4     4\n",
      "E         3     3     3\n"
     ]
    }
   ],
   "source": [
    "print(df.groupby('index').count())"
   ]
  },
  {
   "cell_type": "code",
   "execution_count": 99,
   "id": "80ef2bf3",
   "metadata": {},
   "outputs": [
    {
     "name": "stdout",
     "output_type": "stream",
     "text": [
      "      col1           col2           col3          \n",
      "       sum      mean  sum      mean  sum      mean\n",
      "index                                             \n",
      "A        5  2.500000    8  4.000000    8  4.000000\n",
      "B        6  2.000000   11  3.666667   11  3.666667\n",
      "C       11  3.666667   10  3.333333    6  2.000000\n",
      "D       16  4.000000   13  3.250000   17  4.250000\n",
      "E       22  7.333333    6  2.000000    7  2.333333\n"
     ]
    }
   ],
   "source": [
    "print(df.groupby('index').agg(['sum', 'mean'])) #multicolumns 형태"
   ]
  },
  {
   "cell_type": "code",
   "execution_count": 100,
   "id": "1f98cd76",
   "metadata": {},
   "outputs": [],
   "source": [
    "#group_keys인수의 사용, apply 메서드를 이용해 groupby연산을 수행할 경우, groupkey가 설정\n",
    "#되기 때문에 때에 따라 컬럼과 인덱스가 중복될 수 있다.\n",
    "def top(df, n=2, col='col1'):\n",
    "    return df.sort_values(by=col)[-n:]"
   ]
  },
  {
   "cell_type": "code",
   "execution_count": 101,
   "id": "3a802114",
   "metadata": {},
   "outputs": [
    {
     "name": "stdout",
     "output_type": "stream",
     "text": [
      "         index  col1  col2  col3\n",
      "index                           \n",
      "A     0      A     1     5     8\n",
      "      1      A     4     3     0\n",
      "B     3      B     2     3     8\n",
      "      2      B     3     5     0\n",
      "C     5      C     3     7     0\n",
      "      7      C     7     3     2\n",
      "D     10     D     5     6     8\n",
      "      8      D     7     2     0\n",
      "E     14     E     7     2     0\n",
      "      12     E     8     1     1\n"
     ]
    }
   ],
   "source": [
    "print(df.groupby('index').apply(top))"
   ]
  },
  {
   "cell_type": "code",
   "execution_count": 102,
   "id": "530e78ec",
   "metadata": {},
   "outputs": [
    {
     "name": "stdout",
     "output_type": "stream",
     "text": [
      "   index  col1  col2  col3\n",
      "0      A     1     5     8\n",
      "1      A     4     3     0\n",
      "3      B     2     3     8\n",
      "2      B     3     5     0\n",
      "5      C     3     7     0\n",
      "7      C     7     3     2\n",
      "10     D     5     6     8\n",
      "8      D     7     2     0\n",
      "14     E     7     2     0\n",
      "12     E     8     1     1\n"
     ]
    }
   ],
   "source": [
    "print(df.groupby('index', group_keys=False).apply(top)) #기본 인덱스로 출력이 가능"
   ]
  },
  {
   "cell_type": "code",
   "execution_count": 103,
   "id": "9125c764",
   "metadata": {},
   "outputs": [
    {
     "name": "stdout",
     "output_type": "stream",
     "text": [
      "['A', 'A', 'B', 'B', 'B', ..., 'D', 'D', 'E', 'E', 'E']\n",
      "Length: 15\n",
      "Categories (6, object): ['A', 'B', 'C', 'D', 'E', 'F']\n"
     ]
    }
   ],
   "source": [
    "#observed인수의 사용 : categorical 객체 생성할 때, 그룹화(groupby)할 열에 있는 값이 \n",
    "# 아닌 값을 포함하게 되면, 그룹화 할 떄 해당 값을 표시할지 여부를 선택할 수 있다.\n",
    "df_cat = pd.Categorical(df['index'], categories =['A','B','C','D','E','F'])\n",
    "print(df_cat)"
   ]
  },
  {
   "cell_type": "code",
   "execution_count": 104,
   "id": "209e8862",
   "metadata": {},
   "outputs": [
    {
     "name": "stdout",
     "output_type": "stream",
     "text": [
      "A    2\n",
      "B    3\n",
      "C    3\n",
      "D    4\n",
      "E    3\n",
      "F    0\n",
      "Name: col1, dtype: int64\n"
     ]
    }
   ],
   "source": [
    "print(df['col1'].groupby(df_cat).count())"
   ]
  },
  {
   "cell_type": "code",
   "execution_count": 105,
   "id": "1e31e56a",
   "metadata": {},
   "outputs": [
    {
     "name": "stdout",
     "output_type": "stream",
     "text": [
      "A    2\n",
      "B    3\n",
      "C    3\n",
      "D    4\n",
      "E    3\n",
      "Name: col1, dtype: int64\n"
     ]
    }
   ],
   "source": [
    "print(df['col1'].groupby(df_cat, observed=True).count()) #observed=True로 할 경우 관찰되지 않는값(카테고리에만 존재하는 값)은 표시되지 않습니다."
   ]
  },
  {
   "cell_type": "code",
   "execution_count": 106,
   "id": "2848a3bb",
   "metadata": {},
   "outputs": [
    {
     "name": "stdout",
     "output_type": "stream",
     "text": [
      "  index  col1  col2  col3\n",
      "0     A     5     8     8\n",
      "1     B     6    11    11\n",
      "2     C    11    10     6\n",
      "3     D    16    13    17\n",
      "4     E    22     6     7\n"
     ]
    }
   ],
   "source": [
    "#as_index인수의 사용 : 특정 열을 지정하여 groupby할 경우 해당 열이 인덱스가 되는데\n",
    "#as_index=False로 하여 기존 인덱스의 유지가 가능하다.\n",
    "print(df.groupby(['index'], as_index=False).sum())"
   ]
  },
  {
   "cell_type": "code",
   "execution_count": 107,
   "id": "f3c53726",
   "metadata": {},
   "outputs": [
    {
     "name": "stdout",
     "output_type": "stream",
     "text": [
      "   index  col1  col2  col3\n",
      "0      A     1     5     8\n",
      "1      A     4     3     0\n",
      "2      B     3     5     0\n",
      "3      B     2     3     8\n",
      "4      B     1     3     3\n",
      "5      C     3     7     0\n",
      "6    NaN     1     0     4\n",
      "7      C     7     3     2\n",
      "8      D     7     2     0\n",
      "9      D     0     4     5\n",
      "10     D     5     6     8\n",
      "11     D     4     1     4\n",
      "12     E     8     1     1\n",
      "13     E     7     3     6\n",
      "14     E     7     2     0\n"
     ]
    }
   ],
   "source": [
    "#dropna 결측값이 포함된 경우를 제외할지 여부를 정하기\n",
    "df.loc[6, 'index'] = np.NaN\n",
    "print(df)"
   ]
  },
  {
   "cell_type": "code",
   "execution_count": 108,
   "id": "0b323e21",
   "metadata": {},
   "outputs": [
    {
     "name": "stdout",
     "output_type": "stream",
     "text": [
      "       col1  col2  col3\n",
      "index                  \n",
      "A         5     8     8\n",
      "B         6    11    11\n",
      "C        10    10     2\n",
      "D        16    13    17\n",
      "E        22     6     7\n"
     ]
    }
   ],
   "source": [
    "print(df.groupby('index').sum())"
   ]
  },
  {
   "cell_type": "code",
   "execution_count": 109,
   "id": "3a80471d",
   "metadata": {},
   "outputs": [
    {
     "name": "stdout",
     "output_type": "stream",
     "text": [
      "       col1  col2  col3\n",
      "index                  \n",
      "A         5     8     8\n",
      "B         6    11    11\n",
      "C        10    10     2\n",
      "D        16    13    17\n",
      "E        22     6     7\n",
      "NaN       1     0     4\n"
     ]
    }
   ],
   "source": [
    "#dropna=False인 경우 인덱스에 NaN이 포함되어 계산된 것을 알 수 있다\n",
    "print(df.groupby('index', dropna=False).sum())"
   ]
  },
  {
   "cell_type": "code",
   "execution_count": 110,
   "id": "db787677",
   "metadata": {},
   "outputs": [
    {
     "name": "stdout",
     "output_type": "stream",
     "text": [
      "           col1  col2  col2\n",
      "lv0  lv1                   \n",
      "idx1 row1     3     5     4\n",
      "     row2     4     6     4\n",
      "idx2 row1     4     3     4\n",
      "     row2     4     8     4\n",
      "id2  row3     3     7     5\n"
     ]
    }
   ],
   "source": [
    "#multiindex의 경우 level을 숫자나 str형태로 지정해주어 groupby를 실행할 수 있다.\n",
    "idx = [['idx1', 'idx1','idx2','idx2', 'id2'], ['row1','row2','row1','row2','row3']]\n",
    "col = ['col1', 'col2', 'col2']\n",
    "data = np.random.randint(0,9,(5,3))\n",
    "df=pd.DataFrame(data=data, index=idx, columns=col).rename_axis(index=['lv0', 'lv1'])\n",
    "print(df)"
   ]
  },
  {
   "cell_type": "code",
   "execution_count": 111,
   "id": "0c4f9c2d",
   "metadata": {},
   "outputs": [
    {
     "name": "stdout",
     "output_type": "stream",
     "text": [
      "      col1  col2  col2\n",
      "lv1                   \n",
      "row1     7     8     8\n",
      "row2     8    14     8\n",
      "row3     3     7     5\n"
     ]
    }
   ],
   "source": [
    "print(df.groupby(level=1).sum())"
   ]
  },
  {
   "cell_type": "code",
   "execution_count": 112,
   "id": "c7b8e3cb",
   "metadata": {},
   "outputs": [
    {
     "name": "stdout",
     "output_type": "stream",
     "text": [
      "           col1  col2  col2\n",
      "lv1  lv0                   \n",
      "row1 idx1     3     5     4\n",
      "     idx2     4     3     4\n",
      "row2 idx1     4     6     4\n",
      "     idx2     4     8     4\n",
      "row3 id2      3     7     5\n"
     ]
    }
   ],
   "source": [
    "print(df.groupby(['lv1','lv0']).sum())"
   ]
  },
  {
   "cell_type": "markdown",
   "id": "b8f02ae0",
   "metadata": {},
   "source": [
    "2-12. 지수가중함수(ewm)\n",
    "* 오래된 데이터에 지수감쇠를 적용하여 최근 데이터가 더 큰 영향을 끼치도록 가중치를 주는 함수\n",
    "* 보통 추가 메소드 mean(), -> 지수가중평균으로 사용한다.\n",
    "* com : 질량중심 값으로 평활계수를 계산합니다. [ a = 1(1+com) ]\n",
    "* span : 계산 기간으로 평활계수를 계산합니다. [ a = 2/(span+1) ]\n",
    "* halflife : 반감기를 이용하여 평활계수를 계산합니다. [ a= e^(-ln(2) / halflife) ]\n",
    "* alpha : 평활계수를 직접 입력합니다. [ 0 < a ≤ 1 ]\n",
    "* min_periods : 계산을위한 최소 기간입니다.\n",
    "* adjust : 상대적 가중치의 불균형을 해소하기위해 조정계수로 나눌지의 여부입니다. 대체로 값이 많을수록 adjust를 하는것이 유리합니다.\n",
    "* ignore_na : 가중치를 계산할때 누락값을 무시할지 여부 입니다.\n",
    "\n",
    "* [x0, None, x1] 일때, 인 경우 ignore_na = False 이면 절대위치를 기반으로 하며,\n",
    "x0와 x2의 가중치는 adjust = [ True인경우 (1-a)^2와 1 / False인 경우 (1-a)^2와 a ] 입니다.\n",
    "* [x0, None, x1] 일때, 인 경우 ignore_na = False 이면 절대위치를 기반으로 하며,\n",
    "x0와 x2의 가중치는 adjust = [ True인경우 (1-a)와 1 / False인 경우 (1-a)와 a ] 입니다.\n",
    "* axis : 계산을 수행할 축 입니다.\n",
    "* times : 관찰에 해당하는 시간입니다. 단조증가 형태의 datetime64[ns] 형태여야합니다.\n",
    "* method : {single / table} 한 줄씩 계산할지(기본값) 아니면 numba engine을 사용해서 table단위로 계산할지 정할 수 있습니다.\n",
    "* numba 라이브러리를 import 해야하며 사용시 ewm(method='table').mean(engine='numba') 처럼 추가 메서드에 engine 설정을 해줘야합니다."
   ]
  },
  {
   "cell_type": "code",
   "execution_count": 113,
   "id": "f25616b5",
   "metadata": {
    "scrolled": true
   },
   "outputs": [
    {
     "name": "stdout",
     "output_type": "stream",
     "text": [
      "    index   val\n",
      "0       0   1.0\n",
      "1       1   4.0\n",
      "2       2   2.0\n",
      "3       3   3.0\n",
      "4       4   2.0\n",
      "5       5   5.0\n",
      "6       6  13.0\n",
      "7       7  10.0\n",
      "8       8  12.0\n",
      "9       9  14.0\n",
      "10     10   NaN\n",
      "11     11  16.0\n",
      "12     12  12.0\n",
      "13     13  20.0\n",
      "14     14  22.0\n"
     ]
    }
   ],
   "source": [
    "data = {'val':[1,4,2,3,2,5,13,10,12,14,np.NaN,16,12,20,22]}\n",
    "df = pd.DataFrame(data).reset_index()\n",
    "print(df)"
   ]
  },
  {
   "cell_type": "code",
   "execution_count": 114,
   "id": "e276fa42",
   "metadata": {},
   "outputs": [],
   "source": [
    "import matplotlib.pyplot as plt"
   ]
  },
  {
   "cell_type": "code",
   "execution_count": 115,
   "id": "8000b254",
   "metadata": {
    "scrolled": true
   },
   "outputs": [
    {
     "name": "stdout",
     "output_type": "stream",
     "text": [
      "Collecting EVM\n",
      "  Using cached EVM-0.1.2-py3-none-any.whl\n",
      "Requirement already satisfied: h5py in c:\\users\\jiyou\\anaconda3\\lib\\site-packages (from EVM) (3.2.1)\n",
      "Requirement already satisfied: scipy in c:\\users\\jiyou\\anaconda3\\lib\\site-packages (from EVM) (1.7.1)\n",
      "Requirement already satisfied: sklearn in c:\\users\\jiyou\\anaconda3\\lib\\site-packages (from EVM) (0.0)\n",
      "Collecting libmr>=0.1.8\n",
      "  Using cached libmr-0.1.9.zip (39 kB)\n",
      "Requirement already satisfied: cython in c:\\users\\jiyou\\anaconda3\\lib\\site-packages (from libmr>=0.1.8->EVM) (0.29.24)\n",
      "Requirement already satisfied: numpy in c:\\users\\jiyou\\anaconda3\\lib\\site-packages (from libmr>=0.1.8->EVM) (1.20.3)\n",
      "Requirement already satisfied: scikit-learn in c:\\users\\jiyou\\anaconda3\\lib\\site-packages (from sklearn->EVM) (0.24.2)\n",
      "Requirement already satisfied: joblib>=0.11 in c:\\users\\jiyou\\anaconda3\\lib\\site-packages (from scikit-learn->sklearn->EVM) (1.1.0)\n",
      "Requirement already satisfied: threadpoolctl>=2.0.0 in c:\\users\\jiyou\\anaconda3\\lib\\site-packages (from scikit-learn->sklearn->EVM) (2.2.0)\n",
      "Building wheels for collected packages: libmr\n",
      "  Building wheel for libmr (setup.py): started\n",
      "  Building wheel for libmr (setup.py): finished with status 'error'\n",
      "  Running setup.py clean for libmr\n",
      "Failed to build libmr\n",
      "Installing collected packages: libmr, EVM\n",
      "    Running setup.py install for libmr: started\n",
      "    Running setup.py install for libmr: finished with status 'error'\n"
     ]
    },
    {
     "name": "stderr",
     "output_type": "stream",
     "text": [
      "  ERROR: Command errored out with exit status 1:\n",
      "   command: 'C:\\Users\\jiyou\\anaconda3\\python.exe' -u -c 'import io, os, sys, setuptools, tokenize; sys.argv[0] = '\"'\"'C:\\\\Users\\\\jiyou\\\\AppData\\\\Local\\\\Temp\\\\pip-install-fo7f8u4w\\\\libmr_4533095e3f6a4a5ba028a7458d97dea4\\\\setup.py'\"'\"'; __file__='\"'\"'C:\\\\Users\\\\jiyou\\\\AppData\\\\Local\\\\Temp\\\\pip-install-fo7f8u4w\\\\libmr_4533095e3f6a4a5ba028a7458d97dea4\\\\setup.py'\"'\"';f = getattr(tokenize, '\"'\"'open'\"'\"', open)(__file__) if os.path.exists(__file__) else io.StringIO('\"'\"'from setuptools import setup; setup()'\"'\"');code = f.read().replace('\"'\"'\\r\\n'\"'\"', '\"'\"'\\n'\"'\"');f.close();exec(compile(code, __file__, '\"'\"'exec'\"'\"'))' bdist_wheel -d 'C:\\Users\\jiyou\\AppData\\Local\\Temp\\pip-wheel-jji_uuwo'\n",
      "       cwd: C:\\Users\\jiyou\\AppData\\Local\\Temp\\pip-install-fo7f8u4w\\libmr_4533095e3f6a4a5ba028a7458d97dea4\\\n",
      "  Complete output (5 lines):\n",
      "  running bdist_wheel\n",
      "  running build\n",
      "  running build_ext\n",
      "  building 'libmr' extension\n",
      "  error: Microsoft Visual C++ 14.0 or greater is required. Get it with \"Microsoft C++ Build Tools\": https://visualstudio.microsoft.com/visual-cpp-build-tools/\n",
      "  ----------------------------------------\n",
      "  ERROR: Failed building wheel for libmr\n",
      "    ERROR: Command errored out with exit status 1:\n",
      "     command: 'C:\\Users\\jiyou\\anaconda3\\python.exe' -u -c 'import io, os, sys, setuptools, tokenize; sys.argv[0] = '\"'\"'C:\\\\Users\\\\jiyou\\\\AppData\\\\Local\\\\Temp\\\\pip-install-fo7f8u4w\\\\libmr_4533095e3f6a4a5ba028a7458d97dea4\\\\setup.py'\"'\"'; __file__='\"'\"'C:\\\\Users\\\\jiyou\\\\AppData\\\\Local\\\\Temp\\\\pip-install-fo7f8u4w\\\\libmr_4533095e3f6a4a5ba028a7458d97dea4\\\\setup.py'\"'\"';f = getattr(tokenize, '\"'\"'open'\"'\"', open)(__file__) if os.path.exists(__file__) else io.StringIO('\"'\"'from setuptools import setup; setup()'\"'\"');code = f.read().replace('\"'\"'\\r\\n'\"'\"', '\"'\"'\\n'\"'\"');f.close();exec(compile(code, __file__, '\"'\"'exec'\"'\"'))' install --record 'C:\\Users\\jiyou\\AppData\\Local\\Temp\\pip-record-2a5n9svi\\install-record.txt' --single-version-externally-managed --compile --install-headers 'C:\\Users\\jiyou\\anaconda3\\Include\\libmr'\n",
      "         cwd: C:\\Users\\jiyou\\AppData\\Local\\Temp\\pip-install-fo7f8u4w\\libmr_4533095e3f6a4a5ba028a7458d97dea4\\\n",
      "    Complete output (5 lines):\n",
      "    running install\n",
      "    running build\n",
      "    running build_ext\n",
      "    building 'libmr' extension\n",
      "    error: Microsoft Visual C++ 14.0 or greater is required. Get it with \"Microsoft C++ Build Tools\": https://visualstudio.microsoft.com/visual-cpp-build-tools/\n",
      "    ----------------------------------------\n",
      "ERROR: Command errored out with exit status 1: 'C:\\Users\\jiyou\\anaconda3\\python.exe' -u -c 'import io, os, sys, setuptools, tokenize; sys.argv[0] = '\"'\"'C:\\\\Users\\\\jiyou\\\\AppData\\\\Local\\\\Temp\\\\pip-install-fo7f8u4w\\\\libmr_4533095e3f6a4a5ba028a7458d97dea4\\\\setup.py'\"'\"'; __file__='\"'\"'C:\\\\Users\\\\jiyou\\\\AppData\\\\Local\\\\Temp\\\\pip-install-fo7f8u4w\\\\libmr_4533095e3f6a4a5ba028a7458d97dea4\\\\setup.py'\"'\"';f = getattr(tokenize, '\"'\"'open'\"'\"', open)(__file__) if os.path.exists(__file__) else io.StringIO('\"'\"'from setuptools import setup; setup()'\"'\"');code = f.read().replace('\"'\"'\\r\\n'\"'\"', '\"'\"'\\n'\"'\"');f.close();exec(compile(code, __file__, '\"'\"'exec'\"'\"'))' install --record 'C:\\Users\\jiyou\\AppData\\Local\\Temp\\pip-record-2a5n9svi\\install-record.txt' --single-version-externally-managed --compile --install-headers 'C:\\Users\\jiyou\\anaconda3\\Include\\libmr' Check the logs for full command output.\n"
     ]
    }
   ],
   "source": []
  },
  {
   "cell_type": "code",
   "execution_count": null,
   "id": "6c2f9937",
   "metadata": {},
   "outputs": [],
   "source": []
  },
  {
   "cell_type": "code",
   "execution_count": 116,
   "id": "29b7479a",
   "metadata": {},
   "outputs": [
    {
     "data": {
      "image/png": "[encoded data removed]",
      "text/plain": [
       "<Figure size 432x288 with 1 Axes>"
      ]
     },
     "metadata": {
      "needs_background": "light"
     },
     "output_type": "display_data"
    }
   ],
   "source": [
    "df2= df.assign(ewm=df['val'].ewm(alpha=0.3).mean())\n",
    "ax = df.plot(kind='bar',x='index', y='val')\n",
    "ax2=df2.plot(kind='line', x='index', y='ewm', color='red', ax=ax)\n",
    "plt.show()"
   ]
  },
  {
   "cell_type": "code",
   "execution_count": 117,
   "id": "37aaac45",
   "metadata": {},
   "outputs": [
    {
     "data": {
      "image/png": "[encoded data removed]",
      "text/plain": [
       "<Figure size 432x288 with 1 Axes>"
      ]
     },
     "metadata": {
      "needs_background": "light"
     },
     "output_type": "display_data"
    }
   ],
   "source": [
    "#alpha에 따른 차이 alpha=평활계수\n",
    "#alpha가 클수록 더 큰 변화에 민감, alpha가 작을수록 평활한 그래프가 생성\n",
    "df2 =df.assign(ewm_a_low=df['val'].ewm(alpha=0.1).mean())\n",
    "df3 =df.assign(ewm_a_high=df['val'].ewm(alpha=0.7).mean())\n",
    "ax = df.plot(kind='bar',x='index',y='val') \n",
    "ax2= df2.plot(kind='line',x='index', y='ewm_a_low', color='red', ax=ax) # alpha=0.1 은 적색\n",
    "ax3= df3.plot(kind='line',x='index', y='ewm_a_high', color='green', ax=ax) # alpha=0.7 은 녹색\n",
    "plt.show()"
   ]
  },
  {
   "cell_type": "code",
   "execution_count": 118,
   "id": "7b7d9b89",
   "metadata": {},
   "outputs": [
    {
     "data": {
      "image/png": "[encoded data removed]",
      "text/plain": [
       "<Figure size 432x288 with 1 Axes>"
      ]
     },
     "metadata": {
      "needs_background": "light"
     },
     "output_type": "display_data"
    }
   ],
   "source": [
    "#span은 기간을 지정하여 평활계수를 계산하는 인수 , 계산기간이 길어질수록 a가 작아짐.\n",
    "df2= df.assign(span_4 =df['val'].ewm(span=4).mean())\n",
    "df3= df.assign(span_8 =df['val'].ewm(span=8).mean())\n",
    "ax=df.plot(kind='bar', x='index', y='val')\n",
    "ax2 =df2.plot(kind='line', x='index', y='span_4', color='red', ax=ax)\n",
    "ax3 =df3.plot(kind='line', x='index', y='span_8', color='green', ax=ax)\n",
    "plt.show()"
   ]
  },
  {
   "cell_type": "code",
   "execution_count": 119,
   "id": "8a2ea4f9",
   "metadata": {},
   "outputs": [
    {
     "data": {
      "image/png": "[encoded data removed]",
      "text/plain": [
       "<Figure size 432x288 with 1 Axes>"
      ]
     },
     "metadata": {
      "needs_background": "light"
     },
     "output_type": "display_data"
    }
   ],
   "source": [
    "#com인수의 사용, 질량중심 감쇠법으로 평활계수 계산\n",
    "df2 = df.assign(com_2=df['val'].ewm(com=2).mean())\n",
    "df3 = df.assign(com_10=df['val'].ewm(com=10).mean())\n",
    "ax = df.plot(kind='bar',x='index',y='val')\n",
    "ax2= df2.plot(kind='line',x='index', y='com_2', color='red', ax=ax)\n",
    "ax3= df3.plot(kind='line',x='index', y='com_10', color='green', ax=ax)\n",
    "plt.show()"
   ]
  },
  {
   "cell_type": "code",
   "execution_count": 120,
   "id": "fc3da32b",
   "metadata": {},
   "outputs": [
    {
     "data": {
      "image/png": "[encoded data removed]",
      "text/plain": [
       "<Figure size 432x288 with 1 Axes>"
      ]
     },
     "metadata": {
      "needs_background": "light"
     },
     "output_type": "display_data"
    }
   ],
   "source": [
    "#halflife인수의 사용\n",
    "df2 = df.assign(harf_2=df['val'].ewm(halflife=2).mean())\n",
    "df3 = df.assign(harf_5=df['val'].ewm(halflife=5).mean())\n",
    "ax = df.plot(kind='bar',x='index',y='val')\n",
    "ax2= df2.plot(kind='line',x='index', y='harf_2', color='red', ax=ax)\n",
    "ax3= df3.plot(kind='line',x='index', y='harf_5', color='green', ax=ax)\n",
    "plt.show()"
   ]
  },
  {
   "cell_type": "code",
   "execution_count": 121,
   "id": "3627adc6",
   "metadata": {},
   "outputs": [
    {
     "data": {
      "image/png": "[encoded data removed]",
      "text/plain": [
       "<Figure size 432x288 with 1 Axes>"
      ]
     },
     "metadata": {
      "needs_background": "light"
     },
     "output_type": "display_data"
    }
   ],
   "source": [
    "#adjust인수의 사용, 상대적 가중치의 불균형을 해소하기위해 조정계수로 나눌지의 여부\n",
    "# 대체로 값이 많을수록 adjust하는 것이 유리\n",
    "df2 = df.assign(adj_True=df['val'].ewm(alpha=0.2,adjust=True).mean())\n",
    "df3 = df.assign(adj_False=df['val'].ewm(alpha=0.2,adjust=False).mean())\n",
    "ax = df.plot(kind='bar',x='index',y='val')\n",
    "ax2= df2.plot(kind='line',x='index', y='adj_True', color='red', ax=ax)\n",
    "ax3= df3.plot(kind='line',x='index', y='adj_False', color='green', ax=ax)\n",
    "plt.show()"
   ]
  },
  {
   "cell_type": "code",
   "execution_count": 122,
   "id": "da058959",
   "metadata": {},
   "outputs": [
    {
     "data": {
      "image/png": "[encoded data removed]",
      "text/plain": [
       "<Figure size 432x288 with 1 Axes>"
      ]
     },
     "metadata": {
      "needs_background": "light"
     },
     "output_type": "display_data"
    }
   ],
   "source": [
    "#ignore_na인수의 사용, 결측치가 존재할 경우 가중치를 어떻게 설정할지 정하는 인수\n",
    "df2 = df.assign(ignore_na_True=df['val'].ewm(alpha=0.2,ignore_na=True).mean())\n",
    "df3 = df.assign(ignore_na_False=df['val'].ewm(alpha=0.2,ignore_na=False).mean())\n",
    "ax = df.plot(kind='bar',x='index',y='val')\n",
    "ax2= df2.plot(kind='line',x='index', y='ignore_na_True', color='red', ax=ax)\n",
    "ax3= df3.plot(kind='line',x='index', y='ignore_na_False', color='green', ax=ax)\n",
    "plt.show()"
   ]
  },
  {
   "cell_type": "code",
   "execution_count": 123,
   "id": "5c6c7fab",
   "metadata": {},
   "outputs": [
    {
     "name": "stdout",
     "output_type": "stream",
     "text": [
      "0      1.000000\n",
      "1      2.666667\n",
      "2      2.393443\n",
      "3      2.598916\n",
      "4      2.420752\n",
      "5      3.119872\n",
      "6      5.620269\n",
      "7      6.672800\n",
      "8      7.903410\n",
      "9      9.269400\n",
      "10     9.269400\n",
      "11    11.014705\n",
      "12    11.255896\n",
      "13    13.304608\n",
      "14    15.274352\n",
      "Name: val, dtype: float64\n"
     ]
    }
   ],
   "source": [
    "#method인수의 사용, single=한줄씩, table=전체테이블을 한번에 계산\n",
    "import numba\n",
    "print(df['val'].ewm(alpha=0.2).mean(engine='numba'))"
   ]
  },
  {
   "cell_type": "code",
   "execution_count": 124,
   "id": "d0fb9ee0",
   "metadata": {},
   "outputs": [
    {
     "ename": "TypeError",
     "evalue": "ewm() got an unexpected keyword argument 'method'",
     "output_type": "error",
     "traceback": [
      "\u001b[1;31m---------------------------------------------------------------------------\u001b[0m",
      "\u001b[1;31mTypeError\u001b[0m                                 Traceback (most recent call last)",
      "\u001b[1;32m~\\AppData\\Local\\Temp/ipykernel_7508/914198778.py\u001b[0m in \u001b[0;36m<module>\u001b[1;34m\u001b[0m\n\u001b[1;32m----> 1\u001b[1;33m \u001b[0mprint\u001b[0m\u001b[1;33m(\u001b[0m\u001b[0mdf\u001b[0m\u001b[1;33m[\u001b[0m\u001b[1;34m'val'\u001b[0m\u001b[1;33m]\u001b[0m\u001b[1;33m.\u001b[0m\u001b[0mewm\u001b[0m\u001b[1;33m(\u001b[0m\u001b[0malpha\u001b[0m\u001b[1;33m=\u001b[0m\u001b[1;36m0.2\u001b[0m\u001b[1;33m,\u001b[0m \u001b[0mmethod\u001b[0m\u001b[1;33m=\u001b[0m\u001b[1;34m'table'\u001b[0m\u001b[1;33m)\u001b[0m\u001b[1;33m.\u001b[0m\u001b[0mmean\u001b[0m\u001b[1;33m(\u001b[0m\u001b[0mengine\u001b[0m\u001b[1;33m=\u001b[0m\u001b[1;34m'numba'\u001b[0m\u001b[1;33m)\u001b[0m\u001b[1;33m)\u001b[0m\u001b[1;33m\u001b[0m\u001b[1;33m\u001b[0m\u001b[0m\n\u001b[0m",
      "\u001b[1;31mTypeError\u001b[0m: ewm() got an unexpected keyword argument 'method'"
     ]
    }
   ],
   "source": [
    "print(df['val'].ewm(alpha=0.2, method='table').mean(engine='numba'))"
   ]
  },
  {
   "cell_type": "markdown",
   "id": "0e769642",
   "metadata": {},
   "source": [
    "# 3. 함수 적용"
   ]
  },
  {
   "cell_type": "markdown",
   "id": "56b6c1de",
   "metadata": {},
   "source": [
    "3-1. 축 기준(apply)\n",
    "* dataframe에 함수를 적용하여 반환하는 메서드\n",
    "* 함수에 전달되는 객체는 series 형식\n",
    "* dataframe의 index(axis=0)이냐 columns(axis=1)이냐에 따라 다르다.\n",
    "* 최종반환 유형은 적용된 함수에 따라 정해지지만 result_type을 지정하여 변경이 가능\n",
    "* function : 각 행이나 열에 적용할 함수\n",
    "* axis : 0:row, 1:columns\n",
    "* row : {True : ndarray, False: Series 형태로 전달.} 기본적으로 series\n",
    "* result_type : {expand / reduce / broadcast}반환값의 형태를 결정, expand : 배열 형태를 기준으로 열 확장(기본 인덱스로), reduce : 그대로 series형태로 반환\n",
    "- broadcast인 경우 기존 열 형식대로 확장하여 반환(열의 수가 같아야 한다.)"
   ]
  },
  {
   "cell_type": "code",
   "execution_count": 125,
   "id": "034890d5",
   "metadata": {},
   "outputs": [
    {
     "name": "stdout",
     "output_type": "stream",
     "text": [
      "      col1  col2  col3\n",
      "row1     1     2     3\n",
      "row2     4     5     6\n",
      "row3     7     8     9\n"
     ]
    }
   ],
   "source": [
    "col = ['col1', 'col2', 'col3']\n",
    "row = ['row1', 'row2', 'row3']\n",
    "data = [[1,2,3], [4,5,6], [7,8,9]]\n",
    "df=pd.DataFrame(data=data, index=row, columns=col)\n",
    "print(df)"
   ]
  },
  {
   "cell_type": "code",
   "execution_count": 126,
   "id": "29abcd7e",
   "metadata": {},
   "outputs": [
    {
     "name": "stdout",
     "output_type": "stream",
     "text": [
      "          col1      col2      col3\n",
      "row1  1.000000  1.414214  1.732051\n",
      "row2  2.000000  2.236068  2.449490\n",
      "row3  2.645751  2.828427  3.000000\n"
     ]
    }
   ],
   "source": [
    "#func의 성질에 따른 차이\n",
    "print(df.apply(np.sqrt))"
   ]
  },
  {
   "cell_type": "code",
   "execution_count": 127,
   "id": "b0ff7649",
   "metadata": {},
   "outputs": [
    {
     "name": "stdout",
     "output_type": "stream",
     "text": [
      "col1    12\n",
      "col2    15\n",
      "col3    18\n",
      "dtype: int64\n"
     ]
    }
   ],
   "source": [
    "print(df.apply(np.sum))"
   ]
  },
  {
   "cell_type": "code",
   "execution_count": 128,
   "id": "d8e7b782",
   "metadata": {},
   "outputs": [
    {
     "name": "stdout",
     "output_type": "stream",
     "text": [
      "col1     28\n",
      "col2     80\n",
      "col3    162\n",
      "dtype: int64\n"
     ]
    }
   ],
   "source": [
    "#axis=0인 경우 index(행)에 대해 연산 수행, axis=1인 경우 columns(열)\n",
    "print(df.apply(np.prod, axis=0))"
   ]
  },
  {
   "cell_type": "code",
   "execution_count": 129,
   "id": "a48e9149",
   "metadata": {},
   "outputs": [
    {
     "name": "stdout",
     "output_type": "stream",
     "text": [
      "row1      6\n",
      "row2    120\n",
      "row3    504\n",
      "dtype: int64\n"
     ]
    }
   ],
   "source": [
    "print(df.apply(np.prod, axis=1))"
   ]
  },
  {
   "cell_type": "code",
   "execution_count": 130,
   "id": "59846b3f",
   "metadata": {},
   "outputs": [
    {
     "name": "stdout",
     "output_type": "stream",
     "text": [
      "      col1  col2  col3\n",
      "row1     1     1     1\n",
      "row2     2     2     2\n",
      "row3     3     3     3\n"
     ]
    }
   ],
   "source": [
    "#result_type에 따른 차이 : lambda를 사용하여 기존 dataframe에 [1.2.3]객체를 apply\n",
    "print(df.apply(lambda x : [1,2,3]))"
   ]
  },
  {
   "cell_type": "code",
   "execution_count": 131,
   "id": "6ca9b992",
   "metadata": {},
   "outputs": [
    {
     "name": "stdout",
     "output_type": "stream",
     "text": [
      "      0  1  2\n",
      "row1  1  2  3\n",
      "row2  1  2  3\n",
      "row3  1  2  3\n"
     ]
    }
   ],
   "source": [
    "#result_type = 'expand'일 때 func를 기준으로 확장하여 columns를 지정함.\n",
    "print(df.apply(lambda x : [1,2,3], axis=1, result_type = 'expand'))"
   ]
  },
  {
   "cell_type": "code",
   "execution_count": 132,
   "id": "b8e8569b",
   "metadata": {},
   "outputs": [
    {
     "name": "stdout",
     "output_type": "stream",
     "text": [
      "row1    [1, 2, 3]\n",
      "row2    [1, 2, 3]\n",
      "row3    [1, 2, 3]\n",
      "dtype: object\n"
     ]
    }
   ],
   "source": [
    "#result_type = 'reduce'인 경우 : func기준으로 축소하여 columns없이 series객체로 반환\n",
    "print(df.apply(lambda x : [1,2,3], axis=1, result_type='reduce'))"
   ]
  },
  {
   "cell_type": "code",
   "execution_count": 133,
   "id": "d6d4c309",
   "metadata": {},
   "outputs": [
    {
     "name": "stdout",
     "output_type": "stream",
     "text": [
      "      col1  col2  col3\n",
      "row1     1     2     3\n",
      "row2     1     2     3\n",
      "row3     1     2     3\n"
     ]
    }
   ],
   "source": [
    "#result_type : broadcast인 경우 : func를 기준으로 확장하되, columns는 기존 dataframe의 것을 사용한다.\n",
    "print(df.apply(lambda x: [1,2,3], axis=1, result_type ='broadcast'))"
   ]
  },
  {
   "cell_type": "markdown",
   "id": "e8453cc7",
   "metadata": {},
   "source": [
    "3-2. 요소별(applymap)\n",
    "* 객체의 각 요소에 함수를 적용하는 메서드\n",
    "* apply메서드와 다르게 dataframe의 각 요소 하나하나에 함수를 적ㅇ용하여 스칼라 값을 반환한다.\n",
    "* func : 단일 값을 반환하는 함수\n",
    "* na_action : {None / ignore} NaN의 무시 여부"
   ]
  },
  {
   "cell_type": "code",
   "execution_count": 134,
   "id": "8f68a405",
   "metadata": {},
   "outputs": [
    {
     "name": "stdout",
     "output_type": "stream",
     "text": [
      "      col1  col2  col3\n",
      "row1     1     2     3\n",
      "row2     4     5     6\n",
      "row3     7  <NA>     9\n"
     ]
    }
   ],
   "source": [
    "col=['col1', 'col2', 'col3']\n",
    "row=['row1', 'row2', 'row3']\n",
    "data = [[1,2,3], [4,5,6], [7,pd.NA,9]]\n",
    "df= pd.DataFrame(data=data, index=row, columns=col)\n",
    "print(df)"
   ]
  },
  {
   "cell_type": "code",
   "execution_count": 135,
   "id": "6349a86e",
   "metadata": {},
   "outputs": [
    {
     "name": "stdout",
     "output_type": "stream",
     "text": [
      "      col1  col2  col3\n",
      "row1     1     4     9\n",
      "row2    16    25    36\n",
      "row3    49  <NA>    81\n"
     ]
    }
   ],
   "source": [
    "print(df.applymap(lambda x : x**2, na_action = 'ignore'))"
   ]
  },
  {
   "cell_type": "markdown",
   "id": "f1f48fee",
   "metadata": {},
   "source": [
    "3-3. 함수내 함수 연속적용(pipe)\n",
    "* pipe 메서드 : 함수를 연속적으로 사용할 때 유용한 메서드\n",
    "* 함수가 인수를 사용할 때 pipe메서드를 사용하면 보다 직관적으로 적용할 수 있따.\n",
    "* df.pipe(func, args, kwargs)\n",
    "* func : 함수\n",
    "* arg : 함수의 인수\n",
    "* kwargs : dict 형태의 함수의 인수"
   ]
  },
  {
   "cell_type": "code",
   "execution_count": 136,
   "id": "3b85dd20",
   "metadata": {},
   "outputs": [
    {
     "name": "stdout",
     "output_type": "stream",
     "text": [
      "              info\n",
      "0     삼성전자/3/70000\n",
      "1  SK하이닉스/2/100000\n"
     ]
    }
   ],
   "source": [
    "org_data = pd.DataFrame({'info': ['삼성전자/3/70000', 'SK하이닉스/2/100000']})\n",
    "print(org_data)"
   ]
  },
  {
   "cell_type": "code",
   "execution_count": 137,
   "id": "5754e228",
   "metadata": {},
   "outputs": [
    {
     "name": "stdout",
     "output_type": "stream",
     "text": [
      "     name  count   price\n",
      "0    삼성전자      3   70000\n",
      "1  SK하이닉스      2  100000\n"
     ]
    }
   ],
   "source": [
    "def code_name(data):\n",
    "    result = pd.DataFrame(columns=['name', 'count', 'price'])\n",
    "    df = pd.DataFrame(list(data['info'].str.split('/'))) #/로 구분하여 문자열 나누어 리스트에 넣음\n",
    "    result['name'] = df[0]\n",
    "    result['count'] = df[1]\n",
    "    result['price'] = df[2]\n",
    "    result = result.astype({'count': int, 'price': int})\n",
    "    return result\n",
    "\n",
    "print(code_name(org_data))"
   ]
  },
  {
   "cell_type": "code",
   "execution_count": 138,
   "id": "7a6baa6b",
   "metadata": {},
   "outputs": [
    {
     "name": "stdout",
     "output_type": "stream",
     "text": [
      "     name    value\n",
      "0    삼성전자  210000원\n",
      "1  SK하이닉스  200000원\n"
     ]
    }
   ],
   "source": [
    "def value_cal(data, unit=''):\n",
    "    result = pd.DataFrame(columns=['name', 'value'])\n",
    "    result['name'] = data['name']\n",
    "    result['value'] = data['count']*data['price']\n",
    "    result = result.astype({'value':str})\n",
    "    result['value'] = result['value']+unit\n",
    "    return(result)\n",
    "\n",
    "input = code_name(org_data)\n",
    "print(value_cal(input, '원'))"
   ]
  },
  {
   "cell_type": "code",
   "execution_count": 139,
   "id": "4308ad15",
   "metadata": {},
   "outputs": [
    {
     "name": "stdout",
     "output_type": "stream",
     "text": [
      "     name    value\n",
      "0    삼성전자  210000원\n",
      "1  SK하이닉스  200000원\n"
     ]
    }
   ],
   "source": [
    "#pipe 메서드를 사용하지 않는 경우\n",
    "print(value_cal(code_name(org_data), '원'))"
   ]
  },
  {
   "cell_type": "code",
   "execution_count": 141,
   "id": "df7fc29d",
   "metadata": {},
   "outputs": [
    {
     "name": "stdout",
     "output_type": "stream",
     "text": [
      "     name    value\n",
      "0    삼성전자  210000원\n",
      "1  SK하이닉스  200000원\n"
     ]
    }
   ],
   "source": [
    "print(org_data.pipe(code_name).pipe(value_cal,'원'))"
   ]
  },
  {
   "cell_type": "markdown",
   "id": "3c2aa3f3",
   "metadata": {},
   "source": [
    "3-4. 함수연속적용_축별(aggregate, agg)\n",
    "* agg메서드는 apply와 비슷하게 함수를 적용하는 메서드\n",
    "* 여러 개의 함수를 동시에 적용할 수 있다."
   ]
  },
  {
   "cell_type": "code",
   "execution_count": 143,
   "id": "0ff7f114",
   "metadata": {},
   "outputs": [
    {
     "name": "stdout",
     "output_type": "stream",
     "text": [
      "   0  1  2\n",
      "0  1  4  7\n",
      "1  2  5  8\n",
      "2  3  6  9\n"
     ]
    }
   ],
   "source": [
    "df = pd.DataFrame([[1,4,7], [2,5,8], [3,6,9]])\n",
    "print(df)"
   ]
  },
  {
   "cell_type": "code",
   "execution_count": 144,
   "id": "ab41d17e",
   "metadata": {},
   "outputs": [
    {
     "name": "stdout",
     "output_type": "stream",
     "text": [
      "0      6\n",
      "1    120\n",
      "2    504\n",
      "dtype: int64\n"
     ]
    }
   ],
   "source": [
    "#입력되는 함수의 형태에 따라 입력함수로는 먼저 np.함수 형태나 그냥 문자열 형태로의 입력 가능\n",
    "ex1 = df.agg(np.prod)\n",
    "print(ex1)"
   ]
  },
  {
   "cell_type": "code",
   "execution_count": 145,
   "id": "4a2a752f",
   "metadata": {},
   "outputs": [
    {
     "name": "stdout",
     "output_type": "stream",
     "text": [
      "0      6\n",
      "1    120\n",
      "2    504\n",
      "dtype: int64\n"
     ]
    }
   ],
   "source": [
    "#문자열일 경우\n",
    "ex2= df.agg('prod')\n",
    "print(ex2)"
   ]
  },
  {
   "cell_type": "code",
   "execution_count": 146,
   "id": "f192b807",
   "metadata": {},
   "outputs": [
    {
     "name": "stdout",
     "output_type": "stream",
     "text": [
      "          0   1   2\n",
      "<lambda>  3  24  63\n"
     ]
    }
   ],
   "source": [
    "# lambda함수나 사용자 정의 함수를 사용할 수 있다.\n",
    "ex3 = df.agg([lambda x : min(x) * max(x)])\n",
    "print(ex3)"
   ]
  },
  {
   "cell_type": "code",
   "execution_count": 147,
   "id": "a035a88d",
   "metadata": {},
   "outputs": [
    {
     "name": "stdout",
     "output_type": "stream",
     "text": [
      "          0   1   2\n",
      "func_sub  2   2   2\n",
      "sum       6  15  24\n"
     ]
    }
   ],
   "source": [
    "def func_sub(input):\n",
    "    return max(input)-min(input)\n",
    "ex4=df.agg([func_sub, 'sum'])\n",
    "print(ex4)"
   ]
  },
  {
   "cell_type": "code",
   "execution_count": 148,
   "id": "f07bf5b2",
   "metadata": {},
   "outputs": [
    {
     "name": "stdout",
     "output_type": "stream",
     "text": [
      "     0   1   2\n",
      "내함수  2   2   2\n",
      "sum  6  15  24\n"
     ]
    }
   ],
   "source": [
    "def func_sub(input):\n",
    "    return max(input)-min(input)\n",
    "func_sub.__name__ = '내함수'\n",
    "ex5 = df.agg([func_sub, 'sum'])\n",
    "print(ex5)"
   ]
  },
  {
   "cell_type": "code",
   "execution_count": 149,
   "id": "fe424837",
   "metadata": {},
   "outputs": [
    {
     "name": "stdout",
     "output_type": "stream",
     "text": [
      "      0    1    2\n",
      "min   1    4    7\n",
      "max   3    6    9\n",
      "sum   6   15   24\n",
      "prod  6  120  504\n"
     ]
    }
   ],
   "source": [
    "#여러 함수를 동시에 적용하는 경우\n",
    "ex6 = df.agg(['min', 'max', 'sum', 'prod'])\n",
    "print(ex6)"
   ]
  },
  {
   "cell_type": "code",
   "execution_count": 150,
   "id": "e86cfe11",
   "metadata": {},
   "outputs": [
    {
     "name": "stdout",
     "output_type": "stream",
     "text": [
      "2    24\n",
      "0     3\n",
      "1     4\n",
      "dtype: int64\n"
     ]
    }
   ],
   "source": [
    "ex7 = df.agg({2 : 'sum', 0 : 'max', 1:'min'})\n",
    "print(ex7)"
   ]
  },
  {
   "cell_type": "code",
   "execution_count": 151,
   "id": "a2a44137",
   "metadata": {},
   "outputs": [
    {
     "name": "stdout",
     "output_type": "stream",
     "text": [
      "        0    1    2\n",
      "sum   6.0  NaN  NaN\n",
      "prod  6.0  NaN  NaN\n",
      "max   NaN  6.0  NaN\n",
      "min   NaN  4.0  NaN\n",
      "mean  NaN  NaN  8.0\n"
     ]
    }
   ],
   "source": [
    "ex8 = df.agg({0:['sum', 'prod'], 1:['max', 'min'], 2:'mean'})\n",
    "print(ex8)"
   ]
  },
  {
   "cell_type": "code",
   "execution_count": 152,
   "id": "884673b2",
   "metadata": {},
   "outputs": [
    {
     "name": "stdout",
     "output_type": "stream",
     "text": [
      "0      6\n",
      "1    120\n",
      "2    504\n",
      "dtype: int64\n"
     ]
    }
   ],
   "source": [
    "ex2 = df.agg('prod', axis=0)\n",
    "print(ex2)"
   ]
  },
  {
   "cell_type": "code",
   "execution_count": 153,
   "id": "aa41d1be",
   "metadata": {},
   "outputs": [
    {
     "name": "stdout",
     "output_type": "stream",
     "text": [
      "0     28\n",
      "1     80\n",
      "2    162\n",
      "dtype: int64\n"
     ]
    }
   ],
   "source": [
    "ex3 = df.agg('prod', axis=1)\n",
    "print(ex3)"
   ]
  },
  {
   "cell_type": "markdown",
   "id": "f4f709e9",
   "metadata": {},
   "source": [
    "3-5. 함수연속적용_요소별(transform)\n",
    "* agg와 비슷하게 함수를 적용하는 메서드\n",
    "* 단일 요소별로 함수를 동시에 적용할 수 있다는 장점이 있다.\n",
    "* func : 함수\n",
    "* axis : 0=행, 1=열\n",
    "* arg : 함수의 인수\n",
    "* kwargs : dict형태의 함수의 인수"
   ]
  },
  {
   "cell_type": "code",
   "execution_count": 154,
   "id": "e5347286",
   "metadata": {},
   "outputs": [
    {
     "name": "stdout",
     "output_type": "stream",
     "text": [
      "      col1  col2  col3\n",
      "row1    10    40    70\n",
      "row2    20    50    80\n",
      "row3    30    60    90\n"
     ]
    }
   ],
   "source": [
    "col = ['col1','col2','col3']\n",
    "row = ['row1','row2','row3']\n",
    "df = pd.DataFrame(data=[[10,40,70],[20,50,80],[30,60,90]],index=row,columns=col)\n",
    "print(df)"
   ]
  },
  {
   "cell_type": "code",
   "execution_count": 155,
   "id": "38b72342",
   "metadata": {},
   "outputs": [
    {
     "name": "stdout",
     "output_type": "stream",
     "text": [
      "          col1      col2      col3\n",
      "row1  3.162278  6.324555  8.366600\n",
      "row2  4.472136  7.071068  8.944272\n",
      "row3  5.477226  7.745967  9.486833\n"
     ]
    }
   ],
   "source": [
    "#입력되는 함수의 형태에 따라\n",
    "ex1 = df.transform(np.sqrt)\n",
    "print(ex1)"
   ]
  },
  {
   "cell_type": "code",
   "execution_count": 156,
   "id": "9c3396a4",
   "metadata": {},
   "outputs": [
    {
     "name": "stdout",
     "output_type": "stream",
     "text": [
      "          col1      col2      col3\n",
      "row1  3.162278  6.324555  8.366600\n",
      "row2  4.472136  7.071068  8.944272\n",
      "row3  5.477226  7.745967  9.486833\n"
     ]
    }
   ],
   "source": [
    "ex2 = df.transform('sqrt')\n",
    "print(ex2)"
   ]
  },
  {
   "cell_type": "code",
   "execution_count": 157,
   "id": "1b9b0149",
   "metadata": {},
   "outputs": [
    {
     "name": "stdout",
     "output_type": "stream",
     "text": [
      "          col1      col2      col3\n",
      "row1  3.162278  6.324555  8.366600\n",
      "row2  4.472136  7.071068  8.944272\n",
      "row3  5.477226  7.745967  9.486833\n"
     ]
    }
   ],
   "source": [
    "ex3 = df.transform(lambda x : np.sqrt(x))\n",
    "print(ex3)"
   ]
  },
  {
   "cell_type": "code",
   "execution_count": 158,
   "id": "fe758942",
   "metadata": {},
   "outputs": [
    {
     "name": "stdout",
     "output_type": "stream",
     "text": [
      "              col1                    col2                    col3          \n",
      "               exp      sqrt           exp      sqrt           exp      sqrt\n",
      "row1  2.202647e+04  3.162278  2.353853e+17  6.324555  2.515439e+30  8.366600\n",
      "row2  4.851652e+08  4.472136  5.184706e+21  7.071068  5.540622e+34  8.944272\n",
      "row3  1.068647e+13  5.477226  1.142007e+26  7.745967  1.220403e+39  9.486833\n"
     ]
    }
   ],
   "source": [
    "#여러 함수를 동시에 적용하는 경우\n",
    "#list나 dict형태로 func값을 입력하는 경우 여러 함수를 동시에 적용할 수 있다.\n",
    "ex4 = df.transform(['exp', 'sqrt'])\n",
    "print(ex4)"
   ]
  },
  {
   "cell_type": "code",
   "execution_count": 159,
   "id": "dd638937",
   "metadata": {},
   "outputs": [
    {
     "name": "stdout",
     "output_type": "stream",
     "text": [
      "              col2      col1\n",
      "row1  2.353853e+17  3.162278\n",
      "row2  5.184706e+21  4.472136\n",
      "row3  1.142007e+26  5.477226\n"
     ]
    }
   ],
   "source": [
    "ex5 = df.transform({'col2' : 'exp', 'col1' : 'sqrt'})\n",
    "print(ex5)"
   ]
  },
  {
   "cell_type": "markdown",
   "id": "37fcb1da",
   "metadata": {},
   "source": [
    "3-6. 문자열 형식의 계산식 적용 (eval)\n",
    "* eval메서드 : 파이썬의 eval과 동일\n",
    "* df.eval(expr, inplace=False, kwargs)\n",
    "* inplace : true / false계산된 값이 원본을 변경할지의 여부\n"
   ]
  },
  {
   "cell_type": "code",
   "execution_count": 160,
   "id": "9ba71ffe",
   "metadata": {},
   "outputs": [
    {
     "name": "stdout",
     "output_type": "stream",
     "text": [
      "      col1  col2  col3\n",
      "row1     1     2     3\n",
      "row2     4     5     6\n",
      "row3     7     8     9\n"
     ]
    }
   ],
   "source": [
    "data = [[1,2,3],[4,5,6],[7,8,9]]\n",
    "col = ['col1','col2','col3']\n",
    "row = ['row1','row2','row3']\n",
    "df = pd.DataFrame(data = data, index = row, columns= col)\n",
    "print(df)"
   ]
  },
  {
   "cell_type": "code",
   "execution_count": 161,
   "id": "d2bad688",
   "metadata": {},
   "outputs": [
    {
     "name": "stdout",
     "output_type": "stream",
     "text": [
      "      col1  col2  col3  col4\n",
      "row1     1     2     3    -1\n",
      "row2     4     5     6    14\n",
      "row3     7     8     9    47\n"
     ]
    }
   ],
   "source": [
    "print(df.eval('col4=col1*col2-col3'))"
   ]
  },
  {
   "cell_type": "code",
   "execution_count": 162,
   "id": "a3dd494f",
   "metadata": {},
   "outputs": [
    {
     "name": "stdout",
     "output_type": "stream",
     "text": [
      "      col1  col2  col3\n",
      "row1     1     2     3\n",
      "row2     4     5     6\n",
      "row3     7     8     9\n"
     ]
    }
   ],
   "source": [
    "print(df)"
   ]
  },
  {
   "cell_type": "code",
   "execution_count": 163,
   "id": "1bed4908",
   "metadata": {},
   "outputs": [
    {
     "name": "stdout",
     "output_type": "stream",
     "text": [
      "None\n"
     ]
    }
   ],
   "source": [
    "#inplace=True인 경우\n",
    "# inplace=True로 할 경우 원본이 변경되는 것을 확인 할 수 있음.\n",
    "#inplace=True로 할 경우 사본이 생성되지 않는다. print할 경우 None이 출력됨.\n",
    "print(df.eval('col4 = col1*col2-col3', inplace=True))"
   ]
  },
  {
   "cell_type": "code",
   "execution_count": 164,
   "id": "83bed8d6",
   "metadata": {},
   "outputs": [
    {
     "name": "stdout",
     "output_type": "stream",
     "text": [
      "      col1  col2  col3  col4\n",
      "row1     1     2     3    -1\n",
      "row2     4     5     6    14\n",
      "row3     7     8     9    47\n"
     ]
    }
   ],
   "source": [
    "print(df) #원본은 변경됨. "
   ]
  },
  {
   "cell_type": "code",
   "execution_count": null,
   "id": "11efb788",
   "metadata": {},
   "outputs": [],
   "source": []
  },
  {
   "cell_type": "markdown",
   "id": "81d5c8ef",
   "metadata": {},
   "source": [
    "# 4. 인덱싱"
   ]
  },
  {
   "cell_type": "markdown",
   "id": "13fb7614",
   "metadata": {},
   "source": [
    "4-1. 레이블기반_스칼라(at)\n",
    "* 행, 열 값을 인수로 입력하여 변수에 할당함으로써 값을 가져올 수 있다."
   ]
  },
  {
   "cell_type": "code",
   "execution_count": 168,
   "id": "eea44858",
   "metadata": {},
   "outputs": [
    {
     "name": "stdout",
     "output_type": "stream",
     "text": [
      "      col1  col2\n",
      "row1     1     2\n",
      "row2     3     4\n"
     ]
    }
   ],
   "source": [
    "df = pd.DataFrame([[1,2], [3,4]], index= ['row1','row2'], columns=['col1', 'col2'])\n",
    "print(df)"
   ]
  },
  {
   "cell_type": "code",
   "execution_count": 169,
   "id": "6347cccb",
   "metadata": {},
   "outputs": [
    {
     "name": "stdout",
     "output_type": "stream",
     "text": [
      "2\n"
     ]
    }
   ],
   "source": [
    "result = df.at['row1', 'col2']\n",
    "print(result)"
   ]
  },
  {
   "cell_type": "code",
   "execution_count": 175,
   "id": "7ca0aa29",
   "metadata": {},
   "outputs": [],
   "source": [
    "df1=df.copy()"
   ]
  },
  {
   "cell_type": "code",
   "execution_count": 177,
   "id": "293947cb",
   "metadata": {},
   "outputs": [
    {
     "ename": "ValueError",
     "evalue": "invalid literal for int() with base 10: '변경'",
     "output_type": "error",
     "traceback": [
      "\u001b[1;31m---------------------------------------------------------------------------\u001b[0m",
      "\u001b[1;31mValueError\u001b[0m                                Traceback (most recent call last)",
      "\u001b[1;32m~\\AppData\\Local\\Temp/ipykernel_7508/3383155966.py\u001b[0m in \u001b[0;36m<module>\u001b[1;34m\u001b[0m\n\u001b[1;32m----> 1\u001b[1;33m \u001b[0mdf1\u001b[0m\u001b[1;33m.\u001b[0m\u001b[0mat\u001b[0m\u001b[1;33m[\u001b[0m\u001b[1;34m'row2'\u001b[0m\u001b[1;33m,\u001b[0m \u001b[1;34m'col1'\u001b[0m\u001b[1;33m]\u001b[0m \u001b[1;33m=\u001b[0m \u001b[1;34m'변경'\u001b[0m\u001b[1;33m\u001b[0m\u001b[1;33m\u001b[0m\u001b[0m\n\u001b[0m\u001b[0;32m      2\u001b[0m \u001b[0mprint\u001b[0m\u001b[1;33m(\u001b[0m\u001b[0mdf1\u001b[0m\u001b[1;33m)\u001b[0m\u001b[1;33m\u001b[0m\u001b[1;33m\u001b[0m\u001b[0m\n",
      "\u001b[1;32m~\\anaconda3\\lib\\site-packages\\pandas\\core\\indexing.py\u001b[0m in \u001b[0;36m__setitem__\u001b[1;34m(self, key, value)\u001b[0m\n\u001b[0;32m   2284\u001b[0m             \u001b[1;32mreturn\u001b[0m\u001b[1;33m\u001b[0m\u001b[1;33m\u001b[0m\u001b[0m\n\u001b[0;32m   2285\u001b[0m \u001b[1;33m\u001b[0m\u001b[0m\n\u001b[1;32m-> 2286\u001b[1;33m         \u001b[1;32mreturn\u001b[0m \u001b[0msuper\u001b[0m\u001b[1;33m(\u001b[0m\u001b[1;33m)\u001b[0m\u001b[1;33m.\u001b[0m\u001b[0m__setitem__\u001b[0m\u001b[1;33m(\u001b[0m\u001b[0mkey\u001b[0m\u001b[1;33m,\u001b[0m \u001b[0mvalue\u001b[0m\u001b[1;33m)\u001b[0m\u001b[1;33m\u001b[0m\u001b[1;33m\u001b[0m\u001b[0m\n\u001b[0m\u001b[0;32m   2287\u001b[0m \u001b[1;33m\u001b[0m\u001b[0m\n\u001b[0;32m   2288\u001b[0m \u001b[1;33m\u001b[0m\u001b[0m\n",
      "\u001b[1;32m~\\anaconda3\\lib\\site-packages\\pandas\\core\\indexing.py\u001b[0m in \u001b[0;36m__setitem__\u001b[1;34m(self, key, value)\u001b[0m\n\u001b[0;32m   2235\u001b[0m             \u001b[1;32mraise\u001b[0m \u001b[0mValueError\u001b[0m\u001b[1;33m(\u001b[0m\u001b[1;34m\"Not enough indexers for scalar access (setting)!\"\u001b[0m\u001b[1;33m)\u001b[0m\u001b[1;33m\u001b[0m\u001b[1;33m\u001b[0m\u001b[0m\n\u001b[0;32m   2236\u001b[0m \u001b[1;33m\u001b[0m\u001b[0m\n\u001b[1;32m-> 2237\u001b[1;33m         \u001b[0mself\u001b[0m\u001b[1;33m.\u001b[0m\u001b[0mobj\u001b[0m\u001b[1;33m.\u001b[0m\u001b[0m_set_value\u001b[0m\u001b[1;33m(\u001b[0m\u001b[1;33m*\u001b[0m\u001b[0mkey\u001b[0m\u001b[1;33m,\u001b[0m \u001b[0mvalue\u001b[0m\u001b[1;33m=\u001b[0m\u001b[0mvalue\u001b[0m\u001b[1;33m,\u001b[0m \u001b[0mtakeable\u001b[0m\u001b[1;33m=\u001b[0m\u001b[0mself\u001b[0m\u001b[1;33m.\u001b[0m\u001b[0m_takeable\u001b[0m\u001b[1;33m)\u001b[0m\u001b[1;33m\u001b[0m\u001b[1;33m\u001b[0m\u001b[0m\n\u001b[0m\u001b[0;32m   2238\u001b[0m \u001b[1;33m\u001b[0m\u001b[0m\n\u001b[0;32m   2239\u001b[0m \u001b[1;33m\u001b[0m\u001b[0m\n",
      "\u001b[1;32m~\\anaconda3\\lib\\site-packages\\pandas\\core\\frame.py\u001b[0m in \u001b[0;36m_set_value\u001b[1;34m(self, index, col, value, takeable)\u001b[0m\n\u001b[0;32m   3824\u001b[0m             \u001b[0mvalidate_numeric_casting\u001b[0m\u001b[1;33m(\u001b[0m\u001b[0mseries\u001b[0m\u001b[1;33m.\u001b[0m\u001b[0mdtype\u001b[0m\u001b[1;33m,\u001b[0m \u001b[0mvalue\u001b[0m\u001b[1;33m)\u001b[0m\u001b[1;33m\u001b[0m\u001b[1;33m\u001b[0m\u001b[0m\n\u001b[0;32m   3825\u001b[0m \u001b[1;33m\u001b[0m\u001b[0m\n\u001b[1;32m-> 3826\u001b[1;33m             \u001b[0mseries\u001b[0m\u001b[1;33m.\u001b[0m\u001b[0m_values\u001b[0m\u001b[1;33m[\u001b[0m\u001b[0mloc\u001b[0m\u001b[1;33m]\u001b[0m \u001b[1;33m=\u001b[0m \u001b[0mvalue\u001b[0m\u001b[1;33m\u001b[0m\u001b[1;33m\u001b[0m\u001b[0m\n\u001b[0m\u001b[0;32m   3827\u001b[0m             \u001b[1;31m# Note: trying to use series._set_value breaks tests in\u001b[0m\u001b[1;33m\u001b[0m\u001b[1;33m\u001b[0m\u001b[0m\n\u001b[0;32m   3828\u001b[0m             \u001b[1;31m#  tests.frame.indexing.test_indexing and tests.indexing.test_partial\u001b[0m\u001b[1;33m\u001b[0m\u001b[1;33m\u001b[0m\u001b[0m\n",
      "\u001b[1;31mValueError\u001b[0m: invalid literal for int() with base 10: '변경'"
     ]
    }
   ],
   "source": [
    "df1.at['row2', 'col1'] = '변경'\n",
    "print(df1)"
   ]
  },
  {
   "cell_type": "code",
   "execution_count": 178,
   "id": "64f78632",
   "metadata": {},
   "outputs": [
    {
     "data": {
      "text/plain": [
       "4"
      ]
     },
     "execution_count": 178,
     "metadata": {},
     "output_type": "execute_result"
    }
   ],
   "source": [
    "df.loc['row2'].at['col2']"
   ]
  },
  {
   "cell_type": "markdown",
   "id": "3b1ad117",
   "metadata": {},
   "source": [
    "4-2. 레이블기반_데이터(loc)"
   ]
  },
  {
   "cell_type": "code",
   "execution_count": 179,
   "id": "703b6dc8",
   "metadata": {},
   "outputs": [
    {
     "name": "stdout",
     "output_type": "stream",
     "text": [
      "      col1  col2  col3\n",
      "row1     1     2     3\n",
      "row2     4     5     6\n",
      "row3     7     8     9\n"
     ]
    }
   ],
   "source": [
    "df = pd.DataFrame([[1,2,3], [4,5,6], [7,8,9]], index=['row1', 'row2','row3'], columns=['col1','col2','col3'])\n",
    "print(df)"
   ]
  },
  {
   "cell_type": "code",
   "execution_count": 180,
   "id": "34279a65",
   "metadata": {},
   "outputs": [
    {
     "name": "stdout",
     "output_type": "stream",
     "text": [
      "col1    1\n",
      "col2    2\n",
      "col3    3\n",
      "Name: row1, dtype: int64\n"
     ]
    }
   ],
   "source": [
    "result = df.loc['row1']\n",
    "print(result)"
   ]
  },
  {
   "cell_type": "code",
   "execution_count": 181,
   "id": "d28d4364",
   "metadata": {},
   "outputs": [
    {
     "name": "stdout",
     "output_type": "stream",
     "text": [
      "      col1  col2  col3\n",
      "row1     1     2     3\n",
      "row3     7     8     9\n"
     ]
    }
   ],
   "source": [
    "result = df.loc[['row1', 'row3']]\n",
    "print(result)"
   ]
  },
  {
   "cell_type": "code",
   "execution_count": 182,
   "id": "e8c85cc3",
   "metadata": {},
   "outputs": [
    {
     "name": "stdout",
     "output_type": "stream",
     "text": [
      "5\n"
     ]
    }
   ],
   "source": [
    "result = df.loc['row2', 'col2']\n",
    "print(result)"
   ]
  },
  {
   "cell_type": "code",
   "execution_count": 183,
   "id": "f8c8a6f1",
   "metadata": {},
   "outputs": [
    {
     "name": "stdout",
     "output_type": "stream",
     "text": [
      "row1    2\n",
      "row2    5\n",
      "row3    8\n",
      "Name: col2, dtype: int64\n"
     ]
    }
   ],
   "source": [
    "result = df.loc['row1' : 'row3', 'col2']\n",
    "print(result)"
   ]
  },
  {
   "cell_type": "code",
   "execution_count": 185,
   "id": "4fb60c77",
   "metadata": {},
   "outputs": [
    {
     "name": "stdout",
     "output_type": "stream",
     "text": [
      "      col1  col2  col3\n",
      "row2     4     5     6\n"
     ]
    }
   ],
   "source": [
    "bool = [False, True, False]\n",
    "result = df.loc[bool]\n",
    "print(result)"
   ]
  },
  {
   "cell_type": "code",
   "execution_count": 186,
   "id": "47034060",
   "metadata": {},
   "outputs": [
    {
     "name": "stdout",
     "output_type": "stream",
     "text": [
      "      col1  col2  col3\n",
      "row2     4     5     6\n",
      "row3     7     8     9\n"
     ]
    }
   ],
   "source": [
    "result = df.loc[df['col3'] > 5]\n",
    "print(result)"
   ]
  },
  {
   "cell_type": "code",
   "execution_count": 187,
   "id": "9f788690",
   "metadata": {},
   "outputs": [
    {
     "name": "stdout",
     "output_type": "stream",
     "text": [
      "      col2\n",
      "row2     5\n",
      "row3     8\n"
     ]
    }
   ],
   "source": [
    "result = df.loc[df['col3'] > 5, ['col2']]\n",
    "print(result)"
   ]
  },
  {
   "cell_type": "code",
   "execution_count": 188,
   "id": "97f59d0c",
   "metadata": {},
   "outputs": [
    {
     "name": "stdout",
     "output_type": "stream",
     "text": [
      "      col1  col2  col3\n",
      "row2     4     5     6\n"
     ]
    }
   ],
   "source": [
    "result = df.loc[lambda df : df['col2'] == 5]\n",
    "print(result)"
   ]
  },
  {
   "cell_type": "code",
   "execution_count": 189,
   "id": "87aa19a5",
   "metadata": {},
   "outputs": [
    {
     "name": "stdout",
     "output_type": "stream",
     "text": [
      "      col1  col2 col3\n",
      "row1     1     2    A\n",
      "row2     4     5    6\n",
      "row3     7     8    A\n"
     ]
    }
   ],
   "source": [
    "df.loc[ ['row1', 'row3'], ['col3']] = 'A'\n",
    "print(df)"
   ]
  },
  {
   "cell_type": "code",
   "execution_count": 190,
   "id": "35bfda99",
   "metadata": {},
   "outputs": [
    {
     "name": "stdout",
     "output_type": "stream",
     "text": [
      "     col1 col2 col3\n",
      "row1    A    A    A\n",
      "row2    4    5    6\n",
      "row3    7    8    A\n"
     ]
    }
   ],
   "source": [
    "df.loc[['row1']] = 'A'\n",
    "print(df)"
   ]
  },
  {
   "cell_type": "code",
   "execution_count": 191,
   "id": "c13263e7",
   "metadata": {},
   "outputs": [
    {
     "name": "stdout",
     "output_type": "stream",
     "text": [
      "     col1 col2 col3\n",
      "row1    A    A    B\n",
      "row2    4    5    B\n",
      "row3    7    8    B\n"
     ]
    }
   ],
   "source": [
    "df.loc[:, ['col3']]='B'\n",
    "print(df)"
   ]
  },
  {
   "cell_type": "code",
   "execution_count": 196,
   "id": "6ec4b7a2",
   "metadata": {},
   "outputs": [
    {
     "name": "stdout",
     "output_type": "stream",
     "text": [
      "      col1  col2  col3\n",
      "row1     1     2     3\n",
      "row2     4     5     6\n",
      "row3     7     8     9\n"
     ]
    }
   ],
   "source": [
    "df1= pd.DataFrame([[1,2,3], [4,5,6], [7,8,9]], index=['row1', 'row2','row3'], columns=['col1','col2','col3'])\n",
    "print(df1)"
   ]
  },
  {
   "cell_type": "code",
   "execution_count": 197,
   "id": "4d476879",
   "metadata": {},
   "outputs": [
    {
     "name": "stdout",
     "output_type": "stream",
     "text": [
      "     col1 col2 col3\n",
      "row1    1    2    3\n",
      "row2    A    A    A\n",
      "row3    A    A    A\n"
     ]
    }
   ],
   "source": [
    "df1.loc[df1['col2'] > 3] = 'A'\n",
    "print(df1)"
   ]
  },
  {
   "cell_type": "markdown",
   "id": "f3922d87",
   "metadata": {},
   "source": [
    "4-3. 정수기반_스칼라(iat)\n",
    "* iat 함수는 iloc함수와 같이 정수 기반으로 인덱싱한다."
   ]
  },
  {
   "cell_type": "code",
   "execution_count": 198,
   "id": "d2f95b7f",
   "metadata": {},
   "outputs": [
    {
     "name": "stdout",
     "output_type": "stream",
     "text": [
      "      col1  col2  col3\n",
      "row1     1     2     3\n",
      "row2     4     5     6\n",
      "row3     7     8     9\n"
     ]
    }
   ],
   "source": [
    "df = pd.DataFrame([[1,2,3], [4,5,6], [7,8,9]], index=['row1', 'row2', 'row3'], columns = ['col1', 'col2', 'col3'])\n",
    "print(df)"
   ]
  },
  {
   "cell_type": "code",
   "execution_count": 199,
   "id": "99db2ba4",
   "metadata": {},
   "outputs": [
    {
     "name": "stdout",
     "output_type": "stream",
     "text": [
      "6\n"
     ]
    }
   ],
   "source": [
    "result = df.iat[1,2] #row=1, column=2\n",
    "print(result)"
   ]
  },
  {
   "cell_type": "code",
   "execution_count": 200,
   "id": "ca4ac220",
   "metadata": {},
   "outputs": [
    {
     "name": "stdout",
     "output_type": "stream",
     "text": [
      "      col1  col2 col3\n",
      "row1     1     2    3\n",
      "row2     4     5    A\n",
      "row3     7     8    9\n"
     ]
    }
   ],
   "source": [
    "df.iat[1,2]='A'\n",
    "print(df)"
   ]
  },
  {
   "cell_type": "code",
   "execution_count": null,
   "id": "1da8bed3",
   "metadata": {},
   "outputs": [],
   "source": []
  },
  {
   "cell_type": "markdown",
   "id": "df1a51e3",
   "metadata": {},
   "source": [
    "4-4. 정수기반_데이터(iloc)"
   ]
  },
  {
   "cell_type": "code",
   "execution_count": 201,
   "id": "ec3f356a",
   "metadata": {},
   "outputs": [
    {
     "name": "stdout",
     "output_type": "stream",
     "text": [
      "      col1  col2  col3\n",
      "row1     1     2     3\n",
      "row2     4     5     6\n",
      "row3     7     8     9\n"
     ]
    }
   ],
   "source": [
    "df = pd.DataFrame([[1,2,3], [4,5,6], [7,8,9]], index=['row1', 'row2', 'row3'], columns=['col1', 'col2', 'col3'])\n",
    "print(df)"
   ]
  },
  {
   "cell_type": "code",
   "execution_count": 202,
   "id": "289bd4ef",
   "metadata": {},
   "outputs": [
    {
     "name": "stdout",
     "output_type": "stream",
     "text": [
      "col1    1\n",
      "col2    2\n",
      "col3    3\n",
      "Name: row1, dtype: int64\n"
     ]
    }
   ],
   "source": [
    "result = df.iloc[0]\n",
    "print(result)"
   ]
  },
  {
   "cell_type": "code",
   "execution_count": 203,
   "id": "7ed604ba",
   "metadata": {},
   "outputs": [
    {
     "name": "stdout",
     "output_type": "stream",
     "text": [
      "      col1  col2  col3\n",
      "row1     1     2     3\n",
      "row3     7     8     9\n"
     ]
    }
   ],
   "source": [
    "result = df.iloc[[0,2]]\n",
    "print(result)"
   ]
  },
  {
   "cell_type": "code",
   "execution_count": 204,
   "id": "c19d8985",
   "metadata": {},
   "outputs": [
    {
     "name": "stdout",
     "output_type": "stream",
     "text": [
      "      col1  col2  col3\n",
      "row2     4     5     6\n"
     ]
    }
   ],
   "source": [
    "result = df.iloc[1:2]\n",
    "print(result)"
   ]
  },
  {
   "cell_type": "code",
   "execution_count": 205,
   "id": "f3cf378c",
   "metadata": {},
   "outputs": [
    {
     "name": "stdout",
     "output_type": "stream",
     "text": [
      "      col1  col2  col3\n",
      "row1     1     2     3\n",
      "row3     7     8     9\n"
     ]
    }
   ],
   "source": [
    "bool_list = [True, False, True]\n",
    "result = df.iloc[bool_list]\n",
    "print(result)"
   ]
  },
  {
   "cell_type": "code",
   "execution_count": 206,
   "id": "4e5f13ba",
   "metadata": {},
   "outputs": [
    {
     "name": "stdout",
     "output_type": "stream",
     "text": [
      "      col1  col2  col3\n",
      "row3     7     8     9\n"
     ]
    }
   ],
   "source": [
    "result = df.iloc[lambda x : x.index =='row3']\n",
    "print(result)"
   ]
  },
  {
   "cell_type": "code",
   "execution_count": null,
   "id": "469cf3cb",
   "metadata": {},
   "outputs": [],
   "source": []
  },
  {
   "cell_type": "markdown",
   "id": "08dbcb37",
   "metadata": {},
   "source": [
    "4-5. 앞에서 n행 인덱싱(head)"
   ]
  },
  {
   "cell_type": "code",
   "execution_count": 207,
   "id": "6eda189e",
   "metadata": {},
   "outputs": [
    {
     "name": "stdout",
     "output_type": "stream",
     "text": [
      "   0  1  2  3  4  5  6  7  8  9\n",
      "0  5  0  1  5  9  3  0  5  0  1\n",
      "1  2  4  2  0  3  2  0  7  5  9\n",
      "2  0  2  7  2  9  2  3  3  2  3\n",
      "3  4  1  2  9  1  4  6  8  2  3\n",
      "4  0  0  6  0  6  3  3  8  8  8\n",
      "5  2  3  2  0  8  8  3  8  2  8\n",
      "6  4  3  0  4  3  6  9  8  0  8\n",
      "7  5  9  0  9  6  5  3  1  8  0\n",
      "8  4  9  6  5  7  8  8  9  2  8\n",
      "9  6  6  9  1  6  8  8  3  2  3\n"
     ]
    }
   ],
   "source": [
    "data = np.random.randint(10, size=(10,10))\n",
    "df = pd.DataFrame(data=data)\n",
    "print(df)"
   ]
  },
  {
   "cell_type": "code",
   "execution_count": 208,
   "id": "f4073bec",
   "metadata": {},
   "outputs": [
    {
     "name": "stdout",
     "output_type": "stream",
     "text": [
      "   0  1  2  3  4  5  6  7  8  9\n",
      "0  5  0  1  5  9  3  0  5  0  1\n",
      "1  2  4  2  0  3  2  0  7  5  9\n",
      "2  0  2  7  2  9  2  3  3  2  3\n"
     ]
    }
   ],
   "source": [
    "print(df.head(3))"
   ]
  },
  {
   "cell_type": "code",
   "execution_count": 209,
   "id": "cf50deb8",
   "metadata": {},
   "outputs": [
    {
     "name": "stdout",
     "output_type": "stream",
     "text": [
      "   0  1  2  3  4  5  6  7  8  9\n",
      "0  5  0  1  5  9  3  0  5  0  1\n",
      "1  2  4  2  0  3  2  0  7  5  9\n",
      "2  0  2  7  2  9  2  3  3  2  3\n",
      "3  4  1  2  9  1  4  6  8  2  3\n",
      "4  0  0  6  0  6  3  3  8  8  8\n",
      "5  2  3  2  0  8  8  3  8  2  8\n",
      "6  4  3  0  4  3  6  9  8  0  8\n"
     ]
    }
   ],
   "source": [
    "print(df.head(-3)) #뒤에 3개 제외해라"
   ]
  },
  {
   "cell_type": "code",
   "execution_count": 210,
   "id": "8d09fc0f",
   "metadata": {},
   "outputs": [
    {
     "name": "stdout",
     "output_type": "stream",
     "text": [
      "RangeIndex(start=0, stop=3, step=1)\n"
     ]
    }
   ],
   "source": [
    "check = df.head(3)\n",
    "print(check.index)"
   ]
  },
  {
   "cell_type": "markdown",
   "id": "0c7f3ab2",
   "metadata": {},
   "source": [
    "4-6. 뒤에서 n행 인덱싱(tail)"
   ]
  },
  {
   "cell_type": "code",
   "execution_count": 211,
   "id": "8617c403",
   "metadata": {},
   "outputs": [
    {
     "name": "stdout",
     "output_type": "stream",
     "text": [
      "   0  1  2  3  4  5  6  7  8  9\n",
      "0  6  3  6  5  7  0  8  4  6  5\n",
      "1  8  2  3  9  7  5  3  4  5  3\n",
      "2  3  7  9  9  9  7  3  2  3  9\n",
      "3  7  7  5  1  2  2  8  1  5  8\n",
      "4  4  0  2  5  5  0  8  1  1  0\n",
      "5  3  8  8  4  4  0  9  3  7  3\n",
      "6  2  1  1  2  1  4  2  5  5  5\n",
      "7  2  5  7  7  6  1  6  7  2  3\n",
      "8  1  9  5  9  9  2  0  9  1  9\n",
      "9  0  6  0  4  8  4  3  3  8  8\n"
     ]
    }
   ],
   "source": [
    "data = np.random.randint(10, size=(10,10))\n",
    "df = pd.DataFrame(data=data)\n",
    "print(df)"
   ]
  },
  {
   "cell_type": "code",
   "execution_count": 212,
   "id": "b3ba29f9",
   "metadata": {},
   "outputs": [
    {
     "name": "stdout",
     "output_type": "stream",
     "text": [
      "   0  1  2  3  4  5  6  7  8  9\n",
      "7  2  5  7  7  6  1  6  7  2  3\n",
      "8  1  9  5  9  9  2  0  9  1  9\n",
      "9  0  6  0  4  8  4  3  3  8  8\n"
     ]
    }
   ],
   "source": [
    "print(df.tail(3))"
   ]
  },
  {
   "cell_type": "code",
   "execution_count": 213,
   "id": "d2337099",
   "metadata": {},
   "outputs": [
    {
     "name": "stdout",
     "output_type": "stream",
     "text": [
      "   0  1  2  3  4  5  6  7  8  9\n",
      "3  7  7  5  1  2  2  8  1  5  8\n",
      "4  4  0  2  5  5  0  8  1  1  0\n",
      "5  3  8  8  4  4  0  9  3  7  3\n",
      "6  2  1  1  2  1  4  2  5  5  5\n",
      "7  2  5  7  7  6  1  6  7  2  3\n",
      "8  1  9  5  9  9  2  0  9  1  9\n",
      "9  0  6  0  4  8  4  3  3  8  8\n"
     ]
    }
   ],
   "source": [
    "print(df.tail(-3)) #앞에 있는 3개의 행 제외"
   ]
  },
  {
   "cell_type": "code",
   "execution_count": 214,
   "id": "b7ee8172",
   "metadata": {},
   "outputs": [
    {
     "name": "stdout",
     "output_type": "stream",
     "text": [
      "RangeIndex(start=7, stop=10, step=1)\n"
     ]
    }
   ],
   "source": [
    "check =df.tail(3)\n",
    "print(check.index)"
   ]
  },
  {
   "cell_type": "markdown",
   "id": "8c433967",
   "metadata": {},
   "source": [
    "4-7. Multi index의 경우"
   ]
  },
  {
   "cell_type": "code",
   "execution_count": 215,
   "id": "318b8791",
   "metadata": {},
   "outputs": [
    {
     "name": "stdout",
     "output_type": "stream",
     "text": [
      "           col1  col2  col3\n",
      "row1 val1     1     2     3\n",
      "     val2     4     5     6\n",
      "row2 val1     7     8     9\n",
      "     val2    10    11    12\n",
      "     val3    13    14    15\n",
      "row3 val2    16    17    18\n",
      "     val3    19    20    21\n"
     ]
    }
   ],
   "source": [
    "index_tuples = [('row1', 'val1'), ('row1', 'val2'), ('row2', 'val1'), ('row2', 'val2'), ('row2', 'val3'), ('row3', 'val2'),('row3', 'val3')]\n",
    "values = [[1,2,3], [4,5,6], [7,8,9], [10,11,12], [13,14,15], [16,17,18], [19,20,21]]\n",
    "index = pd.MultiIndex.from_tuples(index_tuples)\n",
    "df = pd.DataFrame(values, columns = ['col1', 'col2', 'col3'], index=index)\n",
    "print(df)"
   ]
  },
  {
   "cell_type": "code",
   "execution_count": 216,
   "id": "ef2ad8cb",
   "metadata": {},
   "outputs": [
    {
     "name": "stdout",
     "output_type": "stream",
     "text": [
      "      col1  col2  col3\n",
      "val1     7     8     9\n",
      "val2    10    11    12\n",
      "val3    13    14    15\n"
     ]
    }
   ],
   "source": [
    "result = df.loc['row2']\n",
    "print(result)"
   ]
  },
  {
   "cell_type": "code",
   "execution_count": 217,
   "id": "3ae73084",
   "metadata": {},
   "outputs": [
    {
     "name": "stdout",
     "output_type": "stream",
     "text": [
      "col1    10\n",
      "col2    11\n",
      "col3    12\n",
      "Name: (row2, val2), dtype: int64\n"
     ]
    }
   ],
   "source": [
    "result = df.loc[('row2', 'val2')]\n",
    "print(result)"
   ]
  },
  {
   "cell_type": "code",
   "execution_count": 218,
   "id": "f693f545",
   "metadata": {},
   "outputs": [
    {
     "name": "stdout",
     "output_type": "stream",
     "text": [
      "           col1  col2  col3\n",
      "row2 val2    10    11    12\n"
     ]
    }
   ],
   "source": [
    "result = df.loc[[('row2', 'val2')]]\n",
    "print(result)"
   ]
  },
  {
   "cell_type": "code",
   "execution_count": 219,
   "id": "5fdd2d41",
   "metadata": {},
   "outputs": [
    {
     "name": "stdout",
     "output_type": "stream",
     "text": [
      "12\n"
     ]
    }
   ],
   "source": [
    "result = df.loc[('row2', 'val2'), 'col3']\n",
    "print(result)"
   ]
  },
  {
   "cell_type": "code",
   "execution_count": 220,
   "id": "0f774100",
   "metadata": {},
   "outputs": [
    {
     "name": "stdout",
     "output_type": "stream",
     "text": [
      "           col1  col2  col3\n",
      "row1 val2     4     5     6\n",
      "row2 val1     7     8     9\n",
      "     val2    10    11    12\n",
      "     val3    13    14    15\n",
      "row3 val2    16    17    18\n"
     ]
    }
   ],
   "source": [
    "result = df.loc[('row1', 'val2') : ('row3', 'val2')]\n",
    "print(result)"
   ]
  },
  {
   "cell_type": "markdown",
   "id": "e62b5228",
   "metadata": {},
   "source": [
    "# 5. 비교 & 필터링"
   ]
  },
  {
   "cell_type": "markdown",
   "id": "41954f37",
   "metadata": {},
   "source": [
    "5-1. 초과, 미만, 이상, 이하, 같음, 다름\n",
    "- other : 스칼라, 시퀀스, series, dataframe, list등이 올 수 있다. 비교하고자 하는 값\n",
    "- axis : 0 =헹. 1=열 비교할 테이블\n",
    "- levle : 멀티 인덱서 사용시 비교할 레이블의 레벨"
   ]
  },
  {
   "cell_type": "code",
   "execution_count": 221,
   "id": "1aa211e0",
   "metadata": {},
   "outputs": [],
   "source": [
    "col = ['col1','col2','col3']\n",
    "row = ['A','B','C']\n",
    "df = pd.DataFrame(data=[[10,20,10],\n",
    "                        [80,30,60],\n",
    "                        [20,10,70]],index=row,columns=col)"
   ]
  },
  {
   "cell_type": "code",
   "execution_count": 222,
   "id": "8381e849",
   "metadata": {},
   "outputs": [
    {
     "name": "stdout",
     "output_type": "stream",
     "text": [
      "   col1  col2  col3\n",
      "A    10    20    10\n",
      "B    80    30    60\n",
      "C    20    10    70\n"
     ]
    }
   ],
   "source": [
    "print(df)"
   ]
  },
  {
   "cell_type": "code",
   "execution_count": 223,
   "id": "5f94977f",
   "metadata": {},
   "outputs": [
    {
     "name": "stdout",
     "output_type": "stream",
     "text": [
      "    col1   col2   col3\n",
      "A   True  False   True\n",
      "B  False  False  False\n",
      "C  False   True  False\n"
     ]
    }
   ],
   "source": [
    "#스칼라 값과의 비교\n",
    "print(df.eq(10))"
   ]
  },
  {
   "cell_type": "code",
   "execution_count": 224,
   "id": "82490269",
   "metadata": {},
   "outputs": [
    {
     "name": "stdout",
     "output_type": "stream",
     "text": [
      "    col1   col2  col3\n",
      "A   True  False  True\n",
      "B   True   True  True\n",
      "C  False   True  True\n"
     ]
    }
   ],
   "source": [
    "print(df.ne(20))"
   ]
  },
  {
   "cell_type": "code",
   "execution_count": 225,
   "id": "fd872221",
   "metadata": {},
   "outputs": [
    {
     "name": "stdout",
     "output_type": "stream",
     "text": [
      "    col1   col2   col3\n",
      "A  False  False  False\n",
      "B   True  False   True\n",
      "C   True  False   True\n"
     ]
    }
   ],
   "source": [
    "#series와의 비교\n",
    "s1=pd.Series([10,30], index=['col1', 'col3'])\n",
    "print(df.gt(s1)) #grater than "
   ]
  },
  {
   "cell_type": "code",
   "execution_count": 226,
   "id": "ff2845cd",
   "metadata": {},
   "outputs": [
    {
     "name": "stdout",
     "output_type": "stream",
     "text": [
      "    col1   col2   col3   col4\n",
      "A  False  False  False  False\n",
      "B  False  False  False  False\n",
      "C  False  False  False  False\n"
     ]
    }
   ],
   "source": [
    "s2 = pd.Series([10], index=['col4'])\n",
    "print(df.lt(s2))"
   ]
  },
  {
   "cell_type": "code",
   "execution_count": 227,
   "id": "542c44e6",
   "metadata": {},
   "outputs": [
    {
     "name": "stdout",
     "output_type": "stream",
     "text": [
      "    col1   col2   col3\n",
      "A   True   True   True\n",
      "B  False  False  False\n",
      "C  False   True  False\n"
     ]
    }
   ],
   "source": [
    "print(df.le([10,20,30], axis='columns')) #less than "
   ]
  },
  {
   "cell_type": "code",
   "execution_count": 228,
   "id": "08e84c13",
   "metadata": {},
   "outputs": [
    {
     "name": "stdout",
     "output_type": "stream",
     "text": [
      "    col1   col2   col3\n",
      "A   True  False   True\n",
      "B  False  False  False\n",
      "C   True   True  False\n"
     ]
    }
   ],
   "source": [
    "print(df.le([10,20,30], axis = 'index')) #less than"
   ]
  },
  {
   "cell_type": "code",
   "execution_count": 229,
   "id": "0b592027",
   "metadata": {},
   "outputs": [
    {
     "name": "stdout",
     "output_type": "stream",
     "text": [
      "   col1\n",
      "A    50\n",
      "B    50\n",
      "C    50\n"
     ]
    }
   ],
   "source": [
    "df2 = pd.DataFrame([[50], [50], [50]], index=row, columns=['col1'])\n",
    "print(df2)"
   ]
  },
  {
   "cell_type": "code",
   "execution_count": 230,
   "id": "049f5fde",
   "metadata": {},
   "outputs": [
    {
     "name": "stdout",
     "output_type": "stream",
     "text": [
      "    col1   col2   col3\n",
      "A  False  False  False\n",
      "B   True  False  False\n",
      "C  False  False  False\n"
     ]
    }
   ],
   "source": [
    "print(df.ge(df2)) #col1에 대해서 각각 50, 50, 50 이상이면 True"
   ]
  },
  {
   "cell_type": "code",
   "execution_count": 236,
   "id": "8a5f64d5",
   "metadata": {},
   "outputs": [
    {
     "name": "stdout",
     "output_type": "stream",
     "text": [
      "     col1  col2  col3\n",
      "U A    10    20    10\n",
      "  B    80    30    60\n",
      "  C    20    10    70\n",
      "D A    30    70    60\n",
      "  B    10    90    40\n",
      "  C    50    30    80\n"
     ]
    }
   ],
   "source": [
    "# 멀티 인덱스의 사용(level인수)\n",
    "row_mul = [['U', 'U', 'U', 'D','D', 'D'], ['A','B','C','A','B','C']]\n",
    "col = ['col1', 'col2', 'col3']\n",
    "df_mul = pd.DataFrame(data =[[10,20,10],\n",
    "                            [80,30,60],\n",
    "                            [20,10,70],\n",
    "                            [30,70,60],\n",
    "                            [10,90,40],\n",
    "                            [50,30,80]], index=row_mul, columns=col)\n",
    "print(df_mul)"
   ]
  },
  {
   "cell_type": "code",
   "execution_count": 238,
   "id": "3cac0f01",
   "metadata": {},
   "outputs": [
    {
     "name": "stdout",
     "output_type": "stream",
     "text": [
      "      col1   col2   col3\n",
      "U A   True   True   True\n",
      "  B   True   True   True\n",
      "  C   True   True   True\n",
      "D A  False  False  False\n",
      "  B   True  False   True\n",
      "  C  False  False  False\n"
     ]
    }
   ],
   "source": [
    "#level 선택\n",
    "print(df.ge(df_mul, level=1))"
   ]
  },
  {
   "cell_type": "markdown",
   "id": "b1c92501",
   "metadata": {},
   "source": [
    "5-2. dtype기반 열 선택(select_dtypes)\n",
    "- select_dtypes함수는 열에 포함된 데이터들을 type기준으로 인덱싱할 수 있음.\n",
    "- select_dtypes(include=None, exclude=None) 형태\n",
    "- include : 넣은 값을 포함\n",
    "- exclude : 넣은 값을 제외한 columns을 dataframe형태로 반환"
   ]
  },
  {
   "cell_type": "code",
   "execution_count": 242,
   "id": "b463334e",
   "metadata": {},
   "outputs": [
    {
     "name": "stdout",
     "output_type": "stream",
     "text": [
      "   col1   col2  col3   col4\n",
      "0     1    one   1.5   True\n",
      "1     2    two   2.5  False\n",
      "2     3  three   3.5  False\n",
      "3     4   four   4.5   True\n",
      "4     5   five   5.5   True\n"
     ]
    }
   ],
   "source": [
    "col1 = [1, 2, 3, 4, 5]\n",
    "col2 = ['one', 'two', 'three', 'four', 'five']\n",
    "col3 = [1.5, 2.5, 3.5, 4.5, 5.5]\n",
    "col4 = [True, False, False, True, True]\n",
    "df = pd.DataFrame({\"col1\": col1, \"col2\": col2, \"col3\": col3, \"col4\": col4})\n",
    "print(df)"
   ]
  },
  {
   "cell_type": "code",
   "execution_count": 243,
   "id": "3876974c",
   "metadata": {},
   "outputs": [
    {
     "name": "stdout",
     "output_type": "stream",
     "text": [
      "col1      int64\n",
      "col2     object\n",
      "col3    float64\n",
      "col4       bool\n",
      "dtype: object\n"
     ]
    }
   ],
   "source": [
    "print(df.dtypes)"
   ]
  },
  {
   "cell_type": "code",
   "execution_count": 247,
   "id": "0a493f0b",
   "metadata": {},
   "outputs": [
    {
     "name": "stdout",
     "output_type": "stream",
     "text": [
      "   col3   col4\n",
      "0   1.5   True\n",
      "1   2.5  False\n",
      "2   3.5  False\n",
      "3   4.5   True\n",
      "4   5.5   True\n"
     ]
    }
   ],
   "source": [
    "#include 사용 #include에 포함될 typde입력해서 해당 type열만 반환하기\n",
    "result = df.select_dtypes(include=['float','bool'])\n",
    "print(result)"
   ]
  },
  {
   "cell_type": "code",
   "execution_count": 249,
   "id": "1174defe",
   "metadata": {},
   "outputs": [
    {
     "name": "stdout",
     "output_type": "stream",
     "text": [
      "    col2  col3   col4\n",
      "0    one   1.5   True\n",
      "1    two   2.5  False\n",
      "2  three   3.5  False\n",
      "3   four   4.5   True\n",
      "4   five   5.5   True\n"
     ]
    }
   ],
   "source": [
    "result = df.select_dtypes(exclude = ['int64'])\n",
    "print(result)"
   ]
  },
  {
   "cell_type": "code",
   "execution_count": 252,
   "id": "214a6122",
   "metadata": {},
   "outputs": [
    {
     "name": "stdout",
     "output_type": "stream",
     "text": [
      "    col2  col3\n",
      "0    one   1.5\n",
      "1    two   2.5\n",
      "2  three   3.5\n",
      "3   four   4.5\n",
      "4   five   5.5\n"
     ]
    }
   ],
   "source": [
    "#include, exclude같이\n",
    "result = df.select_dtypes(include = ['float', 'object'], exclude=['int64'])\n",
    "print(result)"
   ]
  },
  {
   "cell_type": "markdown",
   "id": "864c9a22",
   "metadata": {},
   "source": [
    "5-3. 임계값 적용(clip)\n",
    "* series, dataframe에 대해서 요소들의 범위를 제한\n",
    "* 상한성과 하한선을 임계값으로 정해서 임계값 밖의 값을 임계값으로 변경\n",
    "* lower : 하한선\n",
    "* upper : 상한값\n",
    "* axis : 계산할 기준이 되는 레이블\n",
    "* inplace : 제자리에서 계산할지 여부"
   ]
  },
  {
   "cell_type": "code",
   "execution_count": 255,
   "id": "d67bbec2",
   "metadata": {},
   "outputs": [
    {
     "name": "stdout",
     "output_type": "stream",
     "text": [
      "   col1  col2  col3\n",
      "A    -7     3     9\n",
      "B     6    -8     1\n",
      "C    -3     0    -7\n"
     ]
    }
   ],
   "source": [
    "col =['col1', 'col2', 'col3']\n",
    "rpw = ['row1', 'row2', 'row3']\n",
    "data = [[-7,3,9],\n",
    "       [6,-8,1],\n",
    "       [-3, 0,-7]]\n",
    "df = pd.DataFrame(data, row, col)\n",
    "print(df)"
   ]
  },
  {
   "cell_type": "code",
   "execution_count": 256,
   "id": "01bad06a",
   "metadata": {},
   "outputs": [
    {
     "name": "stdout",
     "output_type": "stream",
     "text": [
      "   col1  col2  col3\n",
      "A    -4     3     5\n",
      "B     5    -4     1\n",
      "C    -3     0    -4\n"
     ]
    }
   ],
   "source": [
    "print(df.clip(-4,5)) #lower = -4, upper =5"
   ]
  },
  {
   "cell_type": "code",
   "execution_count": 257,
   "id": "3d5ecc1b",
   "metadata": {},
   "outputs": [
    {
     "name": "stdout",
     "output_type": "stream",
     "text": [
      "A    1\n",
      "B    2\n",
      "C    3\n",
      "dtype: int64\n"
     ]
    }
   ],
   "source": [
    "# 임계값을 series로 설정\n",
    "s = pd.Series(data=[1,2,3], index=row)\n",
    "print(s)"
   ]
  },
  {
   "cell_type": "code",
   "execution_count": 258,
   "id": "e08696f1",
   "metadata": {},
   "outputs": [
    {
     "name": "stdout",
     "output_type": "stream",
     "text": [
      "   col1  col2  col3\n",
      "A    -1     1     1\n",
      "B     2    -2     1\n",
      "C    -3     0    -3\n"
     ]
    }
   ],
   "source": [
    "print(df.clip(-s, s, axis=0)) #row1 = -1~1, row2=-2~2, row3=-3~3"
   ]
  },
  {
   "cell_type": "markdown",
   "id": "4d765a1c",
   "metadata": {},
   "source": [
    "5-4. 레이블 필터링\n",
    "* dataframe.filter(items=None, like+None, regex=None, axis=None)\n",
    "* items : 이름으로 필터링하는 경우, 리스트형태로 입력\n",
    "* like : str로 필터링, 해당 문자열이 포함된 경우 반환\n",
    "* regex : 정규표현식을 이용해 필터링\n",
    "* axis : 0=행, 1=열"
   ]
  },
  {
   "cell_type": "code",
   "execution_count": 259,
   "id": "03d6db76",
   "metadata": {},
   "outputs": [
    {
     "name": "stdout",
     "output_type": "stream",
     "text": [
      "        alpha  beta  gamma  delta  epsilon\n",
      "sigma       1     2      3      4        5\n",
      "omega       6     7      8      9       10\n",
      "lambda     11    12     13     14       15\n"
     ]
    }
   ],
   "source": [
    "col  = ['alpha','beta','gamma','delta','epsilon']\n",
    "row  = ['sigma','omega','lambda']\n",
    "data = [[1,2,3,4,5],[6,7,8,9,10],[11,12,13,14,15]]\n",
    "df = pd.DataFrame(data,row,col)\n",
    "print(df)"
   ]
  },
  {
   "cell_type": "code",
   "execution_count": 260,
   "id": "06eadf1e",
   "metadata": {},
   "outputs": [
    {
     "name": "stdout",
     "output_type": "stream",
     "text": [
      "        alpha  delta\n",
      "sigma       1      4\n",
      "omega       6      9\n",
      "lambda     11     14\n"
     ]
    }
   ],
   "source": [
    "#items인수 사용하는 경우\n",
    "print(df.filter(items=['alpha', 'delta']))"
   ]
  },
  {
   "cell_type": "code",
   "execution_count": 261,
   "id": "0512c089",
   "metadata": {},
   "outputs": [
    {
     "name": "stdout",
     "output_type": "stream",
     "text": [
      "       alpha  beta  gamma  delta  epsilon\n",
      "omega      6     7      8      9       10\n"
     ]
    }
   ],
   "source": [
    "print(df.filter(items=['omega'], axis=0))"
   ]
  },
  {
   "cell_type": "code",
   "execution_count": 262,
   "id": "7d81ddb2",
   "metadata": {},
   "outputs": [
    {
     "name": "stdout",
     "output_type": "stream",
     "text": [
      "        beta  delta\n",
      "sigma      2      4\n",
      "omega      7      9\n",
      "lambda    12     14\n"
     ]
    }
   ],
   "source": [
    "#like 인수 사용하는 경우\n",
    "print(df.filter(like='ta'))"
   ]
  },
  {
   "cell_type": "code",
   "execution_count": 264,
   "id": "e2bd95ee",
   "metadata": {},
   "outputs": [
    {
     "name": "stdout",
     "output_type": "stream",
     "text": [
      "        gamma  epsilon\n",
      "sigma       3        5\n",
      "omega       8       10\n",
      "lambda     13       15\n"
     ]
    }
   ],
   "source": [
    "#regex인수를 사용하는 경우\n",
    "print(df.filter(regex='[mn]'))"
   ]
  },
  {
   "cell_type": "code",
   "execution_count": 265,
   "id": "76eb9d85",
   "metadata": {},
   "outputs": [
    {
     "name": "stdout",
     "output_type": "stream",
     "text": [
      "        gamma\n",
      "sigma       3\n",
      "omega       8\n",
      "lambda     13\n"
     ]
    }
   ],
   "source": [
    "print(df.filter(regex='^g'))"
   ]
  },
  {
   "cell_type": "code",
   "execution_count": 266,
   "id": "53e872cf",
   "metadata": {},
   "outputs": [
    {
     "name": "stdout",
     "output_type": "stream",
     "text": [
      "        alpha  beta  gamma  delta\n",
      "sigma       1     2      3      4\n",
      "omega       6     7      8      9\n",
      "lambda     11    12     13     14\n"
     ]
    }
   ],
   "source": [
    "print(df.filter(regex='a$')) #$   :  $앞에 있는 문자로 끝나는 문자열"
   ]
  },
  {
   "cell_type": "markdown",
   "id": "68d32d55",
   "metadata": {},
   "source": [
    "5-5. 샘플 추출\n",
    "* dataframe이나 series에서 무작위로 몇개의 값(레이블)을 출력하는 메서드\n",
    "* n : 추출할 갯수\n",
    "* frac : 추출할 비율\n",
    "* replace : 중복추출의 허용 여부\n",
    "* weight : 가중치\n",
    "* random_state : 랜덤 추출한 값에 시드를 설정할 수 있음. 원하는 값을 설정하면, 항상 같은 결과 출력\n",
    "* axis : 0=행, 1=열\n",
    "* ignore_index : index의 무시 여부"
   ]
  },
  {
   "cell_type": "code",
   "execution_count": 267,
   "id": "f2834cfd",
   "metadata": {},
   "outputs": [
    {
     "name": "stdout",
     "output_type": "stream",
     "text": [
      "      col1  col2  col3\n",
      "row1     1     2     3\n",
      "row2     4     5     6\n",
      "row3     7     8     9\n",
      "row4    10    11    12\n",
      "row5    13    14    15\n"
     ]
    }
   ],
   "source": [
    "col = ['col1', 'col2','col3']\n",
    "row = ['row1', 'row2', 'row3', 'row4', 'row5']\n",
    "data = [[1,2,3], [4,5,6], [7,8,9], [10,11,12], [13,14,15]]\n",
    "df = pd.DataFrame(data, row, col)\n",
    "print(df)"
   ]
  },
  {
   "cell_type": "code",
   "execution_count": 268,
   "id": "1d3cec06",
   "metadata": {},
   "outputs": [
    {
     "name": "stdout",
     "output_type": "stream",
     "text": [
      "      col1  col2  col3\n",
      "row1     1     2     3\n",
      "row5    13    14    15\n"
     ]
    }
   ],
   "source": [
    "print(df.sample(2)) #원하는 갯수의 추출 가능"
   ]
  },
  {
   "cell_type": "code",
   "execution_count": 269,
   "id": "c1f30605",
   "metadata": {},
   "outputs": [
    {
     "name": "stdout",
     "output_type": "stream",
     "text": [
      "      col1  col2  col3\n",
      "row1     1     2     3\n",
      "row4    10    11    12\n",
      "row1     1     2     3\n",
      "row3     7     8     9\n",
      "row2     4     5     6\n",
      "row1     1     2     3\n",
      "row5    13    14    15\n",
      "row1     1     2     3\n",
      "row4    10    11    12\n",
      "row5    13    14    15\n"
     ]
    }
   ],
   "source": [
    "print(df.sample(10, replace=True))"
   ]
  },
  {
   "cell_type": "code",
   "execution_count": 270,
   "id": "73f01c2f",
   "metadata": {},
   "outputs": [
    {
     "name": "stdout",
     "output_type": "stream",
     "text": [
      "      col1  col2  col3\n",
      "row4    10    11    12\n",
      "row3     7     8     9\n"
     ]
    }
   ],
   "source": [
    "print(df.sample(frac=0.4)) #frac = 전체에 대한 추출 비율"
   ]
  },
  {
   "cell_type": "code",
   "execution_count": 271,
   "id": "66619257",
   "metadata": {},
   "outputs": [
    {
     "name": "stdout",
     "output_type": "stream",
     "text": [
      "row1    10\n",
      "row2    10\n",
      "row3     3\n",
      "row4     3\n",
      "row5     1\n",
      "dtype: int64\n"
     ]
    }
   ],
   "source": [
    "#weights를 통한 가중치의 사용\n",
    "s =pd.Series(data=[10,10,3,3,1], index=row)\n",
    "print(s)"
   ]
  },
  {
   "cell_type": "code",
   "execution_count": 274,
   "id": "ec19c789",
   "metadata": {},
   "outputs": [
    {
     "name": "stdout",
     "output_type": "stream",
     "text": [
      "      col1  col2  col3\n",
      "row2     4     5     6\n",
      "row1     1     2     3\n"
     ]
    }
   ],
   "source": [
    "#가중치가 높은 row1, row2가 추출된다.\n",
    "print(df.sample(2, weights=s))"
   ]
  },
  {
   "cell_type": "code",
   "execution_count": 275,
   "id": "d4a386b0",
   "metadata": {},
   "outputs": [
    {
     "name": "stdout",
     "output_type": "stream",
     "text": [
      "      col1  col2  col3\n",
      "row1     1     2     3\n",
      "row4    10    11    12\n",
      "row3     7     8     9\n",
      "row2     4     5     6\n",
      "row5    13    14    15\n"
     ]
    }
   ],
   "source": [
    "#rondom_state : 원하는 값을 설정하여 출력 결과를 동일하게 다시 출력하는 것이 가능하다.\n",
    "print(df.sample(5, random_state=7))"
   ]
  },
  {
   "cell_type": "code",
   "execution_count": 276,
   "id": "1ab76322",
   "metadata": {},
   "outputs": [
    {
     "name": "stdout",
     "output_type": "stream",
     "text": [
      "      col1  col2  col3\n",
      "row1     1     2     3\n",
      "row4    10    11    12\n",
      "row3     7     8     9\n",
      "row2     4     5     6\n",
      "row5    13    14    15\n"
     ]
    }
   ],
   "source": [
    "print(df.sample(5, random_state=7))"
   ]
  },
  {
   "cell_type": "code",
   "execution_count": 277,
   "id": "0b190a92",
   "metadata": {},
   "outputs": [
    {
     "name": "stdout",
     "output_type": "stream",
     "text": [
      "   col1  col2  col3\n",
      "0    10    11    12\n",
      "1     7     8     9\n",
      "2     4     5     6\n"
     ]
    }
   ],
   "source": [
    "print(df.sample(3, ignore_index=True))"
   ]
  },
  {
   "cell_type": "markdown",
   "id": "16846d4e",
   "metadata": {},
   "source": [
    "# 6. 결측제어"
   ]
  },
  {
   "cell_type": "markdown",
   "id": "af5bdf79",
   "metadata": {},
   "source": [
    "6-1. 결측값 확인\n",
    "* isna = insull\n",
    "* notna = notnull"
   ]
  },
  {
   "cell_type": "code",
   "execution_count": 279,
   "id": "56205821",
   "metadata": {},
   "outputs": [
    {
     "name": "stdout",
     "output_type": "stream",
     "text": [
      "      col1  col2  col3  col4\n",
      "row1   1.0     2  <NA>   4.0\n",
      "row2   NaN     6     7   8.0\n",
      "row3   9.0    10    11   NaN\n"
     ]
    }
   ],
   "source": [
    "col  = ['col1','col2','col3','col4']\n",
    "row  = ['row1','row2','row3']\n",
    "data = [[1,2,pd.NA,4],\n",
    "        [np.nan,6,7,8],\n",
    "        [9,10,11,None]]\n",
    "df = pd.DataFrame(data,row,col)\n",
    "print(df)"
   ]
  },
  {
   "cell_type": "code",
   "execution_count": 280,
   "id": "2d8704f1",
   "metadata": {},
   "outputs": [
    {
     "name": "stdout",
     "output_type": "stream",
     "text": [
      "       col1   col2   col3   col4\n",
      "row1  False  False   True  False\n",
      "row2   True  False  False  False\n",
      "row3  False  False  False   True\n"
     ]
    }
   ],
   "source": [
    "#결측값이 있냐\n",
    "print(df.isna())"
   ]
  },
  {
   "cell_type": "code",
   "execution_count": 281,
   "id": "50b46fca",
   "metadata": {},
   "outputs": [
    {
     "name": "stdout",
     "output_type": "stream",
     "text": [
      "       col1  col2   col3   col4\n",
      "row1   True  True  False   True\n",
      "row2  False  True   True   True\n",
      "row3   True  True   True  False\n"
     ]
    }
   ],
   "source": [
    "print(df.notna())"
   ]
  },
  {
   "cell_type": "code",
   "execution_count": null,
   "id": "9c793ea7",
   "metadata": {},
   "outputs": [],
   "source": []
  },
  {
   "cell_type": "markdown",
   "id": "57527f44",
   "metadata": {},
   "source": [
    "6-2. 결측값 제거\n",
    "* dataframe내의 결측값이 포함된 레이블을 제거하는 메서드\n",
    "* axis :\n",
    "* how : any=존재하면 제거, all = 모두 결측지이면 제거\n",
    "* thresh : 결측값이 아닌 값이 몇 개 미만일 경우메나 적용시키는 인수 만약에 3이면 결측값이 아닌 값이 3개 미만일 경우에만 dropna메서드를 수행한다. \n",
    "* subset : dropna 메서드를 수행할 레이블지정\n",
    "* inplace : 원본을 변경할지의 여부"
   ]
  },
  {
   "cell_type": "code",
   "execution_count": 282,
   "id": "5aa3076e",
   "metadata": {},
   "outputs": [
    {
     "name": "stdout",
     "output_type": "stream",
     "text": [
      "      col1  col2  col3  col4  col5\n",
      "row1     1     2     3  <NA>     5\n",
      "row2     6  <NA>     8  <NA>    10\n",
      "row3    11    12    13    14    15\n",
      "row4  <NA>  <NA>  <NA>  <NA>  <NA>\n"
     ]
    }
   ],
   "source": [
    "col  = ['col1','col2','col3','col4','col5']\n",
    "row  = ['row1','row2','row3','row4']\n",
    "data = [[1,2,3,pd.NA,5],[6,pd.NA,8,pd.NA,10],[11,12,13,14,15],[pd.NA,pd.NA,pd.NA,pd.NA,pd.NA]]\n",
    "df = pd.DataFrame(data,row,col)\n",
    "print(df)"
   ]
  },
  {
   "cell_type": "code",
   "execution_count": 283,
   "id": "d1bf7e83",
   "metadata": {},
   "outputs": [
    {
     "name": "stdout",
     "output_type": "stream",
     "text": [
      "     col1 col2 col3 col4 col5\n",
      "row3   11   12   13   14   15\n"
     ]
    }
   ],
   "source": [
    "#axis값에 따른 결측지 제거 수행\n",
    "print(df.dropna(axis=0))"
   ]
  },
  {
   "cell_type": "code",
   "execution_count": 284,
   "id": "30974adf",
   "metadata": {},
   "outputs": [
    {
     "name": "stdout",
     "output_type": "stream",
     "text": [
      "Empty DataFrame\n",
      "Columns: []\n",
      "Index: [row1, row2, row3, row4]\n"
     ]
    }
   ],
   "source": [
    "print(df.dropna(axis=1))"
   ]
  },
  {
   "cell_type": "code",
   "execution_count": 285,
   "id": "da2234ae",
   "metadata": {},
   "outputs": [
    {
     "name": "stdout",
     "output_type": "stream",
     "text": [
      "     col1 col2 col3 col4 col5\n",
      "row3   11   12   13   14   15\n"
     ]
    }
   ],
   "source": [
    "#how로 연산기준 정할 경우\n",
    "print(df.dropna(how='any'))"
   ]
  },
  {
   "cell_type": "code",
   "execution_count": 286,
   "id": "0a7acf85",
   "metadata": {},
   "outputs": [
    {
     "name": "stdout",
     "output_type": "stream",
     "text": [
      "     col1  col2 col3  col4 col5\n",
      "row1    1     2    3  <NA>    5\n",
      "row2    6  <NA>    8  <NA>   10\n",
      "row3   11    12   13    14   15\n"
     ]
    }
   ],
   "source": [
    "print(df.dropna(how='all'))"
   ]
  },
  {
   "cell_type": "code",
   "execution_count": 288,
   "id": "1834dafc",
   "metadata": {},
   "outputs": [
    {
     "name": "stdout",
     "output_type": "stream",
     "text": [
      "     col1  col2 col3  col4 col5\n",
      "row1    1     2    3  <NA>    5\n",
      "row2    6  <NA>    8  <NA>   10\n",
      "row3   11    12   13    14   15\n"
     ]
    }
   ],
   "source": [
    "#thresh를 이용할 떄\n",
    "print(df.dropna(thresh=3)) #정상값 3개 이하이면 지우지 말것"
   ]
  },
  {
   "cell_type": "code",
   "execution_count": 289,
   "id": "dac1cb5b",
   "metadata": {},
   "outputs": [
    {
     "name": "stdout",
     "output_type": "stream",
     "text": [
      "     col1 col2 col3  col4 col5\n",
      "row1    1    2    3  <NA>    5\n",
      "row3   11   12   13    14   15\n"
     ]
    }
   ],
   "source": [
    "print(df.dropna(thresh=4))"
   ]
  },
  {
   "cell_type": "code",
   "execution_count": 290,
   "id": "cd082501",
   "metadata": {},
   "outputs": [
    {
     "name": "stdout",
     "output_type": "stream",
     "text": [
      "     col1 col2 col3  col4 col5\n",
      "row1    1    2    3  <NA>    5\n",
      "row3   11   12   13    14   15\n"
     ]
    }
   ],
   "source": [
    "#subset인수를 통한 레이블 지정 : 리스트형태의 값을 입력함으로써 결측지 제거를 수행할 \n",
    "#레이블을 지정할 수 있다.\n",
    "print(df.dropna(subset = ['col1', 'col2']))"
   ]
  },
  {
   "cell_type": "code",
   "execution_count": 291,
   "id": "2c53fdc2",
   "metadata": {},
   "outputs": [
    {
     "name": "stdout",
     "output_type": "stream",
     "text": [
      "     col1 col2 col3 col4 col5\n",
      "row3   11   12   13   14   15\n"
     ]
    }
   ],
   "source": [
    "#inplace 원본 수정 할거냐 마냐\n",
    "df.dropna(inplace=True)\n",
    "print(df)"
   ]
  },
  {
   "cell_type": "markdown",
   "id": "b6fd7456",
   "metadata": {},
   "source": [
    "6-3. 결측값 없는 인덱스 확인\n",
    "* first_valid_index 메서드의 경우 처음으로 결측치가 아닌 값이 나오는 행의 인덱스 출력\n",
    "* last_valid_index 메서드의 경우 마지막으로 결측치가 아닌 값이 나오는 행의 인덱스 출력\n",
    "* 결측값만 있는 행은 무시한다."
   ]
  },
  {
   "cell_type": "code",
   "execution_count": 292,
   "id": "6fc14779",
   "metadata": {},
   "outputs": [
    {
     "name": "stdout",
     "output_type": "stream",
     "text": [
      "      col1  col2\n",
      "row1   NaN   NaN\n",
      "row2  <NA>     4\n",
      "row3  <NA>   NaT\n",
      "row4     5     6\n",
      "row5   NaN  <NA>\n"
     ]
    }
   ],
   "source": [
    "col  = ['col1','col2']\n",
    "row  = ['row1','row2','row3','row4','row5']\n",
    "data = [[np.nan,np.nan],[pd.NA,4],[pd.NA,pd.NaT],[5,6],[np.nan,pd.NA]]\n",
    "df = pd.DataFrame(data,row,col)\n",
    "print(df)"
   ]
  },
  {
   "cell_type": "code",
   "execution_count": 293,
   "id": "39e794f2",
   "metadata": {},
   "outputs": [
    {
     "name": "stdout",
     "output_type": "stream",
     "text": [
      "row2\n"
     ]
    }
   ],
   "source": [
    "#first_valid_index\n",
    "print(df.first_valid_index())"
   ]
  },
  {
   "cell_type": "code",
   "execution_count": 294,
   "id": "60e889ac",
   "metadata": {},
   "outputs": [
    {
     "name": "stdout",
     "output_type": "stream",
     "text": [
      "row4\n"
     ]
    }
   ],
   "source": [
    "print(df.last_valid_index())"
   ]
  },
  {
   "cell_type": "markdown",
   "id": "a9f8fd47",
   "metadata": {},
   "source": [
    "6-4. 결측값 변경(fillna / backfill / bfill / pad/ ffill)\n",
    "* fillna : 데이터프레임에서 결측값을 원하는 값으로 변경하는 메서드"
   ]
  },
  {
   "cell_type": "code",
   "execution_count": 295,
   "id": "8307b27d",
   "metadata": {},
   "outputs": [
    {
     "name": "stdout",
     "output_type": "stream",
     "text": [
      "      col1  col2  col3  col4  col5\n",
      "row1   NaN   2.0   NaN   4.0   NaN\n",
      "row2   6.0   7.0   NaN   9.0   NaN\n",
      "row3  11.0   NaN   NaN  14.0  15.0\n",
      "row4   NaN  17.0   NaN   NaN  20.0\n",
      "row5   NaN  22.0   NaN   NaN  25.0\n"
     ]
    }
   ],
   "source": [
    "col  = ['col1','col2','col3','col4','col5']\n",
    "row  = ['row1','row2','row3','row4','row5']\n",
    "na = np.nan\n",
    "data = [[na, 2,na, 4,na],\n",
    "        [ 6, 7,na, 9,na],\n",
    "        [11,na,na,14,15],\n",
    "        [na,17,na,na,20],\n",
    "        [na,22,na,na,25]]\n",
    "df = pd.DataFrame(data,row,col)\n",
    "print(df)"
   ]
  },
  {
   "cell_type": "code",
   "execution_count": 296,
   "id": "ec5a304c",
   "metadata": {},
   "outputs": [
    {
     "name": "stdout",
     "output_type": "stream",
     "text": [
      "      col1  col2 col3  col4  col5\n",
      "row1     A   2.0    A   4.0     A\n",
      "row2   6.0   7.0    A   9.0     A\n",
      "row3  11.0     A    A  14.0  15.0\n",
      "row4     A  17.0    A     A  20.0\n",
      "row5     A  22.0    A     A  25.0\n"
     ]
    }
   ],
   "source": [
    "#value 형식에 따른 사용\n",
    "print(df.fillna('A'))"
   ]
  },
  {
   "cell_type": "code",
   "execution_count": 298,
   "id": "d7a08ad3",
   "metadata": {},
   "outputs": [
    {
     "name": "stdout",
     "output_type": "stream",
     "text": [
      "      col1  col2 col3  col4  col5\n",
      "row1   NaN   2.0    C   4.0     E\n",
      "row2   6.0   7.0    C   9.0     E\n",
      "row3  11.0     B    C  14.0  15.0\n",
      "row4   NaN  17.0    C     D  20.0\n",
      "row5   NaN  22.0    C     D  25.0\n"
     ]
    },
    {
     "data": {
      "text/html": [
       "<div>\n",
       "<style scoped>\n",
       "    .dataframe tbody tr th:only-of-type {\n",
       "        vertical-align: middle;\n",
       "    }\n",
       "\n",
       "    .dataframe tbody tr th {\n",
       "        vertical-align: top;\n",
       "    }\n",
       "\n",
       "    .dataframe thead th {\n",
       "        text-align: right;\n",
       "    }\n",
       "</style>\n",
       "<table border=\"1\" class=\"dataframe\">\n",
       "  <thead>\n",
       "    <tr style=\"text-align: right;\">\n",
       "      <th></th>\n",
       "      <th>col1</th>\n",
       "      <th>col2</th>\n",
       "      <th>col3</th>\n",
       "      <th>col4</th>\n",
       "      <th>col5</th>\n",
       "    </tr>\n",
       "  </thead>\n",
       "  <tbody>\n",
       "    <tr>\n",
       "      <th>row1</th>\n",
       "      <td>A</td>\n",
       "      <td>2.0</td>\n",
       "      <td>A</td>\n",
       "      <td>4.0</td>\n",
       "      <td>A</td>\n",
       "    </tr>\n",
       "    <tr>\n",
       "      <th>row2</th>\n",
       "      <td>6.0</td>\n",
       "      <td>7.0</td>\n",
       "      <td>A</td>\n",
       "      <td>9.0</td>\n",
       "      <td>A</td>\n",
       "    </tr>\n",
       "    <tr>\n",
       "      <th>row3</th>\n",
       "      <td>11.0</td>\n",
       "      <td>A</td>\n",
       "      <td>A</td>\n",
       "      <td>14.0</td>\n",
       "      <td>15.0</td>\n",
       "    </tr>\n",
       "    <tr>\n",
       "      <th>row4</th>\n",
       "      <td>A</td>\n",
       "      <td>17.0</td>\n",
       "      <td>A</td>\n",
       "      <td>A</td>\n",
       "      <td>20.0</td>\n",
       "    </tr>\n",
       "    <tr>\n",
       "      <th>row5</th>\n",
       "      <td>A</td>\n",
       "      <td>22.0</td>\n",
       "      <td>A</td>\n",
       "      <td>A</td>\n",
       "      <td>25.0</td>\n",
       "    </tr>\n",
       "  </tbody>\n",
       "</table>\n",
       "</div>"
      ],
      "text/plain": [
       "      col1  col2 col3  col4  col5\n",
       "row1     A   2.0    A   4.0     A\n",
       "row2   6.0   7.0    A   9.0     A\n",
       "row3  11.0     A    A  14.0  15.0\n",
       "row4     A  17.0    A     A  20.0\n",
       "row5     A  22.0    A     A  25.0"
      ]
     },
     "execution_count": 298,
     "metadata": {},
     "output_type": "execute_result"
    }
   ],
   "source": [
    "dict = {'ool1' :'A', 'col2': 'B', 'col3':'C', 'col4':'D', 'col5' : 'E'}\n",
    "print(df.fillna(value=dict))\n",
    "df.fillna('A')"
   ]
  },
  {
   "cell_type": "code",
   "execution_count": 299,
   "id": "27024b43",
   "metadata": {},
   "outputs": [
    {
     "name": "stdout",
     "output_type": "stream",
     "text": [
      "      col1  col2  col3  col4  col5\n",
      "row1   6.0   2.0   NaN   4.0  15.0\n",
      "row2   6.0   7.0   NaN   9.0  15.0\n",
      "row3  11.0  17.0   NaN  14.0  15.0\n",
      "row4   NaN  17.0   NaN   NaN  20.0\n",
      "row5   NaN  22.0   NaN   NaN  25.0\n"
     ]
    }
   ],
   "source": [
    "#bfill = 결측값 바로 아래값과 동일하게 설정된다.\n",
    "print(df.fillna(method = 'bfill'))"
   ]
  },
  {
   "cell_type": "code",
   "execution_count": 300,
   "id": "2a6fb262",
   "metadata": {},
   "outputs": [
    {
     "name": "stdout",
     "output_type": "stream",
     "text": [
      "      col1  col2  col3  col4  col5\n",
      "row1   NaN   2.0   NaN   4.0   NaN\n",
      "row2   6.0   7.0   NaN   9.0   NaN\n",
      "row3  11.0   7.0   NaN  14.0  15.0\n",
      "row4  11.0  17.0   NaN  14.0  20.0\n",
      "row5  11.0  22.0   NaN  14.0  25.0\n"
     ]
    }
   ],
   "source": [
    "#결측값이 바로 위값과 동일하게 설정된다.\n",
    "print(df.fillna(method ='ffill'))"
   ]
  },
  {
   "cell_type": "code",
   "execution_count": 301,
   "id": "898d9679",
   "metadata": {},
   "outputs": [
    {
     "name": "stdout",
     "output_type": "stream",
     "text": [
      "      col1  col2 col3  col4  col5\n",
      "row1     A   2.0    A   4.0     A\n",
      "row2   6.0   7.0    A   9.0     A\n",
      "row3  11.0     A  NaN  14.0  15.0\n",
      "row4     A  17.0  NaN     A  20.0\n",
      "row5   NaN  22.0  NaN     A  25.0\n"
     ]
    }
   ],
   "source": [
    "#limit인수 사용하는 경우 : 각 레이블값에 대해서 결측지 변경을 수행할 횟수\n",
    "print(df.fillna('A', limit=2)) \n",
    "#행 기준일 때 왼쪽부터, 열 기준일 때 오른쪽부터"
   ]
  },
  {
   "cell_type": "code",
   "execution_count": 302,
   "id": "b7ddd017",
   "metadata": {},
   "outputs": [
    {
     "name": "stdout",
     "output_type": "stream",
     "text": [
      "      col1  col2  col3  col4  col5\n",
      "row1     0     2     0     4     0\n",
      "row2     6     7     0     9     0\n",
      "row3    11     0     0    14    15\n",
      "row4     0    17     0     0    20\n",
      "row5     0    22     0     0    25\n"
     ]
    }
   ],
   "source": [
    "print(df.fillna(0, downcast = 'infer')) #infer : float64 형태를 int64형태로"
   ]
  },
  {
   "cell_type": "code",
   "execution_count": 303,
   "id": "d9e5e8ba",
   "metadata": {},
   "outputs": [
    {
     "name": "stdout",
     "output_type": "stream",
     "text": [
      "      col1  col2 col3  col4  col5\n",
      "row1     A   2.0    A   4.0     A\n",
      "row2   6.0   7.0    A   9.0     A\n",
      "row3  11.0     A    A  14.0  15.0\n",
      "row4     A  17.0    A     A  20.0\n",
      "row5     A  22.0    A     A  25.0\n"
     ]
    }
   ],
   "source": [
    "df.fillna('A', inplace=True)\n",
    "print(df)"
   ]
  },
  {
   "cell_type": "markdown",
   "id": "5f182f52",
   "metadata": {},
   "source": [
    "6-5. 결측값 없는 마지막 행 반환(asof)\n",
    "* asof : 인덱스 기준으로 where이전에 결측치가 없는 마지막 행을 구한다.\n",
    "* where : 기준이 되는 인덱스 값\n",
    "* subset : 기준이 되는 열"
   ]
  },
  {
   "cell_type": "code",
   "execution_count": 306,
   "id": "53d7e829",
   "metadata": {},
   "outputs": [
    {
     "name": "stdout",
     "output_type": "stream",
     "text": [
      "      A     B\n",
      "10  1.0   7.0\n",
      "20  NaN   8.0\n",
      "30  NaN   9.0\n",
      "40  4.0  10.0\n",
      "50  5.0   NaN\n",
      "60  6.0  12.0\n"
     ]
    }
   ],
   "source": [
    "row = [10,20,30,40,50,60]\n",
    "n=np.NaN\n",
    "data = {'A':[1,n,n,4,5,6],'B':[7,8,9,10,n,12]}\n",
    "df = pd.DataFrame(data=data, index = row)\n",
    "print(df)"
   ]
  },
  {
   "cell_type": "code",
   "execution_count": 307,
   "id": "f12d89d0",
   "metadata": {},
   "outputs": [
    {
     "name": "stdout",
     "output_type": "stream",
     "text": [
      "A     4.0\n",
      "B    10.0\n",
      "Name: 45, dtype: float64\n"
     ]
    }
   ],
   "source": [
    "#기본적인 사용법\n",
    "# where이 단일값이면 반환은 series 형태로 한다. subset을 입력하지 않으면 모든 열에 대해서 \n",
    "#조건 만족함\n",
    "print(df.asof(where=45))  #인덱스 45이전에 결측값없는 마지막 행\n",
    "#결측치가 없는 마지막 행, where=기준 45기준으로 A열과 B열 모두 결측치가 없는 행은 40"
   ]
  },
  {
   "cell_type": "code",
   "execution_count": 309,
   "id": "5265cdcf",
   "metadata": {},
   "outputs": [
    {
     "name": "stdout",
     "output_type": "stream",
     "text": [
      "      A     B\n",
      "10  1.0   7.0\n",
      "45  4.0  10.0\n",
      "60  6.0  12.0\n"
     ]
    }
   ],
   "source": [
    "#입력값이 LIST인 경우\n",
    "print(df.asof(where=[10,45,60]))"
   ]
  },
  {
   "cell_type": "code",
   "execution_count": 310,
   "id": "cc987861",
   "metadata": {},
   "outputs": [
    {
     "name": "stdout",
     "output_type": "stream",
     "text": [
      "      A     B\n",
      "10  1.0   7.0\n",
      "35  1.0   7.0\n",
      "60  6.0  12.0\n"
     ]
    }
   ],
   "source": [
    "#subset의 사용, 특정 열에 대해서만 만족하는 경우를 반환할 수 있따.\n",
    "print(df.asof(where=[10,35,60], subset='A'))"
   ]
  },
  {
   "cell_type": "code",
   "execution_count": 311,
   "id": "e20cdc30",
   "metadata": {},
   "outputs": [
    {
     "name": "stdout",
     "output_type": "stream",
     "text": [
      "      A     B\n",
      "10  1.0   7.0\n",
      "35  NaN   9.0\n",
      "60  6.0  12.0\n"
     ]
    }
   ],
   "source": [
    "print(df.asof(where=[10,35,60], subset='B'))"
   ]
  },
  {
   "cell_type": "code",
   "execution_count": null,
   "id": "bc3cd3b6",
   "metadata": {},
   "outputs": [],
   "source": []
  }
 ],
 "metadata": {
  "kernelspec": {
   "display_name": "Python 3 (ipykernel)",
   "language": "python",
   "name": "python3"
  },
  "language_info": {
   "codemirror_mode": {
    "name": "ipython",
    "version": 3
   },
   "file_extension": ".py",
   "mimetype": "text/x-python",
   "name": "python",
   "nbconvert_exporter": "python",
   "pygments_lexer": "ipython3",
   "version": "3.9.7"
  }
 },
 "nbformat": 4,
 "nbformat_minor": 5
}
