{
 "cells": [
  {
   "cell_type": "code",
   "execution_count": 1,
   "id": "d56e6356",
   "metadata": {},
   "outputs": [],
   "source": [
    "import pandas as pd\n",
    "import numpy as np"
   ]
  },
  {
   "cell_type": "code",
   "execution_count": 2,
   "id": "24bff16a",
   "metadata": {},
   "outputs": [
    {
     "name": "stdout",
     "output_type": "stream",
     "text": [
      "      col1 col2  col3\n",
      "row1  -3.0    A    17\n",
      "row2   NaN    D    31\n",
      "row3   7.0    D    -8\n",
      "row4  15.0    Z     3\n",
      "row5   0.0  NaN    -7\n"
     ]
    }
   ],
   "source": [
    "na = np.NaN\n",
    "data = [[-3,'A',17],\n",
    "        [na,'D',31],\n",
    "        [ 7,'D',-8],\n",
    "        [15,'Z', 3],\n",
    "        [ 0, na,-7]]\n",
    "col = ['col1','col2','col3']\n",
    "row = ['row1','row2','row3','row4','row5']\n",
    "df = pd.DataFrame(data = data, index = row, columns= col)\n",
    "print(df)"
   ]
  },
  {
   "cell_type": "code",
   "execution_count": 3,
   "id": "9ac51ba8",
   "metadata": {},
   "outputs": [
    {
     "name": "stdout",
     "output_type": "stream",
     "text": [
      "      col1 col2  col3\n",
      "row3   7.0    D    -8\n",
      "row5   0.0  NaN    -7\n",
      "row4  15.0    Z     3\n",
      "row1  -3.0    A    17\n",
      "row2   NaN    D    31\n"
     ]
    }
   ],
   "source": [
    "#by = 정렬의 기준, str이 올 수도 있고 레이블명의 list가 올 수 있음\n",
    "print(df.sort_values(by='col3'))"
   ]
  },
  {
   "cell_type": "code",
   "execution_count": 4,
   "id": "ed48a5dd",
   "metadata": {},
   "outputs": [
    {
     "name": "stdout",
     "output_type": "stream",
     "text": [
      "      col1 col2  col3\n",
      "row1  -3.0    A    17\n",
      "row3   7.0    D    -8\n",
      "row2   NaN    D    31\n",
      "row4  15.0    Z     3\n",
      "row5   0.0  NaN    -7\n"
     ]
    }
   ],
   "source": [
    "print(df.sort_values(by=['col2','col3']))"
   ]
  },
  {
   "cell_type": "code",
   "execution_count": 5,
   "id": "17dd7f3b",
   "metadata": {},
   "outputs": [
    {
     "name": "stdout",
     "output_type": "stream",
     "text": [
      "      col1 col2  col3\n",
      "row3   7.0    D    -8\n",
      "row5   0.0  NaN    -7\n",
      "row4  15.0    Z     3\n",
      "row1  -3.0    A    17\n",
      "row2   NaN    D    31\n"
     ]
    }
   ],
   "source": [
    "#axis인수 사용-> 어떤 축응로 정렬할지 설정\n",
    "print(df.sort_values(by='col3', axis=0))"
   ]
  },
  {
   "cell_type": "code",
   "execution_count": 6,
   "id": "052e7260",
   "metadata": {},
   "outputs": [
    {
     "ename": "TypeError",
     "evalue": "'>' not supported between instances of 'numpy.ndarray' and 'str'",
     "output_type": "error",
     "traceback": [
      "\u001b[1;31m---------------------------------------------------------------------------\u001b[0m",
      "\u001b[1;31mTypeError\u001b[0m                                 Traceback (most recent call last)",
      "\u001b[1;32m~\\AppData\\Local\\Temp/ipykernel_6340/1031182014.py\u001b[0m in \u001b[0;36m<module>\u001b[1;34m\u001b[0m\n\u001b[1;32m----> 1\u001b[1;33m \u001b[0mprint\u001b[0m\u001b[1;33m(\u001b[0m\u001b[0mdf\u001b[0m\u001b[1;33m.\u001b[0m\u001b[0msort_values\u001b[0m\u001b[1;33m(\u001b[0m\u001b[0mby\u001b[0m\u001b[1;33m=\u001b[0m\u001b[1;34m'row1'\u001b[0m\u001b[1;33m,\u001b[0m \u001b[0maxis\u001b[0m\u001b[1;33m=\u001b[0m\u001b[1;36m1\u001b[0m\u001b[1;33m)\u001b[0m\u001b[1;33m)\u001b[0m \u001b[1;31m#오류 발생함. 행 기준 row1의 오름차순 정렬\u001b[0m\u001b[1;33m\u001b[0m\u001b[1;33m\u001b[0m\u001b[0m\n\u001b[0m",
      "\u001b[1;32m~\\anaconda3\\lib\\site-packages\\pandas\\util\\_decorators.py\u001b[0m in \u001b[0;36mwrapper\u001b[1;34m(*args, **kwargs)\u001b[0m\n\u001b[0;32m    309\u001b[0m                     \u001b[0mstacklevel\u001b[0m\u001b[1;33m=\u001b[0m\u001b[0mstacklevel\u001b[0m\u001b[1;33m,\u001b[0m\u001b[1;33m\u001b[0m\u001b[1;33m\u001b[0m\u001b[0m\n\u001b[0;32m    310\u001b[0m                 )\n\u001b[1;32m--> 311\u001b[1;33m             \u001b[1;32mreturn\u001b[0m \u001b[0mfunc\u001b[0m\u001b[1;33m(\u001b[0m\u001b[1;33m*\u001b[0m\u001b[0margs\u001b[0m\u001b[1;33m,\u001b[0m \u001b[1;33m**\u001b[0m\u001b[0mkwargs\u001b[0m\u001b[1;33m)\u001b[0m\u001b[1;33m\u001b[0m\u001b[1;33m\u001b[0m\u001b[0m\n\u001b[0m\u001b[0;32m    312\u001b[0m \u001b[1;33m\u001b[0m\u001b[0m\n\u001b[0;32m    313\u001b[0m         \u001b[1;32mreturn\u001b[0m \u001b[0mwrapper\u001b[0m\u001b[1;33m\u001b[0m\u001b[1;33m\u001b[0m\u001b[0m\n",
      "\u001b[1;32m~\\anaconda3\\lib\\site-packages\\pandas\\core\\frame.py\u001b[0m in \u001b[0;36msort_values\u001b[1;34m(self, by, axis, ascending, inplace, kind, na_position, ignore_index, key)\u001b[0m\n\u001b[0;32m   6268\u001b[0m                 \u001b[0mascending\u001b[0m \u001b[1;33m=\u001b[0m \u001b[0mascending\u001b[0m\u001b[1;33m[\u001b[0m\u001b[1;36m0\u001b[0m\u001b[1;33m]\u001b[0m\u001b[1;33m\u001b[0m\u001b[1;33m\u001b[0m\u001b[0m\n\u001b[0;32m   6269\u001b[0m \u001b[1;33m\u001b[0m\u001b[0m\n\u001b[1;32m-> 6270\u001b[1;33m             indexer = nargsort(\n\u001b[0m\u001b[0;32m   6271\u001b[0m                 \u001b[0mk\u001b[0m\u001b[1;33m,\u001b[0m \u001b[0mkind\u001b[0m\u001b[1;33m=\u001b[0m\u001b[0mkind\u001b[0m\u001b[1;33m,\u001b[0m \u001b[0mascending\u001b[0m\u001b[1;33m=\u001b[0m\u001b[0mascending\u001b[0m\u001b[1;33m,\u001b[0m \u001b[0mna_position\u001b[0m\u001b[1;33m=\u001b[0m\u001b[0mna_position\u001b[0m\u001b[1;33m,\u001b[0m \u001b[0mkey\u001b[0m\u001b[1;33m=\u001b[0m\u001b[0mkey\u001b[0m\u001b[1;33m\u001b[0m\u001b[1;33m\u001b[0m\u001b[0m\n\u001b[0;32m   6272\u001b[0m             )\n",
      "\u001b[1;32m~\\anaconda3\\lib\\site-packages\\pandas\\core\\sorting.py\u001b[0m in \u001b[0;36mnargsort\u001b[1;34m(items, kind, ascending, na_position, key, mask)\u001b[0m\n\u001b[0;32m    401\u001b[0m         \u001b[0mnon_nans\u001b[0m \u001b[1;33m=\u001b[0m \u001b[0mnon_nans\u001b[0m\u001b[1;33m[\u001b[0m\u001b[1;33m:\u001b[0m\u001b[1;33m:\u001b[0m\u001b[1;33m-\u001b[0m\u001b[1;36m1\u001b[0m\u001b[1;33m]\u001b[0m\u001b[1;33m\u001b[0m\u001b[1;33m\u001b[0m\u001b[0m\n\u001b[0;32m    402\u001b[0m         \u001b[0mnon_nan_idx\u001b[0m \u001b[1;33m=\u001b[0m \u001b[0mnon_nan_idx\u001b[0m\u001b[1;33m[\u001b[0m\u001b[1;33m:\u001b[0m\u001b[1;33m:\u001b[0m\u001b[1;33m-\u001b[0m\u001b[1;36m1\u001b[0m\u001b[1;33m]\u001b[0m\u001b[1;33m\u001b[0m\u001b[1;33m\u001b[0m\u001b[0m\n\u001b[1;32m--> 403\u001b[1;33m     \u001b[0mindexer\u001b[0m \u001b[1;33m=\u001b[0m \u001b[0mnon_nan_idx\u001b[0m\u001b[1;33m[\u001b[0m\u001b[0mnon_nans\u001b[0m\u001b[1;33m.\u001b[0m\u001b[0margsort\u001b[0m\u001b[1;33m(\u001b[0m\u001b[0mkind\u001b[0m\u001b[1;33m=\u001b[0m\u001b[0mkind\u001b[0m\u001b[1;33m)\u001b[0m\u001b[1;33m]\u001b[0m\u001b[1;33m\u001b[0m\u001b[1;33m\u001b[0m\u001b[0m\n\u001b[0m\u001b[0;32m    404\u001b[0m     \u001b[1;32mif\u001b[0m \u001b[1;32mnot\u001b[0m \u001b[0mascending\u001b[0m\u001b[1;33m:\u001b[0m\u001b[1;33m\u001b[0m\u001b[1;33m\u001b[0m\u001b[0m\n\u001b[0;32m    405\u001b[0m         \u001b[0mindexer\u001b[0m \u001b[1;33m=\u001b[0m \u001b[0mindexer\u001b[0m\u001b[1;33m[\u001b[0m\u001b[1;33m:\u001b[0m\u001b[1;33m:\u001b[0m\u001b[1;33m-\u001b[0m\u001b[1;36m1\u001b[0m\u001b[1;33m]\u001b[0m\u001b[1;33m\u001b[0m\u001b[1;33m\u001b[0m\u001b[0m\n",
      "\u001b[1;31mTypeError\u001b[0m: '>' not supported between instances of 'numpy.ndarray' and 'str'"
     ]
    }
   ],
   "source": [
    "print(df.sort_values(by='row1', axis=1)) #오류 발생함. 행 기준 row1의 오름차순 정렬"
   ]
  },
  {
   "cell_type": "code",
   "execution_count": 7,
   "id": "a623627f",
   "metadata": {},
   "outputs": [
    {
     "name": "stdout",
     "output_type": "stream",
     "text": [
      "      col3  col1 col2\n",
      "row1    17  -3.0    A\n",
      "row2    31   NaN    D\n",
      "row3    -8   7.0    D\n",
      "row4     3  15.0    Z\n",
      "row5    -7   0.0  NaN\n"
     ]
    }
   ],
   "source": [
    "print(df.sort_values(by='row5', axis=1))"
   ]
  },
  {
   "cell_type": "code",
   "execution_count": 8,
   "id": "36912bb9",
   "metadata": {},
   "outputs": [
    {
     "name": "stdout",
     "output_type": "stream",
     "text": [
      "      col1 col2  col3\n",
      "row2   NaN    D    31\n",
      "row1  -3.0    A    17\n",
      "row4  15.0    Z     3\n",
      "row5   0.0  NaN    -7\n",
      "row3   7.0    D    -8\n"
     ]
    }
   ],
   "source": [
    "#ascending인수의 사용, True=오름차순\n",
    "print(df.sort_values(by='col3', ascending= False))"
   ]
  },
  {
   "cell_type": "code",
   "execution_count": 9,
   "id": "3b7d04ae",
   "metadata": {},
   "outputs": [
    {
     "name": "stdout",
     "output_type": "stream",
     "text": [
      "      col1 col2  col3\n",
      "row1  -3.0    A    17\n",
      "row5   0.0  NaN    -7\n",
      "row3   7.0    D    -8\n",
      "row4  15.0    Z     3\n",
      "row2   NaN    D    31\n"
     ]
    }
   ],
   "source": [
    "print(df.sort_values(by='col1', na_position='last'))"
   ]
  },
  {
   "cell_type": "code",
   "execution_count": 10,
   "id": "d547fd7e",
   "metadata": {},
   "outputs": [
    {
     "name": "stdout",
     "output_type": "stream",
     "text": [
      "      col1 col2  col3\n",
      "row2   NaN    D    31\n",
      "row1  -3.0    A    17\n",
      "row5   0.0  NaN    -7\n",
      "row3   7.0    D    -8\n",
      "row4  15.0    Z     3\n"
     ]
    }
   ],
   "source": [
    "#결측값이 맨 앞\n",
    "print(df.sort_values(by='col1', na_position='first'))"
   ]
  },
  {
   "cell_type": "code",
   "execution_count": 11,
   "id": "90c7c13c",
   "metadata": {},
   "outputs": [
    {
     "name": "stdout",
     "output_type": "stream",
     "text": [
      "   col1 col2  col3\n",
      "0   7.0    D    -8\n",
      "1   0.0  NaN    -7\n",
      "2  15.0    Z     3\n",
      "3  -3.0    A    17\n",
      "4   NaN    D    31\n"
     ]
    }
   ],
   "source": [
    "#ignore_index인수의 사용\n",
    "print(df.sort_values(by='col3', ignore_index=True))"
   ]
  },
  {
   "cell_type": "code",
   "execution_count": 12,
   "id": "8cb01272",
   "metadata": {},
   "outputs": [
    {
     "name": "stdout",
     "output_type": "stream",
     "text": [
      "      col1 col2  col3\n",
      "row1  -3.0    A    17\n",
      "row2   NaN    D    31\n",
      "row3   7.0    D    -8\n",
      "row4  15.0    Z     3\n",
      "row5   0.0  NaN    -7\n"
     ]
    }
   ],
   "source": [
    "#key인수의 사용\n",
    "print(df.sort_values(by='col2', key=lambda col : col.str.lower()))"
   ]
  },
  {
   "cell_type": "code",
   "execution_count": 13,
   "id": "641b3ac6",
   "metadata": {},
   "outputs": [],
   "source": [
    "#inplace인수의 사용\n",
    "df.sort_values(by='col3', inplace=True)"
   ]
  },
  {
   "cell_type": "markdown",
   "id": "f0e7fb20",
   "metadata": {},
   "source": [
    "# 0702.인덱스 기준 정렬 sort_index"
   ]
  },
  {
   "cell_type": "code",
   "execution_count": 14,
   "id": "a599489d",
   "metadata": {},
   "outputs": [
    {
     "name": "stdout",
     "output_type": "stream",
     "text": [
      "           col4  col1  col2\n",
      "row1 val1   1.0   2.0     3\n",
      "     val2   4.0   NaN     6\n",
      "row3 val3   7.0   8.0     9\n",
      "     val1   NaN  11.0    12\n",
      "     val2  13.0  14.0    15\n",
      "row2 val5  16.0  17.0    18\n",
      "     val2  19.0  20.0    21\n"
     ]
    }
   ],
   "source": [
    "na = np.NaN\n",
    "index_tuples = [('row1', 'val1'), ('row1', 'val2'), ('row3', 'val3'), ('row3', 'val1'), ('row3', 'val2'), ('row2', 'val5'),('row2', 'val2')]\n",
    "values = [ [1,2,3], [4,na,6], [7,8,9], [na,11,12], [13,14,15], [16,17,18], [19,20,21]]\n",
    "index = pd.MultiIndex.from_tuples(index_tuples) # 인덱스 설정\n",
    "df = pd.DataFrame(values, columns=['col4', 'col1', 'col2'], index = index)\n",
    "print(df)"
   ]
  },
  {
   "cell_type": "code",
   "execution_count": 15,
   "id": "070a32e9",
   "metadata": {},
   "outputs": [
    {
     "name": "stdout",
     "output_type": "stream",
     "text": [
      "           col4  col1  col2\n",
      "row1 val1   1.0   2.0     3\n",
      "     val2   4.0   NaN     6\n",
      "row2 val2  19.0  20.0    21\n",
      "     val5  16.0  17.0    18\n",
      "row3 val1   NaN  11.0    12\n",
      "     val2  13.0  14.0    15\n",
      "     val3   7.0   8.0     9\n"
     ]
    }
   ],
   "source": [
    "#level의 지정\n",
    "print(df.sort_index(axis=0, level=0))"
   ]
  },
  {
   "cell_type": "code",
   "execution_count": 16,
   "id": "30702010",
   "metadata": {},
   "outputs": [
    {
     "name": "stdout",
     "output_type": "stream",
     "text": [
      "           col4  col1  col2\n",
      "row1 val1   1.0   2.0     3\n",
      "row3 val1   NaN  11.0    12\n",
      "row1 val2   4.0   NaN     6\n",
      "row2 val2  19.0  20.0    21\n",
      "row3 val2  13.0  14.0    15\n",
      "     val3   7.0   8.0     9\n",
      "row2 val5  16.0  17.0    18\n"
     ]
    }
   ],
   "source": [
    "print(df.sort_index(axis=0, level=1))"
   ]
  },
  {
   "cell_type": "code",
   "execution_count": 17,
   "id": "60948543",
   "metadata": {},
   "outputs": [
    {
     "name": "stdout",
     "output_type": "stream",
     "text": [
      "           col4  col1  col2\n",
      "row2 val5  16.0  17.0    18\n",
      "row3 val3   7.0   8.0     9\n",
      "row1 val2   4.0   NaN     6\n",
      "row2 val2  19.0  20.0    21\n",
      "row3 val2  13.0  14.0    15\n",
      "row1 val1   1.0   2.0     3\n",
      "row3 val1   NaN  11.0    12\n"
     ]
    }
   ],
   "source": [
    "#level =1 내림차순, level=0 오름차순\n",
    "print(df.sort_index(axis=0, level=[1,0], ascending=[False, True]))"
   ]
  },
  {
   "cell_type": "code",
   "execution_count": 18,
   "id": "37d28d8f",
   "metadata": {},
   "outputs": [
    {
     "name": "stdout",
     "output_type": "stream",
     "text": [
      "           col4  col1  col2\n",
      "row1 val1   1.0   2.0     3\n",
      "     val2   4.0   NaN     6\n",
      "row2 val2  19.0  20.0    21\n",
      "     val5  16.0  17.0    18\n",
      "row3 val1   NaN  11.0    12\n",
      "     val2  13.0  14.0    15\n",
      "     val3   7.0   8.0     9\n"
     ]
    }
   ],
   "source": [
    "#sort_remaining인수의 사용\n",
    "print(df.sort_index(axis=0, sort_remaining=True))"
   ]
  },
  {
   "cell_type": "markdown",
   "id": "b88bd9f7",
   "metadata": {},
   "source": [
    "# 0703. 정렬 후 추출"
   ]
  },
  {
   "cell_type": "code",
   "execution_count": 19,
   "id": "37aea57b",
   "metadata": {},
   "outputs": [
    {
     "name": "stdout",
     "output_type": "stream",
     "text": [
      "      col1  col2  col3\n",
      "row3     1    21     7\n",
      "row5     2    33     3\n",
      "row1     2     7    97\n",
      "row4     4    56    31\n",
      "row2     5    18     5\n"
     ]
    }
   ],
   "source": [
    "col = ['col1','col2','col3']\n",
    "row = ['row3','row5','row1','row4','row2']\n",
    "data = [[ 1, 21, 7],\n",
    "        [ 2, 33, 3],\n",
    "        [ 2,  7,97],\n",
    "        [ 4, 56,31],\n",
    "        [ 5, 18, 5]]\n",
    "df = pd.DataFrame(data=data, index=row, columns=col)\n",
    "print(df)"
   ]
  },
  {
   "cell_type": "code",
   "execution_count": 20,
   "id": "9f5d2671",
   "metadata": {},
   "outputs": [
    {
     "name": "stdout",
     "output_type": "stream",
     "text": [
      "      col1  col2  col3\n",
      "row2     5    18     5\n",
      "row4     4    56    31\n",
      "row5     2    33     3\n"
     ]
    }
   ],
   "source": [
    "#keep인수를 통해 중복일 경우 출력할 행 지정 가능\n",
    "print(df.nlargest(n=3, columns='col1', keep='first'))"
   ]
  },
  {
   "cell_type": "code",
   "execution_count": 21,
   "id": "ef1b0166",
   "metadata": {},
   "outputs": [
    {
     "name": "stdout",
     "output_type": "stream",
     "text": [
      "      col1  col2  col3\n",
      "row2     5    18     5\n",
      "row4     4    56    31\n",
      "row1     2     7    97\n"
     ]
    }
   ],
   "source": [
    "#마지막에 발생한 값부터 출력\n",
    "print(df.nlargest(n=3, columns='col1', keep='last'))"
   ]
  },
  {
   "cell_type": "code",
   "execution_count": 22,
   "id": "fc908fda",
   "metadata": {},
   "outputs": [
    {
     "name": "stdout",
     "output_type": "stream",
     "text": [
      "      col1  col2  col3\n",
      "row2     5    18     5\n",
      "row4     4    56    31\n",
      "row5     2    33     3\n",
      "row1     2     7    97\n"
     ]
    }
   ],
   "source": [
    "#중복값 모두 출력\n",
    "print(df.nlargest(n=3, columns='col1', keep='all'))"
   ]
  },
  {
   "cell_type": "code",
   "execution_count": 23,
   "id": "6421ab0a",
   "metadata": {},
   "outputs": [
    {
     "name": "stdout",
     "output_type": "stream",
     "text": [
      "      col1  col2  col3\n",
      "row2     5    18     5\n",
      "row4     4    56    31\n",
      "row1     2     7    97\n"
     ]
    }
   ],
   "source": [
    "#여러 열을 동시에 고려하여 정렬한다.\n",
    "print(df.nlargest(n=3, columns=['col1','col3']))"
   ]
  },
  {
   "cell_type": "markdown",
   "id": "5946b069",
   "metadata": {},
   "source": [
    "# 0801 함수를 이용한 열 단위 결합"
   ]
  },
  {
   "cell_type": "code",
   "execution_count": 24,
   "id": "b78ee6ea",
   "metadata": {},
   "outputs": [],
   "source": [
    "n=np.NaN\n",
    "col = ['col1','col2','col3']\n",
    "row = ['row1','row2','row3']\n",
    "data1 = [[1,3,4],\n",
    "         [n,8,2],\n",
    "         [2,6,7]]\n",
    "data2 = [[7,2,3],\n",
    "         [2,4,2],\n",
    "         [3,1,5]]\n",
    "df1 = pd.DataFrame(data1,row,col)\n",
    "df2 = pd.DataFrame(data2,row,col)"
   ]
  },
  {
   "cell_type": "code",
   "execution_count": 25,
   "id": "54009fb7",
   "metadata": {},
   "outputs": [
    {
     "name": "stdout",
     "output_type": "stream",
     "text": [
      "      col1  col2  col3\n",
      "row1   1.0     3     4\n",
      "row2   NaN     8     2\n",
      "row3   2.0     6     7\n"
     ]
    }
   ],
   "source": [
    "print(df1)"
   ]
  },
  {
   "cell_type": "code",
   "execution_count": 26,
   "id": "5740c220",
   "metadata": {},
   "outputs": [
    {
     "name": "stdout",
     "output_type": "stream",
     "text": [
      "      col1  col2  col3\n",
      "row1     7     2     3\n",
      "row2     2     4     2\n",
      "row3     3     1     5\n"
     ]
    }
   ],
   "source": [
    "print(df2)"
   ]
  },
  {
   "cell_type": "code",
   "execution_count": 27,
   "id": "c5847604",
   "metadata": {},
   "outputs": [
    {
     "name": "stdout",
     "output_type": "stream",
     "text": [
      "      col1  col2  col3\n",
      "row1   7.0     3     4\n",
      "row2   NaN     8     2\n",
      "row3   3.0     6     7\n"
     ]
    }
   ],
   "source": [
    "#func인수에 np.maximum을 입력하여 df1와 df2의 요소를 비교\n",
    "print(df1.combine(df2, np.maximum))"
   ]
  },
  {
   "cell_type": "code",
   "execution_count": 28,
   "id": "64a83f4b",
   "metadata": {},
   "outputs": [
    {
     "name": "stdout",
     "output_type": "stream",
     "text": [
      "      col1  col2  col3\n",
      "row1   7.0     3     4\n",
      "row2   9.0     8     2\n",
      "row3   3.0     6     7\n"
     ]
    }
   ],
   "source": [
    "#fill_value 이용하여 결측치 채우기\n",
    "print(df1.combine(df2, np.maximum, fill_value=9))"
   ]
  },
  {
   "cell_type": "code",
   "execution_count": 29,
   "id": "ca3cf863",
   "metadata": {},
   "outputs": [
    {
     "name": "stdout",
     "output_type": "stream",
     "text": [
      "      col1  col2\n",
      "row1     1     2\n",
      "row2     3     4\n"
     ]
    }
   ],
   "source": [
    "#overwrite인수의 사용, other에 존재하지 않는 self의 열의 요소를 NaN으로 변경\n",
    "col3=['col1', 'col2']\n",
    "row3=['row1', 'row2']\n",
    "data3 = [[1,2],\n",
    "        [3,4]]\n",
    "df3 = pd.DataFrame(data3, row3, col3)\n",
    "print(df3)"
   ]
  },
  {
   "cell_type": "code",
   "execution_count": 30,
   "id": "9693c7db",
   "metadata": {},
   "outputs": [
    {
     "name": "stdout",
     "output_type": "stream",
     "text": [
      "      col1  col2  col3\n",
      "row1   1.0   3.0     4\n",
      "row2   NaN   8.0     2\n",
      "row3   NaN   NaN     7\n"
     ]
    }
   ],
   "source": [
    "#overwrite=False일 경우 존재하지 않는 열에 대해서 기존값으로 채워짐\n",
    "print(df1.combine(df3, np.maximum, overwrite=False))"
   ]
  },
  {
   "cell_type": "code",
   "execution_count": 31,
   "id": "afb3ae39",
   "metadata": {},
   "outputs": [
    {
     "name": "stdout",
     "output_type": "stream",
     "text": [
      "      col1  col2  col3\n",
      "row1   1.0   3.0   NaN\n",
      "row2   NaN   8.0   NaN\n",
      "row3   NaN   NaN   NaN\n"
     ]
    }
   ],
   "source": [
    "#overwrite=True일 경우 존재하지 않는 열에 대해서 NaN으로 채워짐\n",
    "print(df1.combine(df3, np.maximum, overwrite=True))"
   ]
  },
  {
   "cell_type": "markdown",
   "id": "214bf93f",
   "metadata": {},
   "source": [
    "# 0802 다른 객체로 결측치 덮어쓰기"
   ]
  },
  {
   "cell_type": "code",
   "execution_count": 32,
   "id": "97c5d42b",
   "metadata": {},
   "outputs": [],
   "source": [
    "n=np.NaN\n",
    "col = ['col1','col2','col3']\n",
    "row = ['row1','row2','row3']\n",
    "data1 = [[n,n,1],\n",
    "         [n,n,1],\n",
    "         [1,1,1]]\n",
    "data2 = [[2,2,2],\n",
    "         [2,n,2],\n",
    "         [2,1,2]]\n",
    "df1 = pd.DataFrame(data1,row,col)\n",
    "df2 = pd.DataFrame(data2,row,col)"
   ]
  },
  {
   "cell_type": "code",
   "execution_count": 33,
   "id": "319363c6",
   "metadata": {},
   "outputs": [
    {
     "name": "stdout",
     "output_type": "stream",
     "text": [
      "      col1  col2  col3\n",
      "row1   NaN   NaN     1\n",
      "row2   NaN   NaN     1\n",
      "row3   1.0   1.0     1\n"
     ]
    }
   ],
   "source": [
    "print(df1)"
   ]
  },
  {
   "cell_type": "code",
   "execution_count": 34,
   "id": "361aba75",
   "metadata": {},
   "outputs": [
    {
     "name": "stdout",
     "output_type": "stream",
     "text": [
      "      col1  col2  col3\n",
      "row1     2   2.0     2\n",
      "row2     2   NaN     2\n",
      "row3     2   1.0     2\n"
     ]
    }
   ],
   "source": [
    "print(df2)"
   ]
  },
  {
   "cell_type": "code",
   "execution_count": 35,
   "id": "4aad8812",
   "metadata": {},
   "outputs": [
    {
     "name": "stdout",
     "output_type": "stream",
     "text": [
      "      col1  col2  col3\n",
      "row1   2.0   2.0     1\n",
      "row2   2.0   NaN     1\n",
      "row3   1.0   1.0     1\n"
     ]
    }
   ],
   "source": [
    "#기본적인 사용법 self객체의 NaN값을 other 객체의 같은 위치의 인수로 덮어쓰기 함\n",
    "print(df1.combine_first(df2))"
   ]
  },
  {
   "cell_type": "markdown",
   "id": "bbcc24ba",
   "metadata": {},
   "source": [
    "# 0803 인덱스기준 병합"
   ]
  },
  {
   "cell_type": "code",
   "execution_count": 36,
   "id": "e8f01608",
   "metadata": {},
   "outputs": [],
   "source": [
    "#join 메서드 = 두 객체를 인덱스 기준으로 병합하는 메서드"
   ]
  },
  {
   "cell_type": "code",
   "execution_count": 37,
   "id": "e43eb45b",
   "metadata": {},
   "outputs": [
    {
     "name": "stdout",
     "output_type": "stream",
     "text": [
      "      col1\n",
      "row3     1\n",
      "row2     2\n",
      "row1     3\n"
     ]
    }
   ],
   "source": [
    "df1 = pd.DataFrame({'col1':[1,2,3]}, index=['row3', 'row2', 'row1'])\n",
    "print(df1)"
   ]
  },
  {
   "cell_type": "code",
   "execution_count": 38,
   "id": "e0d1293c",
   "metadata": {},
   "outputs": [
    {
     "name": "stdout",
     "output_type": "stream",
     "text": [
      "      col2\n",
      "row4    13\n",
      "row3    14\n"
     ]
    }
   ],
   "source": [
    "df2 = pd.DataFrame({'col2':[13,14]},index=['row4','row3'])\n",
    "print(df2)"
   ]
  },
  {
   "cell_type": "code",
   "execution_count": 39,
   "id": "d1eb3af0",
   "metadata": {},
   "outputs": [
    {
     "name": "stdout",
     "output_type": "stream",
     "text": [
      "      col1\n",
      "row4    23\n",
      "row3    24\n"
     ]
    }
   ],
   "source": [
    "df3 = pd.DataFrame({'col1':[23,24]},index=['row4','row3'])\n",
    "print(df3)"
   ]
  },
  {
   "cell_type": "code",
   "execution_count": 40,
   "id": "6e0405fa",
   "metadata": {},
   "outputs": [
    {
     "name": "stdout",
     "output_type": "stream",
     "text": [
      "      col1  col2\n",
      "row3     1  14.0\n",
      "row2     2   NaN\n",
      "row1     3   NaN\n"
     ]
    }
   ],
   "source": [
    "#how이용해서 join 함\n",
    "print(df1.join(df2, how='left'))"
   ]
  },
  {
   "cell_type": "code",
   "execution_count": 41,
   "id": "b5213daf",
   "metadata": {},
   "outputs": [
    {
     "name": "stdout",
     "output_type": "stream",
     "text": [
      "      col1  col2\n",
      "row1     3   NaN\n",
      "row2     2   NaN\n",
      "row3     1  14.0\n"
     ]
    }
   ],
   "source": [
    "print(df1.join(df2, how='left', sort=True))"
   ]
  },
  {
   "cell_type": "code",
   "execution_count": 42,
   "id": "1aa42d72",
   "metadata": {},
   "outputs": [
    {
     "name": "stdout",
     "output_type": "stream",
     "text": [
      "      col1_left  col1_right\n",
      "row1        3.0         NaN\n",
      "row2        2.0         NaN\n",
      "row3        1.0        24.0\n",
      "row4        NaN        23.0\n"
     ]
    }
   ],
   "source": [
    "#isuffix / rsuffix인수를 통해 중복 열을 구분하기\n",
    "#lsuffix=  접미사 붙이기\n",
    "print(df1.join(df3, how='outer', lsuffix=\"_left\", rsuffix='_right'))"
   ]
  },
  {
   "cell_type": "code",
   "execution_count": 43,
   "id": "248acc0c",
   "metadata": {},
   "outputs": [
    {
     "name": "stdout",
     "output_type": "stream",
     "text": [
      "  IDX  col1\n",
      "0   A     1\n",
      "1   B     2\n",
      "2   C     3\n"
     ]
    }
   ],
   "source": [
    "df4 = pd.DataFrame({'IDX':['A','B','C'],'col1':[1,2,3]})\n",
    "print(df4)"
   ]
  },
  {
   "cell_type": "code",
   "execution_count": 44,
   "id": "87a264ab",
   "metadata": {},
   "outputs": [
    {
     "name": "stdout",
     "output_type": "stream",
     "text": [
      "  IDX  col2\n",
      "0   C    13\n",
      "1   D    14\n"
     ]
    }
   ],
   "source": [
    "df5 = pd.DataFrame({'IDX':['C','D'],'col2':[13,14]})\n",
    "print(df5)\n"
   ]
  },
  {
   "cell_type": "code",
   "execution_count": 45,
   "id": "f5c4149c",
   "metadata": {},
   "outputs": [
    {
     "name": "stdout",
     "output_type": "stream",
     "text": [
      "     col1  col2\n",
      "IDX            \n",
      "A       1   NaN\n",
      "B       2   NaN\n",
      "C       3  13.0\n"
     ]
    }
   ],
   "source": [
    "#join 메서드는 기본적으로 index를 기준으로 결합 -> 열 기준으로 결합하기 위해서는 set_index 메서드 활용\n",
    "print(df4.set_index('IDX').join(df5.set_index('IDX')))"
   ]
  },
  {
   "cell_type": "code",
   "execution_count": 46,
   "id": "286db204",
   "metadata": {},
   "outputs": [
    {
     "name": "stdout",
     "output_type": "stream",
     "text": [
      "  IDX  col1  col2\n",
      "0   A     1   NaN\n",
      "1   B     2   NaN\n",
      "2   C     3  13.0\n"
     ]
    }
   ],
   "source": [
    "print(df4.join(df5.set_index('IDX'), on='IDX'))"
   ]
  },
  {
   "cell_type": "markdown",
   "id": "4f5dfc39",
   "metadata": {},
   "source": [
    "# 0804 객체병합"
   ]
  },
  {
   "cell_type": "code",
   "execution_count": 47,
   "id": "854e9060",
   "metadata": {},
   "outputs": [
    {
     "name": "stdout",
     "output_type": "stream",
     "text": [
      "  IDX1  VAL\n",
      "0    a    1\n",
      "1    b    2\n",
      "2    c    3\n",
      "3    a    4\n"
     ]
    }
   ],
   "source": [
    "df1 = pd.DataFrame({'IDX1':['a','b','c','a'],'VAL':[1,2,3,4]})\n",
    "print(df1)"
   ]
  },
  {
   "cell_type": "code",
   "execution_count": 48,
   "id": "5957af2d",
   "metadata": {},
   "outputs": [
    {
     "name": "stdout",
     "output_type": "stream",
     "text": [
      "  IDX2  VAL\n",
      "0    a    5\n",
      "1    c    6\n",
      "2    d    7\n"
     ]
    }
   ],
   "source": [
    "df2 = pd.DataFrame({'IDX2':['a','c','d'],'VAL':[5,6,7]})\n",
    "print(df2)"
   ]
  },
  {
   "cell_type": "code",
   "execution_count": 49,
   "id": "158e7f03",
   "metadata": {},
   "outputs": [
    {
     "name": "stdout",
     "output_type": "stream",
     "text": [
      "  IDX1  VAL_x IDX2  VAL_y\n",
      "0    a      1    a      5\n",
      "1    a      4    a      5\n",
      "2    c      3    c      6\n"
     ]
    }
   ],
   "source": [
    "print(df1.merge(df2, left_on='IDX1', right_on='IDX2'))"
   ]
  },
  {
   "cell_type": "code",
   "execution_count": 50,
   "id": "81462f25",
   "metadata": {},
   "outputs": [
    {
     "name": "stdout",
     "output_type": "stream",
     "text": [
      "  IDX1  VAL_left IDX2  VAL_right\n",
      "0    a         1    a          5\n",
      "1    a         4    a          5\n",
      "2    c         3    c          6\n"
     ]
    }
   ],
   "source": [
    "#suffixes를 통한 동명인 열 구분\n",
    "print(df1.merge(df2, left_on='IDX1', right_on='IDX2', suffixes=('_left', '_right')))"
   ]
  },
  {
   "cell_type": "code",
   "execution_count": 51,
   "id": "5a7c15aa",
   "metadata": {},
   "outputs": [
    {
     "name": "stdout",
     "output_type": "stream",
     "text": [
      "      VAL1\n",
      "row1     1\n",
      "row2     2\n",
      "row3     3\n"
     ]
    }
   ],
   "source": [
    "#인덱스 기준으로 병합(left_Index/right_index)\n",
    "df3= pd.DataFrame({'VAL1':[1,2,3]},index=['row1','row2','row3'])\n",
    "print(df3)"
   ]
  },
  {
   "cell_type": "code",
   "execution_count": 52,
   "id": "ed3ae971",
   "metadata": {},
   "outputs": [
    {
     "name": "stdout",
     "output_type": "stream",
     "text": [
      "      VAL2\n",
      "row2     4\n",
      "row3     5\n",
      "row4     6\n"
     ]
    }
   ],
   "source": [
    "df4 = pd.DataFrame({'VAL2':[4,5,6]},index=['row2','row3','row4'])\n",
    "print(df4)"
   ]
  },
  {
   "cell_type": "code",
   "execution_count": 53,
   "id": "11d5056d",
   "metadata": {},
   "outputs": [
    {
     "name": "stdout",
     "output_type": "stream",
     "text": [
      "      VAL1  VAL2\n",
      "row2     2     4\n",
      "row3     3     5\n"
     ]
    }
   ],
   "source": [
    "#left_index, right_index를 True로 입력하여 두 객체 모두 인덱스를 기준으로 병합 가능\n",
    "print(df3.merge(df4, left_index=True, right_index=True))"
   ]
  },
  {
   "cell_type": "code",
   "execution_count": 54,
   "id": "43a50a07",
   "metadata": {},
   "outputs": [
    {
     "name": "stdout",
     "output_type": "stream",
     "text": [
      "      VAL1\n",
      "row1     1\n",
      "row2     2\n",
      "row3     3\n"
     ]
    }
   ],
   "source": [
    "#열과 인덱스를 혼합하여 병합하기\n",
    "df5=pd.DataFrame({'VAL1':[1,2,3]},index=['row1', 'row2','row3'])\n",
    "print(df5)"
   ]
  },
  {
   "cell_type": "code",
   "execution_count": 55,
   "id": "45424b1b",
   "metadata": {},
   "outputs": [
    {
     "name": "stdout",
     "output_type": "stream",
     "text": [
      "    IDX  VAL2\n",
      "0  row2     4\n",
      "1  row3     5\n",
      "2  row4     6\n"
     ]
    }
   ],
   "source": [
    "df6 = pd.DataFrame({'IDX':['row2','row3','row4'],'VAL2':[4,5,6]})\n",
    "print(df6)"
   ]
  },
  {
   "cell_type": "code",
   "execution_count": 56,
   "id": "93d0045e",
   "metadata": {},
   "outputs": [
    {
     "name": "stdout",
     "output_type": "stream",
     "text": [
      "   VAL1   IDX  VAL2\n",
      "0     2  row2     4\n",
      "1     3  row3     5\n"
     ]
    }
   ],
   "source": [
    "print(df5.merge(df6, left_index=True,right_on='IDX'))"
   ]
  },
  {
   "cell_type": "code",
   "execution_count": 57,
   "id": "c9f04d15",
   "metadata": {},
   "outputs": [
    {
     "name": "stdout",
     "output_type": "stream",
     "text": [
      "  IDX  VAL\n",
      "0   a    1\n",
      "1   b    2\n",
      "2   c    3\n",
      "3   a    4\n"
     ]
    }
   ],
   "source": [
    "df7 = pd.DataFrame({'IDX':['a','b','c','a'],'VAL':[1,2,3,4]})\n",
    "print(df7)"
   ]
  },
  {
   "cell_type": "code",
   "execution_count": 58,
   "id": "d03e1763",
   "metadata": {},
   "outputs": [
    {
     "name": "stdout",
     "output_type": "stream",
     "text": [
      "  IDX  VAL\n",
      "0   a    5\n",
      "1   c    6\n",
      "2   d    7\n"
     ]
    }
   ],
   "source": [
    "df8 = pd.DataFrame({'IDX':['a','c','d'],'VAL':[5,6,7]})\n",
    "print(df8)"
   ]
  },
  {
   "cell_type": "code",
   "execution_count": 59,
   "id": "9446e053",
   "metadata": {},
   "outputs": [
    {
     "name": "stdout",
     "output_type": "stream",
     "text": [
      "  IDX  VAL_x  VAL_y\n",
      "0   a      1    5.0\n",
      "1   b      2    NaN\n",
      "2   c      3    6.0\n",
      "3   a      4    5.0\n"
     ]
    }
   ],
   "source": [
    "#how=left인 경우 왼쪽 개체의 인덱스 기준으로 함\n",
    "print(df7.merge(df8, how='left', on='IDX'))"
   ]
  },
  {
   "cell_type": "code",
   "execution_count": 60,
   "id": "cef5fbfb",
   "metadata": {},
   "outputs": [
    {
     "name": "stdout",
     "output_type": "stream",
     "text": [
      "  IDX  VAL_x  VAL_y\n",
      "0   a    1.0      5\n",
      "1   a    4.0      5\n",
      "2   c    3.0      6\n",
      "3   d    NaN      7\n"
     ]
    }
   ],
   "source": [
    "print(df7.merge(df8,how='right',on='IDX'))"
   ]
  },
  {
   "cell_type": "code",
   "execution_count": 61,
   "id": "9d8039bf",
   "metadata": {},
   "outputs": [
    {
     "name": "stdout",
     "output_type": "stream",
     "text": [
      "  IDX  VAL_x  VAL_y\n",
      "0   a      1      5\n",
      "1   a      4      5\n",
      "2   c      3      6\n"
     ]
    }
   ],
   "source": [
    "print(df7.merge(df8,how='inner',on='IDX'))"
   ]
  },
  {
   "cell_type": "code",
   "execution_count": 62,
   "id": "7b2109f1",
   "metadata": {},
   "outputs": [
    {
     "name": "stdout",
     "output_type": "stream",
     "text": [
      "  IDX  VAL_x  VAL_y\n",
      "0   a    1.0    5.0\n",
      "1   a    4.0    5.0\n",
      "2   b    2.0    NaN\n",
      "3   c    3.0    6.0\n",
      "4   d    NaN    7.0\n"
     ]
    }
   ],
   "source": [
    "print(df7.merge(df8,how='outer',on='IDX'))"
   ]
  },
  {
   "cell_type": "code",
   "execution_count": 63,
   "id": "72e34f0d",
   "metadata": {},
   "outputs": [
    {
     "ename": "MergeError",
     "evalue": "Merge keys are not unique in left dataset; not a one-to-many merge",
     "output_type": "error",
     "traceback": [
      "\u001b[1;31m---------------------------------------------------------------------------\u001b[0m",
      "\u001b[1;31mMergeError\u001b[0m                                Traceback (most recent call last)",
      "\u001b[1;32m~\\AppData\\Local\\Temp/ipykernel_6340/2760918296.py\u001b[0m in \u001b[0;36m<module>\u001b[1;34m\u001b[0m\n\u001b[0;32m      1\u001b[0m \u001b[1;31m#validate를 통한 병합방식 검증\u001b[0m\u001b[1;33m\u001b[0m\u001b[1;33m\u001b[0m\u001b[0m\n\u001b[0;32m      2\u001b[0m \u001b[1;31m#valideate인수에 값을 입력하여 해당 병합방식이 맞는지 검증함\u001b[0m\u001b[1;33m\u001b[0m\u001b[1;33m\u001b[0m\u001b[0m\n\u001b[1;32m----> 3\u001b[1;33m \u001b[0mprint\u001b[0m\u001b[1;33m(\u001b[0m\u001b[0mdf7\u001b[0m\u001b[1;33m.\u001b[0m\u001b[0mmerge\u001b[0m\u001b[1;33m(\u001b[0m\u001b[0mdf8\u001b[0m\u001b[1;33m,\u001b[0m \u001b[0mhow\u001b[0m\u001b[1;33m=\u001b[0m\u001b[1;34m'outer'\u001b[0m\u001b[1;33m,\u001b[0m \u001b[0mon\u001b[0m\u001b[1;33m=\u001b[0m\u001b[1;34m'IDX'\u001b[0m\u001b[1;33m,\u001b[0m \u001b[0mvalidate\u001b[0m\u001b[1;33m=\u001b[0m\u001b[1;34m'1:m'\u001b[0m\u001b[1;33m)\u001b[0m\u001b[1;33m)\u001b[0m\u001b[1;33m\u001b[0m\u001b[1;33m\u001b[0m\u001b[0m\n\u001b[0m\u001b[0;32m      4\u001b[0m \u001b[1;31m#병합방식이 달라서 오류를 출력함.\u001b[0m\u001b[1;33m\u001b[0m\u001b[1;33m\u001b[0m\u001b[0m\n",
      "\u001b[1;32m~\\anaconda3\\lib\\site-packages\\pandas\\core\\frame.py\u001b[0m in \u001b[0;36mmerge\u001b[1;34m(self, right, how, on, left_on, right_on, left_index, right_index, sort, suffixes, copy, indicator, validate)\u001b[0m\n\u001b[0;32m   9188\u001b[0m         \u001b[1;32mfrom\u001b[0m \u001b[0mpandas\u001b[0m\u001b[1;33m.\u001b[0m\u001b[0mcore\u001b[0m\u001b[1;33m.\u001b[0m\u001b[0mreshape\u001b[0m\u001b[1;33m.\u001b[0m\u001b[0mmerge\u001b[0m \u001b[1;32mimport\u001b[0m \u001b[0mmerge\u001b[0m\u001b[1;33m\u001b[0m\u001b[1;33m\u001b[0m\u001b[0m\n\u001b[0;32m   9189\u001b[0m \u001b[1;33m\u001b[0m\u001b[0m\n\u001b[1;32m-> 9190\u001b[1;33m         return merge(\n\u001b[0m\u001b[0;32m   9191\u001b[0m             \u001b[0mself\u001b[0m\u001b[1;33m,\u001b[0m\u001b[1;33m\u001b[0m\u001b[1;33m\u001b[0m\u001b[0m\n\u001b[0;32m   9192\u001b[0m             \u001b[0mright\u001b[0m\u001b[1;33m,\u001b[0m\u001b[1;33m\u001b[0m\u001b[1;33m\u001b[0m\u001b[0m\n",
      "\u001b[1;32m~\\anaconda3\\lib\\site-packages\\pandas\\core\\reshape\\merge.py\u001b[0m in \u001b[0;36mmerge\u001b[1;34m(left, right, how, on, left_on, right_on, left_index, right_index, sort, suffixes, copy, indicator, validate)\u001b[0m\n\u001b[0;32m    104\u001b[0m     \u001b[0mvalidate\u001b[0m\u001b[1;33m:\u001b[0m \u001b[0mstr\u001b[0m \u001b[1;33m|\u001b[0m \u001b[1;32mNone\u001b[0m \u001b[1;33m=\u001b[0m \u001b[1;32mNone\u001b[0m\u001b[1;33m,\u001b[0m\u001b[1;33m\u001b[0m\u001b[1;33m\u001b[0m\u001b[0m\n\u001b[0;32m    105\u001b[0m ) -> DataFrame:\n\u001b[1;32m--> 106\u001b[1;33m     op = _MergeOperation(\n\u001b[0m\u001b[0;32m    107\u001b[0m         \u001b[0mleft\u001b[0m\u001b[1;33m,\u001b[0m\u001b[1;33m\u001b[0m\u001b[1;33m\u001b[0m\u001b[0m\n\u001b[0;32m    108\u001b[0m         \u001b[0mright\u001b[0m\u001b[1;33m,\u001b[0m\u001b[1;33m\u001b[0m\u001b[1;33m\u001b[0m\u001b[0m\n",
      "\u001b[1;32m~\\anaconda3\\lib\\site-packages\\pandas\\core\\reshape\\merge.py\u001b[0m in \u001b[0;36m__init__\u001b[1;34m(self, left, right, how, on, left_on, right_on, axis, left_index, right_index, sort, suffixes, copy, indicator, validate)\u001b[0m\n\u001b[0;32m    707\u001b[0m         \u001b[1;31m# are in fact unique.\u001b[0m\u001b[1;33m\u001b[0m\u001b[1;33m\u001b[0m\u001b[0m\n\u001b[0;32m    708\u001b[0m         \u001b[1;32mif\u001b[0m \u001b[0mvalidate\u001b[0m \u001b[1;32mis\u001b[0m \u001b[1;32mnot\u001b[0m \u001b[1;32mNone\u001b[0m\u001b[1;33m:\u001b[0m\u001b[1;33m\u001b[0m\u001b[1;33m\u001b[0m\u001b[0m\n\u001b[1;32m--> 709\u001b[1;33m             \u001b[0mself\u001b[0m\u001b[1;33m.\u001b[0m\u001b[0m_validate\u001b[0m\u001b[1;33m(\u001b[0m\u001b[0mvalidate\u001b[0m\u001b[1;33m)\u001b[0m\u001b[1;33m\u001b[0m\u001b[1;33m\u001b[0m\u001b[0m\n\u001b[0m\u001b[0;32m    710\u001b[0m \u001b[1;33m\u001b[0m\u001b[0m\n\u001b[0;32m    711\u001b[0m     \u001b[1;32mdef\u001b[0m \u001b[0mget_result\u001b[0m\u001b[1;33m(\u001b[0m\u001b[0mself\u001b[0m\u001b[1;33m)\u001b[0m \u001b[1;33m->\u001b[0m \u001b[0mDataFrame\u001b[0m\u001b[1;33m:\u001b[0m\u001b[1;33m\u001b[0m\u001b[1;33m\u001b[0m\u001b[0m\n",
      "\u001b[1;32m~\\anaconda3\\lib\\site-packages\\pandas\\core\\reshape\\merge.py\u001b[0m in \u001b[0;36m_validate\u001b[1;34m(self, validate)\u001b[0m\n\u001b[0;32m   1433\u001b[0m         \u001b[1;32melif\u001b[0m \u001b[0mvalidate\u001b[0m \u001b[1;32min\u001b[0m \u001b[1;33m[\u001b[0m\u001b[1;34m\"one_to_many\"\u001b[0m\u001b[1;33m,\u001b[0m \u001b[1;34m\"1:m\"\u001b[0m\u001b[1;33m]\u001b[0m\u001b[1;33m:\u001b[0m\u001b[1;33m\u001b[0m\u001b[1;33m\u001b[0m\u001b[0m\n\u001b[0;32m   1434\u001b[0m             \u001b[1;32mif\u001b[0m \u001b[1;32mnot\u001b[0m \u001b[0mleft_unique\u001b[0m\u001b[1;33m:\u001b[0m\u001b[1;33m\u001b[0m\u001b[1;33m\u001b[0m\u001b[0m\n\u001b[1;32m-> 1435\u001b[1;33m                 raise MergeError(\n\u001b[0m\u001b[0;32m   1436\u001b[0m                     \u001b[1;34m\"Merge keys are not unique in left dataset; not a one-to-many merge\"\u001b[0m\u001b[1;33m\u001b[0m\u001b[1;33m\u001b[0m\u001b[0m\n\u001b[0;32m   1437\u001b[0m                 )\n",
      "\u001b[1;31mMergeError\u001b[0m: Merge keys are not unique in left dataset; not a one-to-many merge"
     ]
    }
   ],
   "source": [
    "#validate를 통한 병합방식 검증\n",
    "#valideate인수에 값을 입력하여 해당 병합방식이 맞는지 검증함\n",
    "print(df7.merge(df8, how='outer', on='IDX', validate='1:m'))\n",
    "#병합방식이 달라서 오류를 출력함."
   ]
  },
  {
   "cell_type": "code",
   "execution_count": 64,
   "id": "04cafc99",
   "metadata": {},
   "outputs": [
    {
     "name": "stdout",
     "output_type": "stream",
     "text": [
      "  IDX  VAL_x  VAL_y\n",
      "0   a    1.0    5.0\n",
      "1   a    4.0    5.0\n",
      "2   b    2.0    NaN\n",
      "3   c    3.0    6.0\n",
      "4   d    NaN    7.0\n"
     ]
    }
   ],
   "source": [
    "print(df7.merge(df8, how='outer', on='IDX', validate='m:1'))"
   ]
  },
  {
   "cell_type": "code",
   "execution_count": 65,
   "id": "746f2757",
   "metadata": {},
   "outputs": [
    {
     "name": "stdout",
     "output_type": "stream",
     "text": [
      "  IDX1\n",
      "0    a\n",
      "1    b\n"
     ]
    }
   ],
   "source": [
    "#how인수에 cross를 적용하는 경우\n",
    "#how인수 중 cross = 행렬의 곱집합, \n",
    "df9 = pd.DataFrame({'IDX1':['a','b']})\n",
    "print(df9)"
   ]
  },
  {
   "cell_type": "code",
   "execution_count": 66,
   "id": "ab6984c5",
   "metadata": {},
   "outputs": [
    {
     "name": "stdout",
     "output_type": "stream",
     "text": [
      "  IDX2\n",
      "0    c\n",
      "1    d\n"
     ]
    }
   ],
   "source": [
    "df10 = pd.DataFrame({'IDX2':['c','d']})\n",
    "print(df10)"
   ]
  },
  {
   "cell_type": "code",
   "execution_count": 67,
   "id": "67abcda0",
   "metadata": {},
   "outputs": [
    {
     "name": "stdout",
     "output_type": "stream",
     "text": [
      "  IDX1 IDX2\n",
      "0    a    c\n",
      "1    a    d\n",
      "2    b    c\n",
      "3    b    d\n"
     ]
    }
   ],
   "source": [
    "print(df9.merge(df10,how='cross'))"
   ]
  },
  {
   "cell_type": "markdown",
   "id": "7613d000",
   "metadata": {},
   "source": [
    "# 0805 객체 병합, 결측제어 가능\n",
    "- aling = 두 객체를 특정 기준들에 맞추어 정렬하는 메서드"
   ]
  },
  {
   "cell_type": "code",
   "execution_count": 68,
   "id": "a0627a1b",
   "metadata": {},
   "outputs": [],
   "source": [
    "n=np.NaN\n",
    "col1 = ['col1','col2','col3']\n",
    "row1 = ['row1','row2','row3']\n",
    "data1 = [[1,2,3],[5,6,7],[9,n,11]]\n",
    "\n",
    "col2 = ['col2','col3','col4']\n",
    "row2 = ['row3','row4','row5']\n",
    "data2 = [[10,11,12],[14,n,16],[18,19,20]]\n",
    "\n",
    "df1 = pd.DataFrame(data1,row1,col1)\n",
    "df2 = pd.DataFrame(data2,row2,col2)"
   ]
  },
  {
   "cell_type": "code",
   "execution_count": 69,
   "id": "35b26c0b",
   "metadata": {},
   "outputs": [
    {
     "name": "stdout",
     "output_type": "stream",
     "text": [
      "      col1  col2  col3\n",
      "row1     1   2.0     3\n",
      "row2     5   6.0     7\n",
      "row3     9   NaN    11\n"
     ]
    }
   ],
   "source": [
    "print(df1)"
   ]
  },
  {
   "cell_type": "code",
   "execution_count": 70,
   "id": "d34c83c2",
   "metadata": {},
   "outputs": [
    {
     "name": "stdout",
     "output_type": "stream",
     "text": [
      "      col2  col3  col4\n",
      "row3    10  11.0    12\n",
      "row4    14   NaN    16\n",
      "row5    18  19.0    20\n"
     ]
    }
   ],
   "source": [
    "print(df2)"
   ]
  },
  {
   "cell_type": "code",
   "execution_count": 71,
   "id": "d8700e97",
   "metadata": {},
   "outputs": [
    {
     "name": "stdout",
     "output_type": "stream",
     "text": [
      "      col1  col2  col3  col4\n",
      "row1   1.0   2.0   3.0   NaN\n",
      "row2   5.0   6.0   7.0   NaN\n",
      "row3   9.0   NaN  11.0   NaN\n",
      "row4   NaN   NaN   NaN   NaN\n",
      "row5   NaN   NaN   NaN   NaN\n",
      "      col1  col2  col3  col4\n",
      "row1   NaN   NaN   NaN   NaN\n",
      "row2   NaN   NaN   NaN   NaN\n",
      "row3   NaN  10.0  11.0  12.0\n",
      "row4   NaN  14.0   NaN  16.0\n",
      "row5   NaN  18.0  19.0  20.0\n"
     ]
    }
   ],
   "source": [
    "#join인수의 사용을 통한 레이블 설정\n",
    "#join인수를 이용-> outer = 합집합, left = df1 기준, right = df2 기준, inner=교집합\n",
    "print(df1.align(df2, join='outer')[0])\n",
    "print(df1.align(df2, join='outer')[1])"
   ]
  },
  {
   "cell_type": "code",
   "execution_count": 72,
   "id": "87f6bc54",
   "metadata": {},
   "outputs": [
    {
     "name": "stdout",
     "output_type": "stream",
     "text": [
      "      col1  col2  col3\n",
      "row1     1   2.0     3\n",
      "row2     5   6.0     7\n",
      "row3     9   NaN    11\n",
      "      col1  col2  col3\n",
      "row1   NaN   NaN   NaN\n",
      "row2   NaN   NaN   NaN\n",
      "row3   NaN  10.0  11.0\n"
     ]
    }
   ],
   "source": [
    "print(df1.align(df2,join='left')[0])\n",
    "print(df1.align(df2,join='left')[1])"
   ]
  },
  {
   "cell_type": "code",
   "execution_count": 73,
   "id": "7e7a8116",
   "metadata": {},
   "outputs": [
    {
     "name": "stdout",
     "output_type": "stream",
     "text": [
      "      col2  col3  col4\n",
      "row3   NaN  11.0   NaN\n",
      "row4   NaN   NaN   NaN\n",
      "row5   NaN   NaN   NaN\n",
      "      col2  col3  col4\n",
      "row3    10  11.0    12\n",
      "row4    14   NaN    16\n",
      "row5    18  19.0    20\n"
     ]
    }
   ],
   "source": [
    "print(df1.align(df2,join='right')[0])\n",
    "print(df1.align(df2,join='right')[1])"
   ]
  },
  {
   "cell_type": "code",
   "execution_count": 74,
   "id": "387f90b0",
   "metadata": {},
   "outputs": [
    {
     "name": "stdout",
     "output_type": "stream",
     "text": [
      "      col2  col3\n",
      "row3   NaN    11\n",
      "      col2  col3\n",
      "row3    10  11.0\n"
     ]
    }
   ],
   "source": [
    "print(df1.align(df2,join='inner')[0])\n",
    "print(df1.align(df2,join='inner')[1])"
   ]
  },
  {
   "cell_type": "code",
   "execution_count": 75,
   "id": "008f1852",
   "metadata": {},
   "outputs": [
    {
     "name": "stdout",
     "output_type": "stream",
     "text": [
      "      col1  col2  col3\n",
      "row3     9   NaN    11\n"
     ]
    }
   ],
   "source": [
    "#axis인수의 사용을 통한 정렬 축 설정\n",
    "print(df1.align(df2, join='inner', axis=0)[0]) #axis=0으로 하였을 경우 행 기준 inner인 row3만 정렬됨"
   ]
  },
  {
   "cell_type": "code",
   "execution_count": 76,
   "id": "c93d063b",
   "metadata": {},
   "outputs": [
    {
     "name": "stdout",
     "output_type": "stream",
     "text": [
      "      col2  col3\n",
      "row1   2.0     3\n",
      "row2   6.0     7\n",
      "row3   NaN    11\n"
     ]
    }
   ],
   "source": [
    "print(df1.align(df2, join='inner', axis=1)[0])"
   ]
  },
  {
   "cell_type": "code",
   "execution_count": 78,
   "id": "765ed7c0",
   "metadata": {},
   "outputs": [
    {
     "name": "stdout",
     "output_type": "stream",
     "text": [
      "     col1 col2 col3 col4\n",
      "row1    1  2.0    3    X\n",
      "row2    5  6.0    7    X\n",
      "row3    9  NaN   11    X\n",
      "row4    X    X    X    X\n",
      "row5    X    X    X    X\n",
      "     col1 col2  col3 col4\n",
      "row1    X    X     X    X\n",
      "row2    X    X     X    X\n",
      "row3    X   10  11.0   12\n",
      "row4    X   14   NaN   16\n",
      "row5    X   18  19.0   20\n"
     ]
    }
   ],
   "source": [
    "#fill_value를 사용한 결측지 입력\n",
    "print(df1.align(df2, join='outer', fill_value='X')[0])\n",
    "print(df1.align(df2,join='outer',fill_value='X')[1])"
   ]
  },
  {
   "cell_type": "code",
   "execution_count": 79,
   "id": "d84e3ff9",
   "metadata": {},
   "outputs": [
    {
     "name": "stdout",
     "output_type": "stream",
     "text": [
      "      col1  col2  col3  col4\n",
      "row1   1.0   2.0   3.0   NaN\n",
      "row2   5.0   6.0   7.0   NaN\n",
      "row3   9.0   6.0  11.0   NaN\n",
      "row4   9.0   6.0  11.0   NaN\n",
      "row5   9.0   6.0  11.0   NaN\n",
      "      col1  col2  col3  col4\n",
      "row1   NaN  10.0  11.0  12.0\n",
      "row2   NaN  10.0  11.0  12.0\n",
      "row3   NaN  10.0  11.0  12.0\n",
      "row4   NaN  14.0  19.0  16.0\n",
      "row5   NaN  18.0  19.0  20.0\n"
     ]
    }
   ],
   "source": [
    "#method/limit인수를 사용한 결측지 보정\n",
    "#method인수는 {ffill/bfill}를 이용해 위쪽 또는 아래쪽 값으로 결측지 보정 가능함\n",
    "#ㅣlimit인수 = method 인수를 통해 결측지 보정할 때, 몇 개의 값 보정할지 설정함\n",
    "print(df1.align(df2, join='outer', method='ffill')[0])\n",
    "print(df1.align(df2, join='outer', method='bfill')[1])"
   ]
  },
  {
   "cell_type": "code",
   "execution_count": 80,
   "id": "405a447e",
   "metadata": {
    "scrolled": true
   },
   "outputs": [
    {
     "name": "stdout",
     "output_type": "stream",
     "text": [
      "      col1  col2  col3  col4\n",
      "row1   NaN   NaN   NaN   NaN\n",
      "row2   NaN  10.0  11.0  12.0\n",
      "row3   NaN  10.0  11.0  12.0\n",
      "row4   NaN  14.0  19.0  16.0\n",
      "row5   NaN  18.0  19.0  20.0\n"
     ]
    }
   ],
   "source": [
    "#limit설정시 각 레이블에 대해 설정한 갯수만 변경됨\n",
    "print(df1.align(df2, join='outer', method='bfill', limit=1)[1])"
   ]
  },
  {
   "cell_type": "code",
   "execution_count": 82,
   "id": "9aebc6b2",
   "metadata": {},
   "outputs": [
    {
     "name": "stdout",
     "output_type": "stream",
     "text": [
      "      col1  col2  col3  col4\n",
      "row1   1.0   2.0   3.0   NaN\n",
      "row2   5.0   6.0   7.0   NaN\n",
      "row3   9.0   6.0  11.0   NaN\n",
      "row4   9.0   6.0  11.0   NaN\n",
      "row5   9.0   6.0  11.0   NaN\n"
     ]
    }
   ],
   "source": [
    "#fill_axis인수의 사용 => method 및 limit를 어느 축 기준으로 실행할지 여부\n",
    "#가로로 할지 세로로 할지 여부\n",
    "print(df1.align(df2,join='outer',method='ffill',fill_axis=0)[0]) #세로로 결과"
   ]
  },
  {
   "cell_type": "code",
   "execution_count": 83,
   "id": "53bb9ed4",
   "metadata": {},
   "outputs": [
    {
     "name": "stdout",
     "output_type": "stream",
     "text": [
      "      col1  col2  col3  col4\n",
      "row1   1.0   2.0   3.0   3.0\n",
      "row2   5.0   6.0   7.0   7.0\n",
      "row3   9.0   9.0  11.0  11.0\n",
      "row4   NaN   NaN   NaN   NaN\n",
      "row5   NaN   NaN   NaN   NaN\n"
     ]
    }
   ],
   "source": [
    "print(df1.align(df2,join='outer',method='ffill',fill_axis=1)[0]) #가로로 결과"
   ]
  },
  {
   "cell_type": "markdown",
   "id": "ed2ef991",
   "metadata": {},
   "source": [
    "# 0806 업데이트\n",
    "- update  = dataframe의 열을 other 객체의 동일한 열의 값으로 덮어씌우는 메서드\n"
   ]
  },
  {
   "cell_type": "code",
   "execution_count": 84,
   "id": "1019e8be",
   "metadata": {},
   "outputs": [
    {
     "name": "stdout",
     "output_type": "stream",
     "text": [
      "   A    B\n",
      "0  1  NaN\n",
      "1  2  5.0\n",
      "2  3  6.0\n"
     ]
    }
   ],
   "source": [
    "df1 = pd.DataFrame({'A':[1,2,3],'B':[n,5,6]})\n",
    "print(df1)"
   ]
  },
  {
   "cell_type": "code",
   "execution_count": 85,
   "id": "dcca7725",
   "metadata": {},
   "outputs": [
    {
     "name": "stdout",
     "output_type": "stream",
     "text": [
      "      B   C\n",
      "0  24.0  37\n",
      "1   NaN  38\n",
      "2  26.0  39\n"
     ]
    }
   ],
   "source": [
    "df2 = pd.DataFrame({'B':[24,n,26],'C':[37,38,39]})\n",
    "print(df2)"
   ]
  },
  {
   "cell_type": "code",
   "execution_count": 86,
   "id": "0d80f3c6",
   "metadata": {},
   "outputs": [],
   "source": [
    "#overwrite인수로 업데이트 방식 설정\n",
    "#overwrite 인수가 true면 df1과 df2가 이름을 공유하는 열에 대해서 df2의 값을 df1에 덮어씌움\n",
    "#False일 경우 df1에서 Na인 값에 대해서만 덮어씌우기를 진행\n",
    "df1.update(df2, overwrite=True)"
   ]
  },
  {
   "cell_type": "code",
   "execution_count": 87,
   "id": "d13f2923",
   "metadata": {},
   "outputs": [
    {
     "name": "stdout",
     "output_type": "stream",
     "text": [
      "   A     B\n",
      "0  1  24.0\n",
      "1  2   5.0\n",
      "2  3  26.0\n"
     ]
    }
   ],
   "source": [
    "print(df1) #기본값"
   ]
  },
  {
   "cell_type": "code",
   "execution_count": 89,
   "id": "0ebf1611",
   "metadata": {},
   "outputs": [
    {
     "name": "stdout",
     "output_type": "stream",
     "text": [
      "   A     B\n",
      "0  1  24.0\n",
      "1  2   5.0\n",
      "2  3  26.0\n"
     ]
    }
   ],
   "source": [
    "df1.update(df2, overwrite=False)\n",
    "print(df1)"
   ]
  },
  {
   "cell_type": "code",
   "execution_count": 90,
   "id": "420a5bdd",
   "metadata": {},
   "outputs": [
    {
     "name": "stdout",
     "output_type": "stream",
     "text": [
      "   A     B\n",
      "0  1  24.0\n",
      "1  2   5.0\n",
      "2  3  26.0\n"
     ]
    }
   ],
   "source": [
    "df1.update(df2, filter_func=lambda x : x==6)\n",
    "print(df1)"
   ]
  },
  {
   "cell_type": "code",
   "execution_count": 91,
   "id": "f3258f19",
   "metadata": {},
   "outputs": [
    {
     "ename": "ValueError",
     "evalue": "Data overlaps.",
     "output_type": "error",
     "traceback": [
      "\u001b[1;31m---------------------------------------------------------------------------\u001b[0m",
      "\u001b[1;31mValueError\u001b[0m                                Traceback (most recent call last)",
      "\u001b[1;32m~\\AppData\\Local\\Temp/ipykernel_6340/3074330044.py\u001b[0m in \u001b[0;36m<module>\u001b[1;34m\u001b[0m\n\u001b[0;32m      1\u001b[0m \u001b[1;31m#error 인수 -> errors인수를 raise로 할 경우 df1와 df2 모두 같은 위치에 Na가 아닌 값이\u001b[0m\u001b[1;33m\u001b[0m\u001b[1;33m\u001b[0m\u001b[0m\n\u001b[0;32m      2\u001b[0m \u001b[1;31m#있을 경우 오류 발생시킴\u001b[0m\u001b[1;33m\u001b[0m\u001b[1;33m\u001b[0m\u001b[0m\n\u001b[1;32m----> 3\u001b[1;33m \u001b[0mdf1\u001b[0m\u001b[1;33m.\u001b[0m\u001b[0mupdate\u001b[0m\u001b[1;33m(\u001b[0m\u001b[0mdf2\u001b[0m\u001b[1;33m,\u001b[0m \u001b[0merrors\u001b[0m\u001b[1;33m=\u001b[0m\u001b[1;34m'raise'\u001b[0m\u001b[1;33m)\u001b[0m\u001b[1;33m\u001b[0m\u001b[1;33m\u001b[0m\u001b[0m\n\u001b[0m\u001b[0;32m      4\u001b[0m \u001b[0mprint\u001b[0m\u001b[1;33m(\u001b[0m\u001b[0mdf1\u001b[0m\u001b[1;33m)\u001b[0m\u001b[1;33m\u001b[0m\u001b[1;33m\u001b[0m\u001b[0m\n",
      "\u001b[1;32m~\\anaconda3\\lib\\site-packages\\pandas\\core\\frame.py\u001b[0m in \u001b[0;36mupdate\u001b[1;34m(self, other, join, overwrite, filter_func, errors)\u001b[0m\n\u001b[0;32m   7498\u001b[0m                     \u001b[0mmask_that\u001b[0m \u001b[1;33m=\u001b[0m \u001b[0mnotna\u001b[0m\u001b[1;33m(\u001b[0m\u001b[0mthis\u001b[0m\u001b[1;33m)\u001b[0m\u001b[1;33m\u001b[0m\u001b[1;33m\u001b[0m\u001b[0m\n\u001b[0;32m   7499\u001b[0m                     \u001b[1;32mif\u001b[0m \u001b[0many\u001b[0m\u001b[1;33m(\u001b[0m\u001b[0mmask_this\u001b[0m \u001b[1;33m&\u001b[0m \u001b[0mmask_that\u001b[0m\u001b[1;33m)\u001b[0m\u001b[1;33m:\u001b[0m\u001b[1;33m\u001b[0m\u001b[1;33m\u001b[0m\u001b[0m\n\u001b[1;32m-> 7500\u001b[1;33m                         \u001b[1;32mraise\u001b[0m \u001b[0mValueError\u001b[0m\u001b[1;33m(\u001b[0m\u001b[1;34m\"Data overlaps.\"\u001b[0m\u001b[1;33m)\u001b[0m\u001b[1;33m\u001b[0m\u001b[1;33m\u001b[0m\u001b[0m\n\u001b[0m\u001b[0;32m   7501\u001b[0m \u001b[1;33m\u001b[0m\u001b[0m\n\u001b[0;32m   7502\u001b[0m                 \u001b[1;32mif\u001b[0m \u001b[0moverwrite\u001b[0m\u001b[1;33m:\u001b[0m\u001b[1;33m\u001b[0m\u001b[1;33m\u001b[0m\u001b[0m\n",
      "\u001b[1;31mValueError\u001b[0m: Data overlaps."
     ]
    }
   ],
   "source": [
    "#error 인수 -> errors인수를 raise로 할 경우 df1와 df2 모두 같은 위치에 Na가 아닌 값이\n",
    "#있을 경우 오류 발생시킴\n",
    "df1.update(df2, errors='raise')\n",
    "print(df1)"
   ]
  },
  {
   "cell_type": "code",
   "execution_count": null,
   "id": "fb5698b1",
   "metadata": {},
   "outputs": [],
   "source": []
  },
  {
   "cell_type": "markdown",
   "id": "7622a8b4",
   "metadata": {},
   "source": []
  }
 ],
 "metadata": {
  "kernelspec": {
   "display_name": "Python 3 (ipykernel)",
   "language": "python",
   "name": "python3"
  },
  "language_info": {
   "codemirror_mode": {
    "name": "ipython",
    "version": 3
   },
   "file_extension": ".py",
   "mimetype": "text/x-python",
   "name": "python",
   "nbconvert_exporter": "python",
   "pygments_lexer": "ipython3",
   "version": "3.9.7"
  }
 },
 "nbformat": 4,
 "nbformat_minor": 5
}
