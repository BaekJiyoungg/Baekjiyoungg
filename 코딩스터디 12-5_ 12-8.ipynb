{
 "cells": [
  {
   "cell_type": "markdown",
   "id": "51ee58e7",
   "metadata": {},
   "source": [
    "# 12-05 결측값이 아닌 요소의 수(count)\n",
    "* 각 행/열에 결측치가 아닌 요소의 갯수"
   ]
  },
  {
   "cell_type": "code",
   "execution_count": 2,
   "id": "04075c01",
   "metadata": {},
   "outputs": [],
   "source": [
    "import numpy as np\n",
    "import pandas as pd"
   ]
  },
  {
   "cell_type": "code",
   "execution_count": 3,
   "id": "ab2afa80",
   "metadata": {},
   "outputs": [
    {
     "name": "stdout",
     "output_type": "stream",
     "text": [
      "      col1  col2  col3  col4\n",
      "row1     1     A  <NA>   1.0\n",
      "row2  <NA>     B  <NA>   2.4\n",
      "row3  <NA>     C  <NA>   3.6\n",
      "row4   4.0  <NA>     7   4.0\n"
     ]
    }
   ],
   "source": [
    "[N,T,F]=[pd.NA,True,False]\n",
    "idx = ['row1','row2','row3','row4']\n",
    "data = {'col1':[1,N,N,4.0],'col2':['A','B','C',N],'col3':[N,N,N,7],'col4':[1,2.4,3.6,4]}\n",
    "df = pd.DataFrame(data,idx)\n",
    "print(df)"
   ]
  },
  {
   "cell_type": "code",
   "execution_count": 4,
   "id": "dca18807",
   "metadata": {},
   "outputs": [
    {
     "name": "stdout",
     "output_type": "stream",
     "text": [
      "col1    2\n",
      "col2    3\n",
      "col3    1\n",
      "col4    4\n",
      "dtype: int64\n"
     ]
    }
   ],
   "source": [
    "# axis = 0이 기본값으로 열에 대해서 결측치가 아닌 값의 갯수를 구함\n",
    "print(df.count())"
   ]
  },
  {
   "cell_type": "code",
   "execution_count": 5,
   "id": "7c6e8a39",
   "metadata": {},
   "outputs": [
    {
     "name": "stdout",
     "output_type": "stream",
     "text": [
      "row1    3\n",
      "row2    2\n",
      "row3    2\n",
      "row4    3\n",
      "dtype: int64\n"
     ]
    }
   ],
   "source": [
    "# axis=1 -> 행에 대해서 결측치가 아닌 값의 갯수\n",
    "print(df.count(axis=1))"
   ]
  },
  {
   "cell_type": "code",
   "execution_count": 6,
   "id": "da61255e",
   "metadata": {},
   "outputs": [
    {
     "name": "stdout",
     "output_type": "stream",
     "text": [
      "col4    4\n",
      "dtype: int64\n"
     ]
    }
   ],
   "source": [
    "# numeric_only 인수의 사용\n",
    "# numeric_only= TRUE 인 경우 int, float, bool로 구성된 행/열에 대해서만 계산값 반환\n",
    "print(df.count(numeric_only=True)) # col1, 2, 3은 <NA> 로 구성됨."
   ]
  },
  {
   "cell_type": "markdown",
   "id": "7ad9685f",
   "metadata": {},
   "source": [
    "# 12-06\n",
    "* equals : 두 객체가 완벽하게 동일한지 확인하는 메서드"
   ]
  },
  {
   "cell_type": "code",
   "execution_count": 7,
   "id": "33cf680e",
   "metadata": {},
   "outputs": [
    {
     "name": "stdout",
     "output_type": "stream",
     "text": [
      "   0     1\n",
      "0  1  <NA>\n",
      "1  3  True\n"
     ]
    }
   ],
   "source": [
    "df1 = pd.DataFrame(data=[[1,N], [3, T]])\n",
    "df2 = pd.DataFrame(data=[[1,N], [3, T]])\n",
    "print(df1) # 정수형으로"
   ]
  },
  {
   "cell_type": "code",
   "execution_count": 8,
   "id": "457872b7",
   "metadata": {},
   "outputs": [
    {
     "name": "stdout",
     "output_type": "stream",
     "text": [
      "     0     1\n",
      "0  1.0  <NA>\n",
      "1  3.0  True\n"
     ]
    }
   ],
   "source": [
    "df3 = pd.DataFrame(data=[[1,N],[3.0,T]])\n",
    "print(df3) #실수형으로 "
   ]
  },
  {
   "cell_type": "code",
   "execution_count": 9,
   "id": "d826ffd9",
   "metadata": {},
   "outputs": [
    {
     "name": "stdout",
     "output_type": "stream",
     "text": [
      "True\n"
     ]
    }
   ],
   "source": [
    "# 두 객체가 완벽하게 동일한지는 TRUE, 다르면 fasle로, type이 달라도 False반환\n",
    "print(df1.equals(df2))"
   ]
  },
  {
   "cell_type": "code",
   "execution_count": 10,
   "id": "049c99ae",
   "metadata": {},
   "outputs": [
    {
     "name": "stdout",
     "output_type": "stream",
     "text": [
      "False\n"
     ]
    }
   ],
   "source": [
    "print(df1.equals(df3))"
   ]
  },
  {
   "cell_type": "markdown",
   "id": "09ea6ab3",
   "metadata": {},
   "source": [
    "# 12-07\n",
    "* bool : bool형인지 판단하는 것"
   ]
  },
  {
   "cell_type": "code",
   "execution_count": 11,
   "id": "688a375a",
   "metadata": {},
   "outputs": [
    {
     "name": "stdout",
     "output_type": "stream",
     "text": [
      "      col\n",
      "row  True\n"
     ]
    }
   ],
   "source": [
    "df1 = pd.DataFrame([True],['row'],['col'])\n",
    "print(df1)"
   ]
  },
  {
   "cell_type": "code",
   "execution_count": 12,
   "id": "af5bac43",
   "metadata": {},
   "outputs": [
    {
     "name": "stdout",
     "output_type": "stream",
     "text": [
      "       col\n",
      "row  False\n"
     ]
    }
   ],
   "source": [
    "df2 = pd.DataFrame([False],['row'],['col'])\n",
    "print(df2)"
   ]
  },
  {
   "cell_type": "code",
   "execution_count": 13,
   "id": "4a8807db",
   "metadata": {},
   "outputs": [
    {
     "name": "stdout",
     "output_type": "stream",
     "text": [
      "True\n"
     ]
    }
   ],
   "source": [
    "print(df1.bool())"
   ]
  },
  {
   "cell_type": "code",
   "execution_count": 14,
   "id": "ddc14cac",
   "metadata": {},
   "outputs": [
    {
     "name": "stdout",
     "output_type": "stream",
     "text": [
      "False\n"
     ]
    }
   ],
   "source": [
    "print(df2.bool())"
   ]
  },
  {
   "cell_type": "markdown",
   "id": "9e394aef",
   "metadata": {},
   "source": [
    "# 12-08 duplicated\n",
    "* 중복되는 행을 확인하는 메서드\n",
    "* 행의 모든 요소가 동일한 행이 이미 존재할 경우 해당 행은 True로 반환함"
   ]
  },
  {
   "cell_type": "code",
   "execution_count": 15,
   "id": "6530912b",
   "metadata": {},
   "outputs": [
    {
     "name": "stdout",
     "output_type": "stream",
     "text": [
      "     col1 col2  col3\n",
      "row1    A    가     1\n",
      "row2    A    가     1\n",
      "row3    A    나     2\n",
      "row4    B    나     3\n",
      "row5    B    다     4\n"
     ]
    }
   ],
   "source": [
    "idx = ['row1','row2','row3','row4','row5']\n",
    "col = ['col1','col2','col3']\n",
    "data= [['A','가',1],['A','가',1],['A','나',2],['B','나',3],['B','다',4]]\n",
    "df = pd.DataFrame(data, idx, col)\n",
    "print(df)"
   ]
  },
  {
   "cell_type": "code",
   "execution_count": 17,
   "id": "f4e7be84",
   "metadata": {},
   "outputs": [
    {
     "name": "stdout",
     "output_type": "stream",
     "text": [
      "row1    False\n",
      "row2     True\n",
      "row3    False\n",
      "row4    False\n",
      "row5    False\n",
      "dtype: bool\n"
     ]
    }
   ],
   "source": [
    "# keep ='first' 위에서부터 행을 확인하여 중복인 행이 나오면 True 반환\n",
    "print(df.duplicated(keep='first'))"
   ]
  },
  {
   "cell_type": "code",
   "execution_count": 18,
   "id": "0cf7ba7a",
   "metadata": {},
   "outputs": [
    {
     "name": "stdout",
     "output_type": "stream",
     "text": [
      "row1     True\n",
      "row2    False\n",
      "row3    False\n",
      "row4    False\n",
      "row5    False\n",
      "dtype: bool\n"
     ]
    }
   ],
   "source": [
    "# keep ='last' 아래에서부터 행을 확인하여 중복인 행이 나오면 True 반환\n",
    "print(df.duplicated(keep ='last'))"
   ]
  },
  {
   "cell_type": "code",
   "execution_count": 19,
   "id": "ad5af7ac",
   "metadata": {},
   "outputs": [
    {
     "name": "stdout",
     "output_type": "stream",
     "text": [
      "row1    False\n",
      "row2     True\n",
      "row3    False\n",
      "row4    False\n",
      "row5    False\n",
      "dtype: bool\n"
     ]
    }
   ],
   "source": [
    "# subset으로 특정 열만 확인\n",
    "print(df.duplicated(subset=['col1', 'col3']))"
   ]
  },
  {
   "cell_type": "code",
   "execution_count": null,
   "id": "133a1a9a",
   "metadata": {},
   "outputs": [],
   "source": []
  }
 ],
 "metadata": {
  "kernelspec": {
   "display_name": "Python 3 (ipykernel)",
   "language": "python",
   "name": "python3"
  },
  "language_info": {
   "codemirror_mode": {
    "name": "ipython",
    "version": 3
   },
   "file_extension": ".py",
   "mimetype": "text/x-python",
   "name": "python",
   "nbconvert_exporter": "python",
   "pygments_lexer": "ipython3",
   "version": "3.9.7"
  }
 },
 "nbformat": 4,
 "nbformat_minor": 5
}
