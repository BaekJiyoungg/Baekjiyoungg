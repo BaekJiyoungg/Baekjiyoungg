{
 "cells": [
  {
   "cell_type": "markdown",
   "id": "82fa1944",
   "metadata": {},
   "source": [
    "# 0601 결측값 확인\n",
    "- isna 메서드와 notna 메서드 : 결측값을 확인해서 bool형식으로 반환하는 메서드\n",
    "- isna :결측값이면 -True, 정상값 - False"
   ]
  },
  {
   "cell_type": "code",
   "execution_count": 3,
   "id": "b5b33d83",
   "metadata": {},
   "outputs": [],
   "source": [
    "import pandas as pd\n",
    "import numpy as np"
   ]
  },
  {
   "cell_type": "code",
   "execution_count": 4,
   "id": "305e9d20",
   "metadata": {},
   "outputs": [
    {
     "name": "stdout",
     "output_type": "stream",
     "text": [
      "      col1  col2  col3  col4\n",
      "row1   1.0     2  <NA>   4.0\n",
      "row2   NaN     6     7   8.0\n",
      "row3   9.0    10    11   NaN\n"
     ]
    }
   ],
   "source": [
    "col  = ['col1','col2','col3','col4']\n",
    "row  = ['row1','row2','row3']\n",
    "data = [[1,2,pd.NA,4],\n",
    "        [np.nan,6,7,8],\n",
    "        [9,10,11,None]]\n",
    "df = pd.DataFrame(data,row,col)\n",
    "print(df)"
   ]
  },
  {
   "cell_type": "code",
   "execution_count": 5,
   "id": "89fea536",
   "metadata": {},
   "outputs": [
    {
     "name": "stdout",
     "output_type": "stream",
     "text": [
      "       col1   col2   col3   col4\n",
      "row1  False  False   True  False\n",
      "row2   True  False  False  False\n",
      "row3  False  False  False   True\n"
     ]
    }
   ],
   "source": [
    "#isna/isnull의 사용\n",
    "print(df.isna())"
   ]
  },
  {
   "cell_type": "code",
   "execution_count": 6,
   "id": "d6d5e6b7",
   "metadata": {},
   "outputs": [
    {
     "name": "stdout",
     "output_type": "stream",
     "text": [
      "       col1  col2   col3   col4\n",
      "row1   True  True  False   True\n",
      "row2  False  True   True   True\n",
      "row3   True  True   True  False\n"
     ]
    }
   ],
   "source": [
    "#notna/notnull의 사용\n",
    "print(df.notna())"
   ]
  },
  {
   "cell_type": "markdown",
   "id": "03a81f41",
   "metadata": {},
   "source": [
    "# 0602 결측값 제거(dropna)\n",
    "- dropna : dataframe내의 결측값이 포함된 레이블을 제거하는 메서드"
   ]
  },
  {
   "cell_type": "code",
   "execution_count": 7,
   "id": "e21218da",
   "metadata": {},
   "outputs": [
    {
     "name": "stdout",
     "output_type": "stream",
     "text": [
      "      col1  col2  col3  col4  col5\n",
      "row1     1     2     3  <NA>     5\n",
      "row2     6  <NA>     8  <NA>    10\n",
      "row3    11    12    13    14    15\n",
      "row4  <NA>  <NA>  <NA>  <NA>  <NA>\n"
     ]
    }
   ],
   "source": [
    "col  = ['col1','col2','col3','col4','col5']\n",
    "row  = ['row1','row2','row3','row4']\n",
    "data = [[1,2,3,pd.NA,5],[6,pd.NA,8,pd.NA,10],[11,12,13,14,15],[pd.NA,pd.NA,pd.NA,pd.NA,pd.NA]]\n",
    "df = pd.DataFrame(data,row,col)\n",
    "print(df)"
   ]
  },
  {
   "cell_type": "code",
   "execution_count": 8,
   "id": "d4642efb",
   "metadata": {},
   "outputs": [
    {
     "name": "stdout",
     "output_type": "stream",
     "text": [
      "     col1 col2 col3 col4 col5\n",
      "row3   11   12   13   14   15\n"
     ]
    }
   ],
   "source": [
    "#axis값에 따른 결측치 제거 수행\n",
    "print(df.dropna(axis=0)) #axis=0인 경우 -> 결측치가 포함된 모든 행이 제거됨"
   ]
  },
  {
   "cell_type": "code",
   "execution_count": 9,
   "id": "113612ba",
   "metadata": {},
   "outputs": [
    {
     "name": "stdout",
     "output_type": "stream",
     "text": [
      "Empty DataFrame\n",
      "Columns: []\n",
      "Index: [row1, row2, row3, row4]\n"
     ]
    }
   ],
   "source": [
    "#axis=1인 경우 결측치가 포함된 모든 열 제거\n",
    "print(df.dropna(axis=1)) #예시의 경우 모든 열에 NA가 존재함."
   ]
  },
  {
   "cell_type": "code",
   "execution_count": 10,
   "id": "62c4db60",
   "metadata": {},
   "outputs": [
    {
     "name": "stdout",
     "output_type": "stream",
     "text": [
      "     col1 col2 col3 col4 col5\n",
      "row3   11   12   13   14   15\n"
     ]
    }
   ],
   "source": [
    "#HOW로 연산기준 정할 경우\n",
    "#how = any -> 한 값이라도 na를 가진다면 해당 레이블 제거\n",
    "print(df.dropna(how='any'))"
   ]
  },
  {
   "cell_type": "code",
   "execution_count": 11,
   "id": "dae9f107",
   "metadata": {},
   "outputs": [
    {
     "name": "stdout",
     "output_type": "stream",
     "text": [
      "     col1  col2 col3  col4 col5\n",
      "row1    1     2    3  <NA>    5\n",
      "row2    6  <NA>    8  <NA>   10\n",
      "row3   11    12   13    14   15\n"
     ]
    }
   ],
   "source": [
    "#how = all인 경우 모든 값이 na인 레이블만 삭제됨\n",
    "print(df.dropna(how='all'))"
   ]
  },
  {
   "cell_type": "code",
   "execution_count": 12,
   "id": "2e057d5a",
   "metadata": {},
   "outputs": [
    {
     "name": "stdout",
     "output_type": "stream",
     "text": [
      "     col1  col2 col3  col4 col5\n",
      "row1    1     2    3  <NA>    5\n",
      "row2    6  <NA>    8  <NA>   10\n",
      "row3   11    12   13    14   15\n"
     ]
    }
   ],
   "source": [
    "#thresh를 이용하는 경우\n",
    "#thresh = 정상값의 수를 보정 가능\n",
    "print(df.dropna(thresh=3))\n",
    "#thresh =3 일 경우 정상값이 3개 미만인 경우에 대해서만 결측치 보정함."
   ]
  },
  {
   "cell_type": "code",
   "execution_count": 13,
   "id": "a2d320a6",
   "metadata": {},
   "outputs": [
    {
     "name": "stdout",
     "output_type": "stream",
     "text": [
      "     col1 col2 col3  col4 col5\n",
      "row1    1    2    3  <NA>    5\n",
      "row3   11   12   13    14   15\n"
     ]
    }
   ],
   "source": [
    "#thresh=4인 경우 정상값이 4개 미만인 경우 결측치 보정함.\n",
    "print(df.dropna(thresh=4))"
   ]
  },
  {
   "cell_type": "code",
   "execution_count": 15,
   "id": "cf000c64",
   "metadata": {},
   "outputs": [
    {
     "name": "stdout",
     "output_type": "stream",
     "text": [
      "     col1 col2 col3  col4 col5\n",
      "row1    1    2    3  <NA>    5\n",
      "row3   11   12   13    14   15\n"
     ]
    }
   ],
   "source": [
    "#subset인수를 통한 레이블 지정\n",
    "#subset 에 리스트 형태의 값을 입력하여 결측지 제거를 수행할 레이블을 지정할 수 있음\n",
    "print(df.dropna(subset = ['col1', 'col2']))"
   ]
  },
  {
   "cell_type": "code",
   "execution_count": 16,
   "id": "9ad18ad0",
   "metadata": {},
   "outputs": [
    {
     "name": "stdout",
     "output_type": "stream",
     "text": [
      "     col1 col2 col3 col4 col5\n",
      "row3   11   12   13   14   15\n"
     ]
    }
   ],
   "source": [
    "#inplace 인수를 통한 원본의 수정\n",
    "df.dropna(inplace=True)\n",
    "print(df)"
   ]
  },
  {
   "cell_type": "markdown",
   "id": "7e79dc1c",
   "metadata": {},
   "source": [
    "# 0603 결측값 없는 인덱스 확인\n",
    "- first_valid_index : 처음으로 결측치가 아닌값이 나오는 행의 인덱스 출력\n",
    "- last_valid_index : 마지막으로 결측치가 아닌값이 나오는 행의 인덱스 출력"
   ]
  },
  {
   "cell_type": "code",
   "execution_count": 18,
   "id": "e3790a2e",
   "metadata": {},
   "outputs": [
    {
     "name": "stdout",
     "output_type": "stream",
     "text": [
      "      col1  col2\n",
      "row1   NaN   NaN\n",
      "row2  <NA>     4\n",
      "row3  <NA>   NaT\n",
      "row4     5     6\n",
      "row5   NaN  <NA>\n"
     ]
    }
   ],
   "source": [
    "col = ['col1','col2']\n",
    "row = ['row1', 'row2', 'row3', 'row4','row5']\n",
    "data =  [[np.nan,np.nan],[pd.NA,4],[pd.NA,pd.NaT],[5,6],[np.nan,pd.NA]]\n",
    "df = pd.DataFrame(data, row, col)\n",
    "print(df)"
   ]
  },
  {
   "cell_type": "code",
   "execution_count": 19,
   "id": "af30100b",
   "metadata": {},
   "outputs": [
    {
     "name": "stdout",
     "output_type": "stream",
     "text": [
      "row2\n"
     ]
    }
   ],
   "source": [
    "#first_valid_index의 사용\n",
    "#처음으로 결측치가 아닌값이 나오는 행의 인덱스 출력\n",
    "print(df.first_valid_index())"
   ]
  },
  {
   "cell_type": "code",
   "execution_count": 20,
   "id": "d5e62d9f",
   "metadata": {},
   "outputs": [
    {
     "name": "stdout",
     "output_type": "stream",
     "text": [
      "row4\n"
     ]
    }
   ],
   "source": [
    "#last_valid_index의 사용\n",
    "#마지막으로 결측치가 아닌값이 나오는 행의 인덱스 출력\n",
    "print(df.last_valid_index())"
   ]
  },
  {
   "cell_type": "markdown",
   "id": "d6d71041",
   "metadata": {},
   "source": [
    "# 0604 결측값 \n",
    "- fillna : dataframe에서 결측값을 원하는 값으로 변경하는 메서드"
   ]
  },
  {
   "cell_type": "code",
   "execution_count": 21,
   "id": "d54d1278",
   "metadata": {},
   "outputs": [
    {
     "name": "stdout",
     "output_type": "stream",
     "text": [
      "      col1  col2  col3  col4  col5\n",
      "row1   NaN   2.0   NaN   4.0   NaN\n",
      "row2   6.0   7.0   NaN   9.0   NaN\n",
      "row3  11.0   NaN   NaN  14.0  15.0\n",
      "row4   NaN  17.0   NaN   NaN  20.0\n",
      "row5   NaN  22.0   NaN   NaN  25.0\n"
     ]
    }
   ],
   "source": [
    "col  = ['col1','col2','col3','col4','col5']\n",
    "row  = ['row1','row2','row3','row4','row5']\n",
    "na = np.nan\n",
    "data = [[na, 2,na, 4,na],\n",
    "        [ 6, 7,na, 9,na],\n",
    "        [11,na,na,14,15],\n",
    "        [na,17,na,na,20],\n",
    "        [na,22,na,na,25]]\n",
    "df = pd.DataFrame(data,row,col)\n",
    "print(df)"
   ]
  },
  {
   "cell_type": "code",
   "execution_count": 22,
   "id": "c3c0e4a4",
   "metadata": {},
   "outputs": [
    {
     "name": "stdout",
     "output_type": "stream",
     "text": [
      "      col1  col2 col3  col4  col5\n",
      "row1     A   2.0    A   4.0     A\n",
      "row2   6.0   7.0    A   9.0     A\n",
      "row3  11.0     A    A  14.0  15.0\n",
      "row4     A  17.0    A     A  20.0\n",
      "row5     A  22.0    A     A  25.0\n"
     ]
    }
   ],
   "source": [
    "#value의 형식에 따른 사용\n",
    "print(df.fillna('A'))"
   ]
  },
  {
   "cell_type": "code",
   "execution_count": 24,
   "id": "c15444df",
   "metadata": {},
   "outputs": [
    {
     "name": "stdout",
     "output_type": "stream",
     "text": [
      "      col1  col2 col3  col4  col5\n",
      "row1     A   2.0    C   4.0     E\n",
      "row2   6.0   7.0    C   9.0     E\n",
      "row3  11.0     B    C  14.0  15.0\n",
      "row4     A  17.0    C     D  20.0\n",
      "row5     A  22.0    C     D  25.0\n"
     ]
    }
   ],
   "source": [
    "#dict 형태로 입력할 경우 각각 레이블값에 대해 원하는 값으로의 변경 가능\n",
    "dict = {'col1':'A','col2':'B','col3':'C','col4':'D','col5':'E'}\n",
    "print(df.fillna(value=dict))"
   ]
  },
  {
   "cell_type": "code",
   "execution_count": 25,
   "id": "1bd342f2",
   "metadata": {},
   "outputs": [
    {
     "name": "stdout",
     "output_type": "stream",
     "text": [
      "      col1  col2  col3  col4  col5\n",
      "row1   6.0   2.0   NaN   4.0  15.0\n",
      "row2   6.0   7.0   NaN   9.0  15.0\n",
      "row3  11.0  17.0   NaN  14.0  15.0\n",
      "row4   NaN  17.0   NaN   NaN  20.0\n",
      "row5   NaN  22.0   NaN   NaN  25.0\n"
     ]
    }
   ],
   "source": [
    "#method 인수를 사용하는 경우\n",
    "#method인수에 bfill를 입력할 경우 결측값이 아래와 동일하게 설정됨\n",
    "print(df.fillna(method = 'bfill'))"
   ]
  },
  {
   "cell_type": "code",
   "execution_count": 26,
   "id": "0d018650",
   "metadata": {},
   "outputs": [
    {
     "name": "stdout",
     "output_type": "stream",
     "text": [
      "      col1  col2  col3  col4  col5\n",
      "row1   NaN   2.0   NaN   4.0   NaN\n",
      "row2   6.0   7.0   NaN   9.0   NaN\n",
      "row3  11.0   7.0   NaN  14.0  15.0\n",
      "row4  11.0  17.0   NaN  14.0  20.0\n",
      "row5  11.0  22.0   NaN  14.0  25.0\n"
     ]
    }
   ],
   "source": [
    "#method인수에 ffill을 입력할 경우 결측값이 바로 위값과 동일하게 설정됨\n",
    "print(df.fillna(method = 'ffill'))"
   ]
  },
  {
   "cell_type": "code",
   "execution_count": 27,
   "id": "09dc5dbe",
   "metadata": {},
   "outputs": [
    {
     "name": "stdout",
     "output_type": "stream",
     "text": [
      "      col1  col2 col3  col4  col5\n",
      "row1     A   2.0    A   4.0     A\n",
      "row2   6.0   7.0    A   9.0     A\n",
      "row3  11.0     A  NaN  14.0  15.0\n",
      "row4     A  17.0  NaN     A  20.0\n",
      "row5   NaN  22.0  NaN     A  25.0\n"
     ]
    }
   ],
   "source": [
    "#limit인수를 사용하는 경우\n",
    "print(df.fillna('A', limit=2))"
   ]
  },
  {
   "cell_type": "code",
   "execution_count": 29,
   "id": "5d48f9d8",
   "metadata": {},
   "outputs": [
    {
     "name": "stdout",
     "output_type": "stream",
     "text": [
      "      col1  col2  col3  col4  col5\n",
      "row1     0     2     0     4     0\n",
      "row2     6     7     0     9     0\n",
      "row3    11     0     0    14    15\n",
      "row4     0    17     0     0    20\n",
      "row5     0    22     0     0    25\n"
     ]
    }
   ],
   "source": [
    "#downcast인수를 'infer'로 설정함으로써 float64 -> int64형태로 변경함\n",
    "print(df.fillna(0, downcast ='infer'))"
   ]
  },
  {
   "cell_type": "code",
   "execution_count": 30,
   "id": "9f2cafdd",
   "metadata": {},
   "outputs": [
    {
     "name": "stdout",
     "output_type": "stream",
     "text": [
      "      col1  col2 col3  col4  col5\n",
      "row1     A   2.0    A   4.0     A\n",
      "row2   6.0   7.0    A   9.0     A\n",
      "row3  11.0     A    A  14.0  15.0\n",
      "row4     A  17.0    A     A  20.0\n",
      "row5     A  22.0    A     A  25.0\n"
     ]
    }
   ],
   "source": [
    "#inplace를 사용하는 경우\n",
    "df.fillna('A', inplace=True)\n",
    "print(df)"
   ]
  },
  {
   "cell_type": "markdown",
   "id": "d31810f7",
   "metadata": {},
   "source": [
    "# 0605 결측값 없는 마지막 행 변환\n",
    "- asof : 인덱스 기준으로 where 이전에 결측치가 없는 마지막 행을 구함\n"
   ]
  },
  {
   "cell_type": "code",
   "execution_count": 32,
   "id": "868f2b6c",
   "metadata": {},
   "outputs": [
    {
     "name": "stdout",
     "output_type": "stream",
     "text": [
      "      A     B\n",
      "10  1.0   7.0\n",
      "20  NaN   8.0\n",
      "30  NaN   9.0\n",
      "40  4.0  10.0\n",
      "50  5.0   NaN\n",
      "60  6.0  12.0\n"
     ]
    }
   ],
   "source": [
    "row = [10,20,30,40,50,60]\n",
    "n = np.nan\n",
    "data = {'A':[1,n,n,4,5,6],'B':[7,8,9,10,n,12]}\n",
    "df = pd.DataFrame(data=data, index = row)\n",
    "print(df)"
   ]
  },
  {
   "cell_type": "code",
   "execution_count": 33,
   "id": "8e670c56",
   "metadata": {},
   "outputs": [
    {
     "name": "stdout",
     "output_type": "stream",
     "text": [
      "A     4.0\n",
      "B    10.0\n",
      "Name: 45, dtype: float64\n"
     ]
    }
   ],
   "source": [
    "#기본적인 사용법\n",
    "#where이 단일값이면 반환은 series 형태로 하게 됨\n",
    "print(df.asof(where = 45))"
   ]
  },
  {
   "cell_type": "code",
   "execution_count": 34,
   "id": "1f1f75fa",
   "metadata": {},
   "outputs": [
    {
     "name": "stdout",
     "output_type": "stream",
     "text": [
      "      A     B\n",
      "10  1.0   7.0\n",
      "45  4.0  10.0\n",
      "60  6.0  12.0\n"
     ]
    }
   ],
   "source": [
    "#입력값이 list인 경우\n",
    "#입력값이 list인 경우 list의 각각 요소에 대해 조건을 만족하는 행을 dataframe 형태로 변환함\n",
    "print(df.asof(where=[10,45,60]))\n",
    "#10이전에 A와 B 모두 결측치가 없는 행10\n",
    "#45이전에 A와 B모두 결측치가 없는 행 40\n",
    "#60이전에 A와 B모두 결측치가 없는 행 60"
   ]
  },
  {
   "cell_type": "code",
   "execution_count": 35,
   "id": "4c4bf3aa",
   "metadata": {},
   "outputs": [
    {
     "name": "stdout",
     "output_type": "stream",
     "text": [
      "      A     B\n",
      "10  1.0   7.0\n",
      "35  1.0   7.0\n",
      "60  6.0  12.0\n"
     ]
    }
   ],
   "source": [
    "#subset => 특정 열에 대해서만 만족하는 경우를 반환함\n",
    "print(df.asof(where = [10,35,60], subset= 'A'))\n",
    "#10이전에 A에 대해서 결측치가 없는 행 10\n",
    "#35이전에 A에 대해서 결측치가 없는 행 10\n",
    "#60이전에 A에 대해서 결측치가 없는 행 60"
   ]
  },
  {
   "cell_type": "code",
   "execution_count": 36,
   "id": "6124afa3",
   "metadata": {},
   "outputs": [
    {
     "name": "stdout",
     "output_type": "stream",
     "text": [
      "      A     B\n",
      "10  1.0   7.0\n",
      "35  NaN   9.0\n",
      "60  6.0  12.0\n"
     ]
    }
   ],
   "source": [
    "print(df.asof(where =[10,35,60], subset = 'B'))\n",
    "#10이전에 B에 대해서 결측치가 없는 행 10\n",
    "#35이전에 B에 대해서 결측치가 없는 행 30\n",
    "#60이전에 B에 대해서 결측치가 없는 행 60"
   ]
  },
  {
   "cell_type": "code",
   "execution_count": null,
   "id": "5714f6c9",
   "metadata": {},
   "outputs": [],
   "source": []
  }
 ],
 "metadata": {
  "kernelspec": {
   "display_name": "Python 3 (ipykernel)",
   "language": "python",
   "name": "python3"
  },
  "language_info": {
   "codemirror_mode": {
    "name": "ipython",
    "version": 3
   },
   "file_extension": ".py",
   "mimetype": "text/x-python",
   "name": "python",
   "nbconvert_exporter": "python",
   "pygments_lexer": "ipython3",
   "version": "3.9.7"
  }
 },
 "nbformat": 4,
 "nbformat_minor": 5
}
